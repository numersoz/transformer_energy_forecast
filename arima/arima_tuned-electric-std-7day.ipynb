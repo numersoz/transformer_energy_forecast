{
 "cells": [
  {
   "cell_type": "code",
   "execution_count": 1,
   "metadata": {},
   "outputs": [],
   "source": [
    "import os\n",
    "import random\n",
    "import math\n",
    "from sklearn.metrics import mean_squared_error\n",
    "import numpy as np\n",
    "from matplotlib import pyplot as plt\n",
    "import pandas as pd\n",
    "import seaborn as sn\n",
    "from sklearn.decomposition import PCA\n",
    "from sklearn.preprocessing import MinMaxScaler, StandardScaler\n",
    "import pmdarima as pm \n",
    "from sklearn.model_selection import train_test_split\n",
    "from pmdarima.pipeline import Pipeline"
   ]
  },
  {
   "cell_type": "code",
   "execution_count": 2,
   "metadata": {},
   "outputs": [
    {
     "data": {
      "text/plain": [
       "'C:\\\\Users\\\\niles\\\\project\\\\project_work\\\\notebooks'"
      ]
     },
     "execution_count": 2,
     "metadata": {},
     "output_type": "execute_result"
    }
   ],
   "source": [
    "os.getcwd()"
   ]
  },
  {
   "cell_type": "code",
   "execution_count": 3,
   "metadata": {},
   "outputs": [],
   "source": [
    "# Read data:\n",
    "#os.chdir(\"..\")\n",
    "df = pd.read_csv(\"data.csv\")"
   ]
  },
  {
   "cell_type": "code",
   "execution_count": 4,
   "metadata": {},
   "outputs": [
    {
     "data": {
      "text/html": [
       "<div>\n",
       "<style scoped>\n",
       "    .dataframe tbody tr th:only-of-type {\n",
       "        vertical-align: middle;\n",
       "    }\n",
       "\n",
       "    .dataframe tbody tr th {\n",
       "        vertical-align: top;\n",
       "    }\n",
       "\n",
       "    .dataframe thead th {\n",
       "        text-align: right;\n",
       "    }\n",
       "</style>\n",
       "<table border=\"1\" class=\"dataframe\">\n",
       "  <thead>\n",
       "    <tr style=\"text-align: right;\">\n",
       "      <th></th>\n",
       "      <th>Time</th>\n",
       "      <th>air_pressure[mmHg]</th>\n",
       "      <th>air_temperature[degree celcius]</th>\n",
       "      <th>relative_humidity[%]</th>\n",
       "      <th>wind_speed[M/S]</th>\n",
       "      <th>solar_irridiation[W/m²]</th>\n",
       "      <th>total_cloud_cover[from ten]</th>\n",
       "      <th>electricity_demand_values[kw]</th>\n",
       "      <th>heat_demand_values[kw]</th>\n",
       "    </tr>\n",
       "  </thead>\n",
       "  <tbody>\n",
       "    <tr>\n",
       "      <th>0</th>\n",
       "      <td>2010-12-01 00:00:00</td>\n",
       "      <td>729.7</td>\n",
       "      <td>25.0</td>\n",
       "      <td>85.0</td>\n",
       "      <td>5.0</td>\n",
       "      <td>0</td>\n",
       "      <td>no clouds</td>\n",
       "      <td>289.567557</td>\n",
       "      <td>432.940036</td>\n",
       "    </tr>\n",
       "    <tr>\n",
       "      <th>1</th>\n",
       "      <td>2010-12-01 01:00:00</td>\n",
       "      <td>729.4</td>\n",
       "      <td>27.8</td>\n",
       "      <td>77.0</td>\n",
       "      <td>7.0</td>\n",
       "      <td>0</td>\n",
       "      <td>no clouds</td>\n",
       "      <td>260.168520</td>\n",
       "      <td>473.935901</td>\n",
       "    </tr>\n",
       "    <tr>\n",
       "      <th>2</th>\n",
       "      <td>2010-12-01 02:00:00</td>\n",
       "      <td>728.9</td>\n",
       "      <td>33.3</td>\n",
       "      <td>62.0</td>\n",
       "      <td>7.0</td>\n",
       "      <td>0</td>\n",
       "      <td>2/10–3/10.</td>\n",
       "      <td>247.273585</td>\n",
       "      <td>483.278761</td>\n",
       "    </tr>\n",
       "    <tr>\n",
       "      <th>3</th>\n",
       "      <td>2010-12-01 03:00:00</td>\n",
       "      <td>731.6</td>\n",
       "      <td>32.2</td>\n",
       "      <td>62.0</td>\n",
       "      <td>2.0</td>\n",
       "      <td>0</td>\n",
       "      <td>5/10.</td>\n",
       "      <td>257.955878</td>\n",
       "      <td>545.921252</td>\n",
       "    </tr>\n",
       "    <tr>\n",
       "      <th>4</th>\n",
       "      <td>2010-12-01 04:00:00</td>\n",
       "      <td>732.6</td>\n",
       "      <td>22.8</td>\n",
       "      <td>96.0</td>\n",
       "      <td>3.0</td>\n",
       "      <td>0</td>\n",
       "      <td>2/10–3/10.</td>\n",
       "      <td>258.255081</td>\n",
       "      <td>550.526112</td>\n",
       "    </tr>\n",
       "  </tbody>\n",
       "</table>\n",
       "</div>"
      ],
      "text/plain": [
       "                  Time  air_pressure[mmHg]  air_temperature[degree celcius]  \\\n",
       "0  2010-12-01 00:00:00               729.7                             25.0   \n",
       "1  2010-12-01 01:00:00               729.4                             27.8   \n",
       "2  2010-12-01 02:00:00               728.9                             33.3   \n",
       "3  2010-12-01 03:00:00               731.6                             32.2   \n",
       "4  2010-12-01 04:00:00               732.6                             22.8   \n",
       "\n",
       "   relative_humidity[%]  wind_speed[M/S]  solar_irridiation[W/m²]  \\\n",
       "0                  85.0              5.0                        0   \n",
       "1                  77.0              7.0                        0   \n",
       "2                  62.0              7.0                        0   \n",
       "3                  62.0              2.0                        0   \n",
       "4                  96.0              3.0                        0   \n",
       "\n",
       "  total_cloud_cover[from ten]  electricity_demand_values[kw]  \\\n",
       "0                   no clouds                     289.567557   \n",
       "1                   no clouds                     260.168520   \n",
       "2                  2/10–3/10.                     247.273585   \n",
       "3                       5/10.                     257.955878   \n",
       "4                  2/10–3/10.                     258.255081   \n",
       "\n",
       "   heat_demand_values[kw]  \n",
       "0              432.940036  \n",
       "1              473.935901  \n",
       "2              483.278761  \n",
       "3              545.921252  \n",
       "4              550.526112  "
      ]
     },
     "execution_count": 4,
     "metadata": {},
     "output_type": "execute_result"
    }
   ],
   "source": [
    "df.head()"
   ]
  },
  {
   "cell_type": "code",
   "execution_count": 5,
   "metadata": {},
   "outputs": [
    {
     "data": {
      "text/plain": [
       "70080"
      ]
     },
     "execution_count": 5,
     "metadata": {},
     "output_type": "execute_result"
    }
   ],
   "source": [
    "len(df)"
   ]
  },
  {
   "cell_type": "code",
   "execution_count": 6,
   "metadata": {},
   "outputs": [],
   "source": [
    "df = df.dropna()"
   ]
  },
  {
   "cell_type": "code",
   "execution_count": 7,
   "metadata": {},
   "outputs": [
    {
     "data": {
      "text/plain": [
       "68792"
      ]
     },
     "execution_count": 7,
     "metadata": {},
     "output_type": "execute_result"
    }
   ],
   "source": [
    "len(df)"
   ]
  },
  {
   "cell_type": "code",
   "execution_count": 8,
   "metadata": {},
   "outputs": [],
   "source": [
    "# Rename Columns:\n",
    "col_mapping = {\"Time\": \"date\",\n",
    "            \"air_pressure[mmHg]\": \"air_pressure\",\n",
    "            \"air_temperature[degree celcius]\": \"air_temperature\",\n",
    "            \"relative_humidity[%]\": \"relative_humidity\",\n",
    "            \"wind_speed[M/S]\": \"wind_speed\",\n",
    "            \"solar_irridiation[W/m²]\": \"solar_irridiation\",\n",
    "            \"total_cloud_cover[from ten]\": \"total_cloud_cover\",\n",
    "            \"electricity_demand_values[kw]\": \"electricity\",\n",
    "            \"heat_demand_values[kw]\": \"heat\"}\n",
    "df = df.rename(columns = col_mapping)"
   ]
  },
  {
   "cell_type": "code",
   "execution_count": 9,
   "metadata": {},
   "outputs": [
    {
     "data": {
      "text/html": [
       "<div>\n",
       "<style scoped>\n",
       "    .dataframe tbody tr th:only-of-type {\n",
       "        vertical-align: middle;\n",
       "    }\n",
       "\n",
       "    .dataframe tbody tr th {\n",
       "        vertical-align: top;\n",
       "    }\n",
       "\n",
       "    .dataframe thead th {\n",
       "        text-align: right;\n",
       "    }\n",
       "</style>\n",
       "<table border=\"1\" class=\"dataframe\">\n",
       "  <thead>\n",
       "    <tr style=\"text-align: right;\">\n",
       "      <th></th>\n",
       "      <th>date</th>\n",
       "      <th>air_pressure</th>\n",
       "      <th>air_temperature</th>\n",
       "      <th>relative_humidity</th>\n",
       "      <th>wind_speed</th>\n",
       "      <th>solar_irridiation</th>\n",
       "      <th>total_cloud_cover</th>\n",
       "      <th>electricity</th>\n",
       "      <th>heat</th>\n",
       "    </tr>\n",
       "  </thead>\n",
       "  <tbody>\n",
       "    <tr>\n",
       "      <th>0</th>\n",
       "      <td>2010-12-01 00:00:00</td>\n",
       "      <td>729.7</td>\n",
       "      <td>25.0</td>\n",
       "      <td>85.0</td>\n",
       "      <td>5.0</td>\n",
       "      <td>0</td>\n",
       "      <td>no clouds</td>\n",
       "      <td>289.567557</td>\n",
       "      <td>432.940036</td>\n",
       "    </tr>\n",
       "    <tr>\n",
       "      <th>1</th>\n",
       "      <td>2010-12-01 01:00:00</td>\n",
       "      <td>729.4</td>\n",
       "      <td>27.8</td>\n",
       "      <td>77.0</td>\n",
       "      <td>7.0</td>\n",
       "      <td>0</td>\n",
       "      <td>no clouds</td>\n",
       "      <td>260.168520</td>\n",
       "      <td>473.935901</td>\n",
       "    </tr>\n",
       "    <tr>\n",
       "      <th>2</th>\n",
       "      <td>2010-12-01 02:00:00</td>\n",
       "      <td>728.9</td>\n",
       "      <td>33.3</td>\n",
       "      <td>62.0</td>\n",
       "      <td>7.0</td>\n",
       "      <td>0</td>\n",
       "      <td>2/10–3/10.</td>\n",
       "      <td>247.273585</td>\n",
       "      <td>483.278761</td>\n",
       "    </tr>\n",
       "    <tr>\n",
       "      <th>3</th>\n",
       "      <td>2010-12-01 03:00:00</td>\n",
       "      <td>731.6</td>\n",
       "      <td>32.2</td>\n",
       "      <td>62.0</td>\n",
       "      <td>2.0</td>\n",
       "      <td>0</td>\n",
       "      <td>5/10.</td>\n",
       "      <td>257.955878</td>\n",
       "      <td>545.921252</td>\n",
       "    </tr>\n",
       "    <tr>\n",
       "      <th>4</th>\n",
       "      <td>2010-12-01 04:00:00</td>\n",
       "      <td>732.6</td>\n",
       "      <td>22.8</td>\n",
       "      <td>96.0</td>\n",
       "      <td>3.0</td>\n",
       "      <td>0</td>\n",
       "      <td>2/10–3/10.</td>\n",
       "      <td>258.255081</td>\n",
       "      <td>550.526112</td>\n",
       "    </tr>\n",
       "  </tbody>\n",
       "</table>\n",
       "</div>"
      ],
      "text/plain": [
       "                 date  air_pressure  air_temperature  relative_humidity  \\\n",
       "0 2010-12-01 00:00:00         729.7             25.0               85.0   \n",
       "1 2010-12-01 01:00:00         729.4             27.8               77.0   \n",
       "2 2010-12-01 02:00:00         728.9             33.3               62.0   \n",
       "3 2010-12-01 03:00:00         731.6             32.2               62.0   \n",
       "4 2010-12-01 04:00:00         732.6             22.8               96.0   \n",
       "\n",
       "   wind_speed  solar_irridiation total_cloud_cover  electricity        heat  \n",
       "0         5.0                  0         no clouds   289.567557  432.940036  \n",
       "1         7.0                  0         no clouds   260.168520  473.935901  \n",
       "2         7.0                  0        2/10–3/10.   247.273585  483.278761  \n",
       "3         2.0                  0             5/10.   257.955878  545.921252  \n",
       "4         3.0                  0        2/10–3/10.   258.255081  550.526112  "
      ]
     },
     "execution_count": 9,
     "metadata": {},
     "output_type": "execute_result"
    }
   ],
   "source": [
    "# Change ts to datetime and set as index:\n",
    "df[\"date\"] = pd.to_datetime(df[\"date\"],format='%Y-%m-%d')\n",
    "df.head()"
   ]
  },
  {
   "cell_type": "code",
   "execution_count": 10,
   "metadata": {},
   "outputs": [
    {
     "data": {
      "text/plain": [
       "68792"
      ]
     },
     "execution_count": 10,
     "metadata": {},
     "output_type": "execute_result"
    }
   ],
   "source": [
    "len(df)"
   ]
  },
  {
   "cell_type": "code",
   "execution_count": 11,
   "metadata": {},
   "outputs": [
    {
     "data": {
      "text/html": [
       "<div>\n",
       "<style scoped>\n",
       "    .dataframe tbody tr th:only-of-type {\n",
       "        vertical-align: middle;\n",
       "    }\n",
       "\n",
       "    .dataframe tbody tr th {\n",
       "        vertical-align: top;\n",
       "    }\n",
       "\n",
       "    .dataframe thead th {\n",
       "        text-align: right;\n",
       "    }\n",
       "</style>\n",
       "<table border=\"1\" class=\"dataframe\">\n",
       "  <thead>\n",
       "    <tr style=\"text-align: right;\">\n",
       "      <th></th>\n",
       "      <th>date</th>\n",
       "      <th>air_pressure</th>\n",
       "      <th>air_temperature</th>\n",
       "      <th>relative_humidity</th>\n",
       "      <th>wind_speed</th>\n",
       "      <th>solar_irridiation</th>\n",
       "      <th>total_cloud_cover</th>\n",
       "      <th>electricity</th>\n",
       "      <th>heat</th>\n",
       "    </tr>\n",
       "  </thead>\n",
       "  <tbody>\n",
       "    <tr>\n",
       "      <th>0</th>\n",
       "      <td>2010-12-01 00:00:00</td>\n",
       "      <td>729.7</td>\n",
       "      <td>25.0</td>\n",
       "      <td>85.0</td>\n",
       "      <td>5.0</td>\n",
       "      <td>0</td>\n",
       "      <td>no clouds</td>\n",
       "      <td>289.567557</td>\n",
       "      <td>432.940036</td>\n",
       "    </tr>\n",
       "    <tr>\n",
       "      <th>1</th>\n",
       "      <td>2010-12-01 01:00:00</td>\n",
       "      <td>729.4</td>\n",
       "      <td>27.8</td>\n",
       "      <td>77.0</td>\n",
       "      <td>7.0</td>\n",
       "      <td>0</td>\n",
       "      <td>no clouds</td>\n",
       "      <td>260.168520</td>\n",
       "      <td>473.935901</td>\n",
       "    </tr>\n",
       "    <tr>\n",
       "      <th>2</th>\n",
       "      <td>2010-12-01 02:00:00</td>\n",
       "      <td>728.9</td>\n",
       "      <td>33.3</td>\n",
       "      <td>62.0</td>\n",
       "      <td>7.0</td>\n",
       "      <td>0</td>\n",
       "      <td>2/10–3/10.</td>\n",
       "      <td>247.273585</td>\n",
       "      <td>483.278761</td>\n",
       "    </tr>\n",
       "    <tr>\n",
       "      <th>3</th>\n",
       "      <td>2010-12-01 03:00:00</td>\n",
       "      <td>731.6</td>\n",
       "      <td>32.2</td>\n",
       "      <td>62.0</td>\n",
       "      <td>2.0</td>\n",
       "      <td>0</td>\n",
       "      <td>5/10.</td>\n",
       "      <td>257.955878</td>\n",
       "      <td>545.921252</td>\n",
       "    </tr>\n",
       "    <tr>\n",
       "      <th>4</th>\n",
       "      <td>2010-12-01 04:00:00</td>\n",
       "      <td>732.6</td>\n",
       "      <td>22.8</td>\n",
       "      <td>96.0</td>\n",
       "      <td>3.0</td>\n",
       "      <td>0</td>\n",
       "      <td>2/10–3/10.</td>\n",
       "      <td>258.255081</td>\n",
       "      <td>550.526112</td>\n",
       "    </tr>\n",
       "  </tbody>\n",
       "</table>\n",
       "</div>"
      ],
      "text/plain": [
       "                 date  air_pressure  air_temperature  relative_humidity  \\\n",
       "0 2010-12-01 00:00:00         729.7             25.0               85.0   \n",
       "1 2010-12-01 01:00:00         729.4             27.8               77.0   \n",
       "2 2010-12-01 02:00:00         728.9             33.3               62.0   \n",
       "3 2010-12-01 03:00:00         731.6             32.2               62.0   \n",
       "4 2010-12-01 04:00:00         732.6             22.8               96.0   \n",
       "\n",
       "   wind_speed  solar_irridiation total_cloud_cover  electricity        heat  \n",
       "0         5.0                  0         no clouds   289.567557  432.940036  \n",
       "1         7.0                  0         no clouds   260.168520  473.935901  \n",
       "2         7.0                  0        2/10–3/10.   247.273585  483.278761  \n",
       "3         2.0                  0             5/10.   257.955878  545.921252  \n",
       "4         3.0                  0        2/10–3/10.   258.255081  550.526112  "
      ]
     },
     "execution_count": 11,
     "metadata": {},
     "output_type": "execute_result"
    }
   ],
   "source": [
    "df.head()"
   ]
  },
  {
   "cell_type": "code",
   "execution_count": 12,
   "metadata": {},
   "outputs": [],
   "source": [
    "df1 = df[[\"date\",'electricity']]"
   ]
  },
  {
   "cell_type": "code",
   "execution_count": 13,
   "metadata": {},
   "outputs": [
    {
     "data": {
      "text/html": [
       "<div>\n",
       "<style scoped>\n",
       "    .dataframe tbody tr th:only-of-type {\n",
       "        vertical-align: middle;\n",
       "    }\n",
       "\n",
       "    .dataframe tbody tr th {\n",
       "        vertical-align: top;\n",
       "    }\n",
       "\n",
       "    .dataframe thead th {\n",
       "        text-align: right;\n",
       "    }\n",
       "</style>\n",
       "<table border=\"1\" class=\"dataframe\">\n",
       "  <thead>\n",
       "    <tr style=\"text-align: right;\">\n",
       "      <th></th>\n",
       "      <th>electricity</th>\n",
       "    </tr>\n",
       "    <tr>\n",
       "      <th>date</th>\n",
       "      <th></th>\n",
       "    </tr>\n",
       "  </thead>\n",
       "  <tbody>\n",
       "    <tr>\n",
       "      <th>2010-12-01 00:00:00</th>\n",
       "      <td>289.567557</td>\n",
       "    </tr>\n",
       "    <tr>\n",
       "      <th>2010-12-01 01:00:00</th>\n",
       "      <td>260.168520</td>\n",
       "    </tr>\n",
       "    <tr>\n",
       "      <th>2010-12-01 02:00:00</th>\n",
       "      <td>247.273585</td>\n",
       "    </tr>\n",
       "    <tr>\n",
       "      <th>2010-12-01 03:00:00</th>\n",
       "      <td>257.955878</td>\n",
       "    </tr>\n",
       "    <tr>\n",
       "      <th>2010-12-01 04:00:00</th>\n",
       "      <td>258.255081</td>\n",
       "    </tr>\n",
       "  </tbody>\n",
       "</table>\n",
       "</div>"
      ],
      "text/plain": [
       "                     electricity\n",
       "date                            \n",
       "2010-12-01 00:00:00   289.567557\n",
       "2010-12-01 01:00:00   260.168520\n",
       "2010-12-01 02:00:00   247.273585\n",
       "2010-12-01 03:00:00   257.955878\n",
       "2010-12-01 04:00:00   258.255081"
      ]
     },
     "execution_count": 13,
     "metadata": {},
     "output_type": "execute_result"
    }
   ],
   "source": [
    "df1 = df1.set_index(\"date\")\n",
    "df1.head()"
   ]
  },
  {
   "cell_type": "code",
   "execution_count": 14,
   "metadata": {},
   "outputs": [],
   "source": [
    "x = df1['electricity'].values.reshape(-1, 1) #returns a numpy array\n",
    "min_max_scaler = StandardScaler()\n",
    "x_scaled = min_max_scaler.fit_transform(x)\n",
    "df1['electricity'] = x_scaled"
   ]
  },
  {
   "cell_type": "code",
   "execution_count": 15,
   "metadata": {},
   "outputs": [
    {
     "data": {
      "text/html": [
       "<div>\n",
       "<style scoped>\n",
       "    .dataframe tbody tr th:only-of-type {\n",
       "        vertical-align: middle;\n",
       "    }\n",
       "\n",
       "    .dataframe tbody tr th {\n",
       "        vertical-align: top;\n",
       "    }\n",
       "\n",
       "    .dataframe thead th {\n",
       "        text-align: right;\n",
       "    }\n",
       "</style>\n",
       "<table border=\"1\" class=\"dataframe\">\n",
       "  <thead>\n",
       "    <tr style=\"text-align: right;\">\n",
       "      <th></th>\n",
       "      <th>electricity</th>\n",
       "    </tr>\n",
       "    <tr>\n",
       "      <th>date</th>\n",
       "      <th></th>\n",
       "    </tr>\n",
       "  </thead>\n",
       "  <tbody>\n",
       "    <tr>\n",
       "      <th>2010-12-01 00:00:00</th>\n",
       "      <td>-0.437728</td>\n",
       "    </tr>\n",
       "    <tr>\n",
       "      <th>2010-12-01 01:00:00</th>\n",
       "      <td>-0.560519</td>\n",
       "    </tr>\n",
       "    <tr>\n",
       "      <th>2010-12-01 02:00:00</th>\n",
       "      <td>-0.614377</td>\n",
       "    </tr>\n",
       "    <tr>\n",
       "      <th>2010-12-01 03:00:00</th>\n",
       "      <td>-0.569760</td>\n",
       "    </tr>\n",
       "    <tr>\n",
       "      <th>2010-12-01 04:00:00</th>\n",
       "      <td>-0.568511</td>\n",
       "    </tr>\n",
       "  </tbody>\n",
       "</table>\n",
       "</div>"
      ],
      "text/plain": [
       "                     electricity\n",
       "date                            \n",
       "2010-12-01 00:00:00    -0.437728\n",
       "2010-12-01 01:00:00    -0.560519\n",
       "2010-12-01 02:00:00    -0.614377\n",
       "2010-12-01 03:00:00    -0.569760\n",
       "2010-12-01 04:00:00    -0.568511"
      ]
     },
     "execution_count": 15,
     "metadata": {},
     "output_type": "execute_result"
    }
   ],
   "source": [
    "df1.head()"
   ]
  },
  {
   "cell_type": "code",
   "execution_count": 16,
   "metadata": {},
   "outputs": [
    {
     "data": {
      "text/html": [
       "<div>\n",
       "<style scoped>\n",
       "    .dataframe tbody tr th:only-of-type {\n",
       "        vertical-align: middle;\n",
       "    }\n",
       "\n",
       "    .dataframe tbody tr th {\n",
       "        vertical-align: top;\n",
       "    }\n",
       "\n",
       "    .dataframe thead th {\n",
       "        text-align: right;\n",
       "    }\n",
       "</style>\n",
       "<table border=\"1\" class=\"dataframe\">\n",
       "  <thead>\n",
       "    <tr style=\"text-align: right;\">\n",
       "      <th></th>\n",
       "      <th>electricity</th>\n",
       "    </tr>\n",
       "    <tr>\n",
       "      <th>date</th>\n",
       "      <th></th>\n",
       "    </tr>\n",
       "  </thead>\n",
       "  <tbody>\n",
       "    <tr>\n",
       "      <th>2010-12-01</th>\n",
       "      <td>-0.159240</td>\n",
       "    </tr>\n",
       "    <tr>\n",
       "      <th>2010-12-02</th>\n",
       "      <td>-0.270442</td>\n",
       "    </tr>\n",
       "    <tr>\n",
       "      <th>2010-12-03</th>\n",
       "      <td>-0.122860</td>\n",
       "    </tr>\n",
       "    <tr>\n",
       "      <th>2010-12-04</th>\n",
       "      <td>0.095403</td>\n",
       "    </tr>\n",
       "    <tr>\n",
       "      <th>2010-12-05</th>\n",
       "      <td>0.213953</td>\n",
       "    </tr>\n",
       "  </tbody>\n",
       "</table>\n",
       "</div>"
      ],
      "text/plain": [
       "            electricity\n",
       "date                   \n",
       "2010-12-01    -0.159240\n",
       "2010-12-02    -0.270442\n",
       "2010-12-03    -0.122860\n",
       "2010-12-04     0.095403\n",
       "2010-12-05     0.213953"
      ]
     },
     "execution_count": 16,
     "metadata": {},
     "output_type": "execute_result"
    }
   ],
   "source": [
    "davg_df = df1.groupby(pd.Grouper(freq='D')).mean()\n",
    "davg_df.head()"
   ]
  },
  {
   "cell_type": "code",
   "execution_count": 17,
   "metadata": {},
   "outputs": [
    {
     "data": {
      "text/plain": [
       "2920"
      ]
     },
     "execution_count": 17,
     "metadata": {},
     "output_type": "execute_result"
    }
   ],
   "source": [
    "len(davg_df)"
   ]
  },
  {
   "cell_type": "code",
   "execution_count": 18,
   "metadata": {},
   "outputs": [],
   "source": [
    "dftrain, dftest = train_test_split(davg_df, test_size=0.01*7)"
   ]
  },
  {
   "cell_type": "code",
   "execution_count": 19,
   "metadata": {},
   "outputs": [
    {
     "data": {
      "text/plain": [
       "205"
      ]
     },
     "execution_count": 19,
     "metadata": {},
     "output_type": "execute_result"
    }
   ],
   "source": [
    "len(dftest)"
   ]
  },
  {
   "cell_type": "code",
   "execution_count": 20,
   "metadata": {},
   "outputs": [],
   "source": [
    "dftrain, dfvali = train_test_split(dftrain, test_size=0.2)"
   ]
  },
  {
   "cell_type": "code",
   "execution_count": 21,
   "metadata": {},
   "outputs": [
    {
     "data": {
      "text/plain": [
       "2172"
      ]
     },
     "execution_count": 21,
     "metadata": {},
     "output_type": "execute_result"
    }
   ],
   "source": [
    "len(dftrain)"
   ]
  },
  {
   "cell_type": "code",
   "execution_count": 22,
   "metadata": {},
   "outputs": [
    {
     "data": {
      "text/plain": [
       "543"
      ]
     },
     "execution_count": 22,
     "metadata": {},
     "output_type": "execute_result"
    }
   ],
   "source": [
    "len(dfvali)"
   ]
  },
  {
   "cell_type": "code",
   "execution_count": 23,
   "metadata": {},
   "outputs": [],
   "source": [
    "# best\n",
    "random.seed(0)"
   ]
  },
  {
   "cell_type": "code",
   "execution_count": 24,
   "metadata": {},
   "outputs": [
    {
     "name": "stdout",
     "output_type": "stream",
     "text": [
      " ARIMA(0,1,0)(0,1,0)[7]             : AIC=6666.674, Time=0.05 sec\n",
      " ARIMA(0,1,0)(0,1,1)[7]             : AIC=inf, Time=1.07 sec\n",
      " ARIMA(0,1,0)(0,1,2)[7]             : AIC=inf, Time=1.76 sec\n",
      " ARIMA(0,1,0)(1,1,0)[7]             : AIC=6080.015, Time=0.13 sec\n",
      " ARIMA(0,1,0)(1,1,1)[7]             : AIC=inf, Time=0.74 sec\n",
      " ARIMA(0,1,0)(1,1,2)[7]             : AIC=inf, Time=2.96 sec\n",
      " ARIMA(0,1,0)(2,1,0)[7]             : AIC=5855.773, Time=0.20 sec\n",
      " ARIMA(0,1,0)(2,1,1)[7]             : AIC=inf, Time=2.64 sec\n",
      " ARIMA(0,1,0)(2,1,2)[7]             : AIC=inf, Time=2.36 sec\n",
      " ARIMA(0,1,1)(0,1,0)[7]             : AIC=inf, Time=0.36 sec\n",
      " ARIMA(0,1,1)(0,1,1)[7]             : AIC=inf, Time=1.08 sec\n",
      " ARIMA(0,1,1)(0,1,2)[7]             : AIC=inf, Time=2.62 sec\n",
      " ARIMA(0,1,1)(1,1,0)[7]             : AIC=inf, Time=1.16 sec\n",
      " ARIMA(0,1,1)(1,1,1)[7]             : AIC=inf, Time=1.56 sec\n",
      " ARIMA(0,1,1)(1,1,2)[7]             : AIC=inf, Time=3.44 sec\n",
      " ARIMA(0,1,1)(2,1,0)[7]             : AIC=inf, Time=2.45 sec\n",
      " ARIMA(0,1,1)(2,1,1)[7]             : AIC=inf, Time=2.10 sec\n",
      " ARIMA(0,1,1)(2,1,2)[7]             : AIC=inf, Time=5.02 sec\n",
      " ARIMA(0,1,2)(0,1,0)[7]             : AIC=inf, Time=0.52 sec\n",
      " ARIMA(0,1,2)(0,1,1)[7]             : AIC=inf, Time=1.77 sec\n",
      " ARIMA(0,1,2)(0,1,2)[7]             : AIC=inf, Time=3.45 sec\n",
      " ARIMA(0,1,2)(1,1,0)[7]             : AIC=inf, Time=1.65 sec\n",
      " ARIMA(0,1,2)(1,1,1)[7]             : AIC=inf, Time=1.64 sec\n",
      " ARIMA(0,1,2)(1,1,2)[7]             : AIC=inf, Time=6.07 sec\n",
      " ARIMA(0,1,2)(2,1,0)[7]             : AIC=inf, Time=2.84 sec\n",
      " ARIMA(0,1,2)(2,1,1)[7]             : AIC=inf, Time=4.88 sec\n",
      " ARIMA(0,1,3)(0,1,0)[7]             : AIC=inf, Time=1.27 sec\n",
      " ARIMA(0,1,3)(0,1,1)[7]             : AIC=inf, Time=2.81 sec\n",
      " ARIMA(0,1,3)(0,1,2)[7]             : AIC=inf, Time=3.66 sec\n",
      " ARIMA(0,1,3)(1,1,0)[7]             : AIC=inf, Time=1.67 sec\n",
      " ARIMA(0,1,3)(1,1,1)[7]             : AIC=inf, Time=2.84 sec\n",
      " ARIMA(0,1,3)(2,1,0)[7]             : AIC=inf, Time=2.73 sec\n",
      " ARIMA(1,1,0)(0,1,0)[7]             : AIC=5948.989, Time=0.08 sec\n",
      " ARIMA(1,1,0)(0,1,1)[7]             : AIC=inf, Time=0.83 sec\n",
      " ARIMA(1,1,0)(0,1,2)[7]             : AIC=inf, Time=2.54 sec\n",
      " ARIMA(1,1,0)(1,1,0)[7]             : AIC=5393.785, Time=0.22 sec\n",
      " ARIMA(1,1,0)(1,1,1)[7]             : AIC=inf, Time=2.01 sec\n",
      " ARIMA(1,1,0)(1,1,2)[7]             : AIC=inf, Time=4.77 sec\n",
      " ARIMA(1,1,0)(2,1,0)[7]             : AIC=5185.306, Time=0.40 sec\n",
      " ARIMA(1,1,0)(2,1,1)[7]             : AIC=inf, Time=3.17 sec\n",
      " ARIMA(1,1,0)(2,1,2)[7]             : AIC=inf, Time=2.85 sec\n",
      " ARIMA(1,1,1)(0,1,0)[7]             : AIC=inf, Time=0.63 sec\n",
      " ARIMA(1,1,1)(0,1,1)[7]             : AIC=inf, Time=1.49 sec\n",
      " ARIMA(1,1,1)(0,1,2)[7]             : AIC=inf, Time=2.39 sec\n",
      " ARIMA(1,1,1)(1,1,0)[7]             : AIC=inf, Time=1.22 sec\n",
      " ARIMA(1,1,1)(1,1,1)[7]             : AIC=inf, Time=1.68 sec\n",
      " ARIMA(1,1,1)(1,1,2)[7]             : AIC=inf, Time=3.85 sec\n",
      " ARIMA(1,1,1)(2,1,0)[7]             : AIC=inf, Time=2.70 sec\n",
      " ARIMA(1,1,1)(2,1,1)[7]             : AIC=inf, Time=4.51 sec\n",
      " ARIMA(1,1,2)(0,1,0)[7]             : AIC=inf, Time=1.67 sec\n",
      " ARIMA(1,1,2)(0,1,1)[7]             : AIC=inf, Time=3.25 sec\n",
      " ARIMA(1,1,2)(0,1,2)[7]             : AIC=inf, Time=6.43 sec\n",
      " ARIMA(1,1,2)(1,1,0)[7]             : AIC=inf, Time=1.61 sec\n",
      " ARIMA(1,1,2)(1,1,1)[7]             : AIC=inf, Time=3.41 sec\n",
      " ARIMA(1,1,2)(2,1,0)[7]             : AIC=inf, Time=3.75 sec\n",
      " ARIMA(1,1,3)(0,1,0)[7]             : AIC=inf, Time=1.75 sec\n",
      " ARIMA(1,1,3)(0,1,1)[7]             : AIC=inf, Time=3.57 sec\n",
      " ARIMA(1,1,3)(1,1,0)[7]             : AIC=inf, Time=1.11 sec\n",
      " ARIMA(2,1,0)(0,1,0)[7]             : AIC=5731.215, Time=0.15 sec\n",
      " ARIMA(2,1,0)(0,1,1)[7]             : AIC=inf, Time=1.55 sec\n",
      " ARIMA(2,1,0)(0,1,2)[7]             : AIC=inf, Time=3.77 sec\n",
      " ARIMA(2,1,0)(1,1,0)[7]             : AIC=5165.115, Time=0.28 sec\n",
      " ARIMA(2,1,0)(1,1,1)[7]             : AIC=inf, Time=3.00 sec\n",
      " ARIMA(2,1,0)(1,1,2)[7]             : AIC=inf, Time=6.38 sec\n",
      " ARIMA(2,1,0)(2,1,0)[7]             : AIC=4929.486, Time=0.49 sec\n",
      " ARIMA(2,1,0)(2,1,1)[7]             : AIC=inf, Time=3.06 sec\n",
      " ARIMA(2,1,1)(0,1,0)[7]             : AIC=inf, Time=0.93 sec\n",
      " ARIMA(2,1,1)(0,1,1)[7]             : AIC=inf, Time=1.88 sec\n",
      " ARIMA(2,1,1)(0,1,2)[7]             : AIC=inf, Time=5.01 sec\n",
      " ARIMA(2,1,1)(1,1,0)[7]             : AIC=inf, Time=2.33 sec\n",
      " ARIMA(2,1,1)(1,1,1)[7]             : AIC=inf, Time=2.15 sec\n",
      " ARIMA(2,1,1)(2,1,0)[7]             : AIC=inf, Time=3.12 sec\n",
      " ARIMA(2,1,2)(0,1,0)[7]             : AIC=inf, Time=1.77 sec\n",
      " ARIMA(2,1,2)(0,1,1)[7]             : AIC=inf, Time=3.07 sec\n",
      " ARIMA(2,1,2)(1,1,0)[7]             : AIC=inf, Time=2.12 sec\n",
      " ARIMA(2,1,3)(0,1,0)[7]             : AIC=inf, Time=2.20 sec\n",
      " ARIMA(3,1,0)(0,1,0)[7]             : AIC=5589.717, Time=0.13 sec\n",
      " ARIMA(3,1,0)(0,1,1)[7]             : AIC=inf, Time=1.93 sec\n",
      " ARIMA(3,1,0)(0,1,2)[7]             : AIC=inf, Time=4.95 sec\n",
      " ARIMA(3,1,0)(1,1,0)[7]             : AIC=5009.693, Time=0.37 sec\n",
      " ARIMA(3,1,0)(1,1,1)[7]             : AIC=inf, Time=3.63 sec\n",
      " ARIMA(3,1,0)(2,1,0)[7]             : AIC=4773.847, Time=0.56 sec\n",
      " ARIMA(3,1,1)(0,1,0)[7]             : AIC=inf, Time=1.24 sec\n",
      " ARIMA(3,1,1)(0,1,1)[7]             : AIC=inf, Time=3.39 sec\n",
      " ARIMA(3,1,1)(1,1,0)[7]             : AIC=inf, Time=2.51 sec\n",
      " ARIMA(3,1,2)(0,1,0)[7]             : AIC=inf, Time=1.81 sec\n",
      "\n",
      "Best model:  ARIMA(3,1,0)(2,1,0)[7]          \n",
      "Total fit time: 195.652 seconds\n"
     ]
    },
    {
     "data": {
      "text/plain": [
       "Pipeline(steps=[('model',\n",
       "                 AutoARIMA(D=1, d=1, error_action='ignore', m=7, max_p=3,\n",
       "                           max_q=3, stepwise=False, test='adf', trace=True))])"
      ]
     },
     "execution_count": 24,
     "metadata": {},
     "output_type": "execute_result"
    }
   ],
   "source": [
    "'''\n",
    "pipeline = Pipeline([\n",
    "    (\"model\", pm.AutoARIMA(test='adf',\n",
    "                           start_p=3, start_q=3, max_p=5, max_q=5, start_P=0, start_Q=0, max_P=5, max_Q=10, m=12, stepwise=True, seasonal=True, information_criterion='aic', trace=True, d=1, D=1, error_action='warn', \n",
    "                           suppress_warnings=True, random_state=20, n_fits=100))\n",
    "])\n",
    "'''\n",
    "pipeline = Pipeline([\n",
    "    (\"model\",pm.AutoARIMA(test='adf',\n",
    "                           max_p=3, max_q=3, m=7,\n",
    "                           start_P=1,start_Q=1, seasonal=True,\n",
    "                           d=1, D=1, trace=True,\n",
    "                           error_action='ignore',  \n",
    "                           suppress_warnings=True, \n",
    "                           stepwise=False))\n",
    "])\n",
    "pipeline.fit(dftrain)"
   ]
  },
  {
   "cell_type": "code",
   "execution_count": 47,
   "metadata": {},
   "outputs": [],
   "source": [
    "##### univariate arima model predict electricity_demand_values  \n",
    "# best\n",
    "#Arima_model=pm.auto_arima(dftrain['electricity_demand_values'],start_p=3, start_q=3, max_p=5, max_q=5, start_P=0, start_Q=0, max_P=5, max_Q=10, m=12, stepwise=True, seasonal=True, information_criterion='aic', trace=True, d=1, D=1, error_action='warn', suppress_warnings=True, random_state=20, n_fits=100)\n",
    "\n",
    "#Arima_model=pm.auto_arima(dftrain['electricity_demand_values'],start_p=3, start_q=3, max_p=5, max_q=6, start_P=0, start_Q=4, max_P=6, max_Q=10, m=12, stepwise=True, seasonal=True, information_criterion='aic', trace=True, d=1, D=1, error_action='warn', suppress_warnings=True, random_state=20, n_fits=100)\n",
    "\n",
    "#Arima_model=pm.auto_arima(dftrain['electricity_demand_values'],start_p=3, start_q=3, max_p=5, max_q=6, start_P=0, start_Q=4, max_P=6, max_Q=10, m=12, stepwise=True, seasonal=True, information_criterion='bic', trace=True, d=1, D=1, error_action='warn', suppress_warnings=True, n_fits=100)\n",
    "\n",
    "#Arima_model=pm.auto_arima(dftrain['electricity_demand_values'],start_p=3, start_q=3, max_p=5, max_q=6, start_P=1, start_Q=4, max_P=6, max_Q=10, m=12, stepwise=True, seasonal=True, information_criterion='bic', trace=True, d=1, D=1, error_action='warn', suppress_warnings=True, n_fits=100)\n"
   ]
  },
  {
   "cell_type": "code",
   "execution_count": 27,
   "metadata": {},
   "outputs": [],
   "source": [
    "Sample_predictions= pipeline.predict_in_sample(exogenous=None, return_conf_int=False, alpha=0.05, inverse_transform=True)\n",
    "Actuals = pd.Series.to_numpy(dftrain['electricity'])\n",
    "Residuals = Actuals-Sample_predictions"
   ]
  },
  {
   "cell_type": "code",
   "execution_count": 28,
   "metadata": {},
   "outputs": [
    {
     "data": {
      "text/plain": [
       "array([-0.72214325,  0.15951395,  0.3021969 , ..., -0.48796626,\n",
       "       -0.96189234,  0.95798674])"
      ]
     },
     "execution_count": 28,
     "metadata": {},
     "output_type": "execute_result"
    }
   ],
   "source": [
    "Residuals"
   ]
  },
  {
   "cell_type": "code",
   "execution_count": 30,
   "metadata": {},
   "outputs": [
    {
     "data": {
      "text/plain": [
       "array([ 2.73597718e-01, -1.76508738e-01, -1.52979286e-02,  5.37344587e-01,\n",
       "        1.34216454e-01,  2.59622188e-01, -2.20252425e-01,  3.96087393e-01,\n",
       "       -3.89417864e-02,  9.09559587e-02,  1.29382026e-01,  1.29193361e-01,\n",
       "        2.10864645e-01, -9.08171708e-02,  2.50177622e-01, -1.78481496e-02,\n",
       "        2.92689432e-01,  6.47924446e-03, -7.50955944e-03,  3.24394347e-02,\n",
       "        2.24035926e-02,  2.47392834e-01, -1.33280027e-01,  7.08722187e-02,\n",
       "        1.60630611e-01,  2.50343182e-02,  1.06050946e-01, -1.49822247e-01,\n",
       "        2.39185978e-01, -1.22923752e-01,  9.13319818e-02,  4.37451589e-02,\n",
       "       -8.94216877e-03,  5.91003868e-02, -1.32677353e-01,  1.88114237e-01,\n",
       "       -1.49479369e-01,  9.27205994e-02,  1.19364369e-02, -5.48360956e-02,\n",
       "        8.27195903e-03, -1.45214632e-01,  1.66447221e-01, -1.92972670e-01,\n",
       "        2.79301450e-02,  1.30485369e-02, -7.14953660e-02, -1.00184166e-03,\n",
       "       -1.99948946e-01,  1.39698935e-01, -2.13584195e-01,  1.20036262e-02,\n",
       "       -3.46323640e-02, -1.03150942e-01, -3.58227111e-02, -2.17850812e-01,\n",
       "        1.06703129e-01, -2.43468150e-01, -1.40034790e-02, -6.15051717e-02,\n",
       "       -1.34603635e-01, -6.76261098e-02, -2.45841255e-01,  7.93830090e-02,\n",
       "       -2.74783315e-01, -4.93368597e-02, -8.59940479e-02, -1.61329475e-01,\n",
       "       -9.31004149e-02, -2.79255491e-01,  5.04257490e-02, -3.02171739e-01,\n",
       "       -7.53893058e-02, -1.18760900e-01, -1.91169909e-01, -1.23634500e-01,\n",
       "       -3.05903350e-01,  2.06859527e-02, -3.31629348e-01, -1.04407026e-01,\n",
       "       -1.46960583e-01, -2.20532552e-01, -1.52955136e-01, -3.35158685e-01,\n",
       "       -8.01878408e-03, -3.61024288e-01, -1.34518459e-01, -1.75424679e-01,\n",
       "       -2.49194473e-01, -1.81419459e-01, -3.64923983e-01, -3.71376613e-02,\n",
       "       -3.89789384e-01, -1.62963901e-01, -2.05197658e-01, -2.78463137e-01,\n",
       "       -2.10829184e-01, -3.93515716e-01, -6.63246973e-02, -4.18981037e-01,\n",
       "       -1.92129643e-01, -2.34040741e-01, -3.07567428e-01, -2.39906496e-01,\n",
       "       -4.22699221e-01, -9.53336186e-02, -4.48101580e-01, -2.21370443e-01,\n",
       "       -2.63059634e-01, -3.36581201e-01, -2.68891977e-01, -4.51881177e-01,\n",
       "       -1.24435347e-01, -4.77129816e-01, -2.50329505e-01, -2.92266347e-01,\n",
       "       -3.65706604e-01, -2.98044368e-01, -4.80872440e-01, -1.53534911e-01,\n",
       "       -5.06240626e-01, -2.79445978e-01, -3.21294964e-01, -3.94789325e-01,\n",
       "       -3.27118847e-01, -5.09987204e-01, -1.82605808e-01, -5.35328075e-01,\n",
       "       -3.08552182e-01, -3.50377615e-01, -4.23863417e-01, -3.56189513e-01,\n",
       "       -5.39084080e-01, -2.11695896e-01, -5.64403844e-01, -3.37614020e-01,\n",
       "       -3.79483104e-01, -4.52956900e-01, -3.85287876e-01, -5.68152488e-01,\n",
       "       -2.40782892e-01, -5.93494714e-01, -3.66707801e-01, -4.08556359e-01,\n",
       "       -4.82040671e-01, -4.14369609e-01, -5.97245053e-01, -2.69865666e-01,\n",
       "       -6.22579628e-01, -3.95795349e-01, -4.37643007e-01, -5.11124426e-01,\n",
       "       -4.43453097e-01, -6.26331257e-01, -2.98952165e-01, -6.51663491e-01,\n",
       "       -4.24876571e-01, -4.66731458e-01, -5.40211337e-01, -4.72540840e-01,\n",
       "       -6.55413739e-01, -3.28037629e-01, -6.80749962e-01, -4.53963892e-01,\n",
       "       -4.95814407e-01, -5.69296217e-01, -5.01625270e-01, -6.84500683e-01,\n",
       "       -3.57122553e-01, -7.09835091e-01, -4.83049328e-01, -5.24900322e-01,\n",
       "       -5.98381385e-01, -5.30710459e-01, -7.13585954e-01, -3.86208161e-01,\n",
       "       -7.38920241e-01, -5.12134004e-01, -5.53986106e-01, -6.27467025e-01,\n",
       "       -5.59796231e-01, -7.42670859e-01, -4.15293503e-01, -7.68005812e-01,\n",
       "       -5.41219781e-01, -5.83071013e-01, -6.56552267e-01, -5.88881381e-01,\n",
       "       -7.71756542e-01, -4.44378795e-01, -7.97091104e-01, -5.70305094e-01,\n",
       "       -6.12156528e-01, -6.85637613e-01, -6.17966744e-01, -8.00841842e-01,\n",
       "       -4.73464205e-01, -8.26176440e-01, -5.99390350e-01, -6.41241936e-01,\n",
       "       -7.14723021e-01, -6.47052171e-01, -8.29927137e-01, -5.02549556e-01,\n",
       "       -8.55261838e-01, -6.28475793e-01, -6.70327216e-01, -7.43808355e-01,\n",
       "       -6.76137487e-01, -8.59012559e-01, -5.31634906e-01, -8.84347182e-01,\n",
       "       -6.57561134e-01, -6.99412613e-01, -7.72893717e-01, -7.05222854e-01,\n",
       "       -8.88097901e-01, -5.60720276e-01, -9.13432541e-01, -6.86646480e-01,\n",
       "       -7.28497975e-01, -8.01979085e-01, -7.34308225e-01, -9.17183253e-01,\n",
       "       -5.89805633e-01, -9.42517908e-01, -7.15731856e-01, -7.57583322e-01,\n",
       "       -8.31064440e-01, -7.63393576e-01, -9.46268624e-01, -6.18890993e-01,\n",
       "       -9.71603264e-01, -7.44817211e-01, -7.86668690e-01, -8.60149801e-01,\n",
       "       -7.92478939e-01, -9.75353980e-01, -6.47976355e-01, -1.00068863e+00,\n",
       "       -7.73902570e-01, -8.15754050e-01, -8.89235163e-01, -8.21564301e-01,\n",
       "       -1.00443934e+00, -6.77061714e-01, -1.02977399e+00, -8.02987933e-01,\n",
       "       -8.44839408e-01, -9.18320522e-01, -8.50649659e-01, -1.03352470e+00,\n",
       "       -7.06147075e-01, -1.05885935e+00, -8.32073292e-01, -8.73924770e-01,\n",
       "       -9.47405882e-01, -8.79735020e-01, -1.06261006e+00, -7.35232435e-01,\n",
       "       -1.08794471e+00, -8.61158652e-01, -9.03010130e-01, -9.76491243e-01,\n",
       "       -9.08820381e-01, -1.09169542e+00, -7.64317795e-01, -1.11703007e+00,\n",
       "       -8.90244013e-01, -9.32095490e-01, -1.00557660e+00, -9.37905741e-01,\n",
       "       -1.12078078e+00, -7.93403156e-01, -1.14611543e+00, -9.19329373e-01,\n",
       "       -9.61180851e-01, -1.03466196e+00, -9.66991101e-01, -1.14986614e+00,\n",
       "       -8.22488516e-01, -1.17520079e+00, -9.48414734e-01, -9.90266211e-01,\n",
       "       -1.06374732e+00, -9.96076462e-01, -1.17895150e+00, -8.51573876e-01,\n",
       "       -1.20428615e+00, -9.77500094e-01, -1.01935157e+00, -1.09283268e+00,\n",
       "       -1.02516182e+00, -1.20803686e+00, -8.80659237e-01, -1.23337151e+00,\n",
       "       -1.00658545e+00, -1.04843693e+00, -1.12191804e+00, -1.05424718e+00,\n",
       "       -1.23712222e+00, -9.09744597e-01, -1.26245687e+00, -1.03567081e+00,\n",
       "       -1.07752229e+00, -1.15100340e+00, -1.08333254e+00, -1.26620758e+00,\n",
       "       -9.38829957e-01, -1.29154223e+00, -1.06475617e+00, -1.10660765e+00,\n",
       "       -1.18008877e+00, -1.11241790e+00, -1.29529294e+00, -9.67915318e-01,\n",
       "       -1.32062759e+00, -1.09384154e+00, -1.13569301e+00, -1.20917413e+00,\n",
       "       -1.14150326e+00, -1.32437830e+00, -9.97000678e-01, -1.34971295e+00,\n",
       "       -1.12292690e+00, -1.16477837e+00, -1.23825949e+00, -1.17058862e+00,\n",
       "       -1.35346366e+00, -1.02608604e+00, -1.37879831e+00, -1.15201226e+00,\n",
       "       -1.19386373e+00, -1.26734485e+00, -1.19967398e+00, -1.38254903e+00,\n",
       "       -1.05517140e+00, -1.40788367e+00, -1.18109762e+00, -1.22294909e+00,\n",
       "       -1.29643021e+00, -1.22875934e+00, -1.41163439e+00, -1.08425676e+00,\n",
       "       -1.43696903e+00, -1.21018298e+00, -1.25203445e+00, -1.32551557e+00,\n",
       "       -1.25784470e+00, -1.44071975e+00, -1.11334212e+00, -1.46605439e+00,\n",
       "       -1.23926834e+00, -1.28111981e+00, -1.35460093e+00, -1.28693007e+00,\n",
       "       -1.46980511e+00, -1.14242748e+00, -1.49513975e+00, -1.26835370e+00,\n",
       "       -1.31020517e+00, -1.38368629e+00, -1.31601543e+00, -1.49889047e+00,\n",
       "       -1.17151284e+00, -1.52422511e+00, -1.29743906e+00, -1.33929054e+00,\n",
       "       -1.41277165e+00, -1.34510079e+00, -1.52797583e+00, -1.20059820e+00,\n",
       "       -1.55331047e+00, -1.32652442e+00, -1.36837590e+00, -1.44185701e+00,\n",
       "       -1.37418615e+00, -1.55706119e+00, -1.22968356e+00, -1.58239583e+00,\n",
       "       -1.35560978e+00, -1.39746126e+00, -1.47094237e+00, -1.40327151e+00,\n",
       "       -1.58614655e+00, -1.25876892e+00, -1.61148119e+00, -1.38469514e+00,\n",
       "       -1.42654662e+00, -1.50002773e+00, -1.43235687e+00, -1.61523191e+00,\n",
       "       -1.28785428e+00, -1.64056655e+00, -1.41378050e+00, -1.45563198e+00,\n",
       "       -1.52911309e+00, -1.46144223e+00, -1.64431727e+00, -1.31693964e+00,\n",
       "       -1.66965191e+00, -1.44286586e+00, -1.48471734e+00, -1.55819845e+00,\n",
       "       -1.49052759e+00, -1.67340263e+00, -1.34602500e+00, -1.69873727e+00,\n",
       "       -1.47195122e+00, -1.51380270e+00, -1.58728381e+00, -1.51961295e+00,\n",
       "       -1.70248799e+00, -1.37511036e+00, -1.72782263e+00, -1.50103658e+00,\n",
       "       -1.54288806e+00, -1.61636917e+00, -1.54869831e+00, -1.73157335e+00,\n",
       "       -1.40419572e+00, -1.75690799e+00, -1.53012194e+00, -1.57197342e+00,\n",
       "       -1.64545453e+00, -1.57778367e+00, -1.76065871e+00, -1.43328108e+00,\n",
       "       -1.78599335e+00, -1.55920730e+00, -1.60105878e+00, -1.67453989e+00,\n",
       "       -1.60686903e+00, -1.78974407e+00, -1.46236644e+00, -1.81507871e+00,\n",
       "       -1.58829266e+00, -1.63014414e+00, -1.70362525e+00, -1.63595439e+00,\n",
       "       -1.81882943e+00, -1.49145180e+00, -1.84416408e+00, -1.61737802e+00,\n",
       "       -1.65922950e+00, -1.73271061e+00, -1.66503975e+00, -1.84791479e+00,\n",
       "       -1.52053716e+00, -1.87324944e+00, -1.64646338e+00, -1.68831486e+00,\n",
       "       -1.76179597e+00, -1.69412511e+00, -1.87700015e+00, -1.54962252e+00,\n",
       "       -1.90233480e+00, -1.67554874e+00, -1.71740022e+00, -1.79088133e+00,\n",
       "       -1.72321047e+00, -1.90608551e+00, -1.57870788e+00, -1.93142016e+00,\n",
       "       -1.70463410e+00, -1.74648558e+00, -1.81996669e+00, -1.75229583e+00,\n",
       "       -1.93517087e+00, -1.60779325e+00, -1.96050552e+00, -1.73371946e+00,\n",
       "       -1.77557094e+00, -1.84905205e+00, -1.78138119e+00, -1.96425623e+00,\n",
       "       -1.63687861e+00, -1.98959088e+00, -1.76280482e+00, -1.80465630e+00,\n",
       "       -1.87813741e+00, -1.81046655e+00, -1.99334159e+00, -1.66596397e+00,\n",
       "       -2.01867624e+00, -1.79189018e+00, -1.83374166e+00, -1.90722277e+00,\n",
       "       -1.83955191e+00, -2.02242695e+00, -1.69504933e+00, -2.04776160e+00,\n",
       "       -1.82097554e+00, -1.86282702e+00, -1.93630813e+00, -1.86863727e+00,\n",
       "       -2.05151231e+00, -1.72413469e+00, -2.07684696e+00, -1.85006090e+00,\n",
       "       -1.89191238e+00, -1.96539349e+00, -1.89772263e+00, -2.08059767e+00,\n",
       "       -1.75322005e+00, -2.10593232e+00, -1.87914626e+00, -1.92099774e+00,\n",
       "       -1.99447885e+00, -1.92680799e+00, -2.10968303e+00, -1.78230541e+00,\n",
       "       -2.13501768e+00, -1.90823162e+00, -1.95008310e+00, -2.02356422e+00,\n",
       "       -1.95589335e+00, -2.13876839e+00, -1.81139077e+00, -2.16410304e+00,\n",
       "       -1.93731699e+00, -1.97916846e+00, -2.05264958e+00, -1.98497871e+00,\n",
       "       -2.16785375e+00, -1.84047613e+00, -2.19318840e+00, -1.96640235e+00,\n",
       "       -2.00825382e+00, -2.08173494e+00, -2.01406407e+00, -2.19693911e+00,\n",
       "       -1.86956149e+00, -2.22227376e+00, -1.99548771e+00, -2.03733918e+00,\n",
       "       -2.11082030e+00, -2.04314943e+00, -2.22602448e+00, -1.89864685e+00,\n",
       "       -2.25135912e+00, -2.02457307e+00, -2.06642454e+00])"
      ]
     },
     "execution_count": 30,
     "metadata": {},
     "output_type": "execute_result"
    }
   ],
   "source": [
    "forecast, conf = pipeline.predict(n_periods=543, return_conf_int=True)\n",
    "forecast"
   ]
  },
  {
   "cell_type": "code",
   "execution_count": 31,
   "metadata": {},
   "outputs": [
    {
     "data": {
      "text/plain": [
       "array([-6.29973049e-01,  1.52433125e+00,  4.92967106e-01, -1.03015742e-01,\n",
       "       -4.90715499e-01, -7.15777783e-01, -3.26898045e-01,  2.63512793e-02,\n",
       "       -5.40543066e-01, -3.24636149e-01, -6.70306657e-01,  3.31667274e-01,\n",
       "       -3.18118828e-01,  2.30737935e-01, -4.61319053e-01,  9.80246359e-01,\n",
       "       -5.15376110e-01, -3.23612689e-01, -4.90112946e-01, -4.92015432e-01,\n",
       "       -3.44841343e-01, -6.45460174e-01,  2.14841313e-01,  7.00844280e-01,\n",
       "        3.34001574e-01,  1.61619834e-01,  1.72123924e+00, -2.02628762e-01,\n",
       "        3.30282630e-01,  2.55347277e-01, -5.11766223e-01, -1.15806972e-01,\n",
       "        2.75287148e-01, -9.51951916e-02, -1.84635194e-01,  1.25004754e-01,\n",
       "        2.64754720e-02, -5.57295130e-01, -4.43367251e-01, -2.48306060e-01,\n",
       "       -3.64828778e-01,  1.74669837e-01, -1.93557352e-01, -1.40877504e-01,\n",
       "        8.02558882e-02,  3.82603730e-01,  3.64958581e-01,  4.67841879e-01,\n",
       "       -3.41000555e-01, -5.47321431e-01, -2.12736520e-01, -6.75369378e-01,\n",
       "        2.14740891e-01, -3.55622765e-01,  7.77079516e-01, -2.64898834e-01,\n",
       "        2.33402951e-01, -6.03555606e-02,  2.41857552e-01, -2.98424100e-01,\n",
       "        6.00603587e-03, -4.97481428e-01, -3.45428096e-01,  6.63210174e-01,\n",
       "        2.12676496e-01, -1.06305541e-01,  3.00521547e-01, -3.14999796e-01,\n",
       "        5.29431898e-01,  3.83591522e-01,  5.06162357e-01, -5.33064122e-01,\n",
       "        1.41581129e-02, -4.76760376e-01, -5.07284845e-01, -5.00919626e-01,\n",
       "       -4.11888659e-01,  9.41594273e-01,  3.76991166e-01, -5.89423592e-01,\n",
       "       -3.56671455e-01,  1.43049786e+00,  2.77420319e+00,  7.76641007e-03,\n",
       "        5.81248708e-01, -1.91430443e-01,  1.38412730e+00,  6.20118350e-01,\n",
       "        5.74594931e-01,  1.35106065e-02, -4.99149376e-01, -4.10522211e-02,\n",
       "        2.66915400e-01,  5.96021166e-01,  1.89504920e-02, -1.90822960e-02,\n",
       "       -4.96694025e-01,  1.09247932e+00, -3.58918923e-02, -2.00972985e-01,\n",
       "       -3.55902393e-01,  1.78473795e+00,  1.96245518e-01,  7.36878666e-02,\n",
       "        5.86539563e-01, -8.08837775e-03, -4.83394817e-01, -4.60417834e-01,\n",
       "       -4.12885966e-01, -1.28795395e-01, -5.28575456e-01, -2.14369585e-01,\n",
       "        3.76100008e-01,  3.44361297e-01, -1.03772781e-01, -3.96140337e-01,\n",
       "        1.37453870e+00,  1.49455206e+00, -4.64219096e-01, -5.23008384e-01,\n",
       "        1.38208371e+00, -5.20158106e-01,  1.26031907e-01, -5.42009750e-01,\n",
       "        3.78639553e-01,  3.70137276e-01, -2.70544924e-01,  1.03499689e-01,\n",
       "       -4.93980066e-02, -5.44358736e-01, -5.39763271e-01,  1.42838190e-01,\n",
       "        6.22591137e-01,  9.46284316e-02, -7.71533628e-02, -4.53260511e-01,\n",
       "        2.49194658e-01, -5.20303065e-01,  2.32137569e-01,  2.23015195e-01,\n",
       "       -7.21103469e-01, -4.20421221e-01, -5.87192638e-01, -5.63026206e-01,\n",
       "       -2.37507863e-02, -3.31408872e-01,  2.87444749e-01, -1.35775436e-01,\n",
       "        6.44030074e-01, -2.89802948e-01, -7.88903263e-03,  6.96509285e-01,\n",
       "       -4.44137100e-01,  4.39155698e-01, -7.19395337e-01, -4.14411647e-01,\n",
       "        1.71396578e+00,  1.46564250e-01,  2.13953299e-01, -3.47437603e-01,\n",
       "       -4.19250736e-01, -4.68137475e-01,  1.23294783e+00, -6.20435884e-01,\n",
       "       -1.02559169e-01, -3.20411620e-01,  6.19678506e-01,  1.00138801e+00,\n",
       "       -5.45014253e-01,  3.70323539e-01,  7.04498994e-02, -6.03464561e-01,\n",
       "       -5.70667567e-01, -1.27427233e-01, -1.51072266e-01,  2.21512888e-01,\n",
       "       -1.10317560e-02, -6.25506048e-01,  3.68215539e-01, -5.11201882e-01,\n",
       "       -4.97573272e-01,  2.37028827e-01, -5.58714679e-01, -3.77629955e-01,\n",
       "       -5.83363861e-01, -4.85889970e-01, -8.05723642e-02, -7.15758161e-01,\n",
       "       -2.73708211e-02, -1.95605805e-01, -2.35316203e-01,  3.73119315e-01,\n",
       "        9.28304675e-01, -5.46787280e-01, -4.63551253e-01, -1.05023565e-01,\n",
       "       -6.02391834e-01,  5.51408487e-01, -1.17430120e-01, -6.02705089e-01,\n",
       "        1.02921209e-01,  1.06292365e-01,  1.78649487e+00, -7.04291851e-01,\n",
       "       -1.81718405e-02,  2.33219767e-01,  2.70197937e-01, -6.79466588e-01,\n",
       "       -5.98755313e-01,  1.49102246e-01, -2.80007740e-01,  1.09659899e-01,\n",
       "        3.00586095e-01, -5.08513894e-01,  5.54750301e-01,  5.74098886e-02,\n",
       "       -1.42198001e-01,  2.24819832e+00,  3.67137814e-01, -3.33116488e-01,\n",
       "        9.67700127e-01,  2.50491799e-01, -3.35841832e-01, -4.87606709e-01,\n",
       "       -1.38640609e-01,  1.11158722e+00, -6.98790388e-01, -1.06537754e-01,\n",
       "        5.40238235e-01, -4.97990281e-01, -1.19785538e-01,  1.37264396e+00,\n",
       "       -3.33666780e-01,  1.66823003e-03, -2.41603266e-01,  1.04827674e-01,\n",
       "       -4.30086101e-01,  6.84779457e-01, -9.94163521e-02, -1.04339780e-01,\n",
       "       -5.01040786e-01,  7.04560526e-01, -1.50001197e-01,  2.63271610e-02,\n",
       "        8.60156665e-01,  4.82196546e-01,  2.19035967e-01, -5.07424838e-01,\n",
       "       -3.65148708e-01,  7.68799634e-02, -6.95520400e-01, -2.39328569e-01,\n",
       "        1.53090506e-02, -1.92336049e-01, -5.97817414e-01, -9.33737267e-02,\n",
       "        9.67862780e-02,  1.92069199e+00, -1.28623756e-01, -1.94273250e-01,\n",
       "       -3.43878134e-01, -7.22143248e-01, -5.96381249e-01, -1.14209671e-01,\n",
       "        1.20783103e-02, -1.25569415e-01,  8.44359944e-02, -6.69258117e-01,\n",
       "        6.39410427e-01, -4.56729927e-01,  3.61990294e-01, -5.48479704e-01,\n",
       "        7.21959417e-01, -5.56964191e-01, -2.70441759e-01, -4.65257536e-01,\n",
       "       -3.03817637e-01,  3.78306882e-01, -6.66962661e-01,  1.44617769e-01,\n",
       "        1.38484931e+00, -5.24480446e-01, -4.71662523e-01, -5.53185212e-01,\n",
       "        1.55175329e+00, -3.11876415e-01, -4.48808265e-01, -5.91710839e-01,\n",
       "        1.29906681e+00,  7.31916468e-01, -3.97102338e-01,  1.18969255e-01,\n",
       "       -1.82365822e-01, -2.22870084e-01, -3.09437841e-01, -2.47043054e-01,\n",
       "       -3.67956129e-01,  3.76090997e-01,  3.89621037e-01,  4.28163479e-01,\n",
       "        4.51631267e-01,  7.54160702e-01, -5.61290171e-01,  5.29519352e-01,\n",
       "       -5.07898963e-01, -1.22488768e-01,  4.26977277e-01,  1.96606823e-01,\n",
       "        4.55803841e-01,  9.23833857e-02, -5.73304384e-01,  2.24611732e-01,\n",
       "        7.34848767e-01, -6.95520400e-01,  1.66490161e-01,  7.62519709e-01,\n",
       "       -3.67344324e-01, -2.27890319e-01, -3.38413769e-01, -3.21282755e-01,\n",
       "       -2.60257452e-01, -1.84922628e-02, -2.39126726e-01, -1.10902310e-01,\n",
       "        2.36750889e-01,  1.86840789e-01,  5.42824966e-01,  1.06544118e+00,\n",
       "        1.16988149e+00, -5.40701740e-01, -5.53220077e-01, -5.69716400e-01,\n",
       "       -3.43234125e-01, -1.10552549e-01, -2.41689455e-01,  2.29652591e-01,\n",
       "        1.24812272e+00,  1.49162381e+00, -5.68754557e-01,  6.06441171e-01,\n",
       "       -2.77969610e-01, -3.78221693e-01, -3.74895564e-01, -3.09192563e-02,\n",
       "       -4.63367281e-01,  4.11438665e-01, -1.95965662e-01, -5.26237811e-01,\n",
       "       -6.03167013e-01,  2.07917594e-01, -4.58742464e-01,  3.68725071e-01,\n",
       "        4.47600419e-02, -7.26133184e-03, -5.57320572e-01, -2.14244815e-01,\n",
       "        1.80316928e+00, -3.52343694e-01, -5.16624005e-01, -3.68841528e-01,\n",
       "        5.14872068e-01, -6.41203853e-01,  4.55643710e-01,  4.01571338e-01,\n",
       "        1.35224104e-01, -2.60015327e-01,  6.20759497e-02, -5.16617880e-01,\n",
       "       -1.97512673e-01, -4.08791694e-01,  1.46030260e-03, -6.97669834e-01,\n",
       "        2.36945517e-01, -3.05281360e-01, -5.06373914e-01, -1.48180116e-01,\n",
       "        6.99204371e-01, -2.49952584e-01, -4.10095578e-02, -2.47382087e-02,\n",
       "        5.13861800e-02,  1.06067051e-01,  1.06860450e-01, -4.53236988e-01,\n",
       "        4.81878866e-01,  2.59287348e+00,  1.90051000e+00,  2.59606527e-01,\n",
       "       -6.99467258e-01, -6.02391834e-01, -4.17698542e-01,  2.17197093e-01,\n",
       "        1.58871979e-01, -7.22143248e-01,  1.34562735e-01,  4.12881191e-01,\n",
       "        3.92176449e-01,  7.08627906e-01, -1.31952732e-01, -6.02391834e-01,\n",
       "        8.80585652e-02, -1.97219885e-01, -6.95520400e-01,  7.87312380e-01,\n",
       "       -3.12058122e-01, -5.62486223e-01, -1.16673708e-01, -2.13528186e-01,\n",
       "        9.60266588e-01,  1.84343353e-02, -2.33774735e-01, -3.99934647e-01,\n",
       "        6.19336650e-01, -1.51952599e-01, -4.97654570e-01, -1.22656314e-01,\n",
       "       -4.97169309e-01,  2.35593103e-01, -2.59139089e-01,  6.33341874e-01,\n",
       "        4.81134791e-01,  7.32160225e-01, -4.05518443e-01,  2.17102713e-01,\n",
       "       -4.61831026e-01, -3.99567698e-02,  9.31588352e-02, -3.53724711e-01,\n",
       "        6.08530974e-01, -3.03865419e-01, -4.50884196e-01,  7.10163904e-01,\n",
       "        1.06898524e+00, -6.65652409e-01,  2.40976235e-01, -2.08076550e-01,\n",
       "       -6.51856753e-01,  5.66606154e-01, -1.11375425e-01, -2.91606262e-01,\n",
       "       -5.47517223e-01,  2.98178279e-01,  1.16141177e+00,  1.15293973e-01,\n",
       "       -6.82171898e-01, -4.73816240e-01, -6.02833739e-01,  8.73814284e-02,\n",
       "       -4.92052148e-01,  4.85993073e-01,  2.81285198e-01, -4.29250907e-01,\n",
       "       -3.01502004e-01, -4.68653735e-01,  1.59993693e-01, -4.86236947e-01,\n",
       "       -1.14923994e-01,  2.16807096e-01,  4.81630895e-01,  4.78153995e-01,\n",
       "       -6.76676512e-01, -2.12748912e-02,  6.70287902e-01,  1.98569424e-01,\n",
       "       -2.61252826e-02, -3.41607223e-01,  1.64953348e-01,  3.34745372e-01,\n",
       "        1.31068964e-01, -1.28235250e-01, -4.85839664e-01,  3.93313910e-01,\n",
       "        5.20822216e-01, -5.29273489e-01, -7.09904415e-01,  4.27476756e-01,\n",
       "        3.81100186e-02, -1.76851855e-01, -3.10690120e-01, -2.56795832e-01,\n",
       "        2.38204204e-01, -6.92469858e-01,  1.06068031e+00, -2.83016608e-01,\n",
       "       -3.89986797e-01, -7.00260659e-01, -3.51266646e-01,  1.19449616e+00,\n",
       "        1.79102417e+00, -1.12608762e-01,  4.06028406e-01,  1.64042274e-01,\n",
       "       -4.38252771e-01, -5.25772214e-01,  6.41017356e-01,  1.88504012e-01,\n",
       "       -4.90398361e-01, -5.53191276e-01, -4.98159115e-01, -4.58334566e-01,\n",
       "        6.76098537e-01,  2.69887184e-01,  2.84196087e-01, -4.97582676e-01,\n",
       "       -7.07120606e-01,  1.61079010e-01,  5.66351294e-01, -5.09168729e-01,\n",
       "        3.51725344e-01, -4.87853828e-01, -3.61696212e-01, -6.45453726e-01,\n",
       "        4.18432098e-01, -1.41361528e-01, -3.30630303e-01,  4.72704480e-02,\n",
       "        4.12091303e-01,  1.85837141e-01,  5.18188719e-01, -3.62097007e-01,\n",
       "       -6.77313552e-01,  2.32915302e-01, -2.86922033e-01,  4.55339125e-01,\n",
       "       -2.29543354e-01, -5.62817087e-01,  2.97030715e-01, -4.65038692e-01,\n",
       "        3.41270195e-02, -9.73611053e-02,  1.86519408e-01, -2.00597027e-01,\n",
       "        3.82489661e-01,  7.33108163e-01, -5.06155196e-01,  2.04495071e-01,\n",
       "       -5.16603703e-01, -4.26842497e-01,  4.14398252e-01, -5.31162961e-01,\n",
       "        6.10079496e-01, -5.31656955e-01,  1.11448916e-01])"
      ]
     },
     "execution_count": 31,
     "metadata": {},
     "output_type": "execute_result"
    }
   ],
   "source": [
    "Actuals = pd.Series.to_numpy(dfvali['electricity'])\n",
    "Actuals"
   ]
  },
  {
   "cell_type": "code",
   "execution_count": 32,
   "metadata": {},
   "outputs": [
    {
     "data": {
      "text/plain": [
       "1.7235935235383337"
      ]
     },
     "execution_count": 32,
     "metadata": {},
     "output_type": "execute_result"
    }
   ],
   "source": [
    "mseVali = mean_squared_error(Actuals, forecast)\n",
    "mseVali"
   ]
  },
  {
   "cell_type": "code",
   "execution_count": 33,
   "metadata": {},
   "outputs": [
    {
     "data": {
      "text/plain": [
       "array([ 0.27359772, -0.17650874, -0.01529793, ..., -9.00291343,\n",
       "       -8.67553581, -9.02824808])"
      ]
     },
     "execution_count": 33,
     "metadata": {},
     "output_type": "execute_result"
    }
   ],
   "source": [
    "forecasttrain, _ = pipeline.predict(n_periods=2172, return_conf_int=True)\n",
    "forecasttrain"
   ]
  },
  {
   "cell_type": "code",
   "execution_count": 34,
   "metadata": {},
   "outputs": [
    {
     "data": {
      "text/plain": [
       "array([-0.72214325, -0.56262906, -0.2604323 , ..., -0.1212007 ,\n",
       "       -0.21138998,  0.56397838])"
      ]
     },
     "execution_count": 34,
     "metadata": {},
     "output_type": "execute_result"
    }
   ],
   "source": [
    "Actualstrain = pd.Series.to_numpy(dftrain['electricity'])\n",
    "Actualstrain"
   ]
  },
  {
   "cell_type": "code",
   "execution_count": 35,
   "metadata": {},
   "outputs": [
    {
     "data": {
      "text/plain": [
       "26.128617384700497"
      ]
     },
     "execution_count": 35,
     "metadata": {},
     "output_type": "execute_result"
    }
   ],
   "source": [
    "msetrain = mean_squared_error(Actualstrain, forecasttrain)\n",
    "msetrain"
   ]
  },
  {
   "cell_type": "code",
   "execution_count": 36,
   "metadata": {},
   "outputs": [
    {
     "data": {
      "text/plain": [
       "array([ 0.27359772, -0.17650874, -0.01529793,  0.53734459,  0.13421645,\n",
       "        0.25962219, -0.22025243,  0.39608739, -0.03894179,  0.09095596,\n",
       "        0.12938203,  0.12919336,  0.21086465, -0.09081717,  0.25017762,\n",
       "       -0.01784815,  0.29268943,  0.00647924, -0.00750956,  0.03243943,\n",
       "        0.02240359,  0.24739283, -0.13328003,  0.07087222,  0.16063061,\n",
       "        0.02503432,  0.10605095, -0.14982225,  0.23918598, -0.12292375,\n",
       "        0.09133198,  0.04374516, -0.00894217,  0.05910039, -0.13267735,\n",
       "        0.18811424, -0.14947937,  0.0927206 ,  0.01193644, -0.0548361 ,\n",
       "        0.00827196, -0.14521463,  0.16644722, -0.19297267,  0.02793015,\n",
       "        0.01304854, -0.07149537, -0.00100184, -0.19994895,  0.13969893,\n",
       "       -0.21358419,  0.01200363, -0.03463236, -0.10315094, -0.03582271,\n",
       "       -0.21785081,  0.10670313, -0.24346815, -0.01400348, -0.06150517,\n",
       "       -0.13460364, -0.06762611, -0.24584126,  0.07938301, -0.27478332,\n",
       "       -0.04933686, -0.08599405, -0.16132948, -0.09310041, -0.27925549,\n",
       "        0.05042575, -0.30217174, -0.07538931, -0.1187609 , -0.19116991,\n",
       "       -0.1236345 , -0.30590335,  0.02068595, -0.33162935, -0.10440703,\n",
       "       -0.14696058, -0.22053255, -0.15295514, -0.33515869, -0.00801878,\n",
       "       -0.36102429, -0.13451846, -0.17542468, -0.24919447, -0.18141946,\n",
       "       -0.36492398, -0.03713766, -0.38978938, -0.1629639 , -0.20519766,\n",
       "       -0.27846314, -0.21082918, -0.39351572, -0.0663247 , -0.41898104,\n",
       "       -0.19212964, -0.23404074, -0.30756743, -0.2399065 , -0.42269922,\n",
       "       -0.09533362, -0.44810158, -0.22137044, -0.26305963, -0.3365812 ,\n",
       "       -0.26889198, -0.45188118, -0.12443535, -0.47712982, -0.25032951,\n",
       "       -0.29226635, -0.3657066 , -0.29804437, -0.48087244, -0.15353491,\n",
       "       -0.50624063, -0.27944598, -0.32129496, -0.39478933, -0.32711885,\n",
       "       -0.5099872 , -0.18260581, -0.53532807, -0.30855218, -0.35037762,\n",
       "       -0.42386342, -0.35618951, -0.53908408, -0.2116959 , -0.56440384,\n",
       "       -0.33761402, -0.3794831 , -0.4529569 , -0.38528788, -0.56815249,\n",
       "       -0.24078289, -0.59349471, -0.3667078 , -0.40855636, -0.48204067,\n",
       "       -0.41436961, -0.59724505, -0.26986567, -0.62257963, -0.39579535,\n",
       "       -0.43764301, -0.51112443, -0.4434531 , -0.62633126, -0.29895216,\n",
       "       -0.65166349, -0.42487657, -0.46673146, -0.54021134, -0.47254084,\n",
       "       -0.65541374, -0.32803763, -0.68074996, -0.45396389, -0.49581441,\n",
       "       -0.56929622, -0.50162527, -0.68450068, -0.35712255, -0.70983509,\n",
       "       -0.48304933, -0.52490032, -0.59838138, -0.53071046, -0.71358595,\n",
       "       -0.38620816, -0.73892024, -0.512134  , -0.55398611, -0.62746702,\n",
       "       -0.55979623, -0.74267086, -0.4152935 , -0.76800581, -0.54121978,\n",
       "       -0.58307101, -0.65655227, -0.58888138, -0.77175654, -0.4443788 ,\n",
       "       -0.7970911 , -0.57030509, -0.61215653, -0.68563761, -0.61796674,\n",
       "       -0.80084184, -0.47346421, -0.82617644, -0.59939035, -0.64124194,\n",
       "       -0.71472302, -0.64705217, -0.82992714, -0.50254956, -0.85526184])"
      ]
     },
     "execution_count": 36,
     "metadata": {},
     "output_type": "execute_result"
    }
   ],
   "source": [
    "forecasttest, conf = pipeline.predict(n_periods=205, return_conf_int=True)\n",
    "forecasttest"
   ]
  },
  {
   "cell_type": "code",
   "execution_count": 37,
   "metadata": {},
   "outputs": [
    {
     "data": {
      "text/plain": [
       "array([ 1.17559538, -0.33244801,  0.83141088,  0.24584192, -0.32697123,\n",
       "       -0.50282276, -0.09413299,  0.24302166, -0.14782673, -0.49030966,\n",
       "        0.21191174, -0.45970528, -0.0080224 ,  0.26035081,  1.10418766,\n",
       "        0.09843596, -0.26582991, -0.22159887,  0.45849001, -0.41607271,\n",
       "       -0.55367848,  0.10064829,  0.36586604, -0.53729269, -0.39815368,\n",
       "       -0.35082935, -0.1555076 , -0.64066743,  0.55783498,  0.58634523,\n",
       "       -0.71601611, -0.47086407, -0.26380545, -0.34569   , -0.32195181,\n",
       "        0.37808895,  0.44328094,  0.085156  , -0.661428  ,  1.06887189,\n",
       "       -0.01662352, -0.0690164 , -0.61743582, -0.13630956, -0.72214325,\n",
       "       -0.18255226, -0.36354632, -0.23492332,  0.65426748,  0.06675377,\n",
       "        1.44152014, -0.72214325,  0.04300189,  0.56060975,  0.45577163,\n",
       "       -0.45237475,  0.06442793,  0.19011825, -0.64823753,  0.02206108,\n",
       "       -0.34354355,  0.03462173, -0.52537735,  0.36020242,  0.36575572,\n",
       "       -0.18582463, -0.62016832, -0.16867445, -0.30868163,  0.41177981,\n",
       "        0.70980435,  0.36851523, -0.34411579, -0.64054581,  0.02420513,\n",
       "       -0.59743301, -0.29588294, -0.49616682,  0.57505165, -0.4728926 ,\n",
       "       -0.24428929, -0.24465368, -0.55330062, -0.05955324, -0.08881338,\n",
       "       -0.61591815, -0.17410862,  0.19930468,  0.41369436,  0.02535275,\n",
       "       -0.51155592,  0.39277906, -0.33026097,  2.50734613,  0.17149542,\n",
       "       -0.08286324, -0.71702908,  0.11184662,  0.17093902,  1.86523554,\n",
       "       -0.66613445, -0.05910295, -0.56003962, -0.26162635, -0.40396863,\n",
       "       -0.44793232, -0.28683266, -0.57993095, -0.5559512 , -0.53306412,\n",
       "       -0.20526831, -0.2213011 ,  0.16878253, -0.50379522,  0.11342787,\n",
       "        0.45799521,  0.45645586,  0.71111147,  0.13503042, -0.36382861,\n",
       "        0.63596798,  0.21742565, -0.30904343, -0.50062183,  0.10500891,\n",
       "       -0.0628745 , -0.32455563, -0.55548763, -0.05126236,  0.23711   ,\n",
       "        0.99599417,  0.44943491, -0.35946189,  1.63210953, -0.54560791,\n",
       "        0.22437414, -0.01601003,  0.20714521, -0.18775116, -0.52697624,\n",
       "       -0.35991256, -0.61618406, -0.55071232,  1.82033951,  0.43598125,\n",
       "       -0.26780631,  0.13423829,  0.01861654,  0.14724896,  0.14746346,\n",
       "       -0.02341487,  0.04813091,  0.11584354,  0.14147308,  0.03331642,\n",
       "       -0.02622367,  1.14708459, -0.1756022 , -0.60940494, -0.38881695,\n",
       "        2.23773868,  0.03472415, -0.42960966, -0.41785852,  0.13404516,\n",
       "       -0.24013023, -0.43931721, -0.29521675, -0.02548683, -0.51998724,\n",
       "       -0.11277446, -0.35689889,  0.15514669, -0.08563944, -0.38233873,\n",
       "       -0.53868693, -0.47204455, -0.70673965, -0.08732525, -0.44651524,\n",
       "        1.76535144, -0.22267168,  0.24075132,  0.20281138,  0.61392392,\n",
       "        1.00365512, -0.62991317, -0.15444412, -0.6468443 ,  1.09540602,\n",
       "       -0.10047961, -0.72121995, -0.32007489,  0.8082974 ,  0.0588732 ,\n",
       "       -0.53712241, -0.20948414, -0.20871907, -0.35078233, -0.42115974,\n",
       "       -0.47601171, -0.01964484, -0.0784595 , -0.1546583 ,  0.46346875])"
      ]
     },
     "execution_count": 37,
     "metadata": {},
     "output_type": "execute_result"
    }
   ],
   "source": [
    "Actualstest = pd.Series.to_numpy(dftest['electricity'])\n",
    "Actualstest"
   ]
  },
  {
   "cell_type": "code",
   "execution_count": 38,
   "metadata": {},
   "outputs": [
    {
     "data": {
      "text/plain": [
       "0.44697815595926715"
      ]
     },
     "execution_count": 38,
     "metadata": {},
     "output_type": "execute_result"
    }
   ],
   "source": [
    "msetest = mean_squared_error(Actualstest, forecasttest)\n",
    "msetest"
   ]
  },
  {
   "cell_type": "code",
   "execution_count": 39,
   "metadata": {},
   "outputs": [
    {
     "name": "stdout",
     "output_type": "stream",
     "text": [
      "RMSE: 0.668564\n"
     ]
    }
   ],
   "source": [
    "rmse = math.sqrt(msetest)\n",
    "print('RMSE: %f' % rmse)"
   ]
  },
  {
   "cell_type": "code",
   "execution_count": 52,
   "metadata": {},
   "outputs": [
    {
     "data": {
      "text/plain": [
       "8.534984766097647"
      ]
     },
     "execution_count": 52,
     "metadata": {},
     "output_type": "execute_result"
    }
   ],
   "source": [
    "mse = mean_squared_error(Actuals, forecast)\n",
    "mse"
   ]
  },
  {
   "cell_type": "code",
   "execution_count": 53,
   "metadata": {},
   "outputs": [
    {
     "name": "stdout",
     "output_type": "stream",
     "text": [
      "RMSE: 2.921470\n"
     ]
    }
   ],
   "source": [
    "rmse = math.sqrt(mse)\n",
    "print('RMSE: %f' % rmse)"
   ]
  }
 ],
 "metadata": {
  "interpreter": {
   "hash": "91ec43aa1f0db36d96140b828b08e86586f62f08ccada0f9bf3c6347196c39a6"
  },
  "kernelspec": {
   "display_name": "Python 3 (ipykernel)",
   "language": "python",
   "name": "python3"
  },
  "language_info": {
   "codemirror_mode": {
    "name": "ipython",
    "version": 3
   },
   "file_extension": ".py",
   "mimetype": "text/x-python",
   "name": "python",
   "nbconvert_exporter": "python",
   "pygments_lexer": "ipython3",
   "version": "3.9.7"
  }
 },
 "nbformat": 4,
 "nbformat_minor": 2
}
