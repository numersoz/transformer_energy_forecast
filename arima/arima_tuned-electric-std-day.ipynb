{
 "cells": [
  {
   "cell_type": "code",
   "execution_count": 1,
   "metadata": {},
   "outputs": [],
   "source": [
    "import os\n",
    "import random\n",
    "import math\n",
    "from sklearn.metrics import mean_squared_error\n",
    "import numpy as np\n",
    "from matplotlib import pyplot as plt\n",
    "import pandas as pd\n",
    "import seaborn as sn\n",
    "from sklearn.decomposition import PCA\n",
    "from sklearn.preprocessing import MinMaxScaler, StandardScaler\n",
    "import pmdarima as pm \n",
    "from sklearn.model_selection import train_test_split\n",
    "from pmdarima.pipeline import Pipeline"
   ]
  },
  {
   "cell_type": "code",
   "execution_count": 2,
   "metadata": {},
   "outputs": [
    {
     "data": {
      "text/plain": [
       "'C:\\\\Users\\\\niles\\\\project\\\\project_work\\\\notebooks'"
      ]
     },
     "execution_count": 2,
     "metadata": {},
     "output_type": "execute_result"
    }
   ],
   "source": [
    "os.getcwd()"
   ]
  },
  {
   "cell_type": "code",
   "execution_count": 3,
   "metadata": {},
   "outputs": [],
   "source": [
    "# Read data:\n",
    "#os.chdir(\"..\")\n",
    "df = pd.read_csv(\"data.csv\")"
   ]
  },
  {
   "cell_type": "code",
   "execution_count": 4,
   "metadata": {},
   "outputs": [
    {
     "data": {
      "text/html": [
       "<div>\n",
       "<style scoped>\n",
       "    .dataframe tbody tr th:only-of-type {\n",
       "        vertical-align: middle;\n",
       "    }\n",
       "\n",
       "    .dataframe tbody tr th {\n",
       "        vertical-align: top;\n",
       "    }\n",
       "\n",
       "    .dataframe thead th {\n",
       "        text-align: right;\n",
       "    }\n",
       "</style>\n",
       "<table border=\"1\" class=\"dataframe\">\n",
       "  <thead>\n",
       "    <tr style=\"text-align: right;\">\n",
       "      <th></th>\n",
       "      <th>Time</th>\n",
       "      <th>air_pressure[mmHg]</th>\n",
       "      <th>air_temperature[degree celcius]</th>\n",
       "      <th>relative_humidity[%]</th>\n",
       "      <th>wind_speed[M/S]</th>\n",
       "      <th>solar_irridiation[W/m²]</th>\n",
       "      <th>total_cloud_cover[from ten]</th>\n",
       "      <th>electricity_demand_values[kw]</th>\n",
       "      <th>heat_demand_values[kw]</th>\n",
       "    </tr>\n",
       "  </thead>\n",
       "  <tbody>\n",
       "    <tr>\n",
       "      <th>0</th>\n",
       "      <td>2010-12-01 00:00:00</td>\n",
       "      <td>729.7</td>\n",
       "      <td>25.0</td>\n",
       "      <td>85.0</td>\n",
       "      <td>5.0</td>\n",
       "      <td>0</td>\n",
       "      <td>no clouds</td>\n",
       "      <td>289.567557</td>\n",
       "      <td>432.940036</td>\n",
       "    </tr>\n",
       "    <tr>\n",
       "      <th>1</th>\n",
       "      <td>2010-12-01 01:00:00</td>\n",
       "      <td>729.4</td>\n",
       "      <td>27.8</td>\n",
       "      <td>77.0</td>\n",
       "      <td>7.0</td>\n",
       "      <td>0</td>\n",
       "      <td>no clouds</td>\n",
       "      <td>260.168520</td>\n",
       "      <td>473.935901</td>\n",
       "    </tr>\n",
       "    <tr>\n",
       "      <th>2</th>\n",
       "      <td>2010-12-01 02:00:00</td>\n",
       "      <td>728.9</td>\n",
       "      <td>33.3</td>\n",
       "      <td>62.0</td>\n",
       "      <td>7.0</td>\n",
       "      <td>0</td>\n",
       "      <td>2/10–3/10.</td>\n",
       "      <td>247.273585</td>\n",
       "      <td>483.278761</td>\n",
       "    </tr>\n",
       "    <tr>\n",
       "      <th>3</th>\n",
       "      <td>2010-12-01 03:00:00</td>\n",
       "      <td>731.6</td>\n",
       "      <td>32.2</td>\n",
       "      <td>62.0</td>\n",
       "      <td>2.0</td>\n",
       "      <td>0</td>\n",
       "      <td>5/10.</td>\n",
       "      <td>257.955878</td>\n",
       "      <td>545.921252</td>\n",
       "    </tr>\n",
       "    <tr>\n",
       "      <th>4</th>\n",
       "      <td>2010-12-01 04:00:00</td>\n",
       "      <td>732.6</td>\n",
       "      <td>22.8</td>\n",
       "      <td>96.0</td>\n",
       "      <td>3.0</td>\n",
       "      <td>0</td>\n",
       "      <td>2/10–3/10.</td>\n",
       "      <td>258.255081</td>\n",
       "      <td>550.526112</td>\n",
       "    </tr>\n",
       "  </tbody>\n",
       "</table>\n",
       "</div>"
      ],
      "text/plain": [
       "                  Time  air_pressure[mmHg]  air_temperature[degree celcius]  \\\n",
       "0  2010-12-01 00:00:00               729.7                             25.0   \n",
       "1  2010-12-01 01:00:00               729.4                             27.8   \n",
       "2  2010-12-01 02:00:00               728.9                             33.3   \n",
       "3  2010-12-01 03:00:00               731.6                             32.2   \n",
       "4  2010-12-01 04:00:00               732.6                             22.8   \n",
       "\n",
       "   relative_humidity[%]  wind_speed[M/S]  solar_irridiation[W/m²]  \\\n",
       "0                  85.0              5.0                        0   \n",
       "1                  77.0              7.0                        0   \n",
       "2                  62.0              7.0                        0   \n",
       "3                  62.0              2.0                        0   \n",
       "4                  96.0              3.0                        0   \n",
       "\n",
       "  total_cloud_cover[from ten]  electricity_demand_values[kw]  \\\n",
       "0                   no clouds                     289.567557   \n",
       "1                   no clouds                     260.168520   \n",
       "2                  2/10–3/10.                     247.273585   \n",
       "3                       5/10.                     257.955878   \n",
       "4                  2/10–3/10.                     258.255081   \n",
       "\n",
       "   heat_demand_values[kw]  \n",
       "0              432.940036  \n",
       "1              473.935901  \n",
       "2              483.278761  \n",
       "3              545.921252  \n",
       "4              550.526112  "
      ]
     },
     "execution_count": 4,
     "metadata": {},
     "output_type": "execute_result"
    }
   ],
   "source": [
    "df.head()"
   ]
  },
  {
   "cell_type": "code",
   "execution_count": 5,
   "metadata": {},
   "outputs": [
    {
     "data": {
      "text/plain": [
       "70080"
      ]
     },
     "execution_count": 5,
     "metadata": {},
     "output_type": "execute_result"
    }
   ],
   "source": [
    "len(df)"
   ]
  },
  {
   "cell_type": "code",
   "execution_count": 6,
   "metadata": {},
   "outputs": [],
   "source": [
    "df = df.dropna()"
   ]
  },
  {
   "cell_type": "code",
   "execution_count": 7,
   "metadata": {},
   "outputs": [
    {
     "data": {
      "text/plain": [
       "68792"
      ]
     },
     "execution_count": 7,
     "metadata": {},
     "output_type": "execute_result"
    }
   ],
   "source": [
    "len(df)"
   ]
  },
  {
   "cell_type": "code",
   "execution_count": 8,
   "metadata": {},
   "outputs": [],
   "source": [
    "# Rename Columns:\n",
    "col_mapping = {\"Time\": \"date\",\n",
    "            \"air_pressure[mmHg]\": \"air_pressure\",\n",
    "            \"air_temperature[degree celcius]\": \"air_temperature\",\n",
    "            \"relative_humidity[%]\": \"relative_humidity\",\n",
    "            \"wind_speed[M/S]\": \"wind_speed\",\n",
    "            \"solar_irridiation[W/m²]\": \"solar_irridiation\",\n",
    "            \"total_cloud_cover[from ten]\": \"total_cloud_cover\",\n",
    "            \"electricity_demand_values[kw]\": \"electricity\",\n",
    "            \"heat_demand_values[kw]\": \"heat\"}\n",
    "df = df.rename(columns = col_mapping)"
   ]
  },
  {
   "cell_type": "code",
   "execution_count": 9,
   "metadata": {},
   "outputs": [
    {
     "data": {
      "text/html": [
       "<div>\n",
       "<style scoped>\n",
       "    .dataframe tbody tr th:only-of-type {\n",
       "        vertical-align: middle;\n",
       "    }\n",
       "\n",
       "    .dataframe tbody tr th {\n",
       "        vertical-align: top;\n",
       "    }\n",
       "\n",
       "    .dataframe thead th {\n",
       "        text-align: right;\n",
       "    }\n",
       "</style>\n",
       "<table border=\"1\" class=\"dataframe\">\n",
       "  <thead>\n",
       "    <tr style=\"text-align: right;\">\n",
       "      <th></th>\n",
       "      <th>date</th>\n",
       "      <th>air_pressure</th>\n",
       "      <th>air_temperature</th>\n",
       "      <th>relative_humidity</th>\n",
       "      <th>wind_speed</th>\n",
       "      <th>solar_irridiation</th>\n",
       "      <th>total_cloud_cover</th>\n",
       "      <th>electricity</th>\n",
       "      <th>heat</th>\n",
       "    </tr>\n",
       "  </thead>\n",
       "  <tbody>\n",
       "    <tr>\n",
       "      <th>0</th>\n",
       "      <td>2010-12-01 00:00:00</td>\n",
       "      <td>729.7</td>\n",
       "      <td>25.0</td>\n",
       "      <td>85.0</td>\n",
       "      <td>5.0</td>\n",
       "      <td>0</td>\n",
       "      <td>no clouds</td>\n",
       "      <td>289.567557</td>\n",
       "      <td>432.940036</td>\n",
       "    </tr>\n",
       "    <tr>\n",
       "      <th>1</th>\n",
       "      <td>2010-12-01 01:00:00</td>\n",
       "      <td>729.4</td>\n",
       "      <td>27.8</td>\n",
       "      <td>77.0</td>\n",
       "      <td>7.0</td>\n",
       "      <td>0</td>\n",
       "      <td>no clouds</td>\n",
       "      <td>260.168520</td>\n",
       "      <td>473.935901</td>\n",
       "    </tr>\n",
       "    <tr>\n",
       "      <th>2</th>\n",
       "      <td>2010-12-01 02:00:00</td>\n",
       "      <td>728.9</td>\n",
       "      <td>33.3</td>\n",
       "      <td>62.0</td>\n",
       "      <td>7.0</td>\n",
       "      <td>0</td>\n",
       "      <td>2/10–3/10.</td>\n",
       "      <td>247.273585</td>\n",
       "      <td>483.278761</td>\n",
       "    </tr>\n",
       "    <tr>\n",
       "      <th>3</th>\n",
       "      <td>2010-12-01 03:00:00</td>\n",
       "      <td>731.6</td>\n",
       "      <td>32.2</td>\n",
       "      <td>62.0</td>\n",
       "      <td>2.0</td>\n",
       "      <td>0</td>\n",
       "      <td>5/10.</td>\n",
       "      <td>257.955878</td>\n",
       "      <td>545.921252</td>\n",
       "    </tr>\n",
       "    <tr>\n",
       "      <th>4</th>\n",
       "      <td>2010-12-01 04:00:00</td>\n",
       "      <td>732.6</td>\n",
       "      <td>22.8</td>\n",
       "      <td>96.0</td>\n",
       "      <td>3.0</td>\n",
       "      <td>0</td>\n",
       "      <td>2/10–3/10.</td>\n",
       "      <td>258.255081</td>\n",
       "      <td>550.526112</td>\n",
       "    </tr>\n",
       "  </tbody>\n",
       "</table>\n",
       "</div>"
      ],
      "text/plain": [
       "                 date  air_pressure  air_temperature  relative_humidity  \\\n",
       "0 2010-12-01 00:00:00         729.7             25.0               85.0   \n",
       "1 2010-12-01 01:00:00         729.4             27.8               77.0   \n",
       "2 2010-12-01 02:00:00         728.9             33.3               62.0   \n",
       "3 2010-12-01 03:00:00         731.6             32.2               62.0   \n",
       "4 2010-12-01 04:00:00         732.6             22.8               96.0   \n",
       "\n",
       "   wind_speed  solar_irridiation total_cloud_cover  electricity        heat  \n",
       "0         5.0                  0         no clouds   289.567557  432.940036  \n",
       "1         7.0                  0         no clouds   260.168520  473.935901  \n",
       "2         7.0                  0        2/10–3/10.   247.273585  483.278761  \n",
       "3         2.0                  0             5/10.   257.955878  545.921252  \n",
       "4         3.0                  0        2/10–3/10.   258.255081  550.526112  "
      ]
     },
     "execution_count": 9,
     "metadata": {},
     "output_type": "execute_result"
    }
   ],
   "source": [
    "# Change ts to datetime and set as index:\n",
    "df[\"date\"] = pd.to_datetime(df[\"date\"],format='%Y-%m-%d')\n",
    "df.head()"
   ]
  },
  {
   "cell_type": "code",
   "execution_count": 10,
   "metadata": {},
   "outputs": [
    {
     "data": {
      "text/plain": [
       "68792"
      ]
     },
     "execution_count": 10,
     "metadata": {},
     "output_type": "execute_result"
    }
   ],
   "source": [
    "len(df)"
   ]
  },
  {
   "cell_type": "code",
   "execution_count": 11,
   "metadata": {},
   "outputs": [
    {
     "data": {
      "text/html": [
       "<div>\n",
       "<style scoped>\n",
       "    .dataframe tbody tr th:only-of-type {\n",
       "        vertical-align: middle;\n",
       "    }\n",
       "\n",
       "    .dataframe tbody tr th {\n",
       "        vertical-align: top;\n",
       "    }\n",
       "\n",
       "    .dataframe thead th {\n",
       "        text-align: right;\n",
       "    }\n",
       "</style>\n",
       "<table border=\"1\" class=\"dataframe\">\n",
       "  <thead>\n",
       "    <tr style=\"text-align: right;\">\n",
       "      <th></th>\n",
       "      <th>date</th>\n",
       "      <th>air_pressure</th>\n",
       "      <th>air_temperature</th>\n",
       "      <th>relative_humidity</th>\n",
       "      <th>wind_speed</th>\n",
       "      <th>solar_irridiation</th>\n",
       "      <th>total_cloud_cover</th>\n",
       "      <th>electricity</th>\n",
       "      <th>heat</th>\n",
       "    </tr>\n",
       "  </thead>\n",
       "  <tbody>\n",
       "    <tr>\n",
       "      <th>0</th>\n",
       "      <td>2010-12-01 00:00:00</td>\n",
       "      <td>729.7</td>\n",
       "      <td>25.0</td>\n",
       "      <td>85.0</td>\n",
       "      <td>5.0</td>\n",
       "      <td>0</td>\n",
       "      <td>no clouds</td>\n",
       "      <td>289.567557</td>\n",
       "      <td>432.940036</td>\n",
       "    </tr>\n",
       "    <tr>\n",
       "      <th>1</th>\n",
       "      <td>2010-12-01 01:00:00</td>\n",
       "      <td>729.4</td>\n",
       "      <td>27.8</td>\n",
       "      <td>77.0</td>\n",
       "      <td>7.0</td>\n",
       "      <td>0</td>\n",
       "      <td>no clouds</td>\n",
       "      <td>260.168520</td>\n",
       "      <td>473.935901</td>\n",
       "    </tr>\n",
       "    <tr>\n",
       "      <th>2</th>\n",
       "      <td>2010-12-01 02:00:00</td>\n",
       "      <td>728.9</td>\n",
       "      <td>33.3</td>\n",
       "      <td>62.0</td>\n",
       "      <td>7.0</td>\n",
       "      <td>0</td>\n",
       "      <td>2/10–3/10.</td>\n",
       "      <td>247.273585</td>\n",
       "      <td>483.278761</td>\n",
       "    </tr>\n",
       "    <tr>\n",
       "      <th>3</th>\n",
       "      <td>2010-12-01 03:00:00</td>\n",
       "      <td>731.6</td>\n",
       "      <td>32.2</td>\n",
       "      <td>62.0</td>\n",
       "      <td>2.0</td>\n",
       "      <td>0</td>\n",
       "      <td>5/10.</td>\n",
       "      <td>257.955878</td>\n",
       "      <td>545.921252</td>\n",
       "    </tr>\n",
       "    <tr>\n",
       "      <th>4</th>\n",
       "      <td>2010-12-01 04:00:00</td>\n",
       "      <td>732.6</td>\n",
       "      <td>22.8</td>\n",
       "      <td>96.0</td>\n",
       "      <td>3.0</td>\n",
       "      <td>0</td>\n",
       "      <td>2/10–3/10.</td>\n",
       "      <td>258.255081</td>\n",
       "      <td>550.526112</td>\n",
       "    </tr>\n",
       "  </tbody>\n",
       "</table>\n",
       "</div>"
      ],
      "text/plain": [
       "                 date  air_pressure  air_temperature  relative_humidity  \\\n",
       "0 2010-12-01 00:00:00         729.7             25.0               85.0   \n",
       "1 2010-12-01 01:00:00         729.4             27.8               77.0   \n",
       "2 2010-12-01 02:00:00         728.9             33.3               62.0   \n",
       "3 2010-12-01 03:00:00         731.6             32.2               62.0   \n",
       "4 2010-12-01 04:00:00         732.6             22.8               96.0   \n",
       "\n",
       "   wind_speed  solar_irridiation total_cloud_cover  electricity        heat  \n",
       "0         5.0                  0         no clouds   289.567557  432.940036  \n",
       "1         7.0                  0         no clouds   260.168520  473.935901  \n",
       "2         7.0                  0        2/10–3/10.   247.273585  483.278761  \n",
       "3         2.0                  0             5/10.   257.955878  545.921252  \n",
       "4         3.0                  0        2/10–3/10.   258.255081  550.526112  "
      ]
     },
     "execution_count": 11,
     "metadata": {},
     "output_type": "execute_result"
    }
   ],
   "source": [
    "df.head()"
   ]
  },
  {
   "cell_type": "code",
   "execution_count": 12,
   "metadata": {},
   "outputs": [],
   "source": [
    "df1 = df[[\"date\",'electricity']]"
   ]
  },
  {
   "cell_type": "code",
   "execution_count": 13,
   "metadata": {},
   "outputs": [
    {
     "data": {
      "text/html": [
       "<div>\n",
       "<style scoped>\n",
       "    .dataframe tbody tr th:only-of-type {\n",
       "        vertical-align: middle;\n",
       "    }\n",
       "\n",
       "    .dataframe tbody tr th {\n",
       "        vertical-align: top;\n",
       "    }\n",
       "\n",
       "    .dataframe thead th {\n",
       "        text-align: right;\n",
       "    }\n",
       "</style>\n",
       "<table border=\"1\" class=\"dataframe\">\n",
       "  <thead>\n",
       "    <tr style=\"text-align: right;\">\n",
       "      <th></th>\n",
       "      <th>electricity</th>\n",
       "    </tr>\n",
       "    <tr>\n",
       "      <th>date</th>\n",
       "      <th></th>\n",
       "    </tr>\n",
       "  </thead>\n",
       "  <tbody>\n",
       "    <tr>\n",
       "      <th>2010-12-01 00:00:00</th>\n",
       "      <td>289.567557</td>\n",
       "    </tr>\n",
       "    <tr>\n",
       "      <th>2010-12-01 01:00:00</th>\n",
       "      <td>260.168520</td>\n",
       "    </tr>\n",
       "    <tr>\n",
       "      <th>2010-12-01 02:00:00</th>\n",
       "      <td>247.273585</td>\n",
       "    </tr>\n",
       "    <tr>\n",
       "      <th>2010-12-01 03:00:00</th>\n",
       "      <td>257.955878</td>\n",
       "    </tr>\n",
       "    <tr>\n",
       "      <th>2010-12-01 04:00:00</th>\n",
       "      <td>258.255081</td>\n",
       "    </tr>\n",
       "  </tbody>\n",
       "</table>\n",
       "</div>"
      ],
      "text/plain": [
       "                     electricity\n",
       "date                            \n",
       "2010-12-01 00:00:00   289.567557\n",
       "2010-12-01 01:00:00   260.168520\n",
       "2010-12-01 02:00:00   247.273585\n",
       "2010-12-01 03:00:00   257.955878\n",
       "2010-12-01 04:00:00   258.255081"
      ]
     },
     "execution_count": 13,
     "metadata": {},
     "output_type": "execute_result"
    }
   ],
   "source": [
    "df1 = df1.set_index(\"date\")\n",
    "df1.head()"
   ]
  },
  {
   "cell_type": "code",
   "execution_count": 14,
   "metadata": {},
   "outputs": [],
   "source": [
    "x = df1['electricity'].values.reshape(-1, 1) #returns a numpy array\n",
    "min_max_scaler = StandardScaler()\n",
    "x_scaled = min_max_scaler.fit_transform(x)\n",
    "df1['electricity'] = x_scaled"
   ]
  },
  {
   "cell_type": "code",
   "execution_count": 15,
   "metadata": {},
   "outputs": [
    {
     "data": {
      "text/html": [
       "<div>\n",
       "<style scoped>\n",
       "    .dataframe tbody tr th:only-of-type {\n",
       "        vertical-align: middle;\n",
       "    }\n",
       "\n",
       "    .dataframe tbody tr th {\n",
       "        vertical-align: top;\n",
       "    }\n",
       "\n",
       "    .dataframe thead th {\n",
       "        text-align: right;\n",
       "    }\n",
       "</style>\n",
       "<table border=\"1\" class=\"dataframe\">\n",
       "  <thead>\n",
       "    <tr style=\"text-align: right;\">\n",
       "      <th></th>\n",
       "      <th>electricity</th>\n",
       "    </tr>\n",
       "    <tr>\n",
       "      <th>date</th>\n",
       "      <th></th>\n",
       "    </tr>\n",
       "  </thead>\n",
       "  <tbody>\n",
       "    <tr>\n",
       "      <th>2010-12-01 00:00:00</th>\n",
       "      <td>-0.437728</td>\n",
       "    </tr>\n",
       "    <tr>\n",
       "      <th>2010-12-01 01:00:00</th>\n",
       "      <td>-0.560519</td>\n",
       "    </tr>\n",
       "    <tr>\n",
       "      <th>2010-12-01 02:00:00</th>\n",
       "      <td>-0.614377</td>\n",
       "    </tr>\n",
       "    <tr>\n",
       "      <th>2010-12-01 03:00:00</th>\n",
       "      <td>-0.569760</td>\n",
       "    </tr>\n",
       "    <tr>\n",
       "      <th>2010-12-01 04:00:00</th>\n",
       "      <td>-0.568511</td>\n",
       "    </tr>\n",
       "  </tbody>\n",
       "</table>\n",
       "</div>"
      ],
      "text/plain": [
       "                     electricity\n",
       "date                            \n",
       "2010-12-01 00:00:00    -0.437728\n",
       "2010-12-01 01:00:00    -0.560519\n",
       "2010-12-01 02:00:00    -0.614377\n",
       "2010-12-01 03:00:00    -0.569760\n",
       "2010-12-01 04:00:00    -0.568511"
      ]
     },
     "execution_count": 15,
     "metadata": {},
     "output_type": "execute_result"
    }
   ],
   "source": [
    "df1.head()"
   ]
  },
  {
   "cell_type": "code",
   "execution_count": 16,
   "metadata": {},
   "outputs": [
    {
     "data": {
      "text/html": [
       "<div>\n",
       "<style scoped>\n",
       "    .dataframe tbody tr th:only-of-type {\n",
       "        vertical-align: middle;\n",
       "    }\n",
       "\n",
       "    .dataframe tbody tr th {\n",
       "        vertical-align: top;\n",
       "    }\n",
       "\n",
       "    .dataframe thead th {\n",
       "        text-align: right;\n",
       "    }\n",
       "</style>\n",
       "<table border=\"1\" class=\"dataframe\">\n",
       "  <thead>\n",
       "    <tr style=\"text-align: right;\">\n",
       "      <th></th>\n",
       "      <th>electricity</th>\n",
       "    </tr>\n",
       "    <tr>\n",
       "      <th>date</th>\n",
       "      <th></th>\n",
       "    </tr>\n",
       "  </thead>\n",
       "  <tbody>\n",
       "    <tr>\n",
       "      <th>2010-12-01</th>\n",
       "      <td>-0.159240</td>\n",
       "    </tr>\n",
       "    <tr>\n",
       "      <th>2010-12-02</th>\n",
       "      <td>-0.270442</td>\n",
       "    </tr>\n",
       "    <tr>\n",
       "      <th>2010-12-03</th>\n",
       "      <td>-0.122860</td>\n",
       "    </tr>\n",
       "    <tr>\n",
       "      <th>2010-12-04</th>\n",
       "      <td>0.095403</td>\n",
       "    </tr>\n",
       "    <tr>\n",
       "      <th>2010-12-05</th>\n",
       "      <td>0.213953</td>\n",
       "    </tr>\n",
       "  </tbody>\n",
       "</table>\n",
       "</div>"
      ],
      "text/plain": [
       "            electricity\n",
       "date                   \n",
       "2010-12-01    -0.159240\n",
       "2010-12-02    -0.270442\n",
       "2010-12-03    -0.122860\n",
       "2010-12-04     0.095403\n",
       "2010-12-05     0.213953"
      ]
     },
     "execution_count": 16,
     "metadata": {},
     "output_type": "execute_result"
    }
   ],
   "source": [
    "davg_df = df1.groupby(pd.Grouper(freq='D')).mean()\n",
    "davg_df.head()"
   ]
  },
  {
   "cell_type": "code",
   "execution_count": 17,
   "metadata": {},
   "outputs": [
    {
     "data": {
      "text/plain": [
       "2920"
      ]
     },
     "execution_count": 17,
     "metadata": {},
     "output_type": "execute_result"
    }
   ],
   "source": [
    "len(davg_df)"
   ]
  },
  {
   "cell_type": "code",
   "execution_count": 18,
   "metadata": {},
   "outputs": [],
   "source": [
    "dftrain, dftest = train_test_split(davg_df, test_size=0.01)"
   ]
  },
  {
   "cell_type": "code",
   "execution_count": 19,
   "metadata": {},
   "outputs": [
    {
     "data": {
      "text/plain": [
       "30"
      ]
     },
     "execution_count": 19,
     "metadata": {},
     "output_type": "execute_result"
    }
   ],
   "source": [
    "len(dftest)"
   ]
  },
  {
   "cell_type": "code",
   "execution_count": 20,
   "metadata": {},
   "outputs": [],
   "source": [
    "dftrain, dfvali = train_test_split(dftrain, test_size=0.2)"
   ]
  },
  {
   "cell_type": "code",
   "execution_count": 21,
   "metadata": {},
   "outputs": [
    {
     "data": {
      "text/plain": [
       "2312"
      ]
     },
     "execution_count": 21,
     "metadata": {},
     "output_type": "execute_result"
    }
   ],
   "source": [
    "len(dftrain)"
   ]
  },
  {
   "cell_type": "code",
   "execution_count": 22,
   "metadata": {},
   "outputs": [
    {
     "data": {
      "text/plain": [
       "578"
      ]
     },
     "execution_count": 22,
     "metadata": {},
     "output_type": "execute_result"
    }
   ],
   "source": [
    "len(dfvali)"
   ]
  },
  {
   "cell_type": "code",
   "execution_count": 23,
   "metadata": {},
   "outputs": [],
   "source": [
    "# best\n",
    "random.seed(0)"
   ]
  },
  {
   "cell_type": "code",
   "execution_count": 25,
   "metadata": {},
   "outputs": [
    {
     "name": "stdout",
     "output_type": "stream",
     "text": [
      " ARIMA(0,1,0)(0,1,0)[7]             : AIC=7095.479, Time=0.05 sec\n",
      " ARIMA(0,1,0)(0,1,1)[7]             : AIC=inf, Time=0.79 sec\n",
      " ARIMA(0,1,0)(0,1,2)[7]             : AIC=inf, Time=1.73 sec\n",
      " ARIMA(0,1,0)(1,1,0)[7]             : AIC=6408.852, Time=0.12 sec\n",
      " ARIMA(0,1,0)(1,1,1)[7]             : AIC=inf, Time=1.52 sec\n",
      " ARIMA(0,1,0)(1,1,2)[7]             : AIC=inf, Time=1.81 sec\n",
      " ARIMA(0,1,0)(2,1,0)[7]             : AIC=6191.079, Time=0.21 sec\n",
      " ARIMA(0,1,0)(2,1,1)[7]             : AIC=inf, Time=2.19 sec\n",
      " ARIMA(0,1,0)(2,1,2)[7]             : AIC=inf, Time=2.47 sec\n",
      " ARIMA(0,1,1)(0,1,0)[7]             : AIC=inf, Time=0.38 sec\n",
      " ARIMA(0,1,1)(0,1,1)[7]             : AIC=inf, Time=2.12 sec\n",
      " ARIMA(0,1,1)(0,1,2)[7]             : AIC=inf, Time=1.98 sec\n",
      " ARIMA(0,1,1)(1,1,0)[7]             : AIC=inf, Time=0.96 sec\n",
      " ARIMA(0,1,1)(1,1,1)[7]             : AIC=inf, Time=1.15 sec\n",
      " ARIMA(0,1,1)(1,1,2)[7]             : AIC=inf, Time=2.00 sec\n",
      " ARIMA(0,1,1)(2,1,0)[7]             : AIC=inf, Time=3.26 sec\n",
      " ARIMA(0,1,1)(2,1,1)[7]             : AIC=inf, Time=3.78 sec\n",
      " ARIMA(0,1,1)(2,1,2)[7]             : AIC=inf, Time=2.77 sec\n",
      " ARIMA(0,1,2)(0,1,0)[7]             : AIC=inf, Time=0.94 sec\n",
      " ARIMA(0,1,2)(0,1,1)[7]             : AIC=inf, Time=1.32 sec\n",
      " ARIMA(0,1,2)(0,1,2)[7]             : AIC=inf, Time=3.51 sec\n",
      " ARIMA(0,1,2)(1,1,0)[7]             : AIC=inf, Time=1.25 sec\n",
      " ARIMA(0,1,2)(1,1,1)[7]             : AIC=inf, Time=1.50 sec\n",
      " ARIMA(0,1,2)(1,1,2)[7]             : AIC=inf, Time=3.25 sec\n",
      " ARIMA(0,1,2)(2,1,0)[7]             : AIC=inf, Time=2.70 sec\n",
      " ARIMA(0,1,2)(2,1,1)[7]             : AIC=inf, Time=3.01 sec\n",
      " ARIMA(0,1,3)(0,1,0)[7]             : AIC=inf, Time=1.27 sec\n",
      " ARIMA(0,1,3)(0,1,1)[7]             : AIC=inf, Time=1.74 sec\n",
      " ARIMA(0,1,3)(0,1,2)[7]             : AIC=inf, Time=4.29 sec\n",
      " ARIMA(0,1,3)(1,1,0)[7]             : AIC=inf, Time=1.91 sec\n",
      " ARIMA(0,1,3)(1,1,1)[7]             : AIC=inf, Time=2.58 sec\n",
      " ARIMA(0,1,3)(2,1,0)[7]             : AIC=inf, Time=3.17 sec\n",
      " ARIMA(1,1,0)(0,1,0)[7]             : AIC=6524.966, Time=0.07 sec\n",
      " ARIMA(1,1,0)(0,1,1)[7]             : AIC=inf, Time=0.83 sec\n",
      " ARIMA(1,1,0)(0,1,2)[7]             : AIC=inf, Time=3.33 sec\n",
      " ARIMA(1,1,0)(1,1,0)[7]             : AIC=5769.693, Time=0.28 sec\n",
      " ARIMA(1,1,0)(1,1,1)[7]             : AIC=inf, Time=1.72 sec\n",
      " ARIMA(1,1,0)(1,1,2)[7]             : AIC=inf, Time=3.43 sec\n",
      " ARIMA(1,1,0)(2,1,0)[7]             : AIC=5554.152, Time=0.41 sec\n",
      " ARIMA(1,1,0)(2,1,1)[7]             : AIC=inf, Time=3.67 sec\n",
      " ARIMA(1,1,0)(2,1,2)[7]             : AIC=inf, Time=5.84 sec\n",
      " ARIMA(1,1,1)(0,1,0)[7]             : AIC=inf, Time=0.56 sec\n",
      " ARIMA(1,1,1)(0,1,1)[7]             : AIC=inf, Time=1.47 sec\n",
      " ARIMA(1,1,1)(0,1,2)[7]             : AIC=inf, Time=2.23 sec\n",
      " ARIMA(1,1,1)(1,1,0)[7]             : AIC=inf, Time=1.29 sec\n",
      " ARIMA(1,1,1)(1,1,1)[7]             : AIC=inf, Time=1.69 sec\n",
      " ARIMA(1,1,1)(1,1,2)[7]             : AIC=inf, Time=3.37 sec\n",
      " ARIMA(1,1,1)(2,1,0)[7]             : AIC=inf, Time=2.99 sec\n",
      " ARIMA(1,1,1)(2,1,1)[7]             : AIC=inf, Time=3.62 sec\n",
      " ARIMA(1,1,2)(0,1,0)[7]             : AIC=inf, Time=1.58 sec\n",
      " ARIMA(1,1,2)(0,1,1)[7]             : AIC=inf, Time=4.73 sec\n",
      " ARIMA(1,1,2)(0,1,2)[7]             : AIC=inf, Time=6.48 sec\n",
      " ARIMA(1,1,2)(1,1,0)[7]             : AIC=inf, Time=1.17 sec\n",
      " ARIMA(1,1,2)(1,1,1)[7]             : AIC=inf, Time=3.49 sec\n",
      " ARIMA(1,1,2)(2,1,0)[7]             : AIC=inf, Time=2.39 sec\n",
      " ARIMA(1,1,3)(0,1,0)[7]             : AIC=inf, Time=1.29 sec\n",
      " ARIMA(1,1,3)(0,1,1)[7]             : AIC=inf, Time=2.28 sec\n",
      " ARIMA(1,1,3)(1,1,0)[7]             : AIC=inf, Time=1.27 sec\n",
      " ARIMA(2,1,0)(0,1,0)[7]             : AIC=6207.122, Time=0.11 sec\n",
      " ARIMA(2,1,0)(0,1,1)[7]             : AIC=inf, Time=1.73 sec\n",
      " ARIMA(2,1,0)(0,1,2)[7]             : AIC=inf, Time=3.45 sec\n",
      " ARIMA(2,1,0)(1,1,0)[7]             : AIC=5475.204, Time=0.43 sec\n",
      " ARIMA(2,1,0)(1,1,1)[7]             : AIC=inf, Time=2.57 sec\n",
      " ARIMA(2,1,0)(1,1,2)[7]             : AIC=inf, Time=2.65 sec\n",
      " ARIMA(2,1,0)(2,1,0)[7]             : AIC=5268.651, Time=0.49 sec\n",
      " ARIMA(2,1,0)(2,1,1)[7]             : AIC=inf, Time=3.69 sec\n",
      " ARIMA(2,1,1)(0,1,0)[7]             : AIC=inf, Time=1.06 sec\n",
      " ARIMA(2,1,1)(0,1,1)[7]             : AIC=inf, Time=1.45 sec\n",
      " ARIMA(2,1,1)(0,1,2)[7]             : AIC=inf, Time=2.34 sec\n",
      " ARIMA(2,1,1)(1,1,0)[7]             : AIC=inf, Time=2.26 sec\n",
      " ARIMA(2,1,1)(1,1,1)[7]             : AIC=inf, Time=2.43 sec\n",
      " ARIMA(2,1,1)(2,1,0)[7]             : AIC=inf, Time=3.41 sec\n",
      " ARIMA(2,1,2)(0,1,0)[7]             : AIC=inf, Time=0.93 sec\n",
      " ARIMA(2,1,2)(0,1,1)[7]             : AIC=inf, Time=3.77 sec\n",
      " ARIMA(2,1,2)(1,1,0)[7]             : AIC=inf, Time=5.43 sec\n",
      " ARIMA(2,1,3)(0,1,0)[7]             : AIC=inf, Time=2.16 sec\n",
      " ARIMA(3,1,0)(0,1,0)[7]             : AIC=6048.574, Time=0.14 sec\n",
      " ARIMA(3,1,0)(0,1,1)[7]             : AIC=inf, Time=2.05 sec\n",
      " ARIMA(3,1,0)(0,1,2)[7]             : AIC=inf, Time=3.65 sec\n",
      " ARIMA(3,1,0)(1,1,0)[7]             : AIC=5315.824, Time=0.41 sec\n",
      " ARIMA(3,1,0)(1,1,1)[7]             : AIC=inf, Time=2.84 sec\n",
      " ARIMA(3,1,0)(2,1,0)[7]             : AIC=5112.078, Time=0.65 sec\n",
      " ARIMA(3,1,1)(0,1,0)[7]             : AIC=inf, Time=1.79 sec\n",
      " ARIMA(3,1,1)(0,1,1)[7]             : AIC=inf, Time=1.97 sec\n",
      " ARIMA(3,1,1)(1,1,0)[7]             : AIC=inf, Time=2.54 sec\n",
      " ARIMA(3,1,2)(0,1,0)[7]             : AIC=inf, Time=2.01 sec\n",
      "\n",
      "Best model:  ARIMA(3,1,0)(2,1,0)[7]          \n",
      "Total fit time: 182.149 seconds\n"
     ]
    },
    {
     "data": {
      "text/plain": [
       "Pipeline(steps=[('model',\n",
       "                 AutoARIMA(D=1, d=1, error_action='ignore', m=7, max_p=3,\n",
       "                           max_q=3, stepwise=False, test='adf', trace=True))])"
      ]
     },
     "execution_count": 25,
     "metadata": {},
     "output_type": "execute_result"
    }
   ],
   "source": [
    "'''\n",
    "pipeline = Pipeline([\n",
    "    (\"model\", pm.AutoARIMA(test='adf',\n",
    "                           start_p=3, start_q=3, max_p=5, max_q=5, start_P=0, start_Q=0, max_P=5, max_Q=10, m=12, stepwise=True, seasonal=True, information_criterion='aic', trace=True, d=1, D=1, error_action='warn', \n",
    "                           suppress_warnings=True, random_state=20, n_fits=100))\n",
    "])\n",
    "'''\n",
    "pipeline = Pipeline([\n",
    "    (\"model\",pm.AutoARIMA(test='adf',\n",
    "                           max_p=3, max_q=3, m=7,\n",
    "                           start_P=1,start_Q=1, seasonal=True,\n",
    "                           d=1, D=1, trace=True,\n",
    "                           error_action='ignore',  \n",
    "                           suppress_warnings=True, \n",
    "                           stepwise=False))\n",
    "])\n",
    "pipeline.fit(dftrain)"
   ]
  },
  {
   "cell_type": "code",
   "execution_count": 47,
   "metadata": {},
   "outputs": [],
   "source": [
    "##### univariate arima model predict electricity_demand_values  \n",
    "# best\n",
    "#Arima_model=pm.auto_arima(dftrain['electricity_demand_values'],start_p=3, start_q=3, max_p=5, max_q=5, start_P=0, start_Q=0, max_P=5, max_Q=10, m=12, stepwise=True, seasonal=True, information_criterion='aic', trace=True, d=1, D=1, error_action='warn', suppress_warnings=True, random_state=20, n_fits=100)\n",
    "\n",
    "#Arima_model=pm.auto_arima(dftrain['electricity_demand_values'],start_p=3, start_q=3, max_p=5, max_q=6, start_P=0, start_Q=4, max_P=6, max_Q=10, m=12, stepwise=True, seasonal=True, information_criterion='aic', trace=True, d=1, D=1, error_action='warn', suppress_warnings=True, random_state=20, n_fits=100)\n",
    "\n",
    "#Arima_model=pm.auto_arima(dftrain['electricity_demand_values'],start_p=3, start_q=3, max_p=5, max_q=6, start_P=0, start_Q=4, max_P=6, max_Q=10, m=12, stepwise=True, seasonal=True, information_criterion='bic', trace=True, d=1, D=1, error_action='warn', suppress_warnings=True, n_fits=100)\n",
    "\n",
    "#Arima_model=pm.auto_arima(dftrain['electricity_demand_values'],start_p=3, start_q=3, max_p=5, max_q=6, start_P=1, start_Q=4, max_P=6, max_Q=10, m=12, stepwise=True, seasonal=True, information_criterion='bic', trace=True, d=1, D=1, error_action='warn', suppress_warnings=True, n_fits=100)\n"
   ]
  },
  {
   "cell_type": "code",
   "execution_count": 26,
   "metadata": {},
   "outputs": [
    {
     "name": "stderr",
     "output_type": "stream",
     "text": [
      "C:\\ProgramData\\Anaconda3\\lib\\site-packages\\pmdarima\\arima\\arima.py:692: UserWarning: As of version 1.5.0 'typ' is no longer a valid arg for predict. In future versions this will raise a TypeError.\n",
      "  warnings.warn(\"As of version 1.5.0 'typ' is no longer a valid \"\n"
     ]
    }
   ],
   "source": [
    "Sample_predictions= pipeline.predict_in_sample(exogenous=None, return_conf_int=False, alpha=0.05, inverse_transform=True)\n",
    "Actuals = pd.Series.to_numpy(dftrain['electricity'])\n",
    "Residuals = Actuals-Sample_predictions"
   ]
  },
  {
   "cell_type": "code",
   "execution_count": 27,
   "metadata": {},
   "outputs": [
    {
     "data": {
      "text/plain": [
       "array([ 0.05138618,  0.64879093, -1.12452484, ...,  0.97992427,\n",
       "       -0.31604177,  0.87151959])"
      ]
     },
     "execution_count": 27,
     "metadata": {},
     "output_type": "execute_result"
    }
   ],
   "source": [
    "Residuals"
   ]
  },
  {
   "cell_type": "code",
   "execution_count": 42,
   "metadata": {},
   "outputs": [
    {
     "data": {
      "text/plain": [
       "array([-4.06852265e-01, -1.26888254e-01, -5.80735603e-01,  6.03079647e-01,\n",
       "       -4.69535093e-01, -3.15939303e-01,  4.77078213e-02, -1.71154013e-01,\n",
       "       -1.81456278e-01, -6.19542263e-01,  3.47588582e-01, -3.44343648e-01,\n",
       "       -5.30745025e-01,  1.27170577e-01, -1.95578131e-01, -1.72049287e-01,\n",
       "       -6.07891134e-01,  2.14380022e-01, -3.54866695e-01, -5.34011647e-01,\n",
       "        6.83312334e-02, -3.13550292e-01, -2.27832906e-01, -6.69823407e-01,\n",
       "        3.14356358e-01, -4.49859826e-01, -5.34180893e-01,  1.95524026e-02,\n",
       "       -2.91707328e-01, -2.58132027e-01, -6.96607210e-01,  2.20160122e-01,\n",
       "       -4.47694430e-01, -5.98516113e-01,  4.52042690e-03, -3.37332410e-01,\n",
       "       -2.86605562e-01, -7.25663185e-01,  1.89365278e-01, -4.86703060e-01,\n",
       "       -6.20200681e-01, -3.63724243e-02, -3.78176601e-01, -3.23795275e-01,\n",
       "       -7.63488859e-01,  1.72498098e-01, -5.26265689e-01, -6.52013312e-01,\n",
       "       -6.96104221e-02, -4.02471957e-01, -3.55603566e-01, -7.94694543e-01,\n",
       "        1.27574784e-01, -5.53372234e-01, -6.89463673e-01, -1.00457670e-01,\n",
       "       -4.39404245e-01, -3.88507837e-01, -8.27821314e-01,  9.76113175e-02,\n",
       "       -5.88772126e-01, -7.20115369e-01, -1.35173740e-01, -4.72613122e-01,\n",
       "       -4.22246945e-01, -8.61586175e-01,  6.57236283e-02, -6.22196507e-01,\n",
       "       -7.53728330e-01, -1.67964857e-01, -5.04642123e-01, -4.55097771e-01,\n",
       "       -8.94354240e-01,  3.07531568e-02, -6.54528800e-01, -7.87325672e-01,\n",
       "       -2.00927671e-01, -5.38564497e-01, -4.88306681e-01, -9.27611777e-01,\n",
       "       -1.56000481e-03, -6.88182056e-01, -8.20064815e-01, -2.34338687e-01,\n",
       "       -5.71547706e-01, -5.21533115e-01, -9.60829482e-01, -3.47726427e-02,\n",
       "       -7.21258975e-01, -8.53391134e-01, -2.67395064e-01, -6.04612978e-01,\n",
       "       -5.54642595e-01, -9.93930621e-01, -6.81542909e-02, -7.54339588e-01,\n",
       "       -8.86570631e-01, -3.00560693e-01, -6.37898082e-01, -5.87826329e-01,\n",
       "       -1.02712258e+00, -1.01157309e-01, -7.87586784e-01, -9.19677528e-01,\n",
       "       -3.33756202e-01, -6.71009876e-01, -6.20993968e-01, -1.06028708e+00,\n",
       "       -1.34367777e-01, -8.20719811e-01, -9.52876786e-01, -3.66899374e-01,\n",
       "       -7.04174826e-01, -6.54150748e-01, -1.09344358e+00, -1.67548502e-01,\n",
       "       -8.53881469e-01, -9.86034644e-01, -4.00069309e-01, -7.37354537e-01,\n",
       "       -6.87319622e-01, -1.12661356e+00, -2.00688555e-01, -8.87057186e-01,\n",
       "       -1.01919351e+00, -4.33236431e-01, -7.70508633e-01, -7.20483471e-01,\n",
       "       -1.15977674e+00, -2.33864945e-01, -9.20214959e-01, -1.05236384e+00,\n",
       "       -4.66397610e-01, -8.03675787e-01, -7.53647183e-01, -1.19294058e+00,\n",
       "       -2.67028599e-01, -9.53380788e-01, -1.08552609e+00, -4.99563649e-01,\n",
       "       -8.36841591e-01, -7.86812463e-01, -1.22610597e+00, -3.00190239e-01,\n",
       "       -9.86546413e-01, -1.11869046e+00, -5.32728132e-01, -8.70004481e-01,\n",
       "       -8.19976719e-01, -1.25927012e+00, -3.33356982e-01, -1.01970981e+00,\n",
       "       -1.15185576e+00, -5.65892246e-01, -9.03169745e-01, -8.53141209e-01,\n",
       "       -1.29243465e+00, -3.66520852e-01, -1.05287478e+00, -1.18501981e+00,\n",
       "       -5.99057067e-01, -9.36334253e-01, -8.86305841e-01, -1.32559928e+00,\n",
       "       -3.99685175e-01, -1.08603934e+00, -1.21818443e+00, -6.32221516e-01,\n",
       "       -9.69498577e-01, -9.19470308e-01, -1.35876374e+00, -4.32850034e-01,\n",
       "       -1.11920372e+00, -1.25134903e+00, -6.65386010e-01, -1.00266325e+00,\n",
       "       -9.52634846e-01, -1.39192828e+00, -4.66014396e-01, -1.15236834e+00,\n",
       "       -1.28451348e+00, -6.98550583e-01, -1.03582774e+00, -9.85799384e-01,\n",
       "       -1.42509282e+00, -4.99178938e-01, -1.18553285e+00, -1.31767804e+00,\n",
       "       -7.31715089e-01, -1.06899225e+00, -1.01896390e+00, -1.45825734e+00,\n",
       "       -5.32343504e-01, -1.21869736e+00, -1.35084257e+00, -7.64879617e-01,\n",
       "       -1.10215680e+00, -1.05212843e+00, -1.49142187e+00, -5.65508001e-01,\n",
       "       -1.25186190e+00, -1.38400709e+00, -7.98044150e-01, -1.13532131e+00,\n",
       "       -1.08529296e+00, -1.52458640e+00, -5.98672537e-01, -1.28502642e+00,\n",
       "       -1.41717162e+00, -8.31208673e-01, -1.16848584e+00, -1.11845749e+00,\n",
       "       -1.55775092e+00, -6.31837067e-01, -1.31819095e+00, -1.45033615e+00,\n",
       "       -8.64373201e-01, -1.20165037e+00, -1.15162201e+00, -1.59091545e+00,\n",
       "       -6.65001590e-01, -1.35135548e+00, -1.48350067e+00, -8.97537729e-01,\n",
       "       -1.23481490e+00, -1.18478654e+00, -1.62407998e+00, -6.98166120e-01,\n",
       "       -1.38452000e+00, -1.51666520e+00, -9.30702256e-01, -1.26797943e+00,\n",
       "       -1.21795107e+00, -1.65724450e+00, -7.31330647e-01, -1.41768453e+00,\n",
       "       -1.54982973e+00, -9.63866783e-01, -1.30114395e+00, -1.25111559e+00,\n",
       "       -1.69040903e+00, -7.64495173e-01, -1.45084906e+00, -1.58299426e+00,\n",
       "       -9.97031310e-01, -1.33430848e+00, -1.28428012e+00, -1.72357356e+00,\n",
       "       -7.97659701e-01, -1.48401359e+00, -1.61615878e+00, -1.03019584e+00,\n",
       "       -1.36747301e+00, -1.31744465e+00, -1.75673809e+00, -8.30824228e-01,\n",
       "       -1.51717811e+00, -1.64932331e+00, -1.06336036e+00, -1.40063753e+00,\n",
       "       -1.35060918e+00, -1.78990261e+00, -8.63988755e-01, -1.55034264e+00,\n",
       "       -1.68248784e+00, -1.09652489e+00, -1.43380206e+00, -1.38377370e+00,\n",
       "       -1.82306714e+00, -8.97153283e-01, -1.58350717e+00, -1.71565236e+00,\n",
       "       -1.12968942e+00, -1.46696659e+00, -1.41693823e+00, -1.85623167e+00,\n",
       "       -9.30317810e-01, -1.61667170e+00, -1.74881689e+00, -1.16285395e+00,\n",
       "       -1.50013112e+00, -1.45010276e+00, -1.88939619e+00, -9.63482337e-01,\n",
       "       -1.64983622e+00, -1.78198142e+00, -1.19601847e+00, -1.53329564e+00,\n",
       "       -1.48326729e+00, -1.92256072e+00, -9.96646864e-01, -1.68300075e+00,\n",
       "       -1.81514595e+00, -1.22918300e+00, -1.56646017e+00, -1.51643181e+00,\n",
       "       -1.95572525e+00, -1.02981139e+00, -1.71616528e+00, -1.84831047e+00,\n",
       "       -1.26234753e+00, -1.59962470e+00, -1.54959634e+00, -1.98888978e+00,\n",
       "       -1.06297592e+00, -1.74932981e+00, -1.88147500e+00, -1.29551206e+00,\n",
       "       -1.63278923e+00, -1.58276087e+00, -2.02205430e+00, -1.09614045e+00,\n",
       "       -1.78249433e+00, -1.91463953e+00, -1.32867658e+00, -1.66595375e+00,\n",
       "       -1.61592539e+00, -2.05521883e+00, -1.12930497e+00, -1.81565886e+00,\n",
       "       -1.94780406e+00, -1.36184111e+00, -1.69911828e+00, -1.64908992e+00,\n",
       "       -2.08838336e+00, -1.16246950e+00, -1.84882339e+00, -1.98096858e+00,\n",
       "       -1.39500564e+00, -1.73228281e+00, -1.68225445e+00, -2.12154788e+00,\n",
       "       -1.19563403e+00, -1.88198791e+00, -2.01413311e+00, -1.42817016e+00,\n",
       "       -1.76544733e+00, -1.71541898e+00, -2.15471241e+00, -1.22879856e+00,\n",
       "       -1.91515244e+00, -2.04729764e+00, -1.46133469e+00, -1.79861186e+00,\n",
       "       -1.74858350e+00, -2.18787694e+00, -1.26196308e+00, -1.94831697e+00,\n",
       "       -2.08046216e+00, -1.49449922e+00, -1.83177639e+00, -1.78174803e+00,\n",
       "       -2.22104147e+00, -1.29512761e+00, -1.98148150e+00, -2.11362669e+00,\n",
       "       -1.52766375e+00, -1.86494092e+00, -1.81491256e+00, -2.25420599e+00,\n",
       "       -1.32829214e+00, -2.01464602e+00, -2.14679122e+00, -1.56082827e+00,\n",
       "       -1.89810544e+00, -1.84807709e+00, -2.28737052e+00, -1.36145666e+00,\n",
       "       -2.04781055e+00, -2.17995575e+00, -1.59399280e+00, -1.93126997e+00,\n",
       "       -1.88124161e+00, -2.32053505e+00, -1.39462119e+00, -2.08097508e+00,\n",
       "       -2.21312027e+00, -1.62715733e+00, -1.96443450e+00, -1.91440614e+00,\n",
       "       -2.35369958e+00, -1.42778572e+00, -2.11413960e+00, -2.24628480e+00,\n",
       "       -1.66032186e+00, -1.99759902e+00, -1.94757067e+00, -2.38686410e+00,\n",
       "       -1.46095025e+00, -2.14730413e+00, -2.27944933e+00, -1.69348638e+00,\n",
       "       -2.03076355e+00, -1.98073519e+00, -2.42002863e+00, -1.49411477e+00,\n",
       "       -2.18046866e+00, -2.31261386e+00, -1.72665091e+00, -2.06392808e+00,\n",
       "       -2.01389972e+00, -2.45319316e+00, -1.52727930e+00, -2.21363319e+00,\n",
       "       -2.34577838e+00, -1.75981544e+00, -2.09709261e+00, -2.04706425e+00,\n",
       "       -2.48635768e+00, -1.56044383e+00, -2.24679771e+00, -2.37894291e+00,\n",
       "       -1.79297996e+00, -2.13025713e+00, -2.08022878e+00, -2.51952221e+00,\n",
       "       -1.59360835e+00, -2.27996224e+00, -2.41210744e+00, -1.82614449e+00,\n",
       "       -2.16342166e+00, -2.11339330e+00, -2.55268674e+00, -1.62677288e+00,\n",
       "       -2.31312677e+00, -2.44527196e+00, -1.85930902e+00, -2.19658619e+00,\n",
       "       -2.14655783e+00, -2.58585127e+00, -1.65993741e+00, -2.34629130e+00,\n",
       "       -2.47843649e+00, -1.89247355e+00, -2.22975072e+00, -2.17972236e+00,\n",
       "       -2.61901579e+00, -1.69310194e+00, -2.37945582e+00, -2.51160102e+00,\n",
       "       -1.92563807e+00, -2.26291524e+00, -2.21288689e+00, -2.65218032e+00,\n",
       "       -1.72626646e+00, -2.41262035e+00, -2.54476555e+00, -1.95880260e+00,\n",
       "       -2.29607977e+00, -2.24605141e+00, -2.68534485e+00, -1.75943099e+00,\n",
       "       -2.44578488e+00, -2.57793007e+00, -1.99196713e+00, -2.32924430e+00,\n",
       "       -2.27921594e+00, -2.71850938e+00, -1.79259552e+00, -2.47894940e+00,\n",
       "       -2.61109460e+00, -2.02513166e+00, -2.36240882e+00, -2.31238047e+00,\n",
       "       -2.75167390e+00, -1.82576005e+00, -2.51211393e+00, -2.64425913e+00,\n",
       "       -2.05829618e+00, -2.39557335e+00, -2.34554499e+00, -2.78483843e+00,\n",
       "       -1.85892457e+00, -2.54527846e+00, -2.67742366e+00, -2.09146071e+00,\n",
       "       -2.42873788e+00, -2.37870952e+00, -2.81800296e+00, -1.89208910e+00,\n",
       "       -2.57844299e+00, -2.71058818e+00, -2.12462524e+00, -2.46190241e+00,\n",
       "       -2.41187405e+00, -2.85116748e+00, -1.92525363e+00, -2.61160751e+00,\n",
       "       -2.74375271e+00, -2.15778976e+00, -2.49506693e+00, -2.44503858e+00,\n",
       "       -2.88433201e+00, -1.95841815e+00, -2.64477204e+00, -2.77691724e+00,\n",
       "       -2.19095429e+00, -2.52823146e+00, -2.47820310e+00, -2.91749654e+00,\n",
       "       -1.99158268e+00, -2.67793657e+00, -2.81008176e+00, -2.22411882e+00,\n",
       "       -2.56139599e+00, -2.51136763e+00, -2.95066107e+00, -2.02474721e+00,\n",
       "       -2.71110110e+00, -2.84324629e+00, -2.25728335e+00, -2.59456052e+00,\n",
       "       -2.54453216e+00, -2.98382559e+00, -2.05791174e+00, -2.74426562e+00,\n",
       "       -2.87641082e+00, -2.29044787e+00, -2.62772504e+00, -2.57769668e+00,\n",
       "       -3.01699012e+00, -2.09107626e+00, -2.77743015e+00, -2.90957535e+00,\n",
       "       -2.32361240e+00, -2.66088957e+00, -2.61086121e+00, -3.05015465e+00,\n",
       "       -2.12424079e+00, -2.81059468e+00, -2.94273987e+00, -2.35677693e+00,\n",
       "       -2.69405410e+00, -2.64402574e+00, -3.08331918e+00, -2.15740532e+00,\n",
       "       -2.84375920e+00, -2.97590440e+00, -2.38994145e+00, -2.72721862e+00,\n",
       "       -2.67719027e+00, -3.11648370e+00, -2.19056985e+00, -2.87692373e+00,\n",
       "       -3.00906893e+00, -2.42310598e+00, -2.76038315e+00, -2.71035479e+00,\n",
       "       -3.14964823e+00, -2.22373437e+00, -2.91008826e+00, -3.04223345e+00,\n",
       "       -2.45627051e+00, -2.79354768e+00, -2.74351932e+00, -3.18281276e+00,\n",
       "       -2.25689890e+00, -2.94325279e+00, -3.07539798e+00, -2.48943504e+00,\n",
       "       -2.82671221e+00, -2.77668385e+00, -3.21597728e+00, -2.29006343e+00,\n",
       "       -2.97641731e+00, -3.10856251e+00, -2.52259956e+00, -2.85987673e+00,\n",
       "       -2.80984838e+00, -3.24914181e+00, -2.32322795e+00, -3.00958184e+00,\n",
       "       -3.14172704e+00, -2.55576409e+00, -2.89304126e+00, -2.84301290e+00,\n",
       "       -3.28230634e+00, -2.35639248e+00])"
      ]
     },
     "execution_count": 42,
     "metadata": {},
     "output_type": "execute_result"
    }
   ],
   "source": [
    "forecast, conf = pipeline.predict(n_periods=578, return_conf_int=True)\n",
    "forecast"
   ]
  },
  {
   "cell_type": "code",
   "execution_count": 43,
   "metadata": {},
   "outputs": [
    {
     "data": {
      "text/plain": [
       "array([ 0.01415811, -0.49391515, -0.1555076 ,  1.90306704, -0.51896374,\n",
       "       -0.3454281 , -0.43709716, -0.36952689,  0.33400157, -0.64066743,\n",
       "       -0.24160327,  0.61392392, -0.68022692, -0.61618406, -0.47381624,\n",
       "       -0.02116876,  0.52918626,  0.42042739, -0.19705081,  0.29500246,\n",
       "       -0.18384362, -0.3604248 ,  0.01350344, -0.4508842 ,  1.09870665,\n",
       "       -0.65443709,  0.35183041, -0.21500597, -0.20770829,  0.22256201,\n",
       "       -0.59638125, -0.50075549,  0.05216586, -0.09118283, -0.22535348,\n",
       "       -0.50992466,  1.17337318, -0.03649887,  0.50773201, -0.26419372,\n",
       "       -0.49625773, -0.24541617,  0.03858817,  0.37246015,  0.19883546,\n",
       "        0.41321997, -0.47204687,  0.94608281, -0.49499412, -0.46158932,\n",
       "       -0.49559772, -0.21424482,  0.40558905, -0.42136195,  0.24915144,\n",
       "       -0.62234071,  0.56627398, -0.35695551,  0.02632716,  0.31130345,\n",
       "        0.22317715,  0.34665629,  0.37598347, -0.11022993, -0.65943232,\n",
       "       -0.10377278,  1.14450196,  0.1880728 , -0.01158381, -0.05776809,\n",
       "        0.23923713,  1.24812272, -0.29391554, -0.14802447, -0.55319128,\n",
       "       -0.48760671, -0.28372292,  0.02845014,  0.23711   , -0.63409322,\n",
       "       -0.5634196 , -0.24243456, -0.52015811, -0.29521675, -0.42504844,\n",
       "        1.4758421 ,  0.28787691, -0.51191149,  1.06887189, -0.60316701,\n",
       "        0.13942939, -0.38892293,  1.03464382,  0.43158269, -0.66613445,\n",
       "        0.13576194,  1.3745387 , -0.49501313, -0.60678837, -0.67731355,\n",
       "        1.37677452,  0.27019794,  0.11184662,  0.10249728, -0.54108834,\n",
       "        0.2000686 , -0.53796973,  0.26659982,  1.40771142, -0.64726709,\n",
       "       -0.55161407,  1.09628141,  0.71111147,  1.29906681, -0.42756397,\n",
       "       -0.21187385,  0.24235326, -0.55322008, -0.14306923, -0.466144  ,\n",
       "       -0.13577544, -0.62886525, -0.24995258,  0.36821554,  0.52978098,\n",
       "        0.08349183, -0.47086407,  0.04941852, -0.24370399,  0.00600604,\n",
       "        0.72195942,  0.47633838,  0.48599307, -0.48588997, -0.47686491,\n",
       "       -0.31093309, -0.4049985 ,  0.02574798, -0.04638607, -0.62833923,\n",
       "        0.10735842,  0.40157134, -0.46525754,  1.14708459, -0.70118967,\n",
       "       -0.06074143,  0.40591142,  0.00776641, -0.52528275, -0.13949484,\n",
       "        0.13442068,  0.54825174,  0.34206813, -0.40417921,  0.48163089,\n",
       "        0.03480636, -0.70673965, -0.33140887,  1.87973335,  0.48596292,\n",
       "        0.22965259, -0.09736111,  0.01034472,  1.36517494, -0.71601611,\n",
       "       -0.61591815,  0.36586604, -0.6251736 ,  0.07779814,  0.41978188,\n",
       "       -0.27215536,  0.31984084,  0.46833841, -0.25334244,  0.0453508 ,\n",
       "        0.42697728,  0.23803563, -0.55561705,  0.2736541 ,  0.14461777,\n",
       "       -0.52015811,  0.10629237,  0.01961782, -0.20586833, -0.38212151,\n",
       "       -0.33847916, -0.54739748, -0.58487987,  0.67609854,  0.38577806,\n",
       "       -0.35822681, -0.47234641,  0.11742471,  0.17650416,  0.28903186,\n",
       "       -0.59171084,  0.34605067,  1.482569  , -0.53050793, -0.24168945,\n",
       "       -0.10630554, -0.20169157,  0.20674163, -0.25420882,  0.70980435,\n",
       "       -0.42454771,  0.4797756 , -0.38216426,  0.11953425, -0.65872316,\n",
       "        0.01878035,  0.03412702, -0.05703401, -0.27292256, -0.71939534,\n",
       "       -0.20267783,  0.3456997 , -0.13630956,  0.09308171,  1.36191627,\n",
       "       -0.32689688, -0.66696266, -0.10255917,  0.19021754, -0.37185257,\n",
       "       -0.33244801,  0.41440682, -0.18375457, -0.27973483, -0.18407352,\n",
       "       -0.086933  , -0.4440704 ,  0.18259689, -0.33127391,  0.7101639 ,\n",
       "       -0.03285865, -0.05027503, -0.56003596, -0.70748336,  0.25111481,\n",
       "       -0.51328199,  0.23326391,  0.24833889, -0.50104079, -0.20836865,\n",
       "        0.37247308, -0.01232695,  0.3589682 , -0.49037912, -0.36486198,\n",
       "       -0.52170674, -0.53306412, -0.60283374,  0.45163127, -0.54678728,\n",
       "       -0.0988877 , -0.72214325,  0.21191174, -0.60940494,  0.16259465,\n",
       "       -0.50789896, -0.30644151, -0.28980295, -0.4458258 , -0.68572149,\n",
       "        0.4458072 ,  0.33473652,  0.39528125,  0.35677142,  0.23702883,\n",
       "        1.22706678,  1.23136181,  0.13173368, -0.48544307,  0.17708417,\n",
       "       -0.31577272,  0.23536617,  0.71405392,  1.19432056, -0.55696419,\n",
       "        0.07368787, -0.12817134,  0.73347497, -0.49039836,  1.44152014,\n",
       "       -0.6955204 , -0.5494868 , -0.1287954 ,  0.40394852,  0.56397838,\n",
       "        0.40602841,  0.1213896 , -0.10476409, -0.71352693, -0.03657181,\n",
       "       -0.25544914, -0.38997517,  1.10017912, -0.5166037 , -0.46609029,\n",
       "        0.0318571 , -0.31069012, -0.49274882, -0.59390784,  0.478154  ,\n",
       "       -0.50429544,  0.185937  , -0.2213011 ,  0.03983216,  0.23694552,\n",
       "       -0.24727988, -0.48623695, -0.56040305, -0.61715037,  2.00546382,\n",
       "        1.13215225, -0.60270509, -0.51661788, -0.53289051, -0.5073041 ,\n",
       "       -0.24465368, -0.45070833, -0.23854179,  0.87755868, -0.4268425 ,\n",
       "       -0.00538632, -0.37489556,  1.3841273 , -0.12484537,  0.40843756,\n",
       "       -0.53419248,  0.31190066,  0.16161983,  0.17888422, -0.55106445,\n",
       "       -0.49584767, -0.20948414,  0.96026659,  0.0486991 ,  1.01397853,\n",
       "        0.08223346,  0.3607872 , -0.22775508,  0.23618649, -0.40316348,\n",
       "        0.21719709, -0.60239183,  0.13641562, -0.44190464,  0.4643636 ,\n",
       "       -0.52015811, -0.34214786, -0.34160722,  0.67787686, -0.33751134,\n",
       "       -0.38233873, -0.11277446,  0.50616236, -0.05783203,  0.19915828,\n",
       "       -0.63740038, -0.42007744, -0.55182488, -0.54054307, -0.50282276,\n",
       "        0.2726039 ,  0.32138018, -0.51967106, -0.52736047,  0.10711915,\n",
       "        0.48386254,  0.09786728, -0.17384135,  0.27611237, -0.51002042,\n",
       "       -0.34574009, -0.06410519,  1.36246669,  0.11334449, -0.54141071,\n",
       "       -0.12820125, -0.12248877, -0.67817875, -0.65448685, -0.48217058,\n",
       "        0.52823457, -0.16867445,  0.67386062,  0.21526762,  0.37699117,\n",
       "       -0.37459796, -0.02473821, -0.26025745, -0.3268435 , -0.19040012,\n",
       "        0.89350702,  0.21586236,  0.08046303, -0.05075472,  0.88479563,\n",
       "       -0.51365148,  2.65116039, -0.20526831,  0.70866172, -0.48445925,\n",
       "        0.31403461, -0.64546017,  0.75790468, -0.32195181, -0.54711434,\n",
       "       -0.00824627, -0.39815368,  0.19847053,  0.2989884 ,  0.19578874,\n",
       "        0.09130244, -0.44793125, -0.30779482,  0.56749275,  0.93562929,\n",
       "       -0.2735648 , -0.01817184,  0.61967851,  0.29611393,  0.19743971,\n",
       "        1.06614382, -0.04082015, -0.28843322, -0.20708265, -0.49575475,\n",
       "        0.53074384, -0.36169621,  0.1665509 ,  2.6117939 , -0.61904531,\n",
       "       -0.50171487, -0.19145655, -0.44765456, -0.65532471, -0.4907155 ,\n",
       "        0.45410166, -0.46033946,  0.03903767,  0.73502882,  0.45490167,\n",
       "       -0.18489355,  0.38260373, -0.27618369,  0.12019395, -0.19596566,\n",
       "       -0.59203598, -0.31794443,  1.8469213 ,  0.39899809, -0.26294371,\n",
       "       -0.40127393,  0.05013285, -0.72214325, -0.09413299, -0.71766641,\n",
       "        0.18850401, -0.69946726,  0.46400783, -0.34100055,  0.46346875,\n",
       "       -0.24013023,  0.58124871, -0.3971071 ,  0.29299648,  1.79216626,\n",
       "       -0.37123505, -0.27082121, -0.35234369, -0.19161232, -0.51998724,\n",
       "        0.07211658,  0.29866119, -0.5559512 , -0.54187951, -0.57409673,\n",
       "        0.4227729 ,  0.02206897, -0.09519261, -0.59743301,  0.54713373,\n",
       "       -0.65251107,  0.73603266, -0.15713411, -0.33256001, -0.5604341 ,\n",
       "       -0.54010617, -0.18386419,  1.23294783, -0.13041303,  0.54802681,\n",
       "        0.67368045, -0.03925754, -0.69597058, -0.26333628, -0.41992278,\n",
       "        0.21789341, -0.72214325,  0.11529397, -0.44619068, -0.14410857,\n",
       "       -0.59245027,  0.03201957,  0.14053955,  0.81019697,  0.41288119,\n",
       "        0.4480322 , -0.59475585, -0.48626612, -0.16662785, -0.13545147,\n",
       "       -0.40655198,  0.17143976, -0.40489214,  1.89778791,  0.13196292,\n",
       "       -0.53508019, -0.4728926 , -0.72214325, -0.6821719 , -0.66125534,\n",
       "       -0.56250506, -0.56165275, -0.49494818,  1.06374788,  0.1605954 ,\n",
       "       -0.67667651, -0.10855487, -0.47204455, -0.50243028, -0.55328433,\n",
       "       -0.08610948, -0.31932206, -0.23768211, -0.162941  , -0.50782298,\n",
       "       -0.51678061,  1.90397963,  1.11158722, -0.09280588,  0.07980647,\n",
       "        0.76251971, -0.53672175, -0.25312891,  0.24097623, -0.50728484,\n",
       "       -0.03995521, -0.18463519, -0.53116296,  0.05819773, -0.6468443 ,\n",
       "       -0.34484134, -0.27367383,  0.35159747, -0.46390014,  0.10064829,\n",
       "       -0.02392683, -0.17685185,  0.5547503 , -0.36996784, -0.3769088 ,\n",
       "       -0.39374815,  0.31988788, -0.49085473,  0.11864644, -0.50637391,\n",
       "       -0.10301574, -0.30047148,  0.32747172, -0.42115974, -0.59875531,\n",
       "       -0.72714459, -0.22719384,  0.63941043])"
      ]
     },
     "execution_count": 43,
     "metadata": {},
     "output_type": "execute_result"
    }
   ],
   "source": [
    "Actuals = pd.Series.to_numpy(dfvali['electricity'])\n",
    "Actuals"
   ]
  },
  {
   "cell_type": "code",
   "execution_count": 44,
   "metadata": {},
   "outputs": [
    {
     "data": {
      "text/plain": [
       "3.21365440124"
      ]
     },
     "execution_count": 44,
     "metadata": {},
     "output_type": "execute_result"
    }
   ],
   "source": [
    "mseVali = mean_squared_error(Actuals, forecast)\n",
    "mseVali"
   ]
  },
  {
   "cell_type": "code",
   "execution_count": 39,
   "metadata": {},
   "outputs": [
    {
     "data": {
      "text/plain": [
       "array([ -0.40685227,  -0.12688825,  -0.5807356 , ..., -10.78056685,\n",
       "       -11.11784402, -11.06781566])"
      ]
     },
     "execution_count": 39,
     "metadata": {},
     "output_type": "execute_result"
    }
   ],
   "source": [
    "forecasttrain, _ = pipeline.predict(n_periods=2312, return_conf_int=True)\n",
    "forecasttrain"
   ]
  },
  {
   "cell_type": "code",
   "execution_count": 40,
   "metadata": {},
   "outputs": [
    {
     "data": {
      "text/plain": [
       "array([ 0.05138618,  0.70017709, -0.42434817, ...,  0.00720098,\n",
       "       -0.60120013,  0.25402806])"
      ]
     },
     "execution_count": 40,
     "metadata": {},
     "output_type": "execute_result"
    }
   ],
   "source": [
    "Actualstrain = pd.Series.to_numpy(dftrain['electricity'])\n",
    "Actualstrain"
   ]
  },
  {
   "cell_type": "code",
   "execution_count": 41,
   "metadata": {},
   "outputs": [
    {
     "data": {
      "text/plain": [
       "42.069440869859974"
      ]
     },
     "execution_count": 41,
     "metadata": {},
     "output_type": "execute_result"
    }
   ],
   "source": [
    "msetrain = mean_squared_error(Actualstrain, forecasttrain)\n",
    "msetrain"
   ]
  },
  {
   "cell_type": "code",
   "execution_count": 45,
   "metadata": {},
   "outputs": [
    {
     "data": {
      "text/plain": [
       "array([-0.40685227, -0.12688825, -0.5807356 ,  0.60307965, -0.46953509,\n",
       "       -0.3159393 ,  0.04770782, -0.17115401, -0.18145628, -0.61954226,\n",
       "        0.34758858, -0.34434365, -0.53074502,  0.12717058, -0.19557813,\n",
       "       -0.17204929, -0.60789113,  0.21438002, -0.3548667 , -0.53401165,\n",
       "        0.06833123, -0.31355029, -0.22783291, -0.66982341,  0.31435636,\n",
       "       -0.44985983, -0.53418089,  0.0195524 , -0.29170733, -0.25813203])"
      ]
     },
     "execution_count": 45,
     "metadata": {},
     "output_type": "execute_result"
    }
   ],
   "source": [
    "forecasttest, conf = pipeline.predict(n_periods=30, return_conf_int=True)\n",
    "forecasttest"
   ]
  },
  {
   "cell_type": "code",
   "execution_count": 46,
   "metadata": {},
   "outputs": [
    {
     "data": {
      "text/plain": [
       "array([ 1.65016285,  0.24249175, -0.34739269,  0.42666775, -0.22279165,\n",
       "       -0.56480335, -0.23455027, -0.37762995,  0.02420513, -0.62016832,\n",
       "        0.26560193,  0.38694051, -0.36748591, -0.50604808, -0.36249302,\n",
       "       -0.45833457, -0.59882359, -0.46336728, -0.32463615,  0.46309638,\n",
       "        0.20958649, -0.50579558, -0.1519526 , -0.43097922,  0.41177981,\n",
       "       -0.53306412, -0.45326051, -0.53906262, -0.58146073, -0.00914812])"
      ]
     },
     "execution_count": 46,
     "metadata": {},
     "output_type": "execute_result"
    }
   ],
   "source": [
    "Actualstest = pd.Series.to_numpy(dftest['electricity'])\n",
    "Actualstest"
   ]
  },
  {
   "cell_type": "code",
   "execution_count": 49,
   "metadata": {},
   "outputs": [
    {
     "data": {
      "text/plain": [
       "0.2624971928325078"
      ]
     },
     "execution_count": 49,
     "metadata": {},
     "output_type": "execute_result"
    }
   ],
   "source": [
    "msetest = mean_squared_error(Actualstest, forecasttest)\n",
    "msetest"
   ]
  },
  {
   "cell_type": "code",
   "execution_count": 50,
   "metadata": {},
   "outputs": [
    {
     "name": "stdout",
     "output_type": "stream",
     "text": [
      "RMSE: 0.512345\n"
     ]
    }
   ],
   "source": [
    "rmse = math.sqrt(msetest)\n",
    "print('RMSE: %f' % rmse)"
   ]
  },
  {
   "cell_type": "code",
   "execution_count": 52,
   "metadata": {},
   "outputs": [
    {
     "data": {
      "text/plain": [
       "8.534984766097647"
      ]
     },
     "execution_count": 52,
     "metadata": {},
     "output_type": "execute_result"
    }
   ],
   "source": [
    "mse = mean_squared_error(Actuals, forecast)\n",
    "mse"
   ]
  },
  {
   "cell_type": "code",
   "execution_count": 53,
   "metadata": {},
   "outputs": [
    {
     "name": "stdout",
     "output_type": "stream",
     "text": [
      "RMSE: 2.921470\n"
     ]
    }
   ],
   "source": [
    "rmse = math.sqrt(mse)\n",
    "print('RMSE: %f' % rmse)"
   ]
  }
 ],
 "metadata": {
  "interpreter": {
   "hash": "91ec43aa1f0db36d96140b828b08e86586f62f08ccada0f9bf3c6347196c39a6"
  },
  "kernelspec": {
   "display_name": "Python 3 (ipykernel)",
   "language": "python",
   "name": "python3"
  },
  "language_info": {
   "codemirror_mode": {
    "name": "ipython",
    "version": 3
   },
   "file_extension": ".py",
   "mimetype": "text/x-python",
   "name": "python",
   "nbconvert_exporter": "python",
   "pygments_lexer": "ipython3",
   "version": "3.9.7"
  }
 },
 "nbformat": 4,
 "nbformat_minor": 2
}
