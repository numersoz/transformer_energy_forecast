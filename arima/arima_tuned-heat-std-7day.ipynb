{
 "cells": [
  {
   "cell_type": "code",
   "execution_count": 1,
   "metadata": {},
   "outputs": [],
   "source": [
    "import os\n",
    "import random\n",
    "import math\n",
    "from sklearn.metrics import mean_squared_error\n",
    "import numpy as np\n",
    "from matplotlib import pyplot as plt\n",
    "import pandas as pd\n",
    "import seaborn as sn\n",
    "from sklearn.decomposition import PCA\n",
    "from sklearn.preprocessing import MinMaxScaler, StandardScaler\n",
    "import pmdarima as pm \n",
    "from sklearn.model_selection import train_test_split\n",
    "from pmdarima.pipeline import Pipeline"
   ]
  },
  {
   "cell_type": "code",
   "execution_count": 2,
   "metadata": {},
   "outputs": [
    {
     "data": {
      "text/plain": [
       "'C:\\\\Users\\\\niles\\\\project\\\\project_work\\\\notebooks'"
      ]
     },
     "execution_count": 2,
     "metadata": {},
     "output_type": "execute_result"
    }
   ],
   "source": [
    "os.getcwd()"
   ]
  },
  {
   "cell_type": "code",
   "execution_count": 3,
   "metadata": {},
   "outputs": [],
   "source": [
    "# Read data:\n",
    "#os.chdir(\"..\")\n",
    "df = pd.read_csv(\"data.csv\")"
   ]
  },
  {
   "cell_type": "code",
   "execution_count": 4,
   "metadata": {},
   "outputs": [
    {
     "data": {
      "text/html": [
       "<div>\n",
       "<style scoped>\n",
       "    .dataframe tbody tr th:only-of-type {\n",
       "        vertical-align: middle;\n",
       "    }\n",
       "\n",
       "    .dataframe tbody tr th {\n",
       "        vertical-align: top;\n",
       "    }\n",
       "\n",
       "    .dataframe thead th {\n",
       "        text-align: right;\n",
       "    }\n",
       "</style>\n",
       "<table border=\"1\" class=\"dataframe\">\n",
       "  <thead>\n",
       "    <tr style=\"text-align: right;\">\n",
       "      <th></th>\n",
       "      <th>Time</th>\n",
       "      <th>air_pressure[mmHg]</th>\n",
       "      <th>air_temperature[degree celcius]</th>\n",
       "      <th>relative_humidity[%]</th>\n",
       "      <th>wind_speed[M/S]</th>\n",
       "      <th>solar_irridiation[W/m²]</th>\n",
       "      <th>total_cloud_cover[from ten]</th>\n",
       "      <th>electricity_demand_values[kw]</th>\n",
       "      <th>heat_demand_values[kw]</th>\n",
       "    </tr>\n",
       "  </thead>\n",
       "  <tbody>\n",
       "    <tr>\n",
       "      <th>0</th>\n",
       "      <td>2010-12-01 00:00:00</td>\n",
       "      <td>729.7</td>\n",
       "      <td>25.0</td>\n",
       "      <td>85.0</td>\n",
       "      <td>5.0</td>\n",
       "      <td>0</td>\n",
       "      <td>no clouds</td>\n",
       "      <td>289.567557</td>\n",
       "      <td>432.940036</td>\n",
       "    </tr>\n",
       "    <tr>\n",
       "      <th>1</th>\n",
       "      <td>2010-12-01 01:00:00</td>\n",
       "      <td>729.4</td>\n",
       "      <td>27.8</td>\n",
       "      <td>77.0</td>\n",
       "      <td>7.0</td>\n",
       "      <td>0</td>\n",
       "      <td>no clouds</td>\n",
       "      <td>260.168520</td>\n",
       "      <td>473.935901</td>\n",
       "    </tr>\n",
       "    <tr>\n",
       "      <th>2</th>\n",
       "      <td>2010-12-01 02:00:00</td>\n",
       "      <td>728.9</td>\n",
       "      <td>33.3</td>\n",
       "      <td>62.0</td>\n",
       "      <td>7.0</td>\n",
       "      <td>0</td>\n",
       "      <td>2/10–3/10.</td>\n",
       "      <td>247.273585</td>\n",
       "      <td>483.278761</td>\n",
       "    </tr>\n",
       "    <tr>\n",
       "      <th>3</th>\n",
       "      <td>2010-12-01 03:00:00</td>\n",
       "      <td>731.6</td>\n",
       "      <td>32.2</td>\n",
       "      <td>62.0</td>\n",
       "      <td>2.0</td>\n",
       "      <td>0</td>\n",
       "      <td>5/10.</td>\n",
       "      <td>257.955878</td>\n",
       "      <td>545.921252</td>\n",
       "    </tr>\n",
       "    <tr>\n",
       "      <th>4</th>\n",
       "      <td>2010-12-01 04:00:00</td>\n",
       "      <td>732.6</td>\n",
       "      <td>22.8</td>\n",
       "      <td>96.0</td>\n",
       "      <td>3.0</td>\n",
       "      <td>0</td>\n",
       "      <td>2/10–3/10.</td>\n",
       "      <td>258.255081</td>\n",
       "      <td>550.526112</td>\n",
       "    </tr>\n",
       "  </tbody>\n",
       "</table>\n",
       "</div>"
      ],
      "text/plain": [
       "                  Time  air_pressure[mmHg]  air_temperature[degree celcius]  \\\n",
       "0  2010-12-01 00:00:00               729.7                             25.0   \n",
       "1  2010-12-01 01:00:00               729.4                             27.8   \n",
       "2  2010-12-01 02:00:00               728.9                             33.3   \n",
       "3  2010-12-01 03:00:00               731.6                             32.2   \n",
       "4  2010-12-01 04:00:00               732.6                             22.8   \n",
       "\n",
       "   relative_humidity[%]  wind_speed[M/S]  solar_irridiation[W/m²]  \\\n",
       "0                  85.0              5.0                        0   \n",
       "1                  77.0              7.0                        0   \n",
       "2                  62.0              7.0                        0   \n",
       "3                  62.0              2.0                        0   \n",
       "4                  96.0              3.0                        0   \n",
       "\n",
       "  total_cloud_cover[from ten]  electricity_demand_values[kw]  \\\n",
       "0                   no clouds                     289.567557   \n",
       "1                   no clouds                     260.168520   \n",
       "2                  2/10–3/10.                     247.273585   \n",
       "3                       5/10.                     257.955878   \n",
       "4                  2/10–3/10.                     258.255081   \n",
       "\n",
       "   heat_demand_values[kw]  \n",
       "0              432.940036  \n",
       "1              473.935901  \n",
       "2              483.278761  \n",
       "3              545.921252  \n",
       "4              550.526112  "
      ]
     },
     "execution_count": 4,
     "metadata": {},
     "output_type": "execute_result"
    }
   ],
   "source": [
    "df.head()"
   ]
  },
  {
   "cell_type": "code",
   "execution_count": 5,
   "metadata": {},
   "outputs": [
    {
     "data": {
      "text/plain": [
       "70080"
      ]
     },
     "execution_count": 5,
     "metadata": {},
     "output_type": "execute_result"
    }
   ],
   "source": [
    "len(df)"
   ]
  },
  {
   "cell_type": "code",
   "execution_count": 6,
   "metadata": {},
   "outputs": [],
   "source": [
    "df = df.dropna()"
   ]
  },
  {
   "cell_type": "code",
   "execution_count": 7,
   "metadata": {},
   "outputs": [
    {
     "data": {
      "text/plain": [
       "68792"
      ]
     },
     "execution_count": 7,
     "metadata": {},
     "output_type": "execute_result"
    }
   ],
   "source": [
    "len(df)"
   ]
  },
  {
   "cell_type": "code",
   "execution_count": 8,
   "metadata": {},
   "outputs": [],
   "source": [
    "# Rename Columns:\n",
    "col_mapping = {\"Time\": \"date\",\n",
    "            \"air_pressure[mmHg]\": \"air_pressure\",\n",
    "            \"air_temperature[degree celcius]\": \"air_temperature\",\n",
    "            \"relative_humidity[%]\": \"relative_humidity\",\n",
    "            \"wind_speed[M/S]\": \"wind_speed\",\n",
    "            \"solar_irridiation[W/m²]\": \"solar_irridiation\",\n",
    "            \"total_cloud_cover[from ten]\": \"total_cloud_cover\",\n",
    "            \"electricity_demand_values[kw]\": \"electricity\",\n",
    "            \"heat_demand_values[kw]\": \"heat\"}\n",
    "df = df.rename(columns = col_mapping)"
   ]
  },
  {
   "cell_type": "code",
   "execution_count": 9,
   "metadata": {},
   "outputs": [
    {
     "data": {
      "text/html": [
       "<div>\n",
       "<style scoped>\n",
       "    .dataframe tbody tr th:only-of-type {\n",
       "        vertical-align: middle;\n",
       "    }\n",
       "\n",
       "    .dataframe tbody tr th {\n",
       "        vertical-align: top;\n",
       "    }\n",
       "\n",
       "    .dataframe thead th {\n",
       "        text-align: right;\n",
       "    }\n",
       "</style>\n",
       "<table border=\"1\" class=\"dataframe\">\n",
       "  <thead>\n",
       "    <tr style=\"text-align: right;\">\n",
       "      <th></th>\n",
       "      <th>date</th>\n",
       "      <th>air_pressure</th>\n",
       "      <th>air_temperature</th>\n",
       "      <th>relative_humidity</th>\n",
       "      <th>wind_speed</th>\n",
       "      <th>solar_irridiation</th>\n",
       "      <th>total_cloud_cover</th>\n",
       "      <th>electricity</th>\n",
       "      <th>heat</th>\n",
       "    </tr>\n",
       "  </thead>\n",
       "  <tbody>\n",
       "    <tr>\n",
       "      <th>0</th>\n",
       "      <td>2010-12-01 00:00:00</td>\n",
       "      <td>729.7</td>\n",
       "      <td>25.0</td>\n",
       "      <td>85.0</td>\n",
       "      <td>5.0</td>\n",
       "      <td>0</td>\n",
       "      <td>no clouds</td>\n",
       "      <td>289.567557</td>\n",
       "      <td>432.940036</td>\n",
       "    </tr>\n",
       "    <tr>\n",
       "      <th>1</th>\n",
       "      <td>2010-12-01 01:00:00</td>\n",
       "      <td>729.4</td>\n",
       "      <td>27.8</td>\n",
       "      <td>77.0</td>\n",
       "      <td>7.0</td>\n",
       "      <td>0</td>\n",
       "      <td>no clouds</td>\n",
       "      <td>260.168520</td>\n",
       "      <td>473.935901</td>\n",
       "    </tr>\n",
       "    <tr>\n",
       "      <th>2</th>\n",
       "      <td>2010-12-01 02:00:00</td>\n",
       "      <td>728.9</td>\n",
       "      <td>33.3</td>\n",
       "      <td>62.0</td>\n",
       "      <td>7.0</td>\n",
       "      <td>0</td>\n",
       "      <td>2/10–3/10.</td>\n",
       "      <td>247.273585</td>\n",
       "      <td>483.278761</td>\n",
       "    </tr>\n",
       "    <tr>\n",
       "      <th>3</th>\n",
       "      <td>2010-12-01 03:00:00</td>\n",
       "      <td>731.6</td>\n",
       "      <td>32.2</td>\n",
       "      <td>62.0</td>\n",
       "      <td>2.0</td>\n",
       "      <td>0</td>\n",
       "      <td>5/10.</td>\n",
       "      <td>257.955878</td>\n",
       "      <td>545.921252</td>\n",
       "    </tr>\n",
       "    <tr>\n",
       "      <th>4</th>\n",
       "      <td>2010-12-01 04:00:00</td>\n",
       "      <td>732.6</td>\n",
       "      <td>22.8</td>\n",
       "      <td>96.0</td>\n",
       "      <td>3.0</td>\n",
       "      <td>0</td>\n",
       "      <td>2/10–3/10.</td>\n",
       "      <td>258.255081</td>\n",
       "      <td>550.526112</td>\n",
       "    </tr>\n",
       "  </tbody>\n",
       "</table>\n",
       "</div>"
      ],
      "text/plain": [
       "                 date  air_pressure  air_temperature  relative_humidity  \\\n",
       "0 2010-12-01 00:00:00         729.7             25.0               85.0   \n",
       "1 2010-12-01 01:00:00         729.4             27.8               77.0   \n",
       "2 2010-12-01 02:00:00         728.9             33.3               62.0   \n",
       "3 2010-12-01 03:00:00         731.6             32.2               62.0   \n",
       "4 2010-12-01 04:00:00         732.6             22.8               96.0   \n",
       "\n",
       "   wind_speed  solar_irridiation total_cloud_cover  electricity        heat  \n",
       "0         5.0                  0         no clouds   289.567557  432.940036  \n",
       "1         7.0                  0         no clouds   260.168520  473.935901  \n",
       "2         7.0                  0        2/10–3/10.   247.273585  483.278761  \n",
       "3         2.0                  0             5/10.   257.955878  545.921252  \n",
       "4         3.0                  0        2/10–3/10.   258.255081  550.526112  "
      ]
     },
     "execution_count": 9,
     "metadata": {},
     "output_type": "execute_result"
    }
   ],
   "source": [
    "# Change ts to datetime and set as index:\n",
    "df[\"date\"] = pd.to_datetime(df[\"date\"],format='%Y-%m-%d')\n",
    "df.head()"
   ]
  },
  {
   "cell_type": "code",
   "execution_count": 10,
   "metadata": {},
   "outputs": [
    {
     "data": {
      "text/plain": [
       "68792"
      ]
     },
     "execution_count": 10,
     "metadata": {},
     "output_type": "execute_result"
    }
   ],
   "source": [
    "len(df)"
   ]
  },
  {
   "cell_type": "code",
   "execution_count": 11,
   "metadata": {},
   "outputs": [
    {
     "data": {
      "text/html": [
       "<div>\n",
       "<style scoped>\n",
       "    .dataframe tbody tr th:only-of-type {\n",
       "        vertical-align: middle;\n",
       "    }\n",
       "\n",
       "    .dataframe tbody tr th {\n",
       "        vertical-align: top;\n",
       "    }\n",
       "\n",
       "    .dataframe thead th {\n",
       "        text-align: right;\n",
       "    }\n",
       "</style>\n",
       "<table border=\"1\" class=\"dataframe\">\n",
       "  <thead>\n",
       "    <tr style=\"text-align: right;\">\n",
       "      <th></th>\n",
       "      <th>date</th>\n",
       "      <th>air_pressure</th>\n",
       "      <th>air_temperature</th>\n",
       "      <th>relative_humidity</th>\n",
       "      <th>wind_speed</th>\n",
       "      <th>solar_irridiation</th>\n",
       "      <th>total_cloud_cover</th>\n",
       "      <th>electricity</th>\n",
       "      <th>heat</th>\n",
       "    </tr>\n",
       "  </thead>\n",
       "  <tbody>\n",
       "    <tr>\n",
       "      <th>0</th>\n",
       "      <td>2010-12-01 00:00:00</td>\n",
       "      <td>729.7</td>\n",
       "      <td>25.0</td>\n",
       "      <td>85.0</td>\n",
       "      <td>5.0</td>\n",
       "      <td>0</td>\n",
       "      <td>no clouds</td>\n",
       "      <td>289.567557</td>\n",
       "      <td>432.940036</td>\n",
       "    </tr>\n",
       "    <tr>\n",
       "      <th>1</th>\n",
       "      <td>2010-12-01 01:00:00</td>\n",
       "      <td>729.4</td>\n",
       "      <td>27.8</td>\n",
       "      <td>77.0</td>\n",
       "      <td>7.0</td>\n",
       "      <td>0</td>\n",
       "      <td>no clouds</td>\n",
       "      <td>260.168520</td>\n",
       "      <td>473.935901</td>\n",
       "    </tr>\n",
       "    <tr>\n",
       "      <th>2</th>\n",
       "      <td>2010-12-01 02:00:00</td>\n",
       "      <td>728.9</td>\n",
       "      <td>33.3</td>\n",
       "      <td>62.0</td>\n",
       "      <td>7.0</td>\n",
       "      <td>0</td>\n",
       "      <td>2/10–3/10.</td>\n",
       "      <td>247.273585</td>\n",
       "      <td>483.278761</td>\n",
       "    </tr>\n",
       "    <tr>\n",
       "      <th>3</th>\n",
       "      <td>2010-12-01 03:00:00</td>\n",
       "      <td>731.6</td>\n",
       "      <td>32.2</td>\n",
       "      <td>62.0</td>\n",
       "      <td>2.0</td>\n",
       "      <td>0</td>\n",
       "      <td>5/10.</td>\n",
       "      <td>257.955878</td>\n",
       "      <td>545.921252</td>\n",
       "    </tr>\n",
       "    <tr>\n",
       "      <th>4</th>\n",
       "      <td>2010-12-01 04:00:00</td>\n",
       "      <td>732.6</td>\n",
       "      <td>22.8</td>\n",
       "      <td>96.0</td>\n",
       "      <td>3.0</td>\n",
       "      <td>0</td>\n",
       "      <td>2/10–3/10.</td>\n",
       "      <td>258.255081</td>\n",
       "      <td>550.526112</td>\n",
       "    </tr>\n",
       "  </tbody>\n",
       "</table>\n",
       "</div>"
      ],
      "text/plain": [
       "                 date  air_pressure  air_temperature  relative_humidity  \\\n",
       "0 2010-12-01 00:00:00         729.7             25.0               85.0   \n",
       "1 2010-12-01 01:00:00         729.4             27.8               77.0   \n",
       "2 2010-12-01 02:00:00         728.9             33.3               62.0   \n",
       "3 2010-12-01 03:00:00         731.6             32.2               62.0   \n",
       "4 2010-12-01 04:00:00         732.6             22.8               96.0   \n",
       "\n",
       "   wind_speed  solar_irridiation total_cloud_cover  electricity        heat  \n",
       "0         5.0                  0         no clouds   289.567557  432.940036  \n",
       "1         7.0                  0         no clouds   260.168520  473.935901  \n",
       "2         7.0                  0        2/10–3/10.   247.273585  483.278761  \n",
       "3         2.0                  0             5/10.   257.955878  545.921252  \n",
       "4         3.0                  0        2/10–3/10.   258.255081  550.526112  "
      ]
     },
     "execution_count": 11,
     "metadata": {},
     "output_type": "execute_result"
    }
   ],
   "source": [
    "df.head()"
   ]
  },
  {
   "cell_type": "code",
   "execution_count": 12,
   "metadata": {},
   "outputs": [],
   "source": [
    "df1 = df[[\"date\",'heat']]"
   ]
  },
  {
   "cell_type": "code",
   "execution_count": 13,
   "metadata": {},
   "outputs": [
    {
     "data": {
      "text/html": [
       "<div>\n",
       "<style scoped>\n",
       "    .dataframe tbody tr th:only-of-type {\n",
       "        vertical-align: middle;\n",
       "    }\n",
       "\n",
       "    .dataframe tbody tr th {\n",
       "        vertical-align: top;\n",
       "    }\n",
       "\n",
       "    .dataframe thead th {\n",
       "        text-align: right;\n",
       "    }\n",
       "</style>\n",
       "<table border=\"1\" class=\"dataframe\">\n",
       "  <thead>\n",
       "    <tr style=\"text-align: right;\">\n",
       "      <th></th>\n",
       "      <th>heat</th>\n",
       "    </tr>\n",
       "    <tr>\n",
       "      <th>date</th>\n",
       "      <th></th>\n",
       "    </tr>\n",
       "  </thead>\n",
       "  <tbody>\n",
       "    <tr>\n",
       "      <th>2010-12-01 00:00:00</th>\n",
       "      <td>432.940036</td>\n",
       "    </tr>\n",
       "    <tr>\n",
       "      <th>2010-12-01 01:00:00</th>\n",
       "      <td>473.935901</td>\n",
       "    </tr>\n",
       "    <tr>\n",
       "      <th>2010-12-01 02:00:00</th>\n",
       "      <td>483.278761</td>\n",
       "    </tr>\n",
       "    <tr>\n",
       "      <th>2010-12-01 03:00:00</th>\n",
       "      <td>545.921252</td>\n",
       "    </tr>\n",
       "    <tr>\n",
       "      <th>2010-12-01 04:00:00</th>\n",
       "      <td>550.526112</td>\n",
       "    </tr>\n",
       "  </tbody>\n",
       "</table>\n",
       "</div>"
      ],
      "text/plain": [
       "                           heat\n",
       "date                           \n",
       "2010-12-01 00:00:00  432.940036\n",
       "2010-12-01 01:00:00  473.935901\n",
       "2010-12-01 02:00:00  483.278761\n",
       "2010-12-01 03:00:00  545.921252\n",
       "2010-12-01 04:00:00  550.526112"
      ]
     },
     "execution_count": 13,
     "metadata": {},
     "output_type": "execute_result"
    }
   ],
   "source": [
    "df1 = df1.set_index(\"date\")\n",
    "df1.head()"
   ]
  },
  {
   "cell_type": "code",
   "execution_count": 14,
   "metadata": {},
   "outputs": [],
   "source": [
    "x = df1['heat'].values.reshape(-1, 1) #returns a numpy array\n",
    "min_max_scaler = StandardScaler()\n",
    "x_scaled = min_max_scaler.fit_transform(x)\n",
    "df1['heat'] = x_scaled"
   ]
  },
  {
   "cell_type": "code",
   "execution_count": 15,
   "metadata": {},
   "outputs": [
    {
     "data": {
      "text/html": [
       "<div>\n",
       "<style scoped>\n",
       "    .dataframe tbody tr th:only-of-type {\n",
       "        vertical-align: middle;\n",
       "    }\n",
       "\n",
       "    .dataframe tbody tr th {\n",
       "        vertical-align: top;\n",
       "    }\n",
       "\n",
       "    .dataframe thead th {\n",
       "        text-align: right;\n",
       "    }\n",
       "</style>\n",
       "<table border=\"1\" class=\"dataframe\">\n",
       "  <thead>\n",
       "    <tr style=\"text-align: right;\">\n",
       "      <th></th>\n",
       "      <th>heat</th>\n",
       "    </tr>\n",
       "    <tr>\n",
       "      <th>date</th>\n",
       "      <th></th>\n",
       "    </tr>\n",
       "  </thead>\n",
       "  <tbody>\n",
       "    <tr>\n",
       "      <th>2010-12-01 00:00:00</th>\n",
       "      <td>0.537153</td>\n",
       "    </tr>\n",
       "    <tr>\n",
       "      <th>2010-12-01 01:00:00</th>\n",
       "      <td>0.667290</td>\n",
       "    </tr>\n",
       "    <tr>\n",
       "      <th>2010-12-01 02:00:00</th>\n",
       "      <td>0.696948</td>\n",
       "    </tr>\n",
       "    <tr>\n",
       "      <th>2010-12-01 03:00:00</th>\n",
       "      <td>0.895801</td>\n",
       "    </tr>\n",
       "    <tr>\n",
       "      <th>2010-12-01 04:00:00</th>\n",
       "      <td>0.910419</td>\n",
       "    </tr>\n",
       "  </tbody>\n",
       "</table>\n",
       "</div>"
      ],
      "text/plain": [
       "                         heat\n",
       "date                         \n",
       "2010-12-01 00:00:00  0.537153\n",
       "2010-12-01 01:00:00  0.667290\n",
       "2010-12-01 02:00:00  0.696948\n",
       "2010-12-01 03:00:00  0.895801\n",
       "2010-12-01 04:00:00  0.910419"
      ]
     },
     "execution_count": 15,
     "metadata": {},
     "output_type": "execute_result"
    }
   ],
   "source": [
    "df1.head()"
   ]
  },
  {
   "cell_type": "code",
   "execution_count": 16,
   "metadata": {},
   "outputs": [
    {
     "data": {
      "text/html": [
       "<div>\n",
       "<style scoped>\n",
       "    .dataframe tbody tr th:only-of-type {\n",
       "        vertical-align: middle;\n",
       "    }\n",
       "\n",
       "    .dataframe tbody tr th {\n",
       "        vertical-align: top;\n",
       "    }\n",
       "\n",
       "    .dataframe thead th {\n",
       "        text-align: right;\n",
       "    }\n",
       "</style>\n",
       "<table border=\"1\" class=\"dataframe\">\n",
       "  <thead>\n",
       "    <tr style=\"text-align: right;\">\n",
       "      <th></th>\n",
       "      <th>heat</th>\n",
       "    </tr>\n",
       "    <tr>\n",
       "      <th>date</th>\n",
       "      <th></th>\n",
       "    </tr>\n",
       "  </thead>\n",
       "  <tbody>\n",
       "    <tr>\n",
       "      <th>2010-12-01</th>\n",
       "      <td>0.073040</td>\n",
       "    </tr>\n",
       "    <tr>\n",
       "      <th>2010-12-02</th>\n",
       "      <td>-0.212695</td>\n",
       "    </tr>\n",
       "    <tr>\n",
       "      <th>2010-12-03</th>\n",
       "      <td>0.291141</td>\n",
       "    </tr>\n",
       "    <tr>\n",
       "      <th>2010-12-04</th>\n",
       "      <td>1.031632</td>\n",
       "    </tr>\n",
       "    <tr>\n",
       "      <th>2010-12-05</th>\n",
       "      <td>1.426792</td>\n",
       "    </tr>\n",
       "  </tbody>\n",
       "</table>\n",
       "</div>"
      ],
      "text/plain": [
       "                heat\n",
       "date                \n",
       "2010-12-01  0.073040\n",
       "2010-12-02 -0.212695\n",
       "2010-12-03  0.291141\n",
       "2010-12-04  1.031632\n",
       "2010-12-05  1.426792"
      ]
     },
     "execution_count": 16,
     "metadata": {},
     "output_type": "execute_result"
    }
   ],
   "source": [
    "davg_df = df1.groupby(pd.Grouper(freq='D')).mean()\n",
    "davg_df.head()"
   ]
  },
  {
   "cell_type": "code",
   "execution_count": 17,
   "metadata": {},
   "outputs": [
    {
     "data": {
      "text/plain": [
       "2920"
      ]
     },
     "execution_count": 17,
     "metadata": {},
     "output_type": "execute_result"
    }
   ],
   "source": [
    "len(davg_df)"
   ]
  },
  {
   "cell_type": "code",
   "execution_count": 18,
   "metadata": {},
   "outputs": [],
   "source": [
    "dftrain, dftest = train_test_split(davg_df, test_size=0.01*7)"
   ]
  },
  {
   "cell_type": "code",
   "execution_count": 19,
   "metadata": {},
   "outputs": [
    {
     "data": {
      "text/plain": [
       "205"
      ]
     },
     "execution_count": 19,
     "metadata": {},
     "output_type": "execute_result"
    }
   ],
   "source": [
    "len(dftest)"
   ]
  },
  {
   "cell_type": "code",
   "execution_count": 20,
   "metadata": {},
   "outputs": [],
   "source": [
    "dftrain, dfvali = train_test_split(dftrain, test_size=0.2)"
   ]
  },
  {
   "cell_type": "code",
   "execution_count": 21,
   "metadata": {},
   "outputs": [
    {
     "data": {
      "text/plain": [
       "2172"
      ]
     },
     "execution_count": 21,
     "metadata": {},
     "output_type": "execute_result"
    }
   ],
   "source": [
    "len(dftrain)"
   ]
  },
  {
   "cell_type": "code",
   "execution_count": 22,
   "metadata": {},
   "outputs": [
    {
     "data": {
      "text/plain": [
       "543"
      ]
     },
     "execution_count": 22,
     "metadata": {},
     "output_type": "execute_result"
    }
   ],
   "source": [
    "len(dfvali)"
   ]
  },
  {
   "cell_type": "code",
   "execution_count": 23,
   "metadata": {},
   "outputs": [],
   "source": [
    "# best\n",
    "random.seed(0)"
   ]
  },
  {
   "cell_type": "code",
   "execution_count": 24,
   "metadata": {},
   "outputs": [
    {
     "name": "stdout",
     "output_type": "stream",
     "text": [
      "Performing stepwise search to minimize aic\n",
      " ARIMA(3,1,3)(0,1,0)[12]             : AIC=inf, Time=3.22 sec\n",
      " ARIMA(0,1,0)(0,1,0)[12]             : AIC=8799.832, Time=0.06 sec\n",
      " ARIMA(1,1,0)(1,1,0)[12]             : AIC=7676.675, Time=0.29 sec\n",
      " ARIMA(0,1,1)(0,1,1)[12]             : AIC=inf, Time=2.10 sec\n",
      " ARIMA(1,1,0)(0,1,0)[12]             : AIC=8253.812, Time=0.09 sec\n",
      " ARIMA(1,1,0)(2,1,0)[12]             : AIC=7435.948, Time=0.56 sec\n",
      " ARIMA(1,1,0)(3,1,0)[12]             : AIC=7266.982, Time=1.27 sec\n",
      " ARIMA(1,1,0)(4,1,0)[12]             : AIC=7205.552, Time=2.06 sec\n",
      " ARIMA(1,1,0)(5,1,0)[12]             : AIC=7166.178, Time=4.51 sec\n",
      " ARIMA(1,1,0)(5,1,1)[12]             : AIC=inf, Time=38.10 sec\n",
      " ARIMA(1,1,0)(4,1,1)[12]             : AIC=inf, Time=21.51 sec\n",
      " ARIMA(0,1,0)(5,1,0)[12]             : AIC=7771.263, Time=2.88 sec\n",
      " ARIMA(2,1,0)(5,1,0)[12]             : AIC=6913.871, Time=5.29 sec\n",
      " ARIMA(2,1,0)(4,1,0)[12]             : AIC=6962.648, Time=2.58 sec\n",
      " ARIMA(2,1,0)(5,1,1)[12]             : AIC=inf, Time=35.91 sec\n",
      " ARIMA(2,1,0)(4,1,1)[12]             : AIC=inf, Time=21.11 sec\n",
      " ARIMA(3,1,0)(5,1,0)[12]             : AIC=6723.886, Time=6.77 sec\n",
      " ARIMA(3,1,0)(4,1,0)[12]             : AIC=6777.957, Time=4.45 sec\n",
      " ARIMA(3,1,0)(5,1,1)[12]             : AIC=inf, Time=38.15 sec\n",
      " ARIMA(3,1,0)(4,1,1)[12]             : AIC=inf, Time=28.03 sec\n",
      " ARIMA(4,1,0)(5,1,0)[12]             : AIC=6632.023, Time=7.12 sec\n",
      " ARIMA(4,1,0)(4,1,0)[12]             : AIC=6684.371, Time=4.64 sec\n",
      " ARIMA(4,1,0)(5,1,1)[12]             : AIC=inf, Time=37.67 sec\n",
      " ARIMA(4,1,0)(4,1,1)[12]             : AIC=inf, Time=29.82 sec\n",
      " ARIMA(5,1,0)(5,1,0)[12]             : AIC=6550.274, Time=7.87 sec\n",
      " ARIMA(5,1,0)(4,1,0)[12]             : AIC=6607.761, Time=5.48 sec\n",
      " ARIMA(5,1,0)(5,1,1)[12]             : AIC=inf, Time=41.61 sec\n",
      " ARIMA(5,1,0)(4,1,1)[12]             : AIC=inf, Time=30.59 sec\n",
      " ARIMA(5,1,1)(5,1,0)[12]             : AIC=inf, Time=63.33 sec\n",
      " ARIMA(4,1,1)(5,1,0)[12]             : AIC=inf, Time=60.98 sec\n",
      " ARIMA(5,1,0)(5,1,0)[12] intercept   : AIC=6552.271, Time=19.67 sec\n",
      "\n",
      "Best model:  ARIMA(5,1,0)(5,1,0)[12]          \n",
      "Total fit time: 527.778 seconds\n"
     ]
    },
    {
     "data": {
      "text/plain": [
       "Pipeline(steps=[('model',\n",
       "                 AutoARIMA(D=1, d=1, error_action='warn', m=12, max_P=5,\n",
       "                           max_Q=10, n_fits=100, random_state=20, start_P=0,\n",
       "                           start_Q=0, start_p=3, start_q=3, test='adf',\n",
       "                           trace=True))])"
      ]
     },
     "execution_count": 24,
     "metadata": {},
     "output_type": "execute_result"
    }
   ],
   "source": [
    "pipeline = Pipeline([\n",
    "    (\"model\", pm.AutoARIMA(test='adf',\n",
    "                           start_p=3, start_q=3, max_p=5, max_q=5, start_P=0, start_Q=0, max_P=5, max_Q=10, m=12, stepwise=True, seasonal=True, information_criterion='aic', trace=True, d=1, D=1, error_action='warn', \n",
    "                           suppress_warnings=True, random_state=20, n_fits=100))\n",
    "])\n",
    "\n",
    "'''\n",
    "pipeline = Pipeline([\n",
    "    (\"model\",pm.AutoARIMA(test='adf',\n",
    "                           max_p=3, max_q=3, m=7,\n",
    "                           start_P=1,start_Q=1, seasonal=True,\n",
    "                           d=1, D=1, trace=True,\n",
    "                           error_action='ignore',  \n",
    "                           suppress_warnings=True, \n",
    "                           stepwise=False))\n",
    "])\n",
    "'''\n",
    "pipeline.fit(dftrain)"
   ]
  },
  {
   "cell_type": "code",
   "execution_count": null,
   "metadata": {},
   "outputs": [],
   "source": [
    "##### univariate arima model predict electricity_demand_values  \n",
    "# best\n",
    "#Arima_model=pm.auto_arima(dftrain['electricity_demand_values'],start_p=3, start_q=3, max_p=5, max_q=5, start_P=0, start_Q=0, max_P=5, max_Q=10, m=12, stepwise=True, seasonal=True, information_criterion='aic', trace=True, d=1, D=1, error_action='warn', suppress_warnings=True, random_state=20, n_fits=100)\n",
    "\n",
    "#Arima_model=pm.auto_arima(dftrain['electricity_demand_values'],start_p=3, start_q=3, max_p=5, max_q=6, start_P=0, start_Q=4, max_P=6, max_Q=10, m=12, stepwise=True, seasonal=True, information_criterion='aic', trace=True, d=1, D=1, error_action='warn', suppress_warnings=True, random_state=20, n_fits=100)\n",
    "\n",
    "#Arima_model=pm.auto_arima(dftrain['electricity_demand_values'],start_p=3, start_q=3, max_p=5, max_q=6, start_P=0, start_Q=4, max_P=6, max_Q=10, m=12, stepwise=True, seasonal=True, information_criterion='bic', trace=True, d=1, D=1, error_action='warn', suppress_warnings=True, n_fits=100)\n",
    "\n",
    "#Arima_model=pm.auto_arima(dftrain['electricity_demand_values'],start_p=3, start_q=3, max_p=5, max_q=6, start_P=1, start_Q=4, max_P=6, max_Q=10, m=12, stepwise=True, seasonal=True, information_criterion='bic', trace=True, d=1, D=1, error_action='warn', suppress_warnings=True, n_fits=100)\n"
   ]
  },
  {
   "cell_type": "code",
   "execution_count": 25,
   "metadata": {},
   "outputs": [
    {
     "name": "stderr",
     "output_type": "stream",
     "text": [
      "C:\\ProgramData\\Anaconda3\\lib\\site-packages\\pmdarima\\arima\\arima.py:692: UserWarning: As of version 1.5.0 'typ' is no longer a valid arg for predict. In future versions this will raise a TypeError.\n",
      "  warnings.warn(\"As of version 1.5.0 'typ' is no longer a valid \"\n"
     ]
    }
   ],
   "source": [
    "Sample_predictions= pipeline.predict_in_sample(exogenous=None, return_conf_int=False)\n",
    "Actuals = pd.Series.to_numpy(dftrain['heat'])\n",
    "Residuals = Actuals-Sample_predictions"
   ]
  },
  {
   "cell_type": "code",
   "execution_count": 26,
   "metadata": {},
   "outputs": [
    {
     "data": {
      "text/plain": [
       "array([-0.12706634, -0.71010807,  0.13081852, ...,  1.98433657,\n",
       "       -1.32253996, -1.67787797])"
      ]
     },
     "execution_count": 26,
     "metadata": {},
     "output_type": "execute_result"
    }
   ],
   "source": [
    "Residuals"
   ]
  },
  {
   "cell_type": "code",
   "execution_count": 27,
   "metadata": {},
   "outputs": [
    {
     "data": {
      "text/plain": [
       "array([-0.44888389,  0.20305423,  0.2127401 ,  0.03877459, -0.36919695,\n",
       "        0.79724173,  0.08745892, -0.22448456, -0.53491077,  0.19057857,\n",
       "       -0.44173273,  0.03757358, -0.50254126,  0.02240206,  0.2700741 ,\n",
       "       -0.02407765, -0.11695966,  0.9446849 ,  0.02332796, -0.67282648,\n",
       "       -0.46617369,  0.26416482, -0.54019215,  0.20804513, -0.4946201 ,\n",
       "       -0.12834881,  0.31813311,  0.01755705, -0.10217268,  1.18680806,\n",
       "       -0.03348782, -0.68661543, -0.82675009,  0.48937695, -0.45695351,\n",
       "        0.38977315, -0.49325702, -0.25934143,  0.12748654,  0.07604719,\n",
       "       -0.02123345,  1.3102883 , -0.24509813, -0.69550328, -0.84245941,\n",
       "        0.46535708, -0.72178393,  0.26814513, -0.64385916, -0.19334261,\n",
       "       -0.13473343, -0.12811969, -0.11573478,  1.11788994, -0.23626579,\n",
       "       -0.8119883 , -0.87652024,  0.55527281, -0.70550401,  0.15812765,\n",
       "       -0.73884275, -0.10327744, -0.09629591, -0.11188115, -0.33943988,\n",
       "        1.14602942, -0.12479757, -0.82683288, -0.892158  ,  0.53192809,\n",
       "       -0.78483376, -0.0975589 , -0.72037747, -0.24239847, -0.04706837,\n",
       "       -0.18715307, -0.34644296,  0.92093013, -0.25203954, -0.81872406,\n",
       "       -0.91076523,  0.25308731, -0.77241393, -0.00501581, -0.76348176,\n",
       "       -0.32044368, -0.09336072, -0.22431222, -0.33767746,  0.93856186,\n",
       "       -0.31515493, -0.91719141, -0.96823602,  0.25623786, -0.83306187,\n",
       "       -0.01202335, -0.8102715 , -0.37407523, -0.15780336, -0.26217218,\n",
       "       -0.37613556,  0.93506505, -0.36804596, -0.96136548, -1.05303516,\n",
       "        0.26107601, -0.878076  , -0.04890879, -0.86269453, -0.41316565,\n",
       "       -0.23311692, -0.30500158, -0.42539896,  0.89752811, -0.42099183,\n",
       "       -1.00505209, -1.09075404,  0.22274165, -0.95013654, -0.1265213 ,\n",
       "       -0.92242185, -0.44221932, -0.29282248, -0.37025519, -0.48985064,\n",
       "        0.8231251 , -0.45410204, -1.05577966, -1.13134881,  0.17655754,\n",
       "       -0.98672896, -0.18720783, -0.96985081, -0.48271586, -0.32018146,\n",
       "       -0.41027222, -0.55203724,  0.77727463, -0.4891521 , -1.09833113,\n",
       "       -1.17426044,  0.1174733 , -1.03432673, -0.24598864, -1.00816038,\n",
       "       -0.54591021, -0.3572218 , -0.45968623, -0.58802318,  0.71592223,\n",
       "       -0.54983228, -1.14264169, -1.22194715,  0.04831459, -1.07562875,\n",
       "       -0.27079098, -1.05605399, -0.59664253, -0.40929706, -0.50517199,\n",
       "       -0.62798505,  0.68132155, -0.59990811, -1.19665047, -1.27317639,\n",
       "        0.01352985, -1.12668917, -0.31532214, -1.10511525, -0.64230347,\n",
       "       -0.46210734, -0.55239094, -0.67665827,  0.63812508, -0.64692774,\n",
       "       -1.24349214, -1.32410171, -0.02648619, -1.17516993, -0.36588905,\n",
       "       -1.15414311, -0.68698054, -0.51232416, -0.6003593 , -0.72696995,\n",
       "        0.58902767, -0.69326137, -1.29028731, -1.36927151, -0.07461736,\n",
       "       -1.2248659 , -0.41897683, -1.20253974, -0.73299223, -0.55889105,\n",
       "       -0.64976833, -0.77685842,  0.53714036, -0.73905358, -1.33780222,\n",
       "       -1.41566311, -0.12461735, -1.27051336, -0.46715156, -1.24935067,\n",
       "       -0.78131325, -0.6033888 , -0.69629761, -0.8247073 ,  0.48988457,\n",
       "       -0.78639174, -1.38499261, -1.46311607, -0.17431233, -1.31791673,\n",
       "       -0.51400853, -1.29592381, -0.83105274, -0.65058279, -0.74395462,\n",
       "       -0.87023444,  0.44194199, -0.83592189, -1.43265838, -1.51129985,\n",
       "       -0.22298657, -1.36515558, -0.55871827, -1.34388565, -0.87857353,\n",
       "       -0.69949781, -0.79134888, -0.91726165,  0.39620927, -0.88362501,\n",
       "       -1.48100126, -1.55944622, -0.26828705, -1.413451  , -0.60674251,\n",
       "       -1.39187605, -0.9255383 , -0.74784778, -0.83907832, -0.96550063,\n",
       "        0.34865489, -0.93087017, -1.52841281, -1.60717153, -0.31523772,\n",
       "       -1.46118959, -0.65529335, -1.43964868, -0.97276126, -0.79541999,\n",
       "       -0.8868158 , -1.01364123,  0.30045618, -0.97819796, -1.57587957,\n",
       "       -1.65435375, -0.36338699, -1.50888036, -0.70353008, -1.48721947,\n",
       "       -1.02042682, -0.84262169, -0.93457791, -1.06137753,  0.25232756,\n",
       "       -1.02572942, -1.62348237, -1.70187074, -0.41153581, -1.55620562,\n",
       "       -0.75090169, -1.53468302, -1.06830947, -0.88993151, -0.98203978,\n",
       "       -1.10880747,  0.20490286, -1.07348703, -1.67111219, -1.74957815,\n",
       "       -0.45929819, -1.60383487, -0.79822733, -1.58223794, -1.11613688,\n",
       "       -0.93768604, -1.0296646 , -1.15617028,  0.15739152, -1.12133344,\n",
       "       -1.71878523, -1.79732149, -0.50680907, -1.65148369, -0.84560395,\n",
       "       -1.62995643, -1.16365123, -0.98553396, -1.07728488, -1.20382595,\n",
       "        0.10995688, -1.16890311, -1.76647419, -1.84498275, -0.55412532,\n",
       "       -1.69920711, -0.89341963, -1.67763487, -1.21116495, -1.03320219,\n",
       "       -1.12494291, -1.25158674,  0.06224618, -1.21644733, -1.81405482,\n",
       "       -1.89257499, -0.60176438, -1.74682707, -0.94119304, -1.7252588 ,\n",
       "       -1.25877267, -1.08075796, -1.17258227, -1.29926528,  0.01451818,\n",
       "       -1.26404587, -1.86166049, -1.9401436 , -0.6495192 , -1.79443636,\n",
       "       -0.98884181, -1.77286017, -1.30644343, -1.12831855, -1.22021227,\n",
       "       -1.34686565, -0.03314035, -1.31169066, -1.90929152, -1.98777588,\n",
       "       -0.69720707, -1.84202855, -1.03639024, -1.82046917, -1.35410927,\n",
       "       -1.17593693, -1.26781747, -1.39444956, -0.08071459, -1.35934765,\n",
       "       -1.95692753, -2.03542681, -0.7448135 , -1.88966717, -1.08397685,\n",
       "       -1.86809997, -1.4017421 , -1.22360335, -1.31544743, -1.44205819,\n",
       "       -0.12832031, -1.40699072, -2.00456179, -2.08306768, -0.79240234,\n",
       "       -1.93730505, -1.13160218, -1.91574333, -1.44934347, -1.27125533,\n",
       "       -1.363078  , -1.48970577, -0.17593986, -1.45460057, -2.05219147,\n",
       "       -2.13069123, -0.84000284, -1.98494194, -1.17926794, -1.96337429,\n",
       "       -1.49695932, -1.31887513, -1.41071021, -1.53735194, -0.22358902,\n",
       "       -1.50221693, -2.09981126, -2.17830989, -0.88764875, -2.03256387,\n",
       "       -1.22690825, -2.01099735, -1.54459201, -1.36648739, -1.45833763,\n",
       "       -1.5849791 , -0.27122726, -1.54984553, -2.14743728, -2.2259326 ,\n",
       "       -0.93529573, -2.08018715, -1.27452747, -2.05862057, -1.59222851,\n",
       "       -1.41410961, -1.50596382, -1.63259795, -0.31885176, -1.59747896,\n",
       "       -2.19506683, -2.27356411, -0.98292487, -2.12781227, -1.32214176,\n",
       "       -2.10624755, -1.63985888, -1.46174155, -1.55358904, -1.68022044,\n",
       "       -0.36647015, -1.6451099 , -2.24269608, -2.32119539, -1.03054417,\n",
       "       -2.175443  , -1.36976766, -2.15387719, -1.68748386, -1.50937538,\n",
       "       -1.60121768, -1.72784905, -0.41409648, -1.69273695, -2.29032399,\n",
       "       -2.36882339, -1.07816646, -2.22307215, -1.41739936, -2.20150666,\n",
       "       -1.73510762, -1.55700392, -1.64884604, -1.77548072, -0.46172586,\n",
       "       -1.74036141, -2.33795108, -2.41644931, -1.12579395, -2.2707    ,\n",
       "       -1.46503204, -2.24913386, -1.78273505, -1.60462871, -1.69647403,\n",
       "       -1.82310979, -0.50935674, -1.78798826, -2.38557772, -2.46407575,\n",
       "       -1.17342567, -2.31832632, -1.51265927, -2.29676046, -1.83036433,\n",
       "       -1.65225438, -1.7441013 , -1.87073608, -0.55698459, -1.83561683,\n",
       "       -2.43320546, -2.51170342, -1.22105507, -2.36595346, -1.5602845 ,\n",
       "       -2.34438768, -1.877993  , -1.69988227, -1.79172862, -1.91836227,\n",
       "       -0.60461087, -1.88324537, -2.4808335 , -2.55933187, -1.26868161,\n",
       "       -2.41358117, -1.60791072, -2.39201555, -1.92562038, -1.74751102,\n",
       "       -1.83935608, -1.96598971, -0.65223739, -1.93087305, -2.52846127,\n",
       "       -2.60695981, -1.31630774, -2.46120932, -1.65553894, -2.43964353,\n",
       "       -1.97324732, -1.79513922, -1.88698392, -2.01361792, -0.69986531,\n",
       "       -1.97850025, -2.57608878, -2.65458721, -1.36393507, -2.50883702,\n",
       "       -1.70316744, -2.48727124, -2.02087458, -1.84276653, -1.93461162,\n",
       "       -2.06124603, -0.74749343, -2.02612749, -2.62371626, -2.70221451,\n",
       "       -1.41156317, -2.5564645 , -1.75079543, -2.53489867, -2.06850241,\n",
       "       -1.89039364, -1.98223922, -2.10887358, -0.79512134, -2.07375517,\n",
       "       -2.67134379, -2.74984206, -1.45919134, -2.60409192, -1.79842266,\n",
       "       -2.58252615, -2.1161303 , -1.93802114])"
      ]
     },
     "execution_count": 27,
     "metadata": {},
     "output_type": "execute_result"
    }
   ],
   "source": [
    "forecast, conf = pipeline.predict(n_periods=543, return_conf_int=True)\n",
    "forecast"
   ]
  },
  {
   "cell_type": "code",
   "execution_count": 28,
   "metadata": {},
   "outputs": [
    {
     "data": {
      "text/plain": [
       "array([-8.37174302e-01, -3.80693427e-01,  2.33839402e+00, -8.08187553e-01,\n",
       "       -6.24402081e-01,  2.02348561e+00, -7.59289462e-01, -8.27518858e-01,\n",
       "       -6.73934790e-01,  6.15677747e-01, -8.37174302e-01, -7.20205590e-01,\n",
       "       -2.61241349e-01, -5.21897474e-01, -8.08117711e-01,  2.69130931e-01,\n",
       "        2.06378587e+00,  2.22195966e+00,  3.08328868e-01,  6.95326943e-01,\n",
       "       -8.33959644e-01, -3.78708289e-02, -8.36699927e-01,  1.36815906e+00,\n",
       "       -8.32721871e-01,  1.35521542e+00, -8.19567512e-01, -8.07308236e-01,\n",
       "        6.08904879e-01, -4.57360988e-01,  4.16980145e-01,  1.39592405e-01,\n",
       "       -3.15765254e-01,  1.45748163e+00, -8.37174302e-01,  3.60064646e-01,\n",
       "        5.10793337e-01, -8.37174302e-01,  8.00783975e-01,  1.70979311e-01,\n",
       "       -7.07514323e-01, -8.37174302e-01, -3.83646046e-01, -3.80693427e-01,\n",
       "       -3.29059941e-01, -5.96798246e-01,  1.24455129e+00, -8.37174302e-01,\n",
       "        3.32431006e-02, -5.13606809e-01, -8.37174302e-01,  2.97544516e+00,\n",
       "        5.98340137e-01, -8.37174302e-01, -6.07152667e-01, -7.85319711e-01,\n",
       "       -4.05685451e-01, -8.21611364e-01, -1.76078075e-01, -1.66510107e-01,\n",
       "        2.21509615e-01,  1.65875643e+00, -6.80483206e-01,  1.53486418e-01,\n",
       "       -7.70553682e-01,  5.74659737e-01, -8.34254734e-01,  2.49084948e+00,\n",
       "       -5.77521422e-01,  1.68401336e-01, -6.48397598e-01, -8.32721871e-01,\n",
       "       -6.81447725e-01, -7.75146077e-01,  1.43464451e+00,  1.08024548e+00,\n",
       "        5.18366777e-01,  1.23642338e+00, -8.37174302e-01,  6.78432121e-01,\n",
       "        8.01997619e-01, -8.37174302e-01, -2.62149804e-01,  1.42088698e+00,\n",
       "        2.39165560e+00, -2.03267409e-01, -8.37174302e-01, -8.37174302e-01,\n",
       "        1.41528339e+00,  1.19503190e-01, -3.43267692e-01, -5.66680186e-01,\n",
       "       -8.31630723e-01,  5.21314060e-01, -5.77577664e-01, -8.08399780e-01,\n",
       "        1.16786325e+00,  1.66892168e-01, -2.27262990e-01,  1.83650723e+00,\n",
       "       -4.63503771e-01, -4.94097802e-01, -8.37174302e-01, -4.83172052e-01,\n",
       "        6.98922030e-01,  8.72509514e-02, -8.37174302e-01, -8.35897988e-01,\n",
       "        1.38946764e-01, -3.95549351e-01,  9.86998210e-02, -6.38167110e-01,\n",
       "        2.86832088e-01,  2.09753630e+00, -7.78387154e-01, -7.90053208e-01,\n",
       "       -8.25761991e-01,  2.02220404e-01, -2.08596978e-01, -8.32974464e-01,\n",
       "       -8.37174302e-01,  8.12010572e-01,  1.22089697e+00,  2.94998897e+00,\n",
       "        6.06113669e-01,  1.21147933e+00, -8.21644258e-01, -8.37174302e-01,\n",
       "        4.43875758e-01,  1.26738509e+00,  1.19688515e+00,  2.39410663e+00,\n",
       "        9.80048035e-05,  1.96897424e-02, -8.37174302e-01, -8.29691764e-01,\n",
       "       -6.12638031e-01, -2.69586056e-01,  1.24542003e+00, -8.37174302e-01,\n",
       "        2.05448546e+00,  5.38828190e-01, -3.56104874e-01,  1.44401781e+00,\n",
       "       -1.69030770e-01, -1.39242873e-01,  1.30154452e+00,  1.98591199e-03,\n",
       "        1.51012454e-01, -2.77404267e-01, -8.19567512e-01, -8.37174302e-01,\n",
       "        1.68653879e+00,  5.46799018e-01, -8.37174302e-01,  1.91563596e+00,\n",
       "        8.20983588e-01,  1.27239592e+00, -8.37174302e-01, -8.37174302e-01,\n",
       "       -8.37174302e-01, -8.37174302e-01,  2.01698993e+00,  2.53810414e+00,\n",
       "       -5.05524615e-01, -2.06436185e-01, -1.65033926e-01, -8.37174302e-01,\n",
       "       -3.73650240e-02,  1.01153823e-01,  1.45689003e+00,  1.00983136e+00,\n",
       "       -2.40958843e-01,  1.23769853e+00, -8.37174302e-01,  1.25215608e+00,\n",
       "        1.22864855e-01, -8.15213222e-01, -7.06354533e-01,  8.69031503e-01,\n",
       "        1.38007469e+00, -3.04309526e-01, -8.37174302e-01, -8.37174302e-01,\n",
       "       -1.10383362e-01, -6.12415649e-01, -8.37174302e-01, -5.33589171e-01,\n",
       "        2.20789290e+00,  2.05351192e-01,  2.45316346e+00,  3.69149765e-01,\n",
       "       -1.41805349e-01, -8.17251849e-01, -2.01757501e-01, -4.60242494e-01,\n",
       "       -8.37174302e-01,  1.36908172e+00,  1.23818286e+00,  2.31412935e+00,\n",
       "        1.42110023e+00, -8.37174302e-01,  1.00195508e+00, -8.37174302e-01,\n",
       "       -5.40314910e-01, -7.76875029e-01,  2.07115983e+00, -8.17639188e-01,\n",
       "       -4.90480190e-01,  6.04202224e-01,  6.94257747e-01, -8.11589964e-01,\n",
       "       -8.37174302e-01,  1.18110457e+00, -5.06252313e-01, -8.37174302e-01,\n",
       "       -8.37174302e-01, -8.37174302e-01, -8.37174302e-01, -5.16631751e-01,\n",
       "        3.43708149e-01, -8.36699927e-01,  1.24895477e+00,  1.29286206e+00,\n",
       "        1.70986597e+00, -8.37174302e-01, -7.25650887e-01, -8.37174302e-01,\n",
       "       -5.29553621e-01, -8.37174302e-01, -7.87661799e-01, -5.87217299e-01,\n",
       "        5.11315976e-01, -8.37174302e-01, -2.06813041e-02,  7.13272045e-01,\n",
       "       -7.06354533e-01,  1.44160984e+00, -3.52351404e-01, -8.37174302e-01,\n",
       "       -2.76731118e-01,  1.99377670e+00,  4.95518378e-02, -8.37174302e-01,\n",
       "        5.03399706e-01, -8.37174302e-01, -4.25091844e-01, -2.40200310e-01,\n",
       "        2.21745198e-01, -5.26700404e-01, -2.49561122e-01, -2.18986753e-01,\n",
       "       -4.67183733e-01, -5.54363262e-01, -3.16862561e-01,  1.99808250e-01,\n",
       "        1.38972258e+00, -4.30549343e-01, -1.84096222e-02, -3.07666997e-01,\n",
       "       -6.66207050e-01,  1.14197393e+00,  5.57588605e-02, -8.19567512e-01,\n",
       "       -4.91280762e-01, -5.33212076e-01, -2.64506002e-01, -8.37174302e-01,\n",
       "        1.02933902e+00, -5.01838398e-01, -4.97254239e-01,  4.24781194e-02,\n",
       "       -7.07514323e-01, -5.66424627e-01, -5.75673844e-01, -8.37174302e-01,\n",
       "       -8.07148713e-01, -5.92903819e-01, -8.37174302e-01, -8.66022906e-02,\n",
       "       -5.71509513e-01, -6.87639231e-01,  7.09511726e-01, -8.24055771e-01,\n",
       "        6.78083693e-02, -8.27518858e-01, -8.32974464e-01, -8.17198683e-01,\n",
       "        1.65548333e+00,  2.32904059e+00,  2.41682839e+00, -5.18064131e-01,\n",
       "       -3.42805741e-01, -7.87802759e-01,  1.30731522e+00,  5.95225395e-01,\n",
       "       -2.99022055e-01, -7.63969058e-01,  2.20531551e-01, -1.46496014e-01,\n",
       "       -3.95720231e-02,  7.86682265e-01, -1.00416632e-01,  1.01154192e+00,\n",
       "       -8.07308236e-01, -4.69098148e-01, -6.08421125e-01,  1.89202169e+00,\n",
       "       -4.49613052e-01, -8.37174302e-01, -4.20379032e-01, -8.34298577e-01,\n",
       "       -6.20084476e-01,  2.76956296e-01, -5.22148630e-01, -2.71888560e-01,\n",
       "       -7.07514323e-01, -8.37174302e-01,  1.34974603e+00, -8.04846782e-01,\n",
       "       -8.37174302e-01, -8.37174302e-01, -8.29691764e-01, -8.37174302e-01,\n",
       "        2.05005129e+00, -1.35375516e-01,  1.27816060e+00,  6.69617035e-01,\n",
       "        4.54515610e-01, -8.37174302e-01, -3.93195084e-01, -8.37174302e-01,\n",
       "        6.21119673e-01, -2.82942012e-01, -8.27843138e-01, -1.05192802e-01,\n",
       "        1.25950916e-01,  5.59943522e-01,  1.00137431e+00,  1.00835787e+00,\n",
       "        4.13677956e-01, -4.97248772e-01,  1.18676574e+00, -8.37174302e-01,\n",
       "        2.14063045e+00, -8.37174302e-01, -8.37174302e-01,  6.43755263e-01,\n",
       "       -8.37174302e-01, -8.37174302e-01,  4.77937705e-01, -6.39655006e-01,\n",
       "        5.49186930e-01, -8.27089489e-01,  1.01214520e+00, -8.37174302e-01,\n",
       "       -3.40114282e-01, -8.15061472e-01,  6.32465840e-01, -7.23363463e-01,\n",
       "       -5.38547830e-01, -7.23819506e-01,  1.47526680e+00, -4.62736035e-01,\n",
       "        8.26190974e-01, -7.48036962e-01,  3.53800330e-02,  2.13173107e+00,\n",
       "       -8.35059919e-01, -8.37174302e-01,  1.14111987e+00, -8.37174302e-01,\n",
       "       -8.37174302e-01, -7.92016587e-01, -8.21611364e-01, -2.38615159e-01,\n",
       "        1.25495964e+00, -7.59606136e-01, -2.57099644e-01, -8.37174302e-01,\n",
       "       -1.01020487e-02, -9.27546839e-02, -3.83751055e-01, -8.37174302e-01,\n",
       "       -8.37174302e-01, -6.11379379e-02,  6.97876181e-01,  5.34719401e-01,\n",
       "       -8.37174302e-01, -4.42476249e-01,  1.54206964e+00, -1.97268514e-01,\n",
       "       -8.37174302e-01,  6.14354939e-01, -8.37174302e-01,  6.89179989e-01,\n",
       "       -8.16128267e-01, -8.37174302e-01,  1.20735951e-01, -2.35247664e-01,\n",
       "       -6.80128438e-01, -8.37174302e-01, -8.37174302e-01, -4.17063242e-01,\n",
       "       -2.88218579e-01, -8.37174302e-01, -4.99469198e-01, -8.37174302e-01,\n",
       "       -3.52114252e-01, -7.82216910e-01, -7.77854866e-01, -5.42450658e-01,\n",
       "       -3.83751055e-01,  9.60413554e-01, -6.71756285e-01,  5.98817893e-01,\n",
       "        5.41334625e-02, -8.30047726e-01, -4.97237580e-01, -2.60373990e-01,\n",
       "       -3.20960160e-01,  7.81575698e-01,  6.61419852e-01, -5.64304259e-01,\n",
       "       -8.37174302e-01,  1.44948107e+00,  1.69229514e+00,  1.01408779e+00,\n",
       "        2.35007666e+00, -6.27979814e-01,  1.24791062e+00, -8.18192172e-01,\n",
       "        2.01211752e+00,  5.67412622e-01,  4.00216232e-01,  1.18663824e+00,\n",
       "       -6.26378072e-01, -8.37174302e-01, -7.42152054e-01, -2.43220806e-01,\n",
       "       -1.77510587e-01, -4.78783995e-01, -8.37174302e-01,  2.19093536e-01,\n",
       "        6.03018783e-02, -8.15061472e-01, -8.37174302e-01, -3.74193232e-01,\n",
       "       -8.36638579e-01, -8.34298577e-01, -8.37174302e-01,  3.77287955e-01,\n",
       "       -6.29305709e-01, -7.50447666e-01, -6.57432065e-03, -2.96953951e-01,\n",
       "       -8.37174302e-01,  6.16824522e-01, -7.00390013e-01, -8.08212127e-01,\n",
       "       -8.37174302e-01, -3.91326418e-01,  2.13828472e-02, -8.37174302e-01,\n",
       "       -7.94748640e-01, -4.68760673e-01, -6.48397598e-01,  2.21868277e+00,\n",
       "        4.26351822e-01, -8.37174302e-01, -2.16030804e-01, -8.36644136e-01,\n",
       "        1.71041192e+00, -7.82216910e-01, -7.82216910e-01,  2.39466239e+00,\n",
       "       -3.94136420e-01,  1.04696466e+00,  9.18361225e-01, -7.89724820e-01,\n",
       "       -5.25937063e-01, -7.82216910e-01,  2.20366284e+00, -4.79516851e-01,\n",
       "       -4.44755039e-01,  7.11982150e-01,  2.26442958e+00, -4.26890449e-01,\n",
       "        1.40321785e+00, -8.37174302e-01,  1.37107181e+00, -8.37174302e-01,\n",
       "       -5.53486152e-01,  1.53414921e+00, -8.37174302e-01,  2.30911247e+00,\n",
       "       -6.12765644e-01,  2.28848538e-02, -8.37174302e-01, -6.62057481e-01,\n",
       "       -1.16791088e-01,  9.25268192e-01, -4.74150262e-01, -1.53246710e-01,\n",
       "        1.67227371e+00, -7.41214662e-01,  2.51148639e+00, -3.80693427e-01,\n",
       "       -5.04775466e-01, -1.88967780e-01,  6.28245850e-01, -5.59366378e-01,\n",
       "       -4.95410040e-01,  1.52958231e+00,  9.78519622e-02, -4.31040260e-01,\n",
       "       -2.58415666e-01, -7.59289462e-01, -6.60158744e-01, -1.76661871e-01,\n",
       "        1.75451332e-01,  1.15967354e+00,  2.95755718e-01, -7.75039508e-01,\n",
       "        1.83089228e-01,  1.50688533e+00,  2.05655069e+00,  1.56157864e+00,\n",
       "       -8.37174302e-01, -8.37174302e-01, -8.37174302e-01, -8.37174302e-01,\n",
       "       -6.61033031e-01,  1.68041084e+00,  4.32114540e-01, -8.37174302e-01,\n",
       "        4.83224156e-01, -4.79713922e-01, -8.06938731e-01, -4.49138607e-01,\n",
       "       -7.90053208e-01, -8.37174302e-01, -8.37174302e-01])"
      ]
     },
     "execution_count": 28,
     "metadata": {},
     "output_type": "execute_result"
    }
   ],
   "source": [
    "Actuals = pd.Series.to_numpy(dfvali['heat'])\n",
    "Actuals"
   ]
  },
  {
   "cell_type": "code",
   "execution_count": 29,
   "metadata": {},
   "outputs": [
    {
     "data": {
      "text/plain": [
       "2.5375615713335082"
      ]
     },
     "execution_count": 29,
     "metadata": {},
     "output_type": "execute_result"
    }
   ],
   "source": [
    "mseVali = mean_squared_error(Actuals, forecast)\n",
    "mseVali"
   ]
  },
  {
   "cell_type": "code",
   "execution_count": null,
   "metadata": {},
   "outputs": [],
   "source": [
    "forecasttrain, _ = pipeline.predict(n_periods=2172, return_conf_int=True)\n",
    "forecasttrain"
   ]
  },
  {
   "cell_type": "code",
   "execution_count": null,
   "metadata": {},
   "outputs": [],
   "source": [
    "Actualstrain = pd.Series.to_numpy(dftrain['heat'])\n",
    "Actualstrain"
   ]
  },
  {
   "cell_type": "code",
   "execution_count": null,
   "metadata": {},
   "outputs": [],
   "source": [
    "msetrain = mean_squared_error(Actualstrain, forecasttrain)\n",
    "msetrain"
   ]
  },
  {
   "cell_type": "code",
   "execution_count": null,
   "metadata": {},
   "outputs": [],
   "source": [
    "forecasttest, conf = pipeline.predict(n_periods=205, return_conf_int=True)\n",
    "forecasttest"
   ]
  },
  {
   "cell_type": "code",
   "execution_count": null,
   "metadata": {},
   "outputs": [],
   "source": [
    "Actualstest = pd.Series.to_numpy(dftest['heat'])\n",
    "Actualstest"
   ]
  },
  {
   "cell_type": "code",
   "execution_count": null,
   "metadata": {},
   "outputs": [],
   "source": [
    "msetest = mean_squared_error(Actualstest, forecasttest)\n",
    "msetest"
   ]
  },
  {
   "cell_type": "code",
   "execution_count": null,
   "metadata": {},
   "outputs": [],
   "source": [
    "rmse = math.sqrt(msetest)\n",
    "print('RMSE: %f' % rmse)"
   ]
  },
  {
   "cell_type": "code",
   "execution_count": null,
   "metadata": {},
   "outputs": [],
   "source": [
    "mse = mean_squared_error(Actuals, forecast)\n",
    "mse"
   ]
  },
  {
   "cell_type": "code",
   "execution_count": null,
   "metadata": {},
   "outputs": [],
   "source": [
    "rmse = math.sqrt(mse)\n",
    "print('RMSE: %f' % rmse)"
   ]
  }
 ],
 "metadata": {
  "interpreter": {
   "hash": "91ec43aa1f0db36d96140b828b08e86586f62f08ccada0f9bf3c6347196c39a6"
  },
  "kernelspec": {
   "display_name": "Python 3 (ipykernel)",
   "language": "python",
   "name": "python3"
  },
  "language_info": {
   "codemirror_mode": {
    "name": "ipython",
    "version": 3
   },
   "file_extension": ".py",
   "mimetype": "text/x-python",
   "name": "python",
   "nbconvert_exporter": "python",
   "pygments_lexer": "ipython3",
   "version": "3.9.7"
  }
 },
 "nbformat": 4,
 "nbformat_minor": 2
}
