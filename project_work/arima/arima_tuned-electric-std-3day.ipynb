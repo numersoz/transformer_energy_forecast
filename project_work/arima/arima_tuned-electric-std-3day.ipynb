{
 "cells": [
  {
   "cell_type": "code",
   "execution_count": 1,
   "metadata": {},
   "outputs": [],
   "source": [
    "import os\n",
    "import random\n",
    "import math\n",
    "from sklearn.metrics import mean_squared_error\n",
    "import numpy as np\n",
    "from matplotlib import pyplot as plt\n",
    "import pandas as pd\n",
    "import seaborn as sn\n",
    "from sklearn.decomposition import PCA\n",
    "from sklearn.preprocessing import MinMaxScaler, StandardScaler\n",
    "import pmdarima as pm \n",
    "from sklearn.model_selection import train_test_split\n",
    "from pmdarima.pipeline import Pipeline"
   ]
  },
  {
   "cell_type": "code",
   "execution_count": 2,
   "metadata": {},
   "outputs": [
    {
     "data": {
      "text/plain": [
       "'C:\\\\Users\\\\niles\\\\project\\\\project_work - 1214\\\\notebooks'"
      ]
     },
     "execution_count": 2,
     "metadata": {},
     "output_type": "execute_result"
    }
   ],
   "source": [
    "os.getcwd()"
   ]
  },
  {
   "cell_type": "code",
   "execution_count": 2,
   "metadata": {},
   "outputs": [],
   "source": [
    "# Read data:\n",
    "#os.chdir(\"..\")\n",
    "df = pd.read_csv(\"data.csv\")"
   ]
  },
  {
   "cell_type": "code",
   "execution_count": 3,
   "metadata": {},
   "outputs": [
    {
     "data": {
      "text/html": [
       "<div>\n",
       "<style scoped>\n",
       "    .dataframe tbody tr th:only-of-type {\n",
       "        vertical-align: middle;\n",
       "    }\n",
       "\n",
       "    .dataframe tbody tr th {\n",
       "        vertical-align: top;\n",
       "    }\n",
       "\n",
       "    .dataframe thead th {\n",
       "        text-align: right;\n",
       "    }\n",
       "</style>\n",
       "<table border=\"1\" class=\"dataframe\">\n",
       "  <thead>\n",
       "    <tr style=\"text-align: right;\">\n",
       "      <th></th>\n",
       "      <th>Time</th>\n",
       "      <th>air_pressure[mmHg]</th>\n",
       "      <th>air_temperature[degree celcius]</th>\n",
       "      <th>relative_humidity[%]</th>\n",
       "      <th>wind_speed[M/S]</th>\n",
       "      <th>solar_irridiation[W/m²]</th>\n",
       "      <th>total_cloud_cover[from ten]</th>\n",
       "      <th>electricity_demand_values[kw]</th>\n",
       "      <th>heat_demand_values[kw]</th>\n",
       "    </tr>\n",
       "  </thead>\n",
       "  <tbody>\n",
       "    <tr>\n",
       "      <th>0</th>\n",
       "      <td>2010-12-01 00:00:00</td>\n",
       "      <td>729.7</td>\n",
       "      <td>25.0</td>\n",
       "      <td>85.0</td>\n",
       "      <td>5.0</td>\n",
       "      <td>0</td>\n",
       "      <td>no clouds</td>\n",
       "      <td>289.567557</td>\n",
       "      <td>432.940036</td>\n",
       "    </tr>\n",
       "    <tr>\n",
       "      <th>1</th>\n",
       "      <td>2010-12-01 01:00:00</td>\n",
       "      <td>729.4</td>\n",
       "      <td>27.8</td>\n",
       "      <td>77.0</td>\n",
       "      <td>7.0</td>\n",
       "      <td>0</td>\n",
       "      <td>no clouds</td>\n",
       "      <td>260.168520</td>\n",
       "      <td>473.935901</td>\n",
       "    </tr>\n",
       "    <tr>\n",
       "      <th>2</th>\n",
       "      <td>2010-12-01 02:00:00</td>\n",
       "      <td>728.9</td>\n",
       "      <td>33.3</td>\n",
       "      <td>62.0</td>\n",
       "      <td>7.0</td>\n",
       "      <td>0</td>\n",
       "      <td>2/10–3/10.</td>\n",
       "      <td>247.273585</td>\n",
       "      <td>483.278761</td>\n",
       "    </tr>\n",
       "    <tr>\n",
       "      <th>3</th>\n",
       "      <td>2010-12-01 03:00:00</td>\n",
       "      <td>731.6</td>\n",
       "      <td>32.2</td>\n",
       "      <td>62.0</td>\n",
       "      <td>2.0</td>\n",
       "      <td>0</td>\n",
       "      <td>5/10.</td>\n",
       "      <td>257.955878</td>\n",
       "      <td>545.921252</td>\n",
       "    </tr>\n",
       "    <tr>\n",
       "      <th>4</th>\n",
       "      <td>2010-12-01 04:00:00</td>\n",
       "      <td>732.6</td>\n",
       "      <td>22.8</td>\n",
       "      <td>96.0</td>\n",
       "      <td>3.0</td>\n",
       "      <td>0</td>\n",
       "      <td>2/10–3/10.</td>\n",
       "      <td>258.255081</td>\n",
       "      <td>550.526112</td>\n",
       "    </tr>\n",
       "  </tbody>\n",
       "</table>\n",
       "</div>"
      ],
      "text/plain": [
       "                  Time  air_pressure[mmHg]  air_temperature[degree celcius]  \\\n",
       "0  2010-12-01 00:00:00               729.7                             25.0   \n",
       "1  2010-12-01 01:00:00               729.4                             27.8   \n",
       "2  2010-12-01 02:00:00               728.9                             33.3   \n",
       "3  2010-12-01 03:00:00               731.6                             32.2   \n",
       "4  2010-12-01 04:00:00               732.6                             22.8   \n",
       "\n",
       "   relative_humidity[%]  wind_speed[M/S]  solar_irridiation[W/m²]  \\\n",
       "0                  85.0              5.0                        0   \n",
       "1                  77.0              7.0                        0   \n",
       "2                  62.0              7.0                        0   \n",
       "3                  62.0              2.0                        0   \n",
       "4                  96.0              3.0                        0   \n",
       "\n",
       "  total_cloud_cover[from ten]  electricity_demand_values[kw]  \\\n",
       "0                   no clouds                     289.567557   \n",
       "1                   no clouds                     260.168520   \n",
       "2                  2/10–3/10.                     247.273585   \n",
       "3                       5/10.                     257.955878   \n",
       "4                  2/10–3/10.                     258.255081   \n",
       "\n",
       "   heat_demand_values[kw]  \n",
       "0              432.940036  \n",
       "1              473.935901  \n",
       "2              483.278761  \n",
       "3              545.921252  \n",
       "4              550.526112  "
      ]
     },
     "execution_count": 3,
     "metadata": {},
     "output_type": "execute_result"
    }
   ],
   "source": [
    "df.head()"
   ]
  },
  {
   "cell_type": "code",
   "execution_count": 5,
   "metadata": {},
   "outputs": [
    {
     "data": {
      "text/plain": [
       "70080"
      ]
     },
     "execution_count": 5,
     "metadata": {},
     "output_type": "execute_result"
    }
   ],
   "source": [
    "len(df)"
   ]
  },
  {
   "cell_type": "code",
   "execution_count": 6,
   "metadata": {},
   "outputs": [],
   "source": [
    "df = df.dropna()"
   ]
  },
  {
   "cell_type": "code",
   "execution_count": 7,
   "metadata": {},
   "outputs": [
    {
     "data": {
      "text/plain": [
       "68792"
      ]
     },
     "execution_count": 7,
     "metadata": {},
     "output_type": "execute_result"
    }
   ],
   "source": [
    "len(df)"
   ]
  },
  {
   "cell_type": "code",
   "execution_count": 8,
   "metadata": {},
   "outputs": [],
   "source": [
    "# Rename Columns:\n",
    "col_mapping = {\"Time\": \"date\",\n",
    "            \"air_pressure[mmHg]\": \"air_pressure\",\n",
    "            \"air_temperature[degree celcius]\": \"air_temperature\",\n",
    "            \"relative_humidity[%]\": \"relative_humidity\",\n",
    "            \"wind_speed[M/S]\": \"wind_speed\",\n",
    "            \"solar_irridiation[W/m²]\": \"solar_irridiation\",\n",
    "            \"total_cloud_cover[from ten]\": \"total_cloud_cover\",\n",
    "            \"electricity_demand_values[kw]\": \"electricity\",\n",
    "            \"heat_demand_values[kw]\": \"heat\"}\n",
    "df = df.rename(columns = col_mapping)"
   ]
  },
  {
   "cell_type": "code",
   "execution_count": 9,
   "metadata": {},
   "outputs": [
    {
     "data": {
      "text/html": [
       "<div>\n",
       "<style scoped>\n",
       "    .dataframe tbody tr th:only-of-type {\n",
       "        vertical-align: middle;\n",
       "    }\n",
       "\n",
       "    .dataframe tbody tr th {\n",
       "        vertical-align: top;\n",
       "    }\n",
       "\n",
       "    .dataframe thead th {\n",
       "        text-align: right;\n",
       "    }\n",
       "</style>\n",
       "<table border=\"1\" class=\"dataframe\">\n",
       "  <thead>\n",
       "    <tr style=\"text-align: right;\">\n",
       "      <th></th>\n",
       "      <th>date</th>\n",
       "      <th>air_pressure</th>\n",
       "      <th>air_temperature</th>\n",
       "      <th>relative_humidity</th>\n",
       "      <th>wind_speed</th>\n",
       "      <th>solar_irridiation</th>\n",
       "      <th>total_cloud_cover</th>\n",
       "      <th>electricity</th>\n",
       "      <th>heat</th>\n",
       "    </tr>\n",
       "  </thead>\n",
       "  <tbody>\n",
       "    <tr>\n",
       "      <th>0</th>\n",
       "      <td>2010-12-01 00:00:00</td>\n",
       "      <td>729.7</td>\n",
       "      <td>25.0</td>\n",
       "      <td>85.0</td>\n",
       "      <td>5.0</td>\n",
       "      <td>0</td>\n",
       "      <td>no clouds</td>\n",
       "      <td>289.567557</td>\n",
       "      <td>432.940036</td>\n",
       "    </tr>\n",
       "    <tr>\n",
       "      <th>1</th>\n",
       "      <td>2010-12-01 01:00:00</td>\n",
       "      <td>729.4</td>\n",
       "      <td>27.8</td>\n",
       "      <td>77.0</td>\n",
       "      <td>7.0</td>\n",
       "      <td>0</td>\n",
       "      <td>no clouds</td>\n",
       "      <td>260.168520</td>\n",
       "      <td>473.935901</td>\n",
       "    </tr>\n",
       "    <tr>\n",
       "      <th>2</th>\n",
       "      <td>2010-12-01 02:00:00</td>\n",
       "      <td>728.9</td>\n",
       "      <td>33.3</td>\n",
       "      <td>62.0</td>\n",
       "      <td>7.0</td>\n",
       "      <td>0</td>\n",
       "      <td>2/10–3/10.</td>\n",
       "      <td>247.273585</td>\n",
       "      <td>483.278761</td>\n",
       "    </tr>\n",
       "    <tr>\n",
       "      <th>3</th>\n",
       "      <td>2010-12-01 03:00:00</td>\n",
       "      <td>731.6</td>\n",
       "      <td>32.2</td>\n",
       "      <td>62.0</td>\n",
       "      <td>2.0</td>\n",
       "      <td>0</td>\n",
       "      <td>5/10.</td>\n",
       "      <td>257.955878</td>\n",
       "      <td>545.921252</td>\n",
       "    </tr>\n",
       "    <tr>\n",
       "      <th>4</th>\n",
       "      <td>2010-12-01 04:00:00</td>\n",
       "      <td>732.6</td>\n",
       "      <td>22.8</td>\n",
       "      <td>96.0</td>\n",
       "      <td>3.0</td>\n",
       "      <td>0</td>\n",
       "      <td>2/10–3/10.</td>\n",
       "      <td>258.255081</td>\n",
       "      <td>550.526112</td>\n",
       "    </tr>\n",
       "  </tbody>\n",
       "</table>\n",
       "</div>"
      ],
      "text/plain": [
       "                 date  air_pressure  air_temperature  relative_humidity  \\\n",
       "0 2010-12-01 00:00:00         729.7             25.0               85.0   \n",
       "1 2010-12-01 01:00:00         729.4             27.8               77.0   \n",
       "2 2010-12-01 02:00:00         728.9             33.3               62.0   \n",
       "3 2010-12-01 03:00:00         731.6             32.2               62.0   \n",
       "4 2010-12-01 04:00:00         732.6             22.8               96.0   \n",
       "\n",
       "   wind_speed  solar_irridiation total_cloud_cover  electricity        heat  \n",
       "0         5.0                  0         no clouds   289.567557  432.940036  \n",
       "1         7.0                  0         no clouds   260.168520  473.935901  \n",
       "2         7.0                  0        2/10–3/10.   247.273585  483.278761  \n",
       "3         2.0                  0             5/10.   257.955878  545.921252  \n",
       "4         3.0                  0        2/10–3/10.   258.255081  550.526112  "
      ]
     },
     "execution_count": 9,
     "metadata": {},
     "output_type": "execute_result"
    }
   ],
   "source": [
    "# Change ts to datetime and set as index:\n",
    "df[\"date\"] = pd.to_datetime(df[\"date\"],format='%Y-%m-%d')\n",
    "df.head()"
   ]
  },
  {
   "cell_type": "code",
   "execution_count": 10,
   "metadata": {},
   "outputs": [
    {
     "data": {
      "text/plain": [
       "68792"
      ]
     },
     "execution_count": 10,
     "metadata": {},
     "output_type": "execute_result"
    }
   ],
   "source": [
    "len(df)"
   ]
  },
  {
   "cell_type": "code",
   "execution_count": 11,
   "metadata": {},
   "outputs": [
    {
     "data": {
      "text/html": [
       "<div>\n",
       "<style scoped>\n",
       "    .dataframe tbody tr th:only-of-type {\n",
       "        vertical-align: middle;\n",
       "    }\n",
       "\n",
       "    .dataframe tbody tr th {\n",
       "        vertical-align: top;\n",
       "    }\n",
       "\n",
       "    .dataframe thead th {\n",
       "        text-align: right;\n",
       "    }\n",
       "</style>\n",
       "<table border=\"1\" class=\"dataframe\">\n",
       "  <thead>\n",
       "    <tr style=\"text-align: right;\">\n",
       "      <th></th>\n",
       "      <th>date</th>\n",
       "      <th>air_pressure</th>\n",
       "      <th>air_temperature</th>\n",
       "      <th>relative_humidity</th>\n",
       "      <th>wind_speed</th>\n",
       "      <th>solar_irridiation</th>\n",
       "      <th>total_cloud_cover</th>\n",
       "      <th>electricity</th>\n",
       "      <th>heat</th>\n",
       "    </tr>\n",
       "  </thead>\n",
       "  <tbody>\n",
       "    <tr>\n",
       "      <th>0</th>\n",
       "      <td>2010-12-01 00:00:00</td>\n",
       "      <td>729.7</td>\n",
       "      <td>25.0</td>\n",
       "      <td>85.0</td>\n",
       "      <td>5.0</td>\n",
       "      <td>0</td>\n",
       "      <td>no clouds</td>\n",
       "      <td>289.567557</td>\n",
       "      <td>432.940036</td>\n",
       "    </tr>\n",
       "    <tr>\n",
       "      <th>1</th>\n",
       "      <td>2010-12-01 01:00:00</td>\n",
       "      <td>729.4</td>\n",
       "      <td>27.8</td>\n",
       "      <td>77.0</td>\n",
       "      <td>7.0</td>\n",
       "      <td>0</td>\n",
       "      <td>no clouds</td>\n",
       "      <td>260.168520</td>\n",
       "      <td>473.935901</td>\n",
       "    </tr>\n",
       "    <tr>\n",
       "      <th>2</th>\n",
       "      <td>2010-12-01 02:00:00</td>\n",
       "      <td>728.9</td>\n",
       "      <td>33.3</td>\n",
       "      <td>62.0</td>\n",
       "      <td>7.0</td>\n",
       "      <td>0</td>\n",
       "      <td>2/10–3/10.</td>\n",
       "      <td>247.273585</td>\n",
       "      <td>483.278761</td>\n",
       "    </tr>\n",
       "    <tr>\n",
       "      <th>3</th>\n",
       "      <td>2010-12-01 03:00:00</td>\n",
       "      <td>731.6</td>\n",
       "      <td>32.2</td>\n",
       "      <td>62.0</td>\n",
       "      <td>2.0</td>\n",
       "      <td>0</td>\n",
       "      <td>5/10.</td>\n",
       "      <td>257.955878</td>\n",
       "      <td>545.921252</td>\n",
       "    </tr>\n",
       "    <tr>\n",
       "      <th>4</th>\n",
       "      <td>2010-12-01 04:00:00</td>\n",
       "      <td>732.6</td>\n",
       "      <td>22.8</td>\n",
       "      <td>96.0</td>\n",
       "      <td>3.0</td>\n",
       "      <td>0</td>\n",
       "      <td>2/10–3/10.</td>\n",
       "      <td>258.255081</td>\n",
       "      <td>550.526112</td>\n",
       "    </tr>\n",
       "  </tbody>\n",
       "</table>\n",
       "</div>"
      ],
      "text/plain": [
       "                 date  air_pressure  air_temperature  relative_humidity  \\\n",
       "0 2010-12-01 00:00:00         729.7             25.0               85.0   \n",
       "1 2010-12-01 01:00:00         729.4             27.8               77.0   \n",
       "2 2010-12-01 02:00:00         728.9             33.3               62.0   \n",
       "3 2010-12-01 03:00:00         731.6             32.2               62.0   \n",
       "4 2010-12-01 04:00:00         732.6             22.8               96.0   \n",
       "\n",
       "   wind_speed  solar_irridiation total_cloud_cover  electricity        heat  \n",
       "0         5.0                  0         no clouds   289.567557  432.940036  \n",
       "1         7.0                  0         no clouds   260.168520  473.935901  \n",
       "2         7.0                  0        2/10–3/10.   247.273585  483.278761  \n",
       "3         2.0                  0             5/10.   257.955878  545.921252  \n",
       "4         3.0                  0        2/10–3/10.   258.255081  550.526112  "
      ]
     },
     "execution_count": 11,
     "metadata": {},
     "output_type": "execute_result"
    }
   ],
   "source": [
    "df.head()"
   ]
  },
  {
   "cell_type": "code",
   "execution_count": 12,
   "metadata": {},
   "outputs": [],
   "source": [
    "df1 = df[[\"date\",'electricity']]"
   ]
  },
  {
   "cell_type": "code",
   "execution_count": 13,
   "metadata": {},
   "outputs": [
    {
     "data": {
      "text/html": [
       "<div>\n",
       "<style scoped>\n",
       "    .dataframe tbody tr th:only-of-type {\n",
       "        vertical-align: middle;\n",
       "    }\n",
       "\n",
       "    .dataframe tbody tr th {\n",
       "        vertical-align: top;\n",
       "    }\n",
       "\n",
       "    .dataframe thead th {\n",
       "        text-align: right;\n",
       "    }\n",
       "</style>\n",
       "<table border=\"1\" class=\"dataframe\">\n",
       "  <thead>\n",
       "    <tr style=\"text-align: right;\">\n",
       "      <th></th>\n",
       "      <th>electricity</th>\n",
       "    </tr>\n",
       "    <tr>\n",
       "      <th>date</th>\n",
       "      <th></th>\n",
       "    </tr>\n",
       "  </thead>\n",
       "  <tbody>\n",
       "    <tr>\n",
       "      <th>2010-12-01 00:00:00</th>\n",
       "      <td>289.567557</td>\n",
       "    </tr>\n",
       "    <tr>\n",
       "      <th>2010-12-01 01:00:00</th>\n",
       "      <td>260.168520</td>\n",
       "    </tr>\n",
       "    <tr>\n",
       "      <th>2010-12-01 02:00:00</th>\n",
       "      <td>247.273585</td>\n",
       "    </tr>\n",
       "    <tr>\n",
       "      <th>2010-12-01 03:00:00</th>\n",
       "      <td>257.955878</td>\n",
       "    </tr>\n",
       "    <tr>\n",
       "      <th>2010-12-01 04:00:00</th>\n",
       "      <td>258.255081</td>\n",
       "    </tr>\n",
       "  </tbody>\n",
       "</table>\n",
       "</div>"
      ],
      "text/plain": [
       "                     electricity\n",
       "date                            \n",
       "2010-12-01 00:00:00   289.567557\n",
       "2010-12-01 01:00:00   260.168520\n",
       "2010-12-01 02:00:00   247.273585\n",
       "2010-12-01 03:00:00   257.955878\n",
       "2010-12-01 04:00:00   258.255081"
      ]
     },
     "execution_count": 13,
     "metadata": {},
     "output_type": "execute_result"
    }
   ],
   "source": [
    "df1 = df1.set_index(\"date\")\n",
    "df1.head()"
   ]
  },
  {
   "cell_type": "code",
   "execution_count": 14,
   "metadata": {},
   "outputs": [],
   "source": [
    "x = df1['electricity'].values.reshape(-1, 1) #returns a numpy array\n",
    "min_max_scaler = StandardScaler()\n",
    "x_scaled = min_max_scaler.fit_transform(x)\n",
    "df1['electricity'] = x_scaled"
   ]
  },
  {
   "cell_type": "code",
   "execution_count": 15,
   "metadata": {},
   "outputs": [
    {
     "data": {
      "text/html": [
       "<div>\n",
       "<style scoped>\n",
       "    .dataframe tbody tr th:only-of-type {\n",
       "        vertical-align: middle;\n",
       "    }\n",
       "\n",
       "    .dataframe tbody tr th {\n",
       "        vertical-align: top;\n",
       "    }\n",
       "\n",
       "    .dataframe thead th {\n",
       "        text-align: right;\n",
       "    }\n",
       "</style>\n",
       "<table border=\"1\" class=\"dataframe\">\n",
       "  <thead>\n",
       "    <tr style=\"text-align: right;\">\n",
       "      <th></th>\n",
       "      <th>electricity</th>\n",
       "    </tr>\n",
       "    <tr>\n",
       "      <th>date</th>\n",
       "      <th></th>\n",
       "    </tr>\n",
       "  </thead>\n",
       "  <tbody>\n",
       "    <tr>\n",
       "      <th>2010-12-01 00:00:00</th>\n",
       "      <td>-0.437728</td>\n",
       "    </tr>\n",
       "    <tr>\n",
       "      <th>2010-12-01 01:00:00</th>\n",
       "      <td>-0.560519</td>\n",
       "    </tr>\n",
       "    <tr>\n",
       "      <th>2010-12-01 02:00:00</th>\n",
       "      <td>-0.614377</td>\n",
       "    </tr>\n",
       "    <tr>\n",
       "      <th>2010-12-01 03:00:00</th>\n",
       "      <td>-0.569760</td>\n",
       "    </tr>\n",
       "    <tr>\n",
       "      <th>2010-12-01 04:00:00</th>\n",
       "      <td>-0.568511</td>\n",
       "    </tr>\n",
       "  </tbody>\n",
       "</table>\n",
       "</div>"
      ],
      "text/plain": [
       "                     electricity\n",
       "date                            \n",
       "2010-12-01 00:00:00    -0.437728\n",
       "2010-12-01 01:00:00    -0.560519\n",
       "2010-12-01 02:00:00    -0.614377\n",
       "2010-12-01 03:00:00    -0.569760\n",
       "2010-12-01 04:00:00    -0.568511"
      ]
     },
     "execution_count": 15,
     "metadata": {},
     "output_type": "execute_result"
    }
   ],
   "source": [
    "df1.head()"
   ]
  },
  {
   "cell_type": "code",
   "execution_count": 16,
   "metadata": {},
   "outputs": [
    {
     "data": {
      "text/html": [
       "<div>\n",
       "<style scoped>\n",
       "    .dataframe tbody tr th:only-of-type {\n",
       "        vertical-align: middle;\n",
       "    }\n",
       "\n",
       "    .dataframe tbody tr th {\n",
       "        vertical-align: top;\n",
       "    }\n",
       "\n",
       "    .dataframe thead th {\n",
       "        text-align: right;\n",
       "    }\n",
       "</style>\n",
       "<table border=\"1\" class=\"dataframe\">\n",
       "  <thead>\n",
       "    <tr style=\"text-align: right;\">\n",
       "      <th></th>\n",
       "      <th>electricity</th>\n",
       "    </tr>\n",
       "    <tr>\n",
       "      <th>date</th>\n",
       "      <th></th>\n",
       "    </tr>\n",
       "  </thead>\n",
       "  <tbody>\n",
       "    <tr>\n",
       "      <th>2010-12-01</th>\n",
       "      <td>-0.159240</td>\n",
       "    </tr>\n",
       "    <tr>\n",
       "      <th>2010-12-02</th>\n",
       "      <td>-0.270442</td>\n",
       "    </tr>\n",
       "    <tr>\n",
       "      <th>2010-12-03</th>\n",
       "      <td>-0.122860</td>\n",
       "    </tr>\n",
       "    <tr>\n",
       "      <th>2010-12-04</th>\n",
       "      <td>0.095403</td>\n",
       "    </tr>\n",
       "    <tr>\n",
       "      <th>2010-12-05</th>\n",
       "      <td>0.213953</td>\n",
       "    </tr>\n",
       "  </tbody>\n",
       "</table>\n",
       "</div>"
      ],
      "text/plain": [
       "            electricity\n",
       "date                   \n",
       "2010-12-01    -0.159240\n",
       "2010-12-02    -0.270442\n",
       "2010-12-03    -0.122860\n",
       "2010-12-04     0.095403\n",
       "2010-12-05     0.213953"
      ]
     },
     "execution_count": 16,
     "metadata": {},
     "output_type": "execute_result"
    }
   ],
   "source": [
    "davg_df = df1.groupby(pd.Grouper(freq='D')).mean()\n",
    "davg_df.head()"
   ]
  },
  {
   "cell_type": "code",
   "execution_count": 17,
   "metadata": {},
   "outputs": [
    {
     "data": {
      "text/plain": [
       "2920"
      ]
     },
     "execution_count": 17,
     "metadata": {},
     "output_type": "execute_result"
    }
   ],
   "source": [
    "len(davg_df)"
   ]
  },
  {
   "cell_type": "code",
   "execution_count": 18,
   "metadata": {},
   "outputs": [],
   "source": [
    "dftrain, dftest = train_test_split(davg_df, test_size=0.01*3)"
   ]
  },
  {
   "cell_type": "code",
   "execution_count": 19,
   "metadata": {},
   "outputs": [
    {
     "data": {
      "text/plain": [
       "88"
      ]
     },
     "execution_count": 19,
     "metadata": {},
     "output_type": "execute_result"
    }
   ],
   "source": [
    "len(dftest)"
   ]
  },
  {
   "cell_type": "code",
   "execution_count": 20,
   "metadata": {},
   "outputs": [],
   "source": [
    "dftrain, dfvali = train_test_split(dftrain, test_size=0.2)"
   ]
  },
  {
   "cell_type": "code",
   "execution_count": 21,
   "metadata": {},
   "outputs": [
    {
     "data": {
      "text/plain": [
       "2265"
      ]
     },
     "execution_count": 21,
     "metadata": {},
     "output_type": "execute_result"
    }
   ],
   "source": [
    "len(dftrain)"
   ]
  },
  {
   "cell_type": "code",
   "execution_count": 22,
   "metadata": {},
   "outputs": [
    {
     "data": {
      "text/plain": [
       "567"
      ]
     },
     "execution_count": 22,
     "metadata": {},
     "output_type": "execute_result"
    }
   ],
   "source": [
    "len(dfvali)"
   ]
  },
  {
   "cell_type": "code",
   "execution_count": 23,
   "metadata": {},
   "outputs": [],
   "source": [
    "# best\n",
    "random.seed(0)"
   ]
  },
  {
   "cell_type": "code",
   "execution_count": 24,
   "metadata": {},
   "outputs": [
    {
     "name": "stdout",
     "output_type": "stream",
     "text": [
      "Performing stepwise search to minimize aic\n",
      " ARIMA(3,1,3)(0,1,0)[12]             : AIC=inf, Time=3.76 sec\n",
      " ARIMA(0,1,0)(0,1,0)[12]             : AIC=6749.605, Time=0.09 sec\n",
      " ARIMA(1,1,0)(1,1,0)[12]             : AIC=5566.399, Time=0.37 sec\n",
      " ARIMA(0,1,1)(0,1,1)[12]             : AIC=inf, Time=2.17 sec\n",
      " ARIMA(1,1,0)(0,1,0)[12]             : AIC=6105.830, Time=0.10 sec\n",
      " ARIMA(1,1,0)(2,1,0)[12]             : AIC=5291.113, Time=0.82 sec\n",
      " ARIMA(1,1,0)(3,1,0)[12]             : AIC=5170.381, Time=1.50 sec\n",
      " ARIMA(1,1,0)(4,1,0)[12]             : AIC=5096.162, Time=2.65 sec\n",
      " ARIMA(1,1,0)(5,1,0)[12]             : AIC=5026.978, Time=6.38 sec\n",
      " ARIMA(1,1,0)(5,1,1)[12]             : AIC=inf, Time=44.50 sec\n",
      " ARIMA(1,1,0)(4,1,1)[12]             : AIC=inf, Time=32.47 sec\n",
      " ARIMA(0,1,0)(5,1,0)[12]             : AIC=5635.864, Time=4.27 sec\n",
      " ARIMA(2,1,0)(5,1,0)[12]             : AIC=4736.434, Time=7.05 sec\n",
      " ARIMA(2,1,0)(4,1,0)[12]             : AIC=4801.654, Time=3.07 sec\n",
      " ARIMA(2,1,0)(5,1,1)[12]             : AIC=inf, Time=65.62 sec\n",
      " ARIMA(2,1,0)(4,1,1)[12]             : AIC=inf, Time=41.83 sec\n",
      " ARIMA(3,1,0)(5,1,0)[12]             : AIC=4585.223, Time=7.76 sec\n",
      " ARIMA(3,1,0)(4,1,0)[12]             : AIC=4653.894, Time=5.07 sec\n",
      " ARIMA(3,1,0)(5,1,1)[12]             : AIC=inf, Time=55.50 sec\n",
      " ARIMA(3,1,0)(4,1,1)[12]             : AIC=inf, Time=46.83 sec\n",
      " ARIMA(4,1,0)(5,1,0)[12]             : AIC=4490.234, Time=8.73 sec\n",
      " ARIMA(4,1,0)(4,1,0)[12]             : AIC=4565.915, Time=6.04 sec\n",
      " ARIMA(4,1,0)(5,1,1)[12]             : AIC=inf, Time=72.56 sec\n",
      " ARIMA(4,1,0)(4,1,1)[12]             : AIC=inf, Time=59.00 sec\n",
      " ARIMA(5,1,0)(5,1,0)[12]             : AIC=4442.832, Time=9.57 sec\n",
      " ARIMA(5,1,0)(4,1,0)[12]             : AIC=4516.529, Time=6.62 sec\n",
      " ARIMA(5,1,0)(5,1,1)[12]             : AIC=inf, Time=81.37 sec\n",
      " ARIMA(5,1,0)(4,1,1)[12]             : AIC=inf, Time=54.13 sec\n",
      " ARIMA(5,1,1)(5,1,0)[12]             : AIC=inf, Time=64.13 sec\n",
      " ARIMA(4,1,1)(5,1,0)[12]             : AIC=inf, Time=65.03 sec\n",
      " ARIMA(5,1,0)(5,1,0)[12] intercept   : AIC=4444.831, Time=24.84 sec\n",
      "\n",
      "Best model:  ARIMA(5,1,0)(5,1,0)[12]          \n",
      "Total fit time: 783.847 seconds\n"
     ]
    },
    {
     "data": {
      "text/plain": [
       "Pipeline(steps=[('model',\n",
       "                 AutoARIMA(D=1, d=1, error_action='warn', m=12, max_P=5,\n",
       "                           max_Q=10, n_fits=100, random_state=20, start_P=0,\n",
       "                           start_Q=0, start_p=3, start_q=3, test='adf',\n",
       "                           trace=True))])"
      ]
     },
     "execution_count": 24,
     "metadata": {},
     "output_type": "execute_result"
    }
   ],
   "source": [
    "\n",
    "pipeline = Pipeline([\n",
    "    (\"model\", pm.AutoARIMA(test='adf',\n",
    "                           start_p=3, start_q=3, max_p=5, max_q=5, start_P=0, start_Q=0, max_P=5, max_Q=10, m=12, stepwise=True, seasonal=True, information_criterion='aic', trace=True, d=1, D=1, error_action='warn', \n",
    "                           suppress_warnings=True, random_state=20, n_fits=100))\n",
    "])\n",
    "'''\n",
    "pipeline = Pipeline([\n",
    "    (\"model\",pm.AutoARIMA(test='adf',\n",
    "                           max_p=3, max_q=3, m=7,\n",
    "                           start_P=1,start_Q=1, seasonal=True,\n",
    "                           d=1, D=1, trace=True,\n",
    "                           error_action='ignore',  \n",
    "                           suppress_warnings=True, \n",
    "                           stepwise=False))\n",
    "])\n",
    "'''\n",
    "pipeline.fit(dftrain)"
   ]
  },
  {
   "cell_type": "code",
   "execution_count": 47,
   "metadata": {},
   "outputs": [],
   "source": [
    "##### univariate arima model predict electricity_demand_values  \n",
    "# best\n",
    "#Arima_model=pm.auto_arima(dftrain['electricity_demand_values'],start_p=3, start_q=3, max_p=5, max_q=5, start_P=0, start_Q=0, max_P=5, max_Q=10, m=12, stepwise=True, seasonal=True, information_criterion='aic', trace=True, d=1, D=1, error_action='warn', suppress_warnings=True, random_state=20, n_fits=100)\n",
    "\n",
    "#Arima_model=pm.auto_arima(dftrain['electricity_demand_values'],start_p=3, start_q=3, max_p=5, max_q=6, start_P=0, start_Q=4, max_P=6, max_Q=10, m=12, stepwise=True, seasonal=True, information_criterion='aic', trace=True, d=1, D=1, error_action='warn', suppress_warnings=True, random_state=20, n_fits=100)\n",
    "\n",
    "#Arima_model=pm.auto_arima(dftrain['electricity_demand_values'],start_p=3, start_q=3, max_p=5, max_q=6, start_P=0, start_Q=4, max_P=6, max_Q=10, m=12, stepwise=True, seasonal=True, information_criterion='bic', trace=True, d=1, D=1, error_action='warn', suppress_warnings=True, n_fits=100)\n",
    "\n",
    "#Arima_model=pm.auto_arima(dftrain['electricity_demand_values'],start_p=3, start_q=3, max_p=5, max_q=6, start_P=1, start_Q=4, max_P=6, max_Q=10, m=12, stepwise=True, seasonal=True, information_criterion='bic', trace=True, d=1, D=1, error_action='warn', suppress_warnings=True, n_fits=100)\n"
   ]
  },
  {
   "cell_type": "code",
   "execution_count": 37,
   "metadata": {},
   "outputs": [
    {
     "name": "stderr",
     "output_type": "stream",
     "text": [
      "C:\\ProgramData\\Anaconda3\\lib\\site-packages\\pmdarima\\arima\\arima.py:692: UserWarning: As of version 1.5.0 'typ' is no longer a valid arg for predict. In future versions this will raise a TypeError.\n",
      "  warnings.warn(\"As of version 1.5.0 'typ' is no longer a valid \"\n"
     ]
    }
   ],
   "source": [
    "Sample_predictions= pipeline.predict_in_sample(exogenous=None, return_conf_int=False, alpha=0.05, inverse_transform=True)\n",
    "Actuals = pd.Series.to_numpy(dftrain['electricity'])\n",
    "Residuals = Actuals-Sample_predictions"
   ]
  },
  {
   "cell_type": "code",
   "execution_count": 38,
   "metadata": {},
   "outputs": [
    {
     "data": {
      "text/plain": [
       "array([ 0.48599307, -0.13418045,  0.71193533, ..., -0.72912341,\n",
       "       -0.81633549,  0.17406534])"
      ]
     },
     "execution_count": 38,
     "metadata": {},
     "output_type": "execute_result"
    }
   ],
   "source": [
    "Residuals"
   ]
  },
  {
   "cell_type": "code",
   "execution_count": 39,
   "metadata": {},
   "outputs": [
    {
     "data": {
      "text/plain": [
       "array([-0.56601924, -0.36996223, -0.29905121, -0.31845445, -0.40946456,\n",
       "       -0.67394054, -0.36616808, -0.46126265, -0.2577197 , -0.61999893,\n",
       "       -0.14052735, -0.79325413, -0.74197541, -0.43335642, -0.23008721,\n",
       "       -0.30678344, -0.40296327, -0.67150268, -0.39765848, -0.46286516,\n",
       "       -0.32796555, -0.63582001, -0.37513274, -0.82500818, -0.86003993,\n",
       "       -0.50756676, -0.28930281, -0.40690682, -0.42195317, -0.67119176,\n",
       "       -0.54408756, -0.54351971, -0.42502196, -0.71864467, -0.49086419,\n",
       "       -0.87991141, -0.90706332, -0.63842334, -0.42673067, -0.54515104,\n",
       "       -0.40507011, -0.74303251, -0.59483153, -0.59784716, -0.53154749,\n",
       "       -0.81128366, -0.4993565 , -0.94984522, -1.08072246, -0.69319344,\n",
       "       -0.52997136, -0.72980235, -0.52365011, -0.87178929, -0.87503195,\n",
       "       -0.68582989, -0.66889945, -0.89059175, -0.73207158, -1.03128196,\n",
       "       -1.15125935, -0.86515967, -0.68103518, -0.76313726, -0.53482318,\n",
       "       -0.94636647, -0.93226991, -0.81412992, -0.77257174, -1.08921074,\n",
       "       -0.81726085, -1.20971343, -1.25069728, -0.94749133, -0.76867923,\n",
       "       -0.87523695, -0.81288194, -1.12356523, -0.98004034, -0.95639026,\n",
       "       -0.86095841, -1.15463417, -0.87405206, -1.30860403, -1.36414274,\n",
       "       -1.04512648, -0.85243155, -0.97296232, -0.87364457, -1.19873661,\n",
       "       -1.0895706 , -1.03817781, -0.96394189, -1.2466562 , -0.99721859,\n",
       "       -1.39553884, -1.46831191, -1.14853377, -0.95884079, -1.08362057,\n",
       "       -0.95504981, -1.29013936, -1.20665737, -1.13650615, -1.07075725,\n",
       "       -1.35166276, -1.10302617, -1.49440315, -1.5692165 , -1.25621499,\n",
       "       -1.07014661, -1.19324566, -1.05010375, -1.39563007, -1.3129762 ,\n",
       "       -1.23833639, -1.17737264, -1.458495  , -1.20369828, -1.59936995,\n",
       "       -1.67888003, -1.35859518, -1.17562954, -1.30023381, -1.16113914,\n",
       "       -1.50486379, -1.42858479, -1.34537611, -1.28389066, -1.56449853,\n",
       "       -1.31843427, -1.70657197, -1.77926438, -1.46831516, -1.28208916,\n",
       "       -1.39658762, -1.26536719, -1.60894088, -1.522452  , -1.45361382,\n",
       "       -1.38654484, -1.67506921, -1.41708886, -1.81705217, -1.88400282,\n",
       "       -1.56920759, -1.38299792, -1.50271398, -1.3834086 , -1.71802822,\n",
       "       -1.62268714, -1.55933736, -1.48940547, -1.77346481, -1.51798782,\n",
       "       -1.91823759, -1.98943015, -1.67314548, -1.48610501, -1.60744911,\n",
       "       -1.47905777, -1.81780715, -1.73006195, -1.66032833, -1.59431635,\n",
       "       -1.87721033, -1.62527266, -2.02050085, -2.09364207, -1.77792044,\n",
       "       -1.59172631, -1.71282256, -1.58106552, -1.92153255, -1.83632994,\n",
       "       -1.76448555, -1.69927389, -1.98248884, -1.72988504, -2.12508385,\n",
       "       -2.19780888, -1.88276956, -1.69694409, -1.81739508, -1.6859848 ,\n",
       "       -2.02683394, -1.94069312, -1.86929171, -1.80385424, -2.08747701,\n",
       "       -1.83409251, -2.2301762 , -2.30256147, -1.9870693 , -1.80122235,\n",
       "       -1.92150223, -1.79184064, -2.13186688, -2.04521362, -1.97426533,\n",
       "       -1.90822174, -2.19203584, -1.93903558, -2.33502592, -2.40658614,\n",
       "       -2.09175528, -1.90550215, -2.02523686, -1.89648979, -2.23617844,\n",
       "       -2.14835656, -2.07888594, -2.01235869, -2.29657735, -2.04266878,\n",
       "       -2.43962639, -2.51112728, -2.19574659, -2.0095438 , -2.13002633,\n",
       "       -2.00146171, -2.34069458, -2.25281513, -2.18310965, -2.11671424,\n",
       "       -2.40032036, -2.14700184, -2.54349472, -2.61562827, -2.30019941,\n",
       "       -2.11400876, -2.23453784, -2.10470371, -2.44460536, -2.35775271,\n",
       "       -2.28717632, -2.22125337, -2.50484456, -2.25179008, -2.64779578,\n",
       "       -2.71999396, -2.40469891, -2.21861604, -2.33900208, -2.20910839,\n",
       "       -2.54910679, -2.46227459, -2.39168353, -2.32571555, -2.60942675,\n",
       "       -2.35618055, -2.75235173, -2.82438465, -2.50914448, -2.32306138,\n",
       "       -2.44336029, -2.31377413, -2.65367341, -2.56656958, -2.49619624,\n",
       "       -2.43011035, -2.71387956, -2.46054417, -2.85685954, -2.92881764,\n",
       "       -2.61353048, -2.42741122, -2.54771498, -2.41834113, -2.75811669,\n",
       "       -2.67091617, -2.60064862, -2.53449376, -2.81826334, -2.5649623 ,\n",
       "       -2.96127739, -3.03319954, -2.71794457, -2.53179241, -2.6520989 ,\n",
       "       -2.5227158 , -2.86248351, -2.77524161, -2.70503781, -2.63888388,\n",
       "       -2.92264827, -2.66930689, -3.06565692, -3.13763118, -2.82232008,\n",
       "       -2.63618717, -2.75656775, -2.62709818, -2.9668797 , -2.87971785,\n",
       "       -2.80941018, -2.74330581, -3.02701138, -2.7737448 , -3.17001471,\n",
       "       -3.24204649, -2.92674864, -2.74062395, -2.86098344, -2.73140548,\n",
       "       -3.07125763, -2.98418252, -2.91380432, -2.84773292, -3.13145769,\n",
       "       -2.87819254, -3.27443965, -3.34645016, -3.03117008, -2.84505219,\n",
       "       -2.96538854, -2.8358595 , -3.17569682, -3.08858065, -3.01824008,\n",
       "       -2.9521435 , -3.23588636, -2.98259065, -3.37887479, -3.45085998,\n",
       "       -3.13558017, -2.94945647, -3.06978936, -2.94030746, -3.28012237,\n",
       "       -3.19296882, -3.12266099, -3.05654873, -3.34029317, -3.08699321,\n",
       "       -3.48329009, -3.55527302, -3.23998641, -3.05385795, -3.17419742,\n",
       "       -3.0447219 , -3.38452858, -3.29737484, -3.22706954, -3.16095686,\n",
       "       -3.44469652, -3.19140397, -3.58769456, -3.65968239, -3.34439695,\n",
       "       -3.15826796, -3.27861106, -3.14911876, -3.48893198, -3.4017865 ,\n",
       "       -3.3314744 , -3.26536811, -3.5491047 , -3.29581232, -3.69209995,\n",
       "       -3.76409562, -3.44880639, -3.26268077, -3.383028  , -3.25352361,\n",
       "       -3.59334206, -3.50620775, -3.43588253, -3.36978155, -3.65351501,\n",
       "       -3.40022853, -3.79650888, -3.8685063 , -3.55322021, -3.36709515,\n",
       "       -3.48743748, -3.35793053, -3.69775298, -3.61062075, -3.54029489,\n",
       "       -3.47419354, -3.75793108, -3.50464148, -3.90092399, -3.97291644,\n",
       "       -3.65763171, -3.47150638, -3.59184681, -3.46234991, -3.80216782,\n",
       "       -3.7150275 , -3.64470908, -3.57860363, -3.86234255, -3.60904984,\n",
       "       -4.00533704, -4.07732755, -3.76204198, -3.57591569, -3.69625706,\n",
       "       -3.56676335, -3.90657906, -3.81943631, -3.74912007, -3.68301392,\n",
       "       -3.966752  , -3.71346009, -4.10974715, -4.18173882, -3.86645246,\n",
       "       -3.68032597, -3.80066848, -3.67117243, -4.01098867, -3.92384801,\n",
       "       -3.85353002, -3.78742495, -4.07116219, -3.81787147, -4.21415697,\n",
       "       -4.28614975, -3.97086359, -3.78473741, -3.9050801 , -3.77558145,\n",
       "       -4.11539902, -4.02825996, -3.95794042, -3.89183626, -4.17557335,\n",
       "       -3.92228266, -4.3185677 , -4.39056093, -4.07527468, -3.88914885,\n",
       "       -4.00949142, -3.8799924 , -4.21981033, -4.13267178, -4.06235156,\n",
       "       -3.9962475 , -4.2799847 , -4.02669417, -4.42297902, -4.49497183,\n",
       "       -4.17968597, -3.99356005, -4.11390203, -3.98440385, -4.32422161,\n",
       "       -4.2370824 , -4.16676296, -4.10065846, -4.38439614, -4.13110508,\n",
       "       -4.52739053, -4.59938278, -4.28409691, -4.09797087, -4.21831287,\n",
       "       -4.08881575, -4.42863291, -4.34149285, -4.27117418, -4.20506932,\n",
       "       -4.48880696, -4.23551576, -4.63180154, -4.70379384, -4.38850781,\n",
       "       -4.20238169, -4.32272392, -4.19322662, -4.53304376, -4.44590385,\n",
       "       -4.37558503, -4.3094803 , -4.59321776, -4.33992678, -4.73621233,\n",
       "       -4.80820488, -4.4929188 , -4.30679273, -4.42713504, -4.29763724,\n",
       "       -4.63745459, -4.55031508, -4.4799959 , -4.41389137, -4.69762876,\n",
       "       -4.4443379 , -4.84062325, -4.91261588, -4.59732986, -4.41120384,\n",
       "       -4.53154611, -4.40204814, -4.74186561, -4.6547262 , -4.58440692,\n",
       "       -4.51830242, -4.80203985, -4.54874894, -4.94503431, -5.0170269 ,\n",
       "       -4.70174089, -4.51561488, -4.6359571 , -4.50645926, -4.8462767 ,\n",
       "       -4.75913721, -4.68881799, -4.62271344, -4.90645091, -4.65315997,\n",
       "       -5.04944539, -5.1214379 , -4.80615192, -4.62002588, -4.74036806,\n",
       "       -4.61087037, -4.95068775, -4.86354814, -4.79322904, -4.72712443,\n",
       "       -5.01086193, -4.75757095, -5.15385643, -5.22584892, -4.91056291,\n",
       "       -4.72443686, -4.84477907, -4.71528143, -5.05509876, -4.96795912,\n",
       "       -4.89764005, -4.83153543, -5.11527291, -4.86198194, -5.25826741,\n",
       "       -5.33025994, -5.01497392, -4.82884787, -4.94919011, -4.81969238,\n",
       "       -5.15950974, -5.07237016, -5.00205104, -4.93594645, -5.21968391,\n",
       "       -4.96639297, -5.3626784 , -5.43467096, -5.11938493, -4.9332589 ,\n",
       "       -5.05360113, -4.92410336, -5.26392075, -5.1767812 , -5.10646204,\n",
       "       -5.04035748, -5.32409493, -5.070804  , -5.46708942, -5.53908197,\n",
       "       -5.22379596, -5.03766992])"
      ]
     },
     "execution_count": 39,
     "metadata": {},
     "output_type": "execute_result"
    }
   ],
   "source": [
    "forecast, conf = pipeline.predict(n_periods=567, return_conf_int=True)\n",
    "forecast"
   ]
  },
  {
   "cell_type": "code",
   "execution_count": 40,
   "metadata": {},
   "outputs": [
    {
     "data": {
      "text/plain": [
       "array([-2.88433222e-01,  5.78174191e-01, -3.26843503e-01,  3.58785264e-01,\n",
       "       -2.46639204e-01,  5.75046374e-01, -9.31610390e-02, -4.47932319e-01,\n",
       "       -2.81070475e-01, -6.46399201e-01, -2.57446150e-01,  3.94035884e-01,\n",
       "        1.00651070e-01, -2.56795832e-01, -7.21103469e-01,  1.86840789e-01,\n",
       "       -8.69330044e-02,  4.64363598e-01,  1.56835086e+00, -5.02699185e-01,\n",
       "        2.53527543e-02, -2.39328569e-01, -1.29184304e-01, -1.21200701e-01,\n",
       "       -5.97817414e-01, -2.34923323e-01,  4.24083059e-01, -1.43014517e-01,\n",
       "        3.89621037e-01,  4.13381681e-01,  2.17197093e-01, -5.37292686e-01,\n",
       "       -3.56671455e-01, -5.31162961e-01, -5.33064122e-01,  2.40751322e-01,\n",
       "       -4.43316974e-01,  3.11900663e-01,  1.15293973e-01,  6.41942140e-02,\n",
       "        4.12782029e-01,  1.13770336e-02,  9.83676412e-02, -5.55617052e-01,\n",
       "        1.79716775e-01,  7.76641007e-03, -4.40478393e-01,  2.20414471e-01,\n",
       "       -5.06781060e-01,  4.95757143e-01,  1.88395311e-01, -1.97512673e-01,\n",
       "       -3.28695798e-01,  1.77563561e+00,  2.49330498e-01, -3.42147856e-01,\n",
       "        7.80974800e-03, -4.86266121e-01, -6.60162848e-01, -1.51140784e-02,\n",
       "        1.77669990e+00,  2.65861900e-02,  1.37453870e+00, -5.95890700e-01,\n",
       "        5.75877011e-02, -5.84879871e-01,  1.80193254e+00, -6.91985030e-01,\n",
       "       -2.09246526e-01, -3.77226386e-03,  1.60781740e-01, -3.89986797e-01,\n",
       "       -1.96448422e-02,  1.92293311e-01, -3.82121515e-01, -6.02391834e-01,\n",
       "       -4.32521216e-01, -6.09327782e-01, -6.74917258e-01, -1.17824330e-01,\n",
       "       -3.67562525e-01, -1.94273250e-01, -6.66134446e-01,  8.59558549e-01,\n",
       "        2.95002465e-01,  2.42353261e-01, -2.07708287e-01, -2.17621868e-01,\n",
       "       -3.46710103e-01,  1.66550898e-01,  1.26181784e+00,  2.52402464e-01,\n",
       "        5.49450203e-01, -5.07822982e-01, -5.98068198e-01,  5.21997844e-01,\n",
       "        2.93430032e-02,  7.10106801e-01,  2.66599823e-01,  8.84276695e-02,\n",
       "        2.63512793e-02,  1.36585622e+00, -2.93381635e-01, -5.75354514e-01,\n",
       "        2.20422917e-01,  1.79718267e+00, -1.43048965e-02, -2.11899645e-01,\n",
       "        5.01328531e-02, -4.78371744e-01, -2.28583534e-01, -7.22143248e-01,\n",
       "        6.17644434e-01,  5.74098886e-02, -4.46190677e-01, -4.19430998e-01,\n",
       "       -3.43878134e-01,  5.93254831e-01,  4.71286909e-01, -4.18437992e-01,\n",
       "        5.67670070e-02,  9.89964156e-01,  4.29069193e-01, -3.58240708e-02,\n",
       "       -4.50053510e-01, -4.29639899e-01,  1.62765025e+00,  1.07860372e+00,\n",
       "       -5.67551611e-01,  2.65566553e-01, -5.07551683e-01, -6.77612661e-01,\n",
       "       -1.27213164e-01,  8.80585652e-02, -5.20158106e-01, -5.07090950e-01,\n",
       "        2.45239352e-01, -3.82740098e-03,  1.29429788e+00,  2.84253352e-01,\n",
       "        1.82596887e-01,  4.54883744e-01, -5.03730778e-02, -5.35080192e-01,\n",
       "       -3.85142553e-01, -6.08885792e-01, -1.17350452e-02, -7.84595033e-02,\n",
       "       -4.01273933e-01,  3.83591522e-01,  5.76952598e-01,  1.96245518e-01,\n",
       "       -2.34519107e-01,  1.05273194e-01, -7.22143248e-01,  4.95126273e-01,\n",
       "       -7.08399444e-01, -4.23603401e-01, -5.83911052e-01,  2.61179390e+00,\n",
       "       -5.55777049e-01, -5.20158106e-01, -2.46484747e-01, -6.28745025e-02,\n",
       "       -2.18772574e-01,  2.82881319e-02,  4.78153995e-01,  1.00648291e-01,\n",
       "        3.29948148e-01, -1.51197995e-01,  1.13215225e+00, -4.84334173e-01,\n",
       "        4.51562572e-01,  8.92520936e-02,  2.17425647e-01,  4.92967106e-01,\n",
       "        4.24063830e-01, -5.50874177e-01, -5.93907840e-01, -1.44108565e-01,\n",
       "        3.78639553e-01, -5.26237811e-01, -4.11655195e-01,  3.83796286e-01,\n",
       "        6.33341874e-01, -1.83754573e-01, -5.83212915e-01, -5.54428770e-01,\n",
       "       -3.56766539e-01,  4.89087306e-01,  1.98470534e-01,  9.32831714e-01,\n",
       "       -1.24606433e-01,  1.25944746e-01,  3.85778057e-01, -5.53185212e-01,\n",
       "       -6.52372141e-01, -4.93286935e-01, -2.33794656e-01, -5.02750341e-02,\n",
       "        1.06742970e+00, -5.44358736e-01, -3.32560009e-01, -7.58569393e-01,\n",
       "       -2.08076550e-01, -2.35002163e-01, -4.83196781e-01, -2.29203631e-01,\n",
       "       -3.94182907e-01, -2.86086550e-01,  3.75284608e-01,  4.10000782e-01,\n",
       "        1.58237202e+00,  1.78649487e+00, -1.99439181e-01,  3.53283601e-01,\n",
       "        8.62913089e-02,  3.39791330e-02,  6.97151442e-01, -4.94131190e-01,\n",
       "        1.34112756e-01,  2.17102713e-01, -5.26619459e-01, -2.27193835e-01,\n",
       "        1.61157794e+00, -1.60100329e-02, -1.81718405e-02, -4.45825800e-01,\n",
       "       -4.75576874e-01, -3.99934647e-01,  2.24374136e-01, -4.08251358e-01,\n",
       "       -1.26070971e-01, -2.84010071e-01,  4.54101655e-01, -5.74096728e-01,\n",
       "        6.10079496e-01, -5.12951291e-01, -4.71662523e-01, -7.11319784e-01,\n",
       "        1.03447184e-02,  1.47624933e+00,  1.34420675e-01,  5.57834976e-01,\n",
       "        3.90376703e-02, -7.19688062e-01,  1.77084172e-01, -5.96381249e-01,\n",
       "        9.25254103e-02, -4.22609100e-01,  5.87762486e-02,  1.04824270e+00,\n",
       "       -1.93557352e-01,  4.87696361e-01,  3.03677225e-01,  2.24611732e-01,\n",
       "        2.32915302e-01,  6.71567529e-02, -3.96140337e-01, -2.59934848e-03,\n",
       "       -1.28623756e-01,  1.42714018e+00, -4.92015432e-01, -4.73816240e-01,\n",
       "       -5.89352981e-01, -3.45740087e-01, -5.33064122e-01, -6.99467258e-01,\n",
       "       -5.98634134e-01,  3.33668085e-02, -5.98988848e-01, -1.21508179e-01,\n",
       "       -8.88133817e-02, -2.24069042e-01,  3.52637471e-01, -5.47397483e-01,\n",
       "        1.12986474e+00,  6.60266700e-01, -4.52658555e-01,  1.11846620e-01,\n",
       "       -3.20780647e-01, -3.99552131e-02, -5.60815561e-01, -4.43367251e-01,\n",
       "        1.41018021e+00, -5.92450268e-01, -6.41203853e-01, -4.88836329e-01,\n",
       "       -1.28164150e-01, -5.85404334e-01, -2.08719074e-01,  6.14012994e-02,\n",
       "       -6.02705089e-01,  1.59993693e-01,  1.14708459e+00,  2.11911696e-02,\n",
       "        2.59635428e-01,  1.52375299e+00,  2.86844706e-01, -2.72283915e-01,\n",
       "       -3.21951813e-01,  1.34562735e-01,  6.54596622e-01,  1.53203655e-01,\n",
       "       -4.06327582e-01,  1.87143818e-01, -1.16673708e-01,  2.42051274e-02,\n",
       "        1.99065004e-01, -6.28019231e-01,  4.81134791e-01,  8.51559985e-02,\n",
       "       -1.79731569e-01, -5.19671063e-01, -5.05795579e-01,  2.30637749e-01,\n",
       "        3.55079332e-02, -3.27230178e-01, -1.36309562e-01,  6.30645980e-01,\n",
       "       -1.22656314e-01,  1.23206172e-02,  6.18357628e-01, -1.41361528e-01,\n",
       "       -5.04295439e-01, -3.71852571e-01,  6.63210174e-01, -5.07547224e-02,\n",
       "        5.46442622e-01,  4.38780613e-01,  2.07917594e-01,  4.61350094e-01,\n",
       "       -2.12748912e-02,  3.33460496e-01,  1.77383334e-01, -7.22143248e-01,\n",
       "       -9.12352225e-02, -7.17029083e-01, -7.34324868e-01, -4.94948176e-01,\n",
       "       -5.70340092e-02, -2.86832658e-01,  2.68276027e+00,  1.87803518e-02,\n",
       "        1.08781898e+00, -3.47427013e-01, -6.85617939e-01, -4.90664118e-01,\n",
       "        4.93886106e-01, -6.28865252e-01, -2.22671679e-01, -7.22143248e-01,\n",
       "       -1.83918179e-01, -3.56955510e-01, -1.17721999e-01, -4.73790142e-01,\n",
       "       -5.39880584e-01, -5.79819917e-01, -1.02483972e-01,  4.86990987e-02,\n",
       "       -6.95520400e-01, -3.47392688e-01, -6.03972341e-01, -3.52078024e-01,\n",
       "        1.56374984e-01, -2.71378799e-01, -2.00597027e-01, -3.00471482e-01,\n",
       "       -4.70408745e-01, -6.33296081e-01, -4.03163480e-01, -4.52638303e-01,\n",
       "        2.86423676e-01,  9.78672758e-02,  5.18188719e-01,  1.36517494e+00,\n",
       "       -6.97669834e-01,  1.36248358e-01,  7.90873961e-02, -3.65148708e-01,\n",
       "        5.66351294e-01, -6.47267086e-01, -1.50261393e-01,  1.60595396e-01,\n",
       "       -5.11911493e-01,  1.22565770e+00,  2.59287348e+00,  4.69966368e-01,\n",
       "        2.22963830e-01, -5.77680937e-02, -5.16160085e-01,  7.98064737e-02,\n",
       "       -6.45465061e-01, -3.20074887e-01, -4.68807677e-01,  4.20427392e-01,\n",
       "       -9.14811596e-03,  1.12650401e+00,  1.06279994e-01, -1.81621164e-01,\n",
       "       -5.00155702e-01,  1.32692236e-01, -3.54084405e-01,  1.37059910e+00,\n",
       "       -2.51915624e-01, -8.24626563e-03,  5.90049152e-01, -3.26000161e-01,\n",
       "       -3.80231245e-01, -8.85750541e-03, -4.32636535e-01,  3.85636844e-01,\n",
       "       -1.30413035e-01,  5.64955368e-01, -5.49486797e-01, -5.84217418e-01,\n",
       "        1.43049786e+00, -6.34093220e-01,  4.32908218e-01, -6.81230430e-01,\n",
       "        1.99158280e-01,  2.63887544e-01, -3.58564128e-01,  1.56634298e-01,\n",
       "        3.74278856e-01, -2.39268302e-02, -5.09120591e-01, -6.03464561e-01,\n",
       "       -4.95013127e-01,  5.51408487e-01,  3.53934750e-01,  9.06115218e-01,\n",
       "        1.85936996e-01, -5.46776766e-01, -4.14411647e-01, -1.32034253e-01,\n",
       "        6.31389362e-01,  1.70939022e-01, -1.53789592e-01, -1.55507601e-01,\n",
       "        1.71396578e+00, -6.40667433e-01, -2.73564798e-01, -3.26896882e-01,\n",
       "       -6.75369378e-01,  1.86519408e-01, -5.20414862e-01, -1.65866830e-01,\n",
       "       -6.76722474e-01,  3.48063650e-02, -3.74895564e-01, -1.68674451e-01,\n",
       "        1.37724157e-02, -3.09043433e-01, -4.72234750e-01, -5.28575456e-01,\n",
       "       -2.98262704e-01,  2.36945517e-01, -2.27890319e-01, -5.54400855e-01,\n",
       "        8.32700811e-01, -4.92197020e-02, -5.91710839e-01,  2.42283431e-01,\n",
       "       -2.98424100e-01, -2.86922033e-01,  3.06956214e-01, -7.06511826e-01,\n",
       "        5.88731981e-02,  2.00826239e-01,  3.40785222e-02, -1.47826726e-01,\n",
       "        9.60266588e-01,  3.44361297e-01,  5.74594931e-01, -3.63641533e-01,\n",
       "       -4.26842497e-01, -5.26459342e-01,  5.64924257e-03,  2.87376871e-01,\n",
       "        2.42648571e-02, -3.56898885e-01,  3.78306882e-01,  2.48338119e-01,\n",
       "       -5.85022019e-01,  4.51631267e-01,  4.12881191e-01,  4.33313360e-01,\n",
       "        1.23991461e+00, -2.60585565e-01, -6.68960123e-02, -6.95520400e-01,\n",
       "       -4.88140430e-02,  5.60609747e-01,  1.13344487e-01, -3.32664684e-01,\n",
       "        1.68353538e+00,  4.29220895e-01, -1.34492456e-01,  8.22334577e-02,\n",
       "        1.88504012e-01, -4.63551253e-01, -1.08712533e-01, -6.70991579e-01,\n",
       "       -3.98153675e-01,  1.05008911e-01, -5.13281992e-01, -4.01860763e-02,\n",
       "       -6.02705089e-01,  2.35983969e-01,  1.17337318e+00, -6.02391834e-01,\n",
       "       -6.36598177e-01,  1.45684186e+00, -5.28590938e-01,  7.61452900e-01,\n",
       "        4.82623135e-01, -3.10690120e-01, -4.45263871e-01,  1.86523554e+00,\n",
       "        5.94007947e-01,  1.23136181e+00, -1.09875046e-01, -5.55487634e-01,\n",
       "       -4.99089143e-02, -4.19967429e-01,  2.50734613e+00, -2.12736520e-01,\n",
       "        1.71439758e-01, -2.79734834e-01, -2.99212523e-01, -4.19503033e-01,\n",
       "       -5.41088339e-01, -5.46787280e-01,  1.65016285e+00, -3.98242844e-01,\n",
       "        3.72595102e-02, -7.22143248e-01, -5.11549861e-01,  2.18397038e+00,\n",
       "       -2.10262205e-01, -4.06671676e-01, -6.02391834e-01,  1.02867579e-01,\n",
       "        4.88029311e-01, -4.58742464e-01,  1.36652262e-01,  4.64310575e-01,\n",
       "       -9.77446708e-03, -5.06543010e-01,  9.89889178e-02,  1.20421757e+00,\n",
       "        6.98607171e-01,  9.28304675e-01,  4.32974481e-01, -5.02486197e-01,\n",
       "       -6.15918148e-01,  1.09870665e+00,  3.93313910e-01,  4.72355327e-01,\n",
       "       -5.00115665e-01,  9.50647268e-01, -4.62521837e-01, -1.90400120e-01,\n",
       "       -5.62505065e-01, -5.62754277e-01,  1.34326433e+00])"
      ]
     },
     "execution_count": 40,
     "metadata": {},
     "output_type": "execute_result"
    }
   ],
   "source": [
    "Actuals = pd.Series.to_numpy(dfvali['electricity'])\n",
    "Actuals"
   ]
  },
  {
   "cell_type": "code",
   "execution_count": 44,
   "metadata": {},
   "outputs": [],
   "source": [
    "mseVali = mean_squared_error(Actuals, forecast)\n"
   ]
  },
  {
   "cell_type": "code",
   "execution_count": 45,
   "metadata": {},
   "outputs": [
    {
     "data": {
      "text/plain": [
       "array([ -0.56601924,  -0.36996223,  -0.29905121, ..., -20.00314524,\n",
       "       -19.93282611, -19.86672153])"
      ]
     },
     "execution_count": 45,
     "metadata": {},
     "output_type": "execute_result"
    }
   ],
   "source": [
    "forecasttrain, _ = pipeline.predict(n_periods=2265, return_conf_int=True)\n",
    "forecasttrain"
   ]
  },
  {
   "cell_type": "code",
   "execution_count": 46,
   "metadata": {},
   "outputs": [
    {
     "data": {
      "text/plain": [
       "array([ 0.48599307,  0.35181247,  1.06374788, ..., -0.6955204 ,\n",
       "       -0.5168299 , -0.57657115])"
      ]
     },
     "execution_count": 46,
     "metadata": {},
     "output_type": "execute_result"
    }
   ],
   "source": [
    "Actualstrain = pd.Series.to_numpy(dftrain['electricity'])\n",
    "Actualstrain"
   ]
  },
  {
   "cell_type": "code",
   "execution_count": 47,
   "metadata": {},
   "outputs": [
    {
     "data": {
      "text/plain": [
       "135.63488892230467"
      ]
     },
     "execution_count": 47,
     "metadata": {},
     "output_type": "execute_result"
    }
   ],
   "source": [
    "msetrain = mean_squared_error(Actualstrain, forecasttrain)\n",
    "msetrain"
   ]
  },
  {
   "cell_type": "code",
   "execution_count": 48,
   "metadata": {},
   "outputs": [
    {
     "data": {
      "text/plain": [
       "array([-0.56601924, -0.36996223, -0.29905121, -0.31845445, -0.40946456,\n",
       "       -0.67394054, -0.36616808, -0.46126265, -0.2577197 , -0.61999893,\n",
       "       -0.14052735, -0.79325413, -0.74197541, -0.43335642, -0.23008721,\n",
       "       -0.30678344, -0.40296327, -0.67150268, -0.39765848, -0.46286516,\n",
       "       -0.32796555, -0.63582001, -0.37513274, -0.82500818, -0.86003993,\n",
       "       -0.50756676, -0.28930281, -0.40690682, -0.42195317, -0.67119176,\n",
       "       -0.54408756, -0.54351971, -0.42502196, -0.71864467, -0.49086419,\n",
       "       -0.87991141, -0.90706332, -0.63842334, -0.42673067, -0.54515104,\n",
       "       -0.40507011, -0.74303251, -0.59483153, -0.59784716, -0.53154749,\n",
       "       -0.81128366, -0.4993565 , -0.94984522, -1.08072246, -0.69319344,\n",
       "       -0.52997136, -0.72980235, -0.52365011, -0.87178929, -0.87503195,\n",
       "       -0.68582989, -0.66889945, -0.89059175, -0.73207158, -1.03128196,\n",
       "       -1.15125935, -0.86515967, -0.68103518, -0.76313726, -0.53482318,\n",
       "       -0.94636647, -0.93226991, -0.81412992, -0.77257174, -1.08921074,\n",
       "       -0.81726085, -1.20971343, -1.25069728, -0.94749133, -0.76867923,\n",
       "       -0.87523695, -0.81288194, -1.12356523, -0.98004034, -0.95639026,\n",
       "       -0.86095841, -1.15463417, -0.87405206, -1.30860403, -1.36414274,\n",
       "       -1.04512648, -0.85243155, -0.97296232])"
      ]
     },
     "execution_count": 48,
     "metadata": {},
     "output_type": "execute_result"
    }
   ],
   "source": [
    "forecasttest, conf = pipeline.predict(n_periods=88, return_conf_int=True)\n",
    "forecasttest"
   ]
  },
  {
   "cell_type": "code",
   "execution_count": 49,
   "metadata": {},
   "outputs": [
    {
     "data": {
      "text/plain": [
       "array([-0.54589218, -0.42037527, -0.51036082,  0.61362476, -0.61317237,\n",
       "       -0.30763293, -0.5200797 , -0.51387416,  0.09678628,  0.60551263,\n",
       "       -0.6687183 , -0.52015811, -0.12820125, -0.24541617,  0.42697728,\n",
       "       -0.25334244, -0.5004312 , -0.51438469, -0.55449724, -0.4440704 ,\n",
       "       -0.38030461,  0.00665248, -0.27082121, -0.54930533,  0.21191174,\n",
       "       -0.72121995,  0.11856004, -0.33691632,  0.48219655,  0.2097056 ,\n",
       "       -0.45326051, -0.52661946, -0.14634047,  0.75834705, -0.14049582,\n",
       "        0.67443888, -0.54808552, -0.15429608, -0.72214325,  2.498469  ,\n",
       "       -0.49037912, -0.59452956,  0.28117604, -0.26419372,  0.1607337 ,\n",
       "       -0.18296275, -0.67774189,  0.04239773, -0.22775508, -0.3971071 ,\n",
       "       -0.1188432 , -0.35991256, -0.32672419, -0.02548683,  0.21007423,\n",
       "       -0.52300838, -0.42136195,  0.26670321,  0.24584192,  0.14746346,\n",
       "        0.24765973, -0.10630554, -0.4858824 ,  0.37032354, -0.60239183,\n",
       "        0.56749275, -0.50205994,  0.68477946, -0.30644151,  0.39388312,\n",
       "        1.2046388 , -0.4285825 ,  1.00365512,  0.35874231, -0.56302621,\n",
       "       -0.42434817, -0.3369924 ,  0.23702883, -0.44039197,  0.21789341,\n",
       "       -0.67915827, -0.51537611, -0.46971669,  0.23073794, -0.22287008,\n",
       "       -0.71572763, -0.64990256, -0.37600791])"
      ]
     },
     "execution_count": 49,
     "metadata": {},
     "output_type": "execute_result"
    }
   ],
   "source": [
    "Actualstest = pd.Series.to_numpy(dftest['electricity'])\n",
    "Actualstest"
   ]
  },
  {
   "cell_type": "code",
   "execution_count": 50,
   "metadata": {},
   "outputs": [
    {
     "data": {
      "text/plain": [
       "0.7145059063952578"
      ]
     },
     "execution_count": 50,
     "metadata": {},
     "output_type": "execute_result"
    }
   ],
   "source": [
    "msetest = mean_squared_error(Actualstest, forecasttest)\n",
    "msetest"
   ]
  },
  {
   "cell_type": "code",
   "execution_count": 51,
   "metadata": {},
   "outputs": [
    {
     "name": "stdout",
     "output_type": "stream",
     "text": [
      "RMSE: 0.845285\n"
     ]
    }
   ],
   "source": [
    "rmse = math.sqrt(msetest)\n",
    "print('RMSE: %f' % rmse)"
   ]
  },
  {
   "cell_type": "code",
   "execution_count": 52,
   "metadata": {},
   "outputs": [
    {
     "data": {
      "text/plain": [
       "8.534984766097647"
      ]
     },
     "execution_count": 52,
     "metadata": {},
     "output_type": "execute_result"
    }
   ],
   "source": [
    "mse = mean_squared_error(Actuals, forecast)\n",
    "mse"
   ]
  },
  {
   "cell_type": "code",
   "execution_count": 53,
   "metadata": {},
   "outputs": [
    {
     "name": "stdout",
     "output_type": "stream",
     "text": [
      "RMSE: 2.921470\n"
     ]
    }
   ],
   "source": [
    "rmse = math.sqrt(mse)\n",
    "print('RMSE: %f' % rmse)"
   ]
  }
 ],
 "metadata": {
  "interpreter": {
   "hash": "91ec43aa1f0db36d96140b828b08e86586f62f08ccada0f9bf3c6347196c39a6"
  },
  "kernelspec": {
   "display_name": "Python 3 (ipykernel)",
   "language": "python",
   "name": "python3"
  },
  "language_info": {
   "codemirror_mode": {
    "name": "ipython",
    "version": 3
   },
   "file_extension": ".py",
   "mimetype": "text/x-python",
   "name": "python",
   "nbconvert_exporter": "python",
   "pygments_lexer": "ipython3",
   "version": "3.9.7"
  }
 },
 "nbformat": 4,
 "nbformat_minor": 2
}
