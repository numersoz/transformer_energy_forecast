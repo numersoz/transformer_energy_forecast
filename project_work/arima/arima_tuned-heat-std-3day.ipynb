{
 "cells": [
  {
   "cell_type": "code",
   "execution_count": 1,
   "metadata": {},
   "outputs": [],
   "source": [
    "import os\n",
    "import random\n",
    "import math\n",
    "from sklearn.metrics import mean_squared_error\n",
    "import numpy as np\n",
    "from matplotlib import pyplot as plt\n",
    "import pandas as pd\n",
    "import seaborn as sn\n",
    "from sklearn.decomposition import PCA\n",
    "from sklearn.preprocessing import MinMaxScaler, StandardScaler\n",
    "import pmdarima as pm \n",
    "from sklearn.model_selection import train_test_split\n",
    "from pmdarima.pipeline import Pipeline"
   ]
  },
  {
   "cell_type": "code",
   "execution_count": 2,
   "metadata": {},
   "outputs": [
    {
     "data": {
      "text/plain": [
       "'C:\\\\Users\\\\niles\\\\project\\\\project_work\\\\notebooks'"
      ]
     },
     "execution_count": 2,
     "metadata": {},
     "output_type": "execute_result"
    }
   ],
   "source": [
    "os.getcwd()"
   ]
  },
  {
   "cell_type": "code",
   "execution_count": 3,
   "metadata": {},
   "outputs": [],
   "source": [
    "# Read data:\n",
    "#os.chdir(\"..\")\n",
    "df = pd.read_csv(\"data.csv\")"
   ]
  },
  {
   "cell_type": "code",
   "execution_count": 4,
   "metadata": {},
   "outputs": [
    {
     "data": {
      "text/html": [
       "<div>\n",
       "<style scoped>\n",
       "    .dataframe tbody tr th:only-of-type {\n",
       "        vertical-align: middle;\n",
       "    }\n",
       "\n",
       "    .dataframe tbody tr th {\n",
       "        vertical-align: top;\n",
       "    }\n",
       "\n",
       "    .dataframe thead th {\n",
       "        text-align: right;\n",
       "    }\n",
       "</style>\n",
       "<table border=\"1\" class=\"dataframe\">\n",
       "  <thead>\n",
       "    <tr style=\"text-align: right;\">\n",
       "      <th></th>\n",
       "      <th>Time</th>\n",
       "      <th>air_pressure[mmHg]</th>\n",
       "      <th>air_temperature[degree celcius]</th>\n",
       "      <th>relative_humidity[%]</th>\n",
       "      <th>wind_speed[M/S]</th>\n",
       "      <th>solar_irridiation[W/m²]</th>\n",
       "      <th>total_cloud_cover[from ten]</th>\n",
       "      <th>electricity_demand_values[kw]</th>\n",
       "      <th>heat_demand_values[kw]</th>\n",
       "    </tr>\n",
       "  </thead>\n",
       "  <tbody>\n",
       "    <tr>\n",
       "      <th>0</th>\n",
       "      <td>2010-12-01 00:00:00</td>\n",
       "      <td>729.7</td>\n",
       "      <td>25.0</td>\n",
       "      <td>85.0</td>\n",
       "      <td>5.0</td>\n",
       "      <td>0</td>\n",
       "      <td>no clouds</td>\n",
       "      <td>289.567557</td>\n",
       "      <td>432.940036</td>\n",
       "    </tr>\n",
       "    <tr>\n",
       "      <th>1</th>\n",
       "      <td>2010-12-01 01:00:00</td>\n",
       "      <td>729.4</td>\n",
       "      <td>27.8</td>\n",
       "      <td>77.0</td>\n",
       "      <td>7.0</td>\n",
       "      <td>0</td>\n",
       "      <td>no clouds</td>\n",
       "      <td>260.168520</td>\n",
       "      <td>473.935901</td>\n",
       "    </tr>\n",
       "    <tr>\n",
       "      <th>2</th>\n",
       "      <td>2010-12-01 02:00:00</td>\n",
       "      <td>728.9</td>\n",
       "      <td>33.3</td>\n",
       "      <td>62.0</td>\n",
       "      <td>7.0</td>\n",
       "      <td>0</td>\n",
       "      <td>2/10–3/10.</td>\n",
       "      <td>247.273585</td>\n",
       "      <td>483.278761</td>\n",
       "    </tr>\n",
       "    <tr>\n",
       "      <th>3</th>\n",
       "      <td>2010-12-01 03:00:00</td>\n",
       "      <td>731.6</td>\n",
       "      <td>32.2</td>\n",
       "      <td>62.0</td>\n",
       "      <td>2.0</td>\n",
       "      <td>0</td>\n",
       "      <td>5/10.</td>\n",
       "      <td>257.955878</td>\n",
       "      <td>545.921252</td>\n",
       "    </tr>\n",
       "    <tr>\n",
       "      <th>4</th>\n",
       "      <td>2010-12-01 04:00:00</td>\n",
       "      <td>732.6</td>\n",
       "      <td>22.8</td>\n",
       "      <td>96.0</td>\n",
       "      <td>3.0</td>\n",
       "      <td>0</td>\n",
       "      <td>2/10–3/10.</td>\n",
       "      <td>258.255081</td>\n",
       "      <td>550.526112</td>\n",
       "    </tr>\n",
       "  </tbody>\n",
       "</table>\n",
       "</div>"
      ],
      "text/plain": [
       "                  Time  air_pressure[mmHg]  air_temperature[degree celcius]  \\\n",
       "0  2010-12-01 00:00:00               729.7                             25.0   \n",
       "1  2010-12-01 01:00:00               729.4                             27.8   \n",
       "2  2010-12-01 02:00:00               728.9                             33.3   \n",
       "3  2010-12-01 03:00:00               731.6                             32.2   \n",
       "4  2010-12-01 04:00:00               732.6                             22.8   \n",
       "\n",
       "   relative_humidity[%]  wind_speed[M/S]  solar_irridiation[W/m²]  \\\n",
       "0                  85.0              5.0                        0   \n",
       "1                  77.0              7.0                        0   \n",
       "2                  62.0              7.0                        0   \n",
       "3                  62.0              2.0                        0   \n",
       "4                  96.0              3.0                        0   \n",
       "\n",
       "  total_cloud_cover[from ten]  electricity_demand_values[kw]  \\\n",
       "0                   no clouds                     289.567557   \n",
       "1                   no clouds                     260.168520   \n",
       "2                  2/10–3/10.                     247.273585   \n",
       "3                       5/10.                     257.955878   \n",
       "4                  2/10–3/10.                     258.255081   \n",
       "\n",
       "   heat_demand_values[kw]  \n",
       "0              432.940036  \n",
       "1              473.935901  \n",
       "2              483.278761  \n",
       "3              545.921252  \n",
       "4              550.526112  "
      ]
     },
     "execution_count": 4,
     "metadata": {},
     "output_type": "execute_result"
    }
   ],
   "source": [
    "df.head()"
   ]
  },
  {
   "cell_type": "code",
   "execution_count": 5,
   "metadata": {},
   "outputs": [
    {
     "data": {
      "text/plain": [
       "70080"
      ]
     },
     "execution_count": 5,
     "metadata": {},
     "output_type": "execute_result"
    }
   ],
   "source": [
    "len(df)"
   ]
  },
  {
   "cell_type": "code",
   "execution_count": 6,
   "metadata": {},
   "outputs": [],
   "source": [
    "df = df.dropna()"
   ]
  },
  {
   "cell_type": "code",
   "execution_count": 7,
   "metadata": {},
   "outputs": [
    {
     "data": {
      "text/plain": [
       "68792"
      ]
     },
     "execution_count": 7,
     "metadata": {},
     "output_type": "execute_result"
    }
   ],
   "source": [
    "len(df)"
   ]
  },
  {
   "cell_type": "code",
   "execution_count": 8,
   "metadata": {},
   "outputs": [],
   "source": [
    "# Rename Columns:\n",
    "col_mapping = {\"Time\": \"date\",\n",
    "            \"air_pressure[mmHg]\": \"air_pressure\",\n",
    "            \"air_temperature[degree celcius]\": \"air_temperature\",\n",
    "            \"relative_humidity[%]\": \"relative_humidity\",\n",
    "            \"wind_speed[M/S]\": \"wind_speed\",\n",
    "            \"solar_irridiation[W/m²]\": \"solar_irridiation\",\n",
    "            \"total_cloud_cover[from ten]\": \"total_cloud_cover\",\n",
    "            \"electricity_demand_values[kw]\": \"electricity\",\n",
    "            \"heat_demand_values[kw]\": \"heat\"}\n",
    "df = df.rename(columns = col_mapping)"
   ]
  },
  {
   "cell_type": "code",
   "execution_count": 9,
   "metadata": {},
   "outputs": [
    {
     "data": {
      "text/html": [
       "<div>\n",
       "<style scoped>\n",
       "    .dataframe tbody tr th:only-of-type {\n",
       "        vertical-align: middle;\n",
       "    }\n",
       "\n",
       "    .dataframe tbody tr th {\n",
       "        vertical-align: top;\n",
       "    }\n",
       "\n",
       "    .dataframe thead th {\n",
       "        text-align: right;\n",
       "    }\n",
       "</style>\n",
       "<table border=\"1\" class=\"dataframe\">\n",
       "  <thead>\n",
       "    <tr style=\"text-align: right;\">\n",
       "      <th></th>\n",
       "      <th>date</th>\n",
       "      <th>air_pressure</th>\n",
       "      <th>air_temperature</th>\n",
       "      <th>relative_humidity</th>\n",
       "      <th>wind_speed</th>\n",
       "      <th>solar_irridiation</th>\n",
       "      <th>total_cloud_cover</th>\n",
       "      <th>electricity</th>\n",
       "      <th>heat</th>\n",
       "    </tr>\n",
       "  </thead>\n",
       "  <tbody>\n",
       "    <tr>\n",
       "      <th>0</th>\n",
       "      <td>2010-12-01 00:00:00</td>\n",
       "      <td>729.7</td>\n",
       "      <td>25.0</td>\n",
       "      <td>85.0</td>\n",
       "      <td>5.0</td>\n",
       "      <td>0</td>\n",
       "      <td>no clouds</td>\n",
       "      <td>289.567557</td>\n",
       "      <td>432.940036</td>\n",
       "    </tr>\n",
       "    <tr>\n",
       "      <th>1</th>\n",
       "      <td>2010-12-01 01:00:00</td>\n",
       "      <td>729.4</td>\n",
       "      <td>27.8</td>\n",
       "      <td>77.0</td>\n",
       "      <td>7.0</td>\n",
       "      <td>0</td>\n",
       "      <td>no clouds</td>\n",
       "      <td>260.168520</td>\n",
       "      <td>473.935901</td>\n",
       "    </tr>\n",
       "    <tr>\n",
       "      <th>2</th>\n",
       "      <td>2010-12-01 02:00:00</td>\n",
       "      <td>728.9</td>\n",
       "      <td>33.3</td>\n",
       "      <td>62.0</td>\n",
       "      <td>7.0</td>\n",
       "      <td>0</td>\n",
       "      <td>2/10–3/10.</td>\n",
       "      <td>247.273585</td>\n",
       "      <td>483.278761</td>\n",
       "    </tr>\n",
       "    <tr>\n",
       "      <th>3</th>\n",
       "      <td>2010-12-01 03:00:00</td>\n",
       "      <td>731.6</td>\n",
       "      <td>32.2</td>\n",
       "      <td>62.0</td>\n",
       "      <td>2.0</td>\n",
       "      <td>0</td>\n",
       "      <td>5/10.</td>\n",
       "      <td>257.955878</td>\n",
       "      <td>545.921252</td>\n",
       "    </tr>\n",
       "    <tr>\n",
       "      <th>4</th>\n",
       "      <td>2010-12-01 04:00:00</td>\n",
       "      <td>732.6</td>\n",
       "      <td>22.8</td>\n",
       "      <td>96.0</td>\n",
       "      <td>3.0</td>\n",
       "      <td>0</td>\n",
       "      <td>2/10–3/10.</td>\n",
       "      <td>258.255081</td>\n",
       "      <td>550.526112</td>\n",
       "    </tr>\n",
       "  </tbody>\n",
       "</table>\n",
       "</div>"
      ],
      "text/plain": [
       "                 date  air_pressure  air_temperature  relative_humidity  \\\n",
       "0 2010-12-01 00:00:00         729.7             25.0               85.0   \n",
       "1 2010-12-01 01:00:00         729.4             27.8               77.0   \n",
       "2 2010-12-01 02:00:00         728.9             33.3               62.0   \n",
       "3 2010-12-01 03:00:00         731.6             32.2               62.0   \n",
       "4 2010-12-01 04:00:00         732.6             22.8               96.0   \n",
       "\n",
       "   wind_speed  solar_irridiation total_cloud_cover  electricity        heat  \n",
       "0         5.0                  0         no clouds   289.567557  432.940036  \n",
       "1         7.0                  0         no clouds   260.168520  473.935901  \n",
       "2         7.0                  0        2/10–3/10.   247.273585  483.278761  \n",
       "3         2.0                  0             5/10.   257.955878  545.921252  \n",
       "4         3.0                  0        2/10–3/10.   258.255081  550.526112  "
      ]
     },
     "execution_count": 9,
     "metadata": {},
     "output_type": "execute_result"
    }
   ],
   "source": [
    "# Change ts to datetime and set as index:\n",
    "df[\"date\"] = pd.to_datetime(df[\"date\"],format='%Y-%m-%d')\n",
    "df.head()"
   ]
  },
  {
   "cell_type": "code",
   "execution_count": 10,
   "metadata": {},
   "outputs": [
    {
     "data": {
      "text/plain": [
       "68792"
      ]
     },
     "execution_count": 10,
     "metadata": {},
     "output_type": "execute_result"
    }
   ],
   "source": [
    "len(df)"
   ]
  },
  {
   "cell_type": "code",
   "execution_count": 11,
   "metadata": {},
   "outputs": [
    {
     "data": {
      "text/html": [
       "<div>\n",
       "<style scoped>\n",
       "    .dataframe tbody tr th:only-of-type {\n",
       "        vertical-align: middle;\n",
       "    }\n",
       "\n",
       "    .dataframe tbody tr th {\n",
       "        vertical-align: top;\n",
       "    }\n",
       "\n",
       "    .dataframe thead th {\n",
       "        text-align: right;\n",
       "    }\n",
       "</style>\n",
       "<table border=\"1\" class=\"dataframe\">\n",
       "  <thead>\n",
       "    <tr style=\"text-align: right;\">\n",
       "      <th></th>\n",
       "      <th>date</th>\n",
       "      <th>air_pressure</th>\n",
       "      <th>air_temperature</th>\n",
       "      <th>relative_humidity</th>\n",
       "      <th>wind_speed</th>\n",
       "      <th>solar_irridiation</th>\n",
       "      <th>total_cloud_cover</th>\n",
       "      <th>electricity</th>\n",
       "      <th>heat</th>\n",
       "    </tr>\n",
       "  </thead>\n",
       "  <tbody>\n",
       "    <tr>\n",
       "      <th>0</th>\n",
       "      <td>2010-12-01 00:00:00</td>\n",
       "      <td>729.7</td>\n",
       "      <td>25.0</td>\n",
       "      <td>85.0</td>\n",
       "      <td>5.0</td>\n",
       "      <td>0</td>\n",
       "      <td>no clouds</td>\n",
       "      <td>289.567557</td>\n",
       "      <td>432.940036</td>\n",
       "    </tr>\n",
       "    <tr>\n",
       "      <th>1</th>\n",
       "      <td>2010-12-01 01:00:00</td>\n",
       "      <td>729.4</td>\n",
       "      <td>27.8</td>\n",
       "      <td>77.0</td>\n",
       "      <td>7.0</td>\n",
       "      <td>0</td>\n",
       "      <td>no clouds</td>\n",
       "      <td>260.168520</td>\n",
       "      <td>473.935901</td>\n",
       "    </tr>\n",
       "    <tr>\n",
       "      <th>2</th>\n",
       "      <td>2010-12-01 02:00:00</td>\n",
       "      <td>728.9</td>\n",
       "      <td>33.3</td>\n",
       "      <td>62.0</td>\n",
       "      <td>7.0</td>\n",
       "      <td>0</td>\n",
       "      <td>2/10–3/10.</td>\n",
       "      <td>247.273585</td>\n",
       "      <td>483.278761</td>\n",
       "    </tr>\n",
       "    <tr>\n",
       "      <th>3</th>\n",
       "      <td>2010-12-01 03:00:00</td>\n",
       "      <td>731.6</td>\n",
       "      <td>32.2</td>\n",
       "      <td>62.0</td>\n",
       "      <td>2.0</td>\n",
       "      <td>0</td>\n",
       "      <td>5/10.</td>\n",
       "      <td>257.955878</td>\n",
       "      <td>545.921252</td>\n",
       "    </tr>\n",
       "    <tr>\n",
       "      <th>4</th>\n",
       "      <td>2010-12-01 04:00:00</td>\n",
       "      <td>732.6</td>\n",
       "      <td>22.8</td>\n",
       "      <td>96.0</td>\n",
       "      <td>3.0</td>\n",
       "      <td>0</td>\n",
       "      <td>2/10–3/10.</td>\n",
       "      <td>258.255081</td>\n",
       "      <td>550.526112</td>\n",
       "    </tr>\n",
       "  </tbody>\n",
       "</table>\n",
       "</div>"
      ],
      "text/plain": [
       "                 date  air_pressure  air_temperature  relative_humidity  \\\n",
       "0 2010-12-01 00:00:00         729.7             25.0               85.0   \n",
       "1 2010-12-01 01:00:00         729.4             27.8               77.0   \n",
       "2 2010-12-01 02:00:00         728.9             33.3               62.0   \n",
       "3 2010-12-01 03:00:00         731.6             32.2               62.0   \n",
       "4 2010-12-01 04:00:00         732.6             22.8               96.0   \n",
       "\n",
       "   wind_speed  solar_irridiation total_cloud_cover  electricity        heat  \n",
       "0         5.0                  0         no clouds   289.567557  432.940036  \n",
       "1         7.0                  0         no clouds   260.168520  473.935901  \n",
       "2         7.0                  0        2/10–3/10.   247.273585  483.278761  \n",
       "3         2.0                  0             5/10.   257.955878  545.921252  \n",
       "4         3.0                  0        2/10–3/10.   258.255081  550.526112  "
      ]
     },
     "execution_count": 11,
     "metadata": {},
     "output_type": "execute_result"
    }
   ],
   "source": [
    "df.head()"
   ]
  },
  {
   "cell_type": "code",
   "execution_count": 12,
   "metadata": {},
   "outputs": [],
   "source": [
    "df1 = df[[\"date\",'heat']]"
   ]
  },
  {
   "cell_type": "code",
   "execution_count": 13,
   "metadata": {},
   "outputs": [
    {
     "data": {
      "text/html": [
       "<div>\n",
       "<style scoped>\n",
       "    .dataframe tbody tr th:only-of-type {\n",
       "        vertical-align: middle;\n",
       "    }\n",
       "\n",
       "    .dataframe tbody tr th {\n",
       "        vertical-align: top;\n",
       "    }\n",
       "\n",
       "    .dataframe thead th {\n",
       "        text-align: right;\n",
       "    }\n",
       "</style>\n",
       "<table border=\"1\" class=\"dataframe\">\n",
       "  <thead>\n",
       "    <tr style=\"text-align: right;\">\n",
       "      <th></th>\n",
       "      <th>heat</th>\n",
       "    </tr>\n",
       "    <tr>\n",
       "      <th>date</th>\n",
       "      <th></th>\n",
       "    </tr>\n",
       "  </thead>\n",
       "  <tbody>\n",
       "    <tr>\n",
       "      <th>2010-12-01 00:00:00</th>\n",
       "      <td>432.940036</td>\n",
       "    </tr>\n",
       "    <tr>\n",
       "      <th>2010-12-01 01:00:00</th>\n",
       "      <td>473.935901</td>\n",
       "    </tr>\n",
       "    <tr>\n",
       "      <th>2010-12-01 02:00:00</th>\n",
       "      <td>483.278761</td>\n",
       "    </tr>\n",
       "    <tr>\n",
       "      <th>2010-12-01 03:00:00</th>\n",
       "      <td>545.921252</td>\n",
       "    </tr>\n",
       "    <tr>\n",
       "      <th>2010-12-01 04:00:00</th>\n",
       "      <td>550.526112</td>\n",
       "    </tr>\n",
       "  </tbody>\n",
       "</table>\n",
       "</div>"
      ],
      "text/plain": [
       "                           heat\n",
       "date                           \n",
       "2010-12-01 00:00:00  432.940036\n",
       "2010-12-01 01:00:00  473.935901\n",
       "2010-12-01 02:00:00  483.278761\n",
       "2010-12-01 03:00:00  545.921252\n",
       "2010-12-01 04:00:00  550.526112"
      ]
     },
     "execution_count": 13,
     "metadata": {},
     "output_type": "execute_result"
    }
   ],
   "source": [
    "df1 = df1.set_index(\"date\")\n",
    "df1.head()"
   ]
  },
  {
   "cell_type": "code",
   "execution_count": 14,
   "metadata": {},
   "outputs": [],
   "source": [
    "x = df1['heat'].values.reshape(-1, 1) #returns a numpy array\n",
    "min_max_scaler = StandardScaler()\n",
    "x_scaled = min_max_scaler.fit_transform(x)\n",
    "df1['heat'] = x_scaled"
   ]
  },
  {
   "cell_type": "code",
   "execution_count": 15,
   "metadata": {},
   "outputs": [
    {
     "data": {
      "text/html": [
       "<div>\n",
       "<style scoped>\n",
       "    .dataframe tbody tr th:only-of-type {\n",
       "        vertical-align: middle;\n",
       "    }\n",
       "\n",
       "    .dataframe tbody tr th {\n",
       "        vertical-align: top;\n",
       "    }\n",
       "\n",
       "    .dataframe thead th {\n",
       "        text-align: right;\n",
       "    }\n",
       "</style>\n",
       "<table border=\"1\" class=\"dataframe\">\n",
       "  <thead>\n",
       "    <tr style=\"text-align: right;\">\n",
       "      <th></th>\n",
       "      <th>heat</th>\n",
       "    </tr>\n",
       "    <tr>\n",
       "      <th>date</th>\n",
       "      <th></th>\n",
       "    </tr>\n",
       "  </thead>\n",
       "  <tbody>\n",
       "    <tr>\n",
       "      <th>2010-12-01 00:00:00</th>\n",
       "      <td>0.537153</td>\n",
       "    </tr>\n",
       "    <tr>\n",
       "      <th>2010-12-01 01:00:00</th>\n",
       "      <td>0.667290</td>\n",
       "    </tr>\n",
       "    <tr>\n",
       "      <th>2010-12-01 02:00:00</th>\n",
       "      <td>0.696948</td>\n",
       "    </tr>\n",
       "    <tr>\n",
       "      <th>2010-12-01 03:00:00</th>\n",
       "      <td>0.895801</td>\n",
       "    </tr>\n",
       "    <tr>\n",
       "      <th>2010-12-01 04:00:00</th>\n",
       "      <td>0.910419</td>\n",
       "    </tr>\n",
       "  </tbody>\n",
       "</table>\n",
       "</div>"
      ],
      "text/plain": [
       "                         heat\n",
       "date                         \n",
       "2010-12-01 00:00:00  0.537153\n",
       "2010-12-01 01:00:00  0.667290\n",
       "2010-12-01 02:00:00  0.696948\n",
       "2010-12-01 03:00:00  0.895801\n",
       "2010-12-01 04:00:00  0.910419"
      ]
     },
     "execution_count": 15,
     "metadata": {},
     "output_type": "execute_result"
    }
   ],
   "source": [
    "df1.head()"
   ]
  },
  {
   "cell_type": "code",
   "execution_count": 16,
   "metadata": {},
   "outputs": [
    {
     "data": {
      "text/html": [
       "<div>\n",
       "<style scoped>\n",
       "    .dataframe tbody tr th:only-of-type {\n",
       "        vertical-align: middle;\n",
       "    }\n",
       "\n",
       "    .dataframe tbody tr th {\n",
       "        vertical-align: top;\n",
       "    }\n",
       "\n",
       "    .dataframe thead th {\n",
       "        text-align: right;\n",
       "    }\n",
       "</style>\n",
       "<table border=\"1\" class=\"dataframe\">\n",
       "  <thead>\n",
       "    <tr style=\"text-align: right;\">\n",
       "      <th></th>\n",
       "      <th>heat</th>\n",
       "    </tr>\n",
       "    <tr>\n",
       "      <th>date</th>\n",
       "      <th></th>\n",
       "    </tr>\n",
       "  </thead>\n",
       "  <tbody>\n",
       "    <tr>\n",
       "      <th>2010-12-01</th>\n",
       "      <td>0.073040</td>\n",
       "    </tr>\n",
       "    <tr>\n",
       "      <th>2010-12-02</th>\n",
       "      <td>-0.212695</td>\n",
       "    </tr>\n",
       "    <tr>\n",
       "      <th>2010-12-03</th>\n",
       "      <td>0.291141</td>\n",
       "    </tr>\n",
       "    <tr>\n",
       "      <th>2010-12-04</th>\n",
       "      <td>1.031632</td>\n",
       "    </tr>\n",
       "    <tr>\n",
       "      <th>2010-12-05</th>\n",
       "      <td>1.426792</td>\n",
       "    </tr>\n",
       "  </tbody>\n",
       "</table>\n",
       "</div>"
      ],
      "text/plain": [
       "                heat\n",
       "date                \n",
       "2010-12-01  0.073040\n",
       "2010-12-02 -0.212695\n",
       "2010-12-03  0.291141\n",
       "2010-12-04  1.031632\n",
       "2010-12-05  1.426792"
      ]
     },
     "execution_count": 16,
     "metadata": {},
     "output_type": "execute_result"
    }
   ],
   "source": [
    "davg_df = df1.groupby(pd.Grouper(freq='D')).mean()\n",
    "davg_df.head()"
   ]
  },
  {
   "cell_type": "code",
   "execution_count": 17,
   "metadata": {},
   "outputs": [
    {
     "data": {
      "text/plain": [
       "2920"
      ]
     },
     "execution_count": 17,
     "metadata": {},
     "output_type": "execute_result"
    }
   ],
   "source": [
    "len(davg_df)"
   ]
  },
  {
   "cell_type": "code",
   "execution_count": 18,
   "metadata": {},
   "outputs": [],
   "source": [
    "dftrain, dftest = train_test_split(davg_df, test_size=0.01*3)"
   ]
  },
  {
   "cell_type": "code",
   "execution_count": 19,
   "metadata": {},
   "outputs": [
    {
     "data": {
      "text/plain": [
       "88"
      ]
     },
     "execution_count": 19,
     "metadata": {},
     "output_type": "execute_result"
    }
   ],
   "source": [
    "len(dftest)"
   ]
  },
  {
   "cell_type": "code",
   "execution_count": 20,
   "metadata": {},
   "outputs": [],
   "source": [
    "dftrain, dfvali = train_test_split(dftrain, test_size=0.2)"
   ]
  },
  {
   "cell_type": "code",
   "execution_count": 21,
   "metadata": {},
   "outputs": [
    {
     "data": {
      "text/plain": [
       "2265"
      ]
     },
     "execution_count": 21,
     "metadata": {},
     "output_type": "execute_result"
    }
   ],
   "source": [
    "len(dftrain)"
   ]
  },
  {
   "cell_type": "code",
   "execution_count": 22,
   "metadata": {},
   "outputs": [
    {
     "data": {
      "text/plain": [
       "567"
      ]
     },
     "execution_count": 22,
     "metadata": {},
     "output_type": "execute_result"
    }
   ],
   "source": [
    "len(dfvali)"
   ]
  },
  {
   "cell_type": "code",
   "execution_count": 23,
   "metadata": {},
   "outputs": [],
   "source": [
    "# best\n",
    "random.seed(0)"
   ]
  },
  {
   "cell_type": "code",
   "execution_count": 24,
   "metadata": {},
   "outputs": [
    {
     "name": "stdout",
     "output_type": "stream",
     "text": [
      " ARIMA(0,1,0)(0,1,0)[7]             : AIC=9302.233, Time=0.05 sec\n",
      " ARIMA(0,1,0)(0,1,1)[7]             : AIC=inf, Time=0.49 sec\n",
      " ARIMA(0,1,0)(0,1,2)[7]             : AIC=inf, Time=1.58 sec\n",
      " ARIMA(0,1,0)(1,1,0)[7]             : AIC=8688.452, Time=0.11 sec\n",
      " ARIMA(0,1,0)(1,1,1)[7]             : AIC=inf, Time=0.91 sec\n",
      " ARIMA(0,1,0)(1,1,2)[7]             : AIC=inf, Time=2.47 sec\n",
      " ARIMA(0,1,0)(2,1,0)[7]             : AIC=8414.378, Time=0.19 sec\n",
      " ARIMA(0,1,0)(2,1,1)[7]             : AIC=inf, Time=2.23 sec\n",
      " ARIMA(0,1,0)(2,1,2)[7]             : AIC=inf, Time=3.43 sec\n",
      " ARIMA(0,1,1)(0,1,0)[7]             : AIC=inf, Time=0.40 sec\n",
      " ARIMA(0,1,1)(0,1,1)[7]             : AIC=inf, Time=1.28 sec\n",
      " ARIMA(0,1,1)(0,1,2)[7]             : AIC=inf, Time=2.31 sec\n",
      " ARIMA(0,1,1)(1,1,0)[7]             : AIC=inf, Time=1.18 sec\n",
      " ARIMA(0,1,1)(1,1,1)[7]             : AIC=inf, Time=1.41 sec\n",
      " ARIMA(0,1,1)(1,1,2)[7]             : AIC=inf, Time=3.13 sec\n",
      " ARIMA(0,1,1)(2,1,0)[7]             : AIC=inf, Time=2.12 sec\n",
      " ARIMA(0,1,1)(2,1,1)[7]             : AIC=inf, Time=3.07 sec\n",
      " ARIMA(0,1,1)(2,1,2)[7]             : AIC=inf, Time=5.16 sec\n",
      " ARIMA(0,1,2)(0,1,0)[7]             : AIC=inf, Time=0.60 sec\n",
      " ARIMA(0,1,2)(0,1,1)[7]             : AIC=inf, Time=1.40 sec\n",
      " ARIMA(0,1,2)(0,1,2)[7]             : AIC=inf, Time=3.01 sec\n",
      " ARIMA(0,1,2)(1,1,0)[7]             : AIC=inf, Time=1.09 sec\n",
      " ARIMA(0,1,2)(1,1,1)[7]             : AIC=inf, Time=1.63 sec\n",
      " ARIMA(0,1,2)(1,1,2)[7]             : AIC=inf, Time=3.20 sec\n",
      " ARIMA(0,1,2)(2,1,0)[7]             : AIC=inf, Time=2.71 sec\n",
      " ARIMA(0,1,2)(2,1,1)[7]             : AIC=inf, Time=2.97 sec\n",
      " ARIMA(0,1,3)(0,1,0)[7]             : AIC=inf, Time=0.90 sec\n",
      " ARIMA(0,1,3)(0,1,1)[7]             : AIC=inf, Time=2.78 sec\n",
      " ARIMA(0,1,3)(0,1,2)[7]             : AIC=inf, Time=4.94 sec\n",
      " ARIMA(0,1,3)(1,1,0)[7]             : AIC=inf, Time=1.50 sec\n",
      " ARIMA(0,1,3)(1,1,1)[7]             : AIC=inf, Time=2.99 sec\n",
      " ARIMA(0,1,3)(2,1,0)[7]             : AIC=inf, Time=4.92 sec\n",
      " ARIMA(1,1,0)(0,1,0)[7]             : AIC=8633.103, Time=0.08 sec\n",
      " ARIMA(1,1,0)(0,1,1)[7]             : AIC=inf, Time=0.80 sec\n",
      " ARIMA(1,1,0)(0,1,2)[7]             : AIC=inf, Time=2.73 sec\n",
      " ARIMA(1,1,0)(1,1,0)[7]             : AIC=8029.874, Time=0.20 sec\n",
      " ARIMA(1,1,0)(1,1,1)[7]             : AIC=inf, Time=1.95 sec\n",
      " ARIMA(1,1,0)(1,1,2)[7]             : AIC=inf, Time=3.67 sec\n",
      " ARIMA(1,1,0)(2,1,0)[7]             : AIC=7743.715, Time=0.27 sec\n",
      " ARIMA(1,1,0)(2,1,1)[7]             : AIC=inf, Time=2.68 sec\n",
      " ARIMA(1,1,0)(2,1,2)[7]             : AIC=inf, Time=4.98 sec\n",
      " ARIMA(1,1,1)(0,1,0)[7]             : AIC=inf, Time=0.69 sec\n",
      " ARIMA(1,1,1)(0,1,1)[7]             : AIC=inf, Time=2.00 sec\n",
      " ARIMA(1,1,1)(0,1,2)[7]             : AIC=inf, Time=3.16 sec\n",
      " ARIMA(1,1,1)(1,1,0)[7]             : AIC=inf, Time=1.36 sec\n",
      " ARIMA(1,1,1)(1,1,1)[7]             : AIC=inf, Time=2.40 sec\n",
      " ARIMA(1,1,1)(1,1,2)[7]             : AIC=inf, Time=3.64 sec\n",
      " ARIMA(1,1,1)(2,1,0)[7]             : AIC=inf, Time=2.32 sec\n",
      " ARIMA(1,1,1)(2,1,1)[7]             : AIC=inf, Time=3.66 sec\n",
      " ARIMA(1,1,2)(0,1,0)[7]             : AIC=inf, Time=1.06 sec\n",
      " ARIMA(1,1,2)(0,1,1)[7]             : AIC=inf, Time=1.55 sec\n",
      " ARIMA(1,1,2)(0,1,2)[7]             : AIC=inf, Time=4.29 sec\n",
      " ARIMA(1,1,2)(1,1,0)[7]             : AIC=inf, Time=1.10 sec\n",
      " ARIMA(1,1,2)(1,1,1)[7]             : AIC=inf, Time=2.84 sec\n",
      " ARIMA(1,1,2)(2,1,0)[7]             : AIC=inf, Time=4.06 sec\n",
      " ARIMA(1,1,3)(0,1,0)[7]             : AIC=inf, Time=1.60 sec\n",
      " ARIMA(1,1,3)(0,1,1)[7]             : AIC=inf, Time=2.66 sec\n",
      " ARIMA(1,1,3)(1,1,0)[7]             : AIC=inf, Time=1.36 sec\n",
      " ARIMA(2,1,0)(0,1,0)[7]             : AIC=8392.936, Time=0.10 sec\n",
      " ARIMA(2,1,0)(0,1,1)[7]             : AIC=inf, Time=1.11 sec\n",
      " ARIMA(2,1,0)(0,1,2)[7]             : AIC=inf, Time=2.52 sec\n",
      " ARIMA(2,1,0)(1,1,0)[7]             : AIC=7778.771, Time=0.25 sec\n",
      " ARIMA(2,1,0)(1,1,1)[7]             : AIC=inf, Time=2.00 sec\n",
      " ARIMA(2,1,0)(1,1,2)[7]             : AIC=inf, Time=6.27 sec\n",
      " ARIMA(2,1,0)(2,1,0)[7]             : AIC=7482.719, Time=0.33 sec\n",
      " ARIMA(2,1,0)(2,1,1)[7]             : AIC=inf, Time=5.08 sec\n",
      " ARIMA(2,1,1)(0,1,0)[7]             : AIC=inf, Time=0.89 sec\n",
      " ARIMA(2,1,1)(0,1,1)[7]             : AIC=inf, Time=1.34 sec\n",
      " ARIMA(2,1,1)(0,1,2)[7]             : AIC=inf, Time=3.53 sec\n",
      " ARIMA(2,1,1)(1,1,0)[7]             : AIC=inf, Time=1.61 sec\n",
      " ARIMA(2,1,1)(1,1,1)[7]             : AIC=inf, Time=2.16 sec\n",
      " ARIMA(2,1,1)(2,1,0)[7]             : AIC=inf, Time=2.99 sec\n",
      " ARIMA(2,1,2)(0,1,0)[7]             : AIC=inf, Time=1.89 sec\n",
      " ARIMA(2,1,2)(0,1,1)[7]             : AIC=inf, Time=2.07 sec\n",
      " ARIMA(2,1,2)(1,1,0)[7]             : AIC=inf, Time=2.21 sec\n",
      " ARIMA(2,1,3)(0,1,0)[7]             : AIC=inf, Time=2.69 sec\n",
      " ARIMA(3,1,0)(0,1,0)[7]             : AIC=8195.582, Time=0.16 sec\n",
      " ARIMA(3,1,0)(0,1,1)[7]             : AIC=inf, Time=1.68 sec\n",
      " ARIMA(3,1,0)(0,1,2)[7]             : AIC=inf, Time=3.06 sec\n",
      " ARIMA(3,1,0)(1,1,0)[7]             : AIC=7577.276, Time=0.34 sec\n",
      " ARIMA(3,1,0)(1,1,1)[7]             : AIC=inf, Time=4.25 sec\n",
      " ARIMA(3,1,0)(2,1,0)[7]             : AIC=7297.859, Time=0.55 sec\n",
      " ARIMA(3,1,1)(0,1,0)[7]             : AIC=inf, Time=1.50 sec\n",
      " ARIMA(3,1,1)(0,1,1)[7]             : AIC=inf, Time=4.21 sec\n",
      " ARIMA(3,1,1)(1,1,0)[7]             : AIC=inf, Time=2.30 sec\n",
      " ARIMA(3,1,2)(0,1,0)[7]             : AIC=inf, Time=1.24 sec\n",
      "\n",
      "Best model:  ARIMA(3,1,0)(2,1,0)[7]          \n",
      "Total fit time: 182.051 seconds\n"
     ]
    },
    {
     "data": {
      "text/plain": [
       "Pipeline(steps=[('model',\n",
       "                 AutoARIMA(D=1, d=1, error_action='ignore', m=7, max_p=3,\n",
       "                           max_q=3, n_fits=100, stepwise=False, test='adf',\n",
       "                           trace=True))])"
      ]
     },
     "execution_count": 24,
     "metadata": {},
     "output_type": "execute_result"
    }
   ],
   "source": [
    "'''\n",
    "pipeline = Pipeline([\n",
    "    (\"model\", pm.AutoARIMA(test='adf',\n",
    "                           start_p=3, start_q=3, max_p=5, max_q=5, start_P=0, start_Q=0, max_P=5, max_Q=10, m=12, stepwise=True, seasonal=True, information_criterion='aic', trace=True, d=1, D=1, error_action='warn', \n",
    "                           suppress_warnings=True, random_state=20, n_fits=100))\n",
    "])\n",
    "'''\n",
    "pipeline = Pipeline([\n",
    "    (\"model\",pm.AutoARIMA(test='adf',\n",
    "                           max_p=3, max_q=3, m=7,\n",
    "                           start_P=1,start_Q=1, seasonal=True,\n",
    "                           d=1, D=1, trace=True,\n",
    "                           error_action='ignore',  \n",
    "                           suppress_warnings=True, \n",
    "                           stepwise=False, n_fits=100))\n",
    "])\n",
    "\n",
    "pipeline.fit(dftrain)"
   ]
  },
  {
   "cell_type": "code",
   "execution_count": null,
   "metadata": {},
   "outputs": [],
   "source": [
    "##### univariate arima model predict electricity_demand_values  \n",
    "# best\n",
    "#Arima_model=pm.auto_arima(dftrain['electricity_demand_values'],start_p=3, start_q=3, max_p=5, max_q=5, start_P=0, start_Q=0, max_P=5, max_Q=10, m=12, stepwise=True, seasonal=True, information_criterion='aic', trace=True, d=1, D=1, error_action='warn', suppress_warnings=True, random_state=20, n_fits=100)\n",
    "\n",
    "#Arima_model=pm.auto_arima(dftrain['electricity_demand_values'],start_p=3, start_q=3, max_p=5, max_q=6, start_P=0, start_Q=4, max_P=6, max_Q=10, m=12, stepwise=True, seasonal=True, information_criterion='aic', trace=True, d=1, D=1, error_action='warn', suppress_warnings=True, random_state=20, n_fits=100)\n",
    "\n",
    "#Arima_model=pm.auto_arima(dftrain['electricity_demand_values'],start_p=3, start_q=3, max_p=5, max_q=6, start_P=0, start_Q=4, max_P=6, max_Q=10, m=12, stepwise=True, seasonal=True, information_criterion='bic', trace=True, d=1, D=1, error_action='warn', suppress_warnings=True, n_fits=100)\n",
    "\n",
    "#Arima_model=pm.auto_arima(dftrain['electricity_demand_values'],start_p=3, start_q=3, max_p=5, max_q=6, start_P=1, start_Q=4, max_P=6, max_Q=10, m=12, stepwise=True, seasonal=True, information_criterion='bic', trace=True, d=1, D=1, error_action='warn', suppress_warnings=True, n_fits=100)\n"
   ]
  },
  {
   "cell_type": "code",
   "execution_count": null,
   "metadata": {},
   "outputs": [],
   "source": [
    "Sample_predictions= pipeline.predict_in_sample(exogenous=None, return_conf_int=False, alpha=0.05, inverse_transform=True)\n",
    "Actuals = pd.Series.to_numpy(dftrain['heat'])\n",
    "Residuals = Actuals-Sample_predictions"
   ]
  },
  {
   "cell_type": "code",
   "execution_count": null,
   "metadata": {},
   "outputs": [],
   "source": [
    "Residuals"
   ]
  },
  {
   "cell_type": "code",
   "execution_count": 25,
   "metadata": {},
   "outputs": [
    {
     "data": {
      "text/plain": [
       "array([ -0.78180278,   0.16354766,  -0.5894225 ,  -1.00939804,\n",
       "        -0.81723928,  -0.59460586,  -0.7800789 ,  -1.01235357,\n",
       "         0.31855071,  -0.54034674,  -1.16629294,  -1.05074485,\n",
       "        -0.71257443,  -0.79256897,  -1.10388273,   0.67611765,\n",
       "        -0.47269984,  -1.2673957 ,  -1.11384122,  -0.65844377,\n",
       "        -1.01999367,  -1.28494292,   0.06579133,  -0.85502407,\n",
       "        -1.46741211,  -1.3126505 ,  -0.9744221 ,  -1.18619692,\n",
       "        -1.45460993,   0.02535894,  -0.94643309,  -1.62126351,\n",
       "        -1.48036598,  -1.10502148,  -1.31896299,  -1.60102664,\n",
       "        -0.05887303,  -1.07536636,  -1.77161334,  -1.6219704 ,\n",
       "        -1.23086901,  -1.49486891,  -1.76672239,  -0.31008461,\n",
       "        -1.27951763,  -1.94014749,  -1.79151667,  -1.42358617,\n",
       "        -1.65376615,  -1.92767295,  -0.43591035,  -1.42106999,\n",
       "        -2.0978705 ,  -1.95157746,  -1.57375421,  -1.80907082,\n",
       "        -2.08513101,  -0.5871776 ,  -1.57812469,  -2.2564853 ,\n",
       "        -2.10829968,  -1.72904712,  -1.97259649,  -2.24652798,\n",
       "        -0.7647403 ,  -1.74645692,  -2.41822755,  -2.27048872,\n",
       "        -1.8955815 ,  -2.13192537,  -2.40652305,  -0.91618249,\n",
       "        -1.90200833,  -2.57759682,  -2.43021341,  -2.05292647,\n",
       "        -2.29120096,  -2.56609027,  -1.07584336,  -2.06212739,\n",
       "        -2.73745882,  -2.58968698,  -2.21247854,  -2.45195453,\n",
       "        -2.72642213,  -1.23905367,  -2.22362229,  -2.89781105,\n",
       "        -2.75017367,  -2.37373147,  -2.61174988,  -2.88639586,\n",
       "        -1.39709333,  -2.38263785,  -3.05766998,  -2.9100773 ,\n",
       "        -2.53310183,  -2.77167025,  -3.04634335,  -1.55732915,\n",
       "        -2.5428186 ,  -3.21768632,  -3.07001788,  -2.69313134,\n",
       "        -2.93183744,  -3.20643129,  -1.71789148,  -2.70308182,\n",
       "        -3.37776824,  -3.23013449,  -2.85337252,  -3.09179856,\n",
       "        -3.36643546,  -1.87748308,  -2.86288998,  -3.53775271,\n",
       "        -3.39012209,  -3.01324724,  -3.25181099,  -3.52644669,\n",
       "        -2.03760382,  -3.02297046,  -3.69777903,  -3.55013441,\n",
       "        -3.17329132,  -3.41186036,  -3.68648205,  -2.19770866,\n",
       "        -3.18302745,  -3.8578112 ,  -3.71017475,  -3.33334948,\n",
       "        -3.57186769,  -3.84649904,  -2.3576421 ,  -3.34300635,\n",
       "        -4.01782511,  -3.87018808,  -3.49334011,  -3.73189009,\n",
       "        -4.00651988,  -2.51769426,  -3.50304492,  -4.17784907,\n",
       "        -4.03020962,  -3.65337052,  -3.89191699,  -4.16654449,\n",
       "        -2.6777269 ,  -3.66307091,  -4.33787267,  -4.19023502,\n",
       "        -3.81339787,  -4.05193573,  -4.32656528,  -2.83773162,\n",
       "        -3.82308469,  -4.49789306,  -4.35025505,  -3.97341356,\n",
       "        -4.21195832,  -4.4865873 ,  -2.99776149,  -3.98311087,\n",
       "        -4.6579157 ,  -4.5102773 ,  -4.13343801,  -4.37198117,\n",
       "        -4.64660982,  -3.15778435,  -4.14313305,  -4.81793795,\n",
       "        -4.67029993,  -4.29346068,  -4.53200252,  -4.80663159,\n",
       "        -3.31780319,  -4.30315361,  -4.97795968,  -4.83032155,\n",
       "        -4.45348151,  -4.69202478,  -4.96665368,  -3.4778271 ,\n",
       "        -4.46317662,  -5.13798189,  -4.9903437 ,  -4.61350417,\n",
       "        -4.85204695,  -5.12667582,  -3.63784904,  -4.62319857,\n",
       "        -5.29800396,  -5.15036585,  -4.77352626,  -5.01206887,\n",
       "        -5.28669781,  -3.79787054,  -4.78322037,  -5.45802596,\n",
       "        -5.31038782,  -4.93354809,  -5.17209098,  -5.44671989,\n",
       "        -3.95789301,  -4.94324264,  -5.61804806,  -5.47040991,\n",
       "        -5.09357029,  -5.33211305,  -5.60674196,  -4.11791499,\n",
       "        -5.10326465,  -5.77807011,  -5.63043198,  -5.25359233,\n",
       "        -5.49213508,  -5.76676401,  -4.27793696,  -5.26328667,\n",
       "        -5.93809216,  -5.79045402,  -5.41361435,  -5.65215716,\n",
       "        -5.92678607,  -4.43795911,  -5.42330877,  -6.09811423,\n",
       "        -5.95047608,  -5.57363644,  -5.81217921,  -6.08680813,\n",
       "        -4.59798114,  -5.58333081,  -6.25813628,  -6.11049814,\n",
       "        -5.7336585 ,  -5.97220127,  -6.24683019,  -4.75800319,\n",
       "        -5.74335287,  -6.41815834,  -6.2705202 ,  -5.89368055,\n",
       "        -6.13222333,  -6.40685225,  -4.91802526,  -5.90337493,\n",
       "        -6.5781804 ,  -6.43054226,  -6.05370261,  -6.29224539,\n",
       "        -6.5668743 ,  -5.07804732,  -6.06339699,  -6.73820246,\n",
       "        -6.59056432,  -6.21372467,  -6.45226745,  -6.72689636,\n",
       "        -5.23806937,  -6.22341905,  -6.89822452,  -6.75058638,\n",
       "        -6.37374673,  -6.61228951,  -6.88691842,  -5.39809144,\n",
       "        -6.38344111,  -7.05824658,  -6.91060844,  -6.53376879,\n",
       "        -6.77231157,  -7.04694048,  -5.55811349,  -6.54346317,\n",
       "        -7.21826864,  -7.0706305 ,  -6.69379085,  -6.93233362,\n",
       "        -7.20696254,  -5.71813555,  -6.70348523,  -7.3782907 ,\n",
       "        -7.23065255,  -6.85381291,  -7.09235568,  -7.3669846 ,\n",
       "        -5.87815761,  -6.86350729,  -7.53831276,  -7.39067461,\n",
       "        -7.01383497,  -7.25237774,  -7.52700666,  -6.03817967,\n",
       "        -7.02352934,  -7.69833481,  -7.55069667,  -7.17385702,\n",
       "        -7.4123998 ,  -7.68702872,  -6.19820173,  -7.1835514 ,\n",
       "        -7.85835687,  -7.71071873,  -7.33387908,  -7.57242186,\n",
       "        -7.84705078,  -6.35822379,  -7.34357346,  -8.01837893,\n",
       "        -7.87074079,  -7.49390114,  -7.73244392,  -8.00707284,\n",
       "        -6.51824585,  -7.50359552,  -8.17840099,  -8.03076285,\n",
       "        -7.6539232 ,  -7.89246598,  -8.16709489,  -6.67826791,\n",
       "        -7.66361758,  -8.33842305,  -8.19078491,  -7.81394526,\n",
       "        -8.05248804,  -8.32711695,  -6.83828997,  -7.82363964,\n",
       "        -8.49844511,  -8.35080697,  -7.97396732,  -8.2125101 ,\n",
       "        -8.48713901,  -6.99831202,  -7.9836617 ,  -8.65846717,\n",
       "        -8.51082903,  -8.13398938,  -8.37253216,  -8.64716107,\n",
       "        -7.15833408,  -8.14368376,  -8.81848923,  -8.67085109,\n",
       "        -8.29401144,  -8.53255421,  -8.80718313,  -7.31835614,\n",
       "        -8.30370582,  -8.97851129,  -8.83087314,  -8.4540335 ,\n",
       "        -8.69257627,  -8.96720519,  -7.4783782 ,  -8.46372788,\n",
       "        -9.13853335,  -8.9908952 ,  -8.61405556,  -8.85259833,\n",
       "        -9.12722725,  -7.63840026,  -8.62374993,  -9.2985554 ,\n",
       "        -9.15091726,  -8.77407761,  -9.01262039,  -9.28724931,\n",
       "        -7.79842232,  -8.78377199,  -9.45857746,  -9.31093932,\n",
       "        -8.93409967,  -9.17264245,  -9.44727137,  -7.95844438,\n",
       "        -8.94379405,  -9.61859952,  -9.47096138,  -9.09412173,\n",
       "        -9.33266451,  -9.60729343,  -8.11846644,  -9.10381611,\n",
       "        -9.77862158,  -9.63098344,  -9.25414379,  -9.49268657,\n",
       "        -9.76731548,  -8.2784885 ,  -9.26383817,  -9.93864364,\n",
       "        -9.7910055 ,  -9.41416585,  -9.65270863,  -9.92733754,\n",
       "        -8.43851055,  -9.42386023, -10.0986657 ,  -9.95102756,\n",
       "        -9.57418791,  -9.81273069, -10.0873596 ,  -8.59853261,\n",
       "        -9.58388229, -10.25868776, -10.11104962,  -9.73420997,\n",
       "        -9.97275275, -10.24738166,  -8.75855467,  -9.74390435,\n",
       "       -10.41870982, -10.27107168,  -9.89423203, -10.1327748 ,\n",
       "       -10.40740372,  -8.91857673,  -9.90392641, -10.57873188,\n",
       "       -10.43109373, -10.05425409, -10.29279686, -10.56742578,\n",
       "        -9.07859879, -10.06394847, -10.73875394, -10.59111579,\n",
       "       -10.21427615, -10.45281892, -10.72744784,  -9.23862085,\n",
       "       -10.22397052, -10.89877599, -10.75113785, -10.3742982 ,\n",
       "       -10.61284098, -10.8874699 ,  -9.39864291, -10.38399258,\n",
       "       -11.05879805, -10.91115991, -10.53432026, -10.77286304,\n",
       "       -11.04749196,  -9.55866497, -10.54401464, -11.21882011,\n",
       "       -11.07118197, -10.69434232, -10.9328851 , -11.20751402,\n",
       "        -9.71868703, -10.7040367 , -11.37884217, -11.23120403,\n",
       "       -10.85436438, -11.09290716, -11.36753607,  -9.87870909,\n",
       "       -10.86405876, -11.53886423, -11.39122609, -11.01438644,\n",
       "       -11.25292922, -11.52755813, -10.03873114, -11.02408082,\n",
       "       -11.69888629, -11.55124815, -11.1744085 , -11.41295128,\n",
       "       -11.68758019, -10.1987532 , -11.18410288, -11.85890835,\n",
       "       -11.71127021, -11.33443056, -11.57297334, -11.84760225,\n",
       "       -10.35877526, -11.34412494, -12.01893041, -11.87129227,\n",
       "       -11.49445262, -11.73299539, -12.00762431, -10.51879732,\n",
       "       -11.504147  , -12.17895247, -12.03131432, -11.65447468,\n",
       "       -11.89301745, -12.16764637, -10.67881938, -11.66416906,\n",
       "       -12.33897453, -12.19133638, -11.81449674, -12.05303951,\n",
       "       -12.32766843, -10.83884144, -11.82419111, -12.49899658,\n",
       "       -12.35135844, -11.97451879, -12.21306157, -12.48769049,\n",
       "       -10.9988635 , -11.98421317, -12.65901864, -12.5113805 ,\n",
       "       -12.13454085, -12.37308363, -12.64771255, -11.15888556,\n",
       "       -12.14423523, -12.8190407 , -12.67140256, -12.29456291,\n",
       "       -12.53310569, -12.8077346 , -11.31890762, -12.30425729,\n",
       "       -12.97906276, -12.83142462, -12.45458497, -12.69312775,\n",
       "       -12.96775666, -11.47892968, -12.46427935, -13.13908482,\n",
       "       -12.99144668, -12.61460703, -12.85314981, -13.12777872,\n",
       "       -11.63895173, -12.62430141, -13.29910688, -13.15146874,\n",
       "       -12.77462909, -13.01317187, -13.28780078, -11.79897379,\n",
       "       -12.78432347, -13.45912894, -13.3114908 , -12.93465115,\n",
       "       -13.17319393, -13.44782284, -11.95899585, -12.94434553,\n",
       "       -13.619151  , -13.47151286, -13.09467321, -13.33321598,\n",
       "       -13.6078449 , -12.11901791, -13.10436759, -13.77917306,\n",
       "       -13.63153491, -13.25469527, -13.49323804])"
      ]
     },
     "execution_count": 25,
     "metadata": {},
     "output_type": "execute_result"
    }
   ],
   "source": [
    "forecast, conf = pipeline.predict(n_periods=567, return_conf_int=True)\n",
    "forecast"
   ]
  },
  {
   "cell_type": "code",
   "execution_count": 26,
   "metadata": {},
   "outputs": [
    {
     "data": {
      "text/plain": [
       "array([-8.19567512e-01, -8.21611364e-01,  2.91991109e+00, -8.37174302e-01,\n",
       "       -8.25265804e-01,  6.43514153e-01, -7.55491035e-01,  2.31412935e+00,\n",
       "        2.44258327e+00, -4.51853919e-01, -5.99789911e-02, -9.94356842e-02,\n",
       "        6.56612299e-01,  1.43012113e+00, -5.04775466e-01, -4.43014036e-01,\n",
       "        2.76377547e-01, -8.34298577e-01, -3.60211084e-01, -4.70081570e-01,\n",
       "        5.51095702e-01, -4.15353133e-01, -8.37174302e-01, -2.81534418e-01,\n",
       "       -4.54825711e-01,  4.79224652e-01,  1.81429597e+00,  1.85126249e+00,\n",
       "       -1.30122523e-01,  1.52773848e+00,  1.09329802e-02, -4.78522750e-01,\n",
       "       -4.79713922e-01, -4.36184020e-02, -1.62342766e-02, -4.78549821e-01,\n",
       "       -1.10383362e-01,  8.54585694e-01,  2.96706165e+00,  1.39038206e+00,\n",
       "       -8.36615287e-01, -7.03797824e-01, -1.39242873e-01, -3.15765254e-01,\n",
       "       -5.39037520e-01,  1.35254373e+00, -8.37174302e-01, -6.21374655e-01,\n",
       "       -8.37174302e-01,  1.95352506e-01,  1.19503190e-01, -5.25937063e-01,\n",
       "       -5.05936916e-01, -2.32461508e-01, -8.37174302e-01, -8.37174302e-01,\n",
       "        4.77369638e-01, -8.37174302e-01,  6.70338425e-01,  1.76458368e+00,\n",
       "        2.11965880e+00, -8.37174302e-01, -8.37174302e-01, -1.11866422e-01,\n",
       "       -8.07308236e-01, -6.86744930e-01, -5.58392949e-01, -6.75523510e-01,\n",
       "       -6.12170926e-01,  1.35862614e+00, -1.64430829e-01,  2.16622945e-01,\n",
       "        3.97889199e-02,  1.02933902e+00, -7.78387154e-01, -8.21800054e-01,\n",
       "       -8.32721871e-01, -8.37174302e-01,  1.27239592e+00,  4.68044126e-01,\n",
       "       -8.37174302e-01, -6.60158744e-01, -6.21374655e-01, -8.37174302e-01,\n",
       "       -8.37174302e-01, -8.17251849e-01, -5.84427233e-02,  2.54489867e+00,\n",
       "       -2.21993430e-01, -4.31040260e-01,  1.87934455e+00, -8.24055771e-01,\n",
       "        7.17307470e-01, -8.37174302e-01, -3.92591640e-01, -8.27518858e-01,\n",
       "       -6.02258154e-01, -8.37174302e-01,  2.44243039e+00,  9.95060453e-01,\n",
       "       -1.00196372e-01, -7.40995886e-01,  1.47935847e+00, -7.55491035e-01,\n",
       "       -1.00416632e-01, -8.27099056e-01, -6.75125021e-01,  1.56334689e+00,\n",
       "       -7.93400730e-01, -8.37174302e-01,  8.26190974e-01, -7.31394088e-02,\n",
       "       -8.15061472e-01, -8.37174302e-01, -8.37174302e-01,  1.74858850e-01,\n",
       "       -3.83646046e-01, -5.44626354e-01,  3.73087537e-01, -8.36638579e-01,\n",
       "        7.61587467e-01, -8.37174302e-01, -8.37174302e-01, -8.37174302e-01,\n",
       "       -4.86408602e-01,  9.60875903e-01, -8.37174302e-01, -8.37174302e-01,\n",
       "       -8.37174302e-01, -8.37174302e-01,  8.48772203e-01, -8.37174302e-01,\n",
       "        9.06788457e-01, -8.27939754e-01, -5.26570124e-01, -8.27518858e-01,\n",
       "       -3.73216271e-01, -9.61750582e-02, -7.82216910e-01, -8.37174302e-01,\n",
       "        5.89580568e-02,  6.19841565e-01, -4.15465253e-01, -3.16345057e-01,\n",
       "       -8.08399780e-01,  6.89179989e-01,  2.32427643e-02, -8.36679302e-01,\n",
       "        1.84080396e-02, -2.58415666e-01,  6.70108361e-01,  2.08276148e+00,\n",
       "       -8.37174302e-01, -2.08638553e-01, -8.37174302e-01, -5.32899442e-01,\n",
       "       -5.58841600e-01, -8.19567512e-01,  2.21745198e-01,  1.70997140e+00,\n",
       "        1.99691321e-01, -8.37174302e-01,  1.99730070e-01, -2.02729230e-01,\n",
       "       -4.48887802e-01, -8.14139502e-02, -5.57411088e-01,  3.43701919e-02,\n",
       "       -7.83985894e-01, -8.36644136e-01,  9.64083082e-01,  1.60296402e+00,\n",
       "        5.50421567e-01, -8.37174302e-01, -8.21611364e-01,  7.96397778e-01,\n",
       "       -7.66111262e-01,  2.85888824e-03, -8.37174302e-01, -5.68375217e-01,\n",
       "       -8.37174302e-01, -8.28286638e-01, -4.99469198e-01,  2.00390126e+00,\n",
       "       -7.08643861e-01, -7.87802759e-01,  6.15577056e-01,  7.40328750e-01,\n",
       "       -3.66940791e-02, -8.37174302e-01,  2.00969808e+00,  2.19912116e-02,\n",
       "       -8.37174302e-01, -3.18543356e-01,  7.96408868e-01,  3.60064646e-01,\n",
       "        1.09068352e+00,  3.43708149e-01,  3.60889659e-03,  1.87469924e+00,\n",
       "        8.69031503e-01, -8.37174302e-01,  5.94618506e-01,  6.08904879e-01,\n",
       "       -8.37174302e-01, -2.25110498e-02, -7.51863434e-01, -8.10876901e-01,\n",
       "       -8.15061472e-01, -4.59705121e-01, -2.62746240e-01,  2.13828472e-02,\n",
       "        4.48438533e-02, -7.66641173e-01, -2.05953408e-01, -6.21374655e-01,\n",
       "        1.67502396e+00,  1.60842732e+00,  5.37153215e-01, -5.98456872e-01,\n",
       "       -8.28286638e-01, -4.99840170e-01, -6.71756285e-01, -7.20205590e-01,\n",
       "       -8.34298577e-01,  6.01393667e-01, -8.11972626e-01,  3.51425088e-01,\n",
       "        1.53174849e+00, -3.59266783e-01, -5.59366378e-01, -2.41840695e-01,\n",
       "       -8.37174302e-01, -8.37174302e-01, -5.54179994e-01, -8.37174302e-01,\n",
       "       -8.37174302e-01, -8.27518858e-01,  6.28916543e-02,  4.42181847e-02,\n",
       "        1.40827770e+00,  2.11195308e+00,  4.48182368e-01, -8.37174302e-01,\n",
       "       -8.37174302e-01, -2.41466108e-01, -5.16178808e-01,  1.38946764e-01,\n",
       "        1.70760507e+00, -8.37174302e-01, -8.37174302e-01, -1.50359324e-01,\n",
       "        1.43548833e+00, -2.25967193e-01, -8.37174302e-01, -8.06938731e-01,\n",
       "        1.85433037e+00, -1.76078075e-01, -7.63969058e-01, -8.37174302e-01,\n",
       "        1.25751072e+00, -8.37174302e-01, -7.94748640e-01, -8.04206628e-01,\n",
       "       -6.01474258e-01,  1.11704641e+00,  1.15967354e+00,  8.17474600e-01,\n",
       "       -4.91275568e-01, -8.37174302e-01,  2.05056364e+00, -4.66494732e-01,\n",
       "       -8.32721871e-01, -2.69090151e-01, -7.75146077e-01, -6.66207050e-01,\n",
       "       -1.77629359e-01, -4.54975890e-01, -8.37174302e-01, -8.37174302e-01,\n",
       "       -8.37174302e-01, -2.38443219e-01,  6.78432121e-01,  2.33543793e+00,\n",
       "       -8.37174302e-01, -5.26700404e-01, -7.41214662e-01, -8.37174302e-01,\n",
       "       -3.32786118e-01,  6.38158272e-01, -2.05791726e-01, -8.37174302e-01,\n",
       "       -8.37174302e-01,  5.19539178e-02,  6.42448560e-02, -4.86266030e-01,\n",
       "        1.69462851e-01,  7.79377638e-01, -4.96926803e-01, -8.37174302e-01,\n",
       "       -5.07133407e-01,  5.99839503e-01,  1.01017194e+00, -4.41289132e-01,\n",
       "       -3.52114252e-01,  1.45773987e+00, -6.37768548e-01, -6.80128438e-01,\n",
       "       -7.91818636e-01, -8.36699927e-01,  2.09753630e+00, -6.82258960e-01,\n",
       "        1.23642338e+00,  4.99020827e-01,  5.74659737e-01,  2.59290184e+00,\n",
       "       -5.75673844e-01, -8.32406994e-02,  1.39123268e+00,  7.07324396e-01,\n",
       "       -4.98513742e-01,  1.15784869e+00, -8.37174302e-01, -3.20960160e-01,\n",
       "        1.74704456e+00,  2.13173107e+00,  9.54636233e-01,  1.70986597e+00,\n",
       "       -8.37174302e-01,  7.52701137e-01,  9.27807329e-01, -5.32139742e-01,\n",
       "       -8.36699927e-01, -8.37174302e-01,  1.01214520e+00, -5.47341104e-01,\n",
       "       -2.33963541e-01, -3.29059941e-01, -8.37174302e-01, -6.26487847e-01,\n",
       "       -8.37174302e-01, -6.80128438e-01,  4.80770983e-01, -6.00034489e-01,\n",
       "        1.24696481e+00, -8.21611364e-01, -7.82216910e-01, -6.78833678e-01,\n",
       "       -6.91316911e-01, -6.48397598e-01,  7.13391574e-01, -1.03521782e-01,\n",
       "       -8.37174302e-01, -8.02268069e-01,  3.39883433e-01,  7.36958388e-01,\n",
       "       -8.37174302e-01,  1.34974603e+00, -2.00141544e-01, -4.35409831e-01,\n",
       "       -1.92232693e-01,  4.18615260e-01, -7.02037372e-01, -8.37174302e-01,\n",
       "       -7.06354533e-01, -4.82538898e-01, -8.37174302e-01, -9.27546839e-02,\n",
       "       -6.27680817e-01,  2.37545878e+00, -5.66424627e-01,  1.90082397e+00,\n",
       "        2.80771752e-01, -8.37174302e-01, -4.55294672e-01,  1.57784237e+00,\n",
       "       -4.23510348e-02,  2.05351192e-01, -5.55593359e-01,  1.15743694e+00,\n",
       "       -4.73529350e-01, -8.37174302e-01, -7.94748640e-01, -8.37174302e-01,\n",
       "        4.58766126e-01, -1.56274882e-01, -8.37174302e-01, -6.11382618e-01,\n",
       "       -4.93711921e-01, -8.37174302e-01, -6.21374655e-01, -5.55524496e-01,\n",
       "       -7.63969058e-01, -5.22318439e-01,  6.71487413e-01, -6.96016305e-01,\n",
       "       -5.40336185e-01, -8.28286638e-01, -4.33598162e-01, -6.00859236e-01,\n",
       "        2.14453881e+00,  6.61419852e-01, -3.64523047e-01,  6.72126848e-01,\n",
       "        3.77263671e-01, -9.19660536e-02,  6.45187026e-01,  1.89527081e+00,\n",
       "       -8.37174302e-01,  1.58000094e+00,  3.71933041e-01, -2.06436185e-01,\n",
       "       -6.87639231e-01, -3.74140358e-01,  2.18763241e+00,  4.00216232e-01,\n",
       "        2.05005129e+00, -5.90476993e-01,  5.21981676e-01, -8.17251849e-01,\n",
       "        2.63817648e-01, -8.28741230e-01, -3.36774206e-01, -6.29305709e-01,\n",
       "       -8.37174302e-01,  1.01212646e+00, -1.56533607e-01, -2.32247707e-01,\n",
       "        1.11478461e+00,  1.33370917e+00,  1.87996170e+00, -7.47924267e-01,\n",
       "        5.63770924e-01, -8.37174302e-01, -8.37174302e-01, -7.73332154e-01,\n",
       "       -8.37174302e-01, -8.37174302e-01, -2.23605667e-01, -6.93592573e-01,\n",
       "       -3.43267692e-01,  1.99143483e+00, -5.78613441e-01,  5.49186930e-01,\n",
       "        5.23016974e-01,  1.36605136e-01, -8.15061472e-01,  9.48472107e-01,\n",
       "        5.74080809e-01, -4.65463009e-01,  7.89558618e-01, -8.26518002e-01,\n",
       "        1.09326823e+00, -3.66918310e-02, -2.76097317e-01,  1.17885723e-01,\n",
       "        1.02095901e+00,  2.77410998e-01,  1.67992363e+00, -8.26518002e-01,\n",
       "       -8.29691764e-01, -2.12694629e-01,  5.35889701e-01,  3.32431006e-02,\n",
       "        2.52914920e+00, -4.54614132e-01, -5.87217299e-01, -6.24726175e-01,\n",
       "        9.81259836e-01, -8.37174302e-01, -7.39991591e-01,  2.12790083e+00,\n",
       "       -8.37174302e-01, -8.37174302e-01, -5.00995696e-01, -7.91038379e-01,\n",
       "       -2.46979904e-01, -8.37174302e-01,  5.65973045e-01,  9.72839047e-01,\n",
       "       -7.42152054e-01,  9.55892378e-01, -8.37174302e-01,  1.86400328e+00,\n",
       "        2.12952811e+00,  1.24555984e+00, -8.37174302e-01, -5.12910312e-01,\n",
       "       -8.19567512e-01,  6.54035928e-02, -8.37174302e-01, -4.80137911e-01,\n",
       "       -8.27089489e-01, -8.37174302e-01, -8.37174302e-01, -8.37174302e-01,\n",
       "       -8.34298577e-01, -8.37174302e-01, -8.37174302e-01, -6.24402081e-01,\n",
       "        2.19093536e-01,  3.80804661e-01,  1.88944337e+00,  3.28702881e-01,\n",
       "        2.65489358e-02, -2.56639072e-02,  2.37733005e+00, -4.39549993e-02,\n",
       "       -8.04206628e-01, -5.21028281e-01, -8.37174302e-01,  3.63994138e-01,\n",
       "       -2.62693619e-01, -3.85102465e-01,  1.61802897e+00, -8.37174302e-01,\n",
       "       -7.07514323e-01, -8.37174302e-01, -7.91930893e-01, -5.51627786e-01,\n",
       "       -8.37174302e-01, -8.37174302e-01, -1.61572191e-01, -8.37174302e-01,\n",
       "       -8.37174302e-01, -8.27089489e-01,  1.26738509e+00, -1.47046055e-02,\n",
       "       -8.37174302e-01, -8.37174302e-01,  6.09268875e-01, -4.80421156e-01,\n",
       "       -8.37174302e-01, -4.81287277e-01, -2.27565573e-01,  9.65095539e-01,\n",
       "       -8.37174302e-01,  1.45748163e+00,  1.44401781e+00, -1.66510107e-01,\n",
       "        7.11232947e-01,  2.27805161e+00, -2.09493478e-01, -8.37174302e-01,\n",
       "       -7.59289462e-01, -7.59289462e-01, -1.06810391e-01,  3.03923474e-02,\n",
       "       -8.37174302e-01,  1.15969786e+00, -4.13869458e-01, -5.29553621e-01,\n",
       "       -4.92735325e-01, -8.37174302e-01,  9.65268555e-01, -8.04206628e-01,\n",
       "       -8.36644136e-01, -8.37174302e-01, -8.18192172e-01, -4.90085036e-01,\n",
       "        1.69941763e+00, -8.37174302e-01, -1.21868298e-01, -2.88218579e-01,\n",
       "        2.21509615e-01, -8.16128267e-01,  5.27948374e-01])"
      ]
     },
     "execution_count": 26,
     "metadata": {},
     "output_type": "execute_result"
    }
   ],
   "source": [
    "Actuals = pd.Series.to_numpy(dfvali['heat'])\n",
    "Actuals"
   ]
  },
  {
   "cell_type": "code",
   "execution_count": null,
   "metadata": {},
   "outputs": [],
   "source": [
    "forecasttrain, _ = pipeline.predict(n_periods=2265, return_conf_int=True)\n",
    "forecasttrain"
   ]
  },
  {
   "cell_type": "code",
   "execution_count": null,
   "metadata": {},
   "outputs": [],
   "source": [
    "Actualstrain = pd.Series.to_numpy(dftrain['heat'])\n",
    "Actualstrain"
   ]
  },
  {
   "cell_type": "code",
   "execution_count": null,
   "metadata": {},
   "outputs": [],
   "source": [
    "msetrain = mean_squared_error(Actualstrain, forecasttrain)\n",
    "msetrain"
   ]
  },
  {
   "cell_type": "code",
   "execution_count": null,
   "metadata": {},
   "outputs": [],
   "source": [
    "forecasttest, conf = pipeline.predict(n_periods=88, return_conf_int=True)\n",
    "forecasttest"
   ]
  },
  {
   "cell_type": "code",
   "execution_count": null,
   "metadata": {},
   "outputs": [],
   "source": [
    "Actualstest = pd.Series.to_numpy(dftest['heat'])\n",
    "Actualstest"
   ]
  },
  {
   "cell_type": "code",
   "execution_count": null,
   "metadata": {},
   "outputs": [],
   "source": [
    "msetest = mean_squared_error(Actualstest, forecasttest)\n",
    "msetest"
   ]
  },
  {
   "cell_type": "code",
   "execution_count": null,
   "metadata": {},
   "outputs": [],
   "source": [
    "rmse = math.sqrt(msetest)\n",
    "print('RMSE: %f' % rmse)"
   ]
  },
  {
   "cell_type": "code",
   "execution_count": null,
   "metadata": {},
   "outputs": [],
   "source": [
    "mse = mean_squared_error(Actuals, forecast)\n",
    "mse"
   ]
  },
  {
   "cell_type": "code",
   "execution_count": null,
   "metadata": {},
   "outputs": [],
   "source": [
    "rmse = math.sqrt(mse)\n",
    "print('RMSE: %f' % rmse)"
   ]
  }
 ],
 "metadata": {
  "interpreter": {
   "hash": "91ec43aa1f0db36d96140b828b08e86586f62f08ccada0f9bf3c6347196c39a6"
  },
  "kernelspec": {
   "display_name": "Python 3 (ipykernel)",
   "language": "python",
   "name": "python3"
  },
  "language_info": {
   "codemirror_mode": {
    "name": "ipython",
    "version": 3
   },
   "file_extension": ".py",
   "mimetype": "text/x-python",
   "name": "python",
   "nbconvert_exporter": "python",
   "pygments_lexer": "ipython3",
   "version": "3.9.7"
  }
 },
 "nbformat": 4,
 "nbformat_minor": 2
}
