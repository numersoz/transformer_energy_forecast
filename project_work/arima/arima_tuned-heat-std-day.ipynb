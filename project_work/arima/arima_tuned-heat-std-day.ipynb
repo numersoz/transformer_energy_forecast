{
 "cells": [
  {
   "cell_type": "code",
   "execution_count": 1,
   "metadata": {},
   "outputs": [],
   "source": [
    "import os\n",
    "import random\n",
    "import math\n",
    "from sklearn.metrics import mean_squared_error\n",
    "import numpy as np\n",
    "from matplotlib import pyplot as plt\n",
    "import pandas as pd\n",
    "import seaborn as sn\n",
    "from sklearn.decomposition import PCA\n",
    "from sklearn.preprocessing import MinMaxScaler, StandardScaler\n",
    "import pmdarima as pm \n",
    "from sklearn.model_selection import train_test_split\n",
    "from pmdarima.pipeline import Pipeline"
   ]
  },
  {
   "cell_type": "code",
   "execution_count": 2,
   "metadata": {},
   "outputs": [
    {
     "data": {
      "text/plain": [
       "'C:\\\\Users\\\\niles\\\\project\\\\project_work\\\\notebooks'"
      ]
     },
     "execution_count": 2,
     "metadata": {},
     "output_type": "execute_result"
    }
   ],
   "source": [
    "os.getcwd()"
   ]
  },
  {
   "cell_type": "code",
   "execution_count": 3,
   "metadata": {},
   "outputs": [],
   "source": [
    "# Read data:\n",
    "#os.chdir(\"..\")\n",
    "df = pd.read_csv(\"data.csv\")"
   ]
  },
  {
   "cell_type": "code",
   "execution_count": 4,
   "metadata": {},
   "outputs": [
    {
     "data": {
      "text/html": [
       "<div>\n",
       "<style scoped>\n",
       "    .dataframe tbody tr th:only-of-type {\n",
       "        vertical-align: middle;\n",
       "    }\n",
       "\n",
       "    .dataframe tbody tr th {\n",
       "        vertical-align: top;\n",
       "    }\n",
       "\n",
       "    .dataframe thead th {\n",
       "        text-align: right;\n",
       "    }\n",
       "</style>\n",
       "<table border=\"1\" class=\"dataframe\">\n",
       "  <thead>\n",
       "    <tr style=\"text-align: right;\">\n",
       "      <th></th>\n",
       "      <th>Time</th>\n",
       "      <th>air_pressure[mmHg]</th>\n",
       "      <th>air_temperature[degree celcius]</th>\n",
       "      <th>relative_humidity[%]</th>\n",
       "      <th>wind_speed[M/S]</th>\n",
       "      <th>solar_irridiation[W/m²]</th>\n",
       "      <th>total_cloud_cover[from ten]</th>\n",
       "      <th>electricity_demand_values[kw]</th>\n",
       "      <th>heat_demand_values[kw]</th>\n",
       "    </tr>\n",
       "  </thead>\n",
       "  <tbody>\n",
       "    <tr>\n",
       "      <th>0</th>\n",
       "      <td>2010-12-01 00:00:00</td>\n",
       "      <td>729.7</td>\n",
       "      <td>25.0</td>\n",
       "      <td>85.0</td>\n",
       "      <td>5.0</td>\n",
       "      <td>0</td>\n",
       "      <td>no clouds</td>\n",
       "      <td>289.567557</td>\n",
       "      <td>432.940036</td>\n",
       "    </tr>\n",
       "    <tr>\n",
       "      <th>1</th>\n",
       "      <td>2010-12-01 01:00:00</td>\n",
       "      <td>729.4</td>\n",
       "      <td>27.8</td>\n",
       "      <td>77.0</td>\n",
       "      <td>7.0</td>\n",
       "      <td>0</td>\n",
       "      <td>no clouds</td>\n",
       "      <td>260.168520</td>\n",
       "      <td>473.935901</td>\n",
       "    </tr>\n",
       "    <tr>\n",
       "      <th>2</th>\n",
       "      <td>2010-12-01 02:00:00</td>\n",
       "      <td>728.9</td>\n",
       "      <td>33.3</td>\n",
       "      <td>62.0</td>\n",
       "      <td>7.0</td>\n",
       "      <td>0</td>\n",
       "      <td>2/10–3/10.</td>\n",
       "      <td>247.273585</td>\n",
       "      <td>483.278761</td>\n",
       "    </tr>\n",
       "    <tr>\n",
       "      <th>3</th>\n",
       "      <td>2010-12-01 03:00:00</td>\n",
       "      <td>731.6</td>\n",
       "      <td>32.2</td>\n",
       "      <td>62.0</td>\n",
       "      <td>2.0</td>\n",
       "      <td>0</td>\n",
       "      <td>5/10.</td>\n",
       "      <td>257.955878</td>\n",
       "      <td>545.921252</td>\n",
       "    </tr>\n",
       "    <tr>\n",
       "      <th>4</th>\n",
       "      <td>2010-12-01 04:00:00</td>\n",
       "      <td>732.6</td>\n",
       "      <td>22.8</td>\n",
       "      <td>96.0</td>\n",
       "      <td>3.0</td>\n",
       "      <td>0</td>\n",
       "      <td>2/10–3/10.</td>\n",
       "      <td>258.255081</td>\n",
       "      <td>550.526112</td>\n",
       "    </tr>\n",
       "  </tbody>\n",
       "</table>\n",
       "</div>"
      ],
      "text/plain": [
       "                  Time  air_pressure[mmHg]  air_temperature[degree celcius]  \\\n",
       "0  2010-12-01 00:00:00               729.7                             25.0   \n",
       "1  2010-12-01 01:00:00               729.4                             27.8   \n",
       "2  2010-12-01 02:00:00               728.9                             33.3   \n",
       "3  2010-12-01 03:00:00               731.6                             32.2   \n",
       "4  2010-12-01 04:00:00               732.6                             22.8   \n",
       "\n",
       "   relative_humidity[%]  wind_speed[M/S]  solar_irridiation[W/m²]  \\\n",
       "0                  85.0              5.0                        0   \n",
       "1                  77.0              7.0                        0   \n",
       "2                  62.0              7.0                        0   \n",
       "3                  62.0              2.0                        0   \n",
       "4                  96.0              3.0                        0   \n",
       "\n",
       "  total_cloud_cover[from ten]  electricity_demand_values[kw]  \\\n",
       "0                   no clouds                     289.567557   \n",
       "1                   no clouds                     260.168520   \n",
       "2                  2/10–3/10.                     247.273585   \n",
       "3                       5/10.                     257.955878   \n",
       "4                  2/10–3/10.                     258.255081   \n",
       "\n",
       "   heat_demand_values[kw]  \n",
       "0              432.940036  \n",
       "1              473.935901  \n",
       "2              483.278761  \n",
       "3              545.921252  \n",
       "4              550.526112  "
      ]
     },
     "execution_count": 4,
     "metadata": {},
     "output_type": "execute_result"
    }
   ],
   "source": [
    "df.head()"
   ]
  },
  {
   "cell_type": "code",
   "execution_count": 5,
   "metadata": {},
   "outputs": [
    {
     "data": {
      "text/plain": [
       "70080"
      ]
     },
     "execution_count": 5,
     "metadata": {},
     "output_type": "execute_result"
    }
   ],
   "source": [
    "len(df)"
   ]
  },
  {
   "cell_type": "code",
   "execution_count": 6,
   "metadata": {},
   "outputs": [],
   "source": [
    "df = df.dropna()"
   ]
  },
  {
   "cell_type": "code",
   "execution_count": 7,
   "metadata": {},
   "outputs": [
    {
     "data": {
      "text/plain": [
       "68792"
      ]
     },
     "execution_count": 7,
     "metadata": {},
     "output_type": "execute_result"
    }
   ],
   "source": [
    "len(df)"
   ]
  },
  {
   "cell_type": "code",
   "execution_count": 8,
   "metadata": {},
   "outputs": [],
   "source": [
    "# Rename Columns:\n",
    "col_mapping = {\"Time\": \"date\",\n",
    "            \"air_pressure[mmHg]\": \"air_pressure\",\n",
    "            \"air_temperature[degree celcius]\": \"air_temperature\",\n",
    "            \"relative_humidity[%]\": \"relative_humidity\",\n",
    "            \"wind_speed[M/S]\": \"wind_speed\",\n",
    "            \"solar_irridiation[W/m²]\": \"solar_irridiation\",\n",
    "            \"total_cloud_cover[from ten]\": \"total_cloud_cover\",\n",
    "            \"electricity_demand_values[kw]\": \"electricity\",\n",
    "            \"heat_demand_values[kw]\": \"heat\"}\n",
    "df = df.rename(columns = col_mapping)"
   ]
  },
  {
   "cell_type": "code",
   "execution_count": 9,
   "metadata": {},
   "outputs": [
    {
     "data": {
      "text/html": [
       "<div>\n",
       "<style scoped>\n",
       "    .dataframe tbody tr th:only-of-type {\n",
       "        vertical-align: middle;\n",
       "    }\n",
       "\n",
       "    .dataframe tbody tr th {\n",
       "        vertical-align: top;\n",
       "    }\n",
       "\n",
       "    .dataframe thead th {\n",
       "        text-align: right;\n",
       "    }\n",
       "</style>\n",
       "<table border=\"1\" class=\"dataframe\">\n",
       "  <thead>\n",
       "    <tr style=\"text-align: right;\">\n",
       "      <th></th>\n",
       "      <th>date</th>\n",
       "      <th>air_pressure</th>\n",
       "      <th>air_temperature</th>\n",
       "      <th>relative_humidity</th>\n",
       "      <th>wind_speed</th>\n",
       "      <th>solar_irridiation</th>\n",
       "      <th>total_cloud_cover</th>\n",
       "      <th>electricity</th>\n",
       "      <th>heat</th>\n",
       "    </tr>\n",
       "  </thead>\n",
       "  <tbody>\n",
       "    <tr>\n",
       "      <th>0</th>\n",
       "      <td>2010-12-01 00:00:00</td>\n",
       "      <td>729.7</td>\n",
       "      <td>25.0</td>\n",
       "      <td>85.0</td>\n",
       "      <td>5.0</td>\n",
       "      <td>0</td>\n",
       "      <td>no clouds</td>\n",
       "      <td>289.567557</td>\n",
       "      <td>432.940036</td>\n",
       "    </tr>\n",
       "    <tr>\n",
       "      <th>1</th>\n",
       "      <td>2010-12-01 01:00:00</td>\n",
       "      <td>729.4</td>\n",
       "      <td>27.8</td>\n",
       "      <td>77.0</td>\n",
       "      <td>7.0</td>\n",
       "      <td>0</td>\n",
       "      <td>no clouds</td>\n",
       "      <td>260.168520</td>\n",
       "      <td>473.935901</td>\n",
       "    </tr>\n",
       "    <tr>\n",
       "      <th>2</th>\n",
       "      <td>2010-12-01 02:00:00</td>\n",
       "      <td>728.9</td>\n",
       "      <td>33.3</td>\n",
       "      <td>62.0</td>\n",
       "      <td>7.0</td>\n",
       "      <td>0</td>\n",
       "      <td>2/10–3/10.</td>\n",
       "      <td>247.273585</td>\n",
       "      <td>483.278761</td>\n",
       "    </tr>\n",
       "    <tr>\n",
       "      <th>3</th>\n",
       "      <td>2010-12-01 03:00:00</td>\n",
       "      <td>731.6</td>\n",
       "      <td>32.2</td>\n",
       "      <td>62.0</td>\n",
       "      <td>2.0</td>\n",
       "      <td>0</td>\n",
       "      <td>5/10.</td>\n",
       "      <td>257.955878</td>\n",
       "      <td>545.921252</td>\n",
       "    </tr>\n",
       "    <tr>\n",
       "      <th>4</th>\n",
       "      <td>2010-12-01 04:00:00</td>\n",
       "      <td>732.6</td>\n",
       "      <td>22.8</td>\n",
       "      <td>96.0</td>\n",
       "      <td>3.0</td>\n",
       "      <td>0</td>\n",
       "      <td>2/10–3/10.</td>\n",
       "      <td>258.255081</td>\n",
       "      <td>550.526112</td>\n",
       "    </tr>\n",
       "  </tbody>\n",
       "</table>\n",
       "</div>"
      ],
      "text/plain": [
       "                 date  air_pressure  air_temperature  relative_humidity  \\\n",
       "0 2010-12-01 00:00:00         729.7             25.0               85.0   \n",
       "1 2010-12-01 01:00:00         729.4             27.8               77.0   \n",
       "2 2010-12-01 02:00:00         728.9             33.3               62.0   \n",
       "3 2010-12-01 03:00:00         731.6             32.2               62.0   \n",
       "4 2010-12-01 04:00:00         732.6             22.8               96.0   \n",
       "\n",
       "   wind_speed  solar_irridiation total_cloud_cover  electricity        heat  \n",
       "0         5.0                  0         no clouds   289.567557  432.940036  \n",
       "1         7.0                  0         no clouds   260.168520  473.935901  \n",
       "2         7.0                  0        2/10–3/10.   247.273585  483.278761  \n",
       "3         2.0                  0             5/10.   257.955878  545.921252  \n",
       "4         3.0                  0        2/10–3/10.   258.255081  550.526112  "
      ]
     },
     "execution_count": 9,
     "metadata": {},
     "output_type": "execute_result"
    }
   ],
   "source": [
    "# Change ts to datetime and set as index:\n",
    "df[\"date\"] = pd.to_datetime(df[\"date\"],format='%Y-%m-%d')\n",
    "df.head()"
   ]
  },
  {
   "cell_type": "code",
   "execution_count": 10,
   "metadata": {},
   "outputs": [
    {
     "data": {
      "text/plain": [
       "68792"
      ]
     },
     "execution_count": 10,
     "metadata": {},
     "output_type": "execute_result"
    }
   ],
   "source": [
    "len(df)"
   ]
  },
  {
   "cell_type": "code",
   "execution_count": 11,
   "metadata": {},
   "outputs": [
    {
     "data": {
      "text/html": [
       "<div>\n",
       "<style scoped>\n",
       "    .dataframe tbody tr th:only-of-type {\n",
       "        vertical-align: middle;\n",
       "    }\n",
       "\n",
       "    .dataframe tbody tr th {\n",
       "        vertical-align: top;\n",
       "    }\n",
       "\n",
       "    .dataframe thead th {\n",
       "        text-align: right;\n",
       "    }\n",
       "</style>\n",
       "<table border=\"1\" class=\"dataframe\">\n",
       "  <thead>\n",
       "    <tr style=\"text-align: right;\">\n",
       "      <th></th>\n",
       "      <th>date</th>\n",
       "      <th>air_pressure</th>\n",
       "      <th>air_temperature</th>\n",
       "      <th>relative_humidity</th>\n",
       "      <th>wind_speed</th>\n",
       "      <th>solar_irridiation</th>\n",
       "      <th>total_cloud_cover</th>\n",
       "      <th>electricity</th>\n",
       "      <th>heat</th>\n",
       "    </tr>\n",
       "  </thead>\n",
       "  <tbody>\n",
       "    <tr>\n",
       "      <th>0</th>\n",
       "      <td>2010-12-01 00:00:00</td>\n",
       "      <td>729.7</td>\n",
       "      <td>25.0</td>\n",
       "      <td>85.0</td>\n",
       "      <td>5.0</td>\n",
       "      <td>0</td>\n",
       "      <td>no clouds</td>\n",
       "      <td>289.567557</td>\n",
       "      <td>432.940036</td>\n",
       "    </tr>\n",
       "    <tr>\n",
       "      <th>1</th>\n",
       "      <td>2010-12-01 01:00:00</td>\n",
       "      <td>729.4</td>\n",
       "      <td>27.8</td>\n",
       "      <td>77.0</td>\n",
       "      <td>7.0</td>\n",
       "      <td>0</td>\n",
       "      <td>no clouds</td>\n",
       "      <td>260.168520</td>\n",
       "      <td>473.935901</td>\n",
       "    </tr>\n",
       "    <tr>\n",
       "      <th>2</th>\n",
       "      <td>2010-12-01 02:00:00</td>\n",
       "      <td>728.9</td>\n",
       "      <td>33.3</td>\n",
       "      <td>62.0</td>\n",
       "      <td>7.0</td>\n",
       "      <td>0</td>\n",
       "      <td>2/10–3/10.</td>\n",
       "      <td>247.273585</td>\n",
       "      <td>483.278761</td>\n",
       "    </tr>\n",
       "    <tr>\n",
       "      <th>3</th>\n",
       "      <td>2010-12-01 03:00:00</td>\n",
       "      <td>731.6</td>\n",
       "      <td>32.2</td>\n",
       "      <td>62.0</td>\n",
       "      <td>2.0</td>\n",
       "      <td>0</td>\n",
       "      <td>5/10.</td>\n",
       "      <td>257.955878</td>\n",
       "      <td>545.921252</td>\n",
       "    </tr>\n",
       "    <tr>\n",
       "      <th>4</th>\n",
       "      <td>2010-12-01 04:00:00</td>\n",
       "      <td>732.6</td>\n",
       "      <td>22.8</td>\n",
       "      <td>96.0</td>\n",
       "      <td>3.0</td>\n",
       "      <td>0</td>\n",
       "      <td>2/10–3/10.</td>\n",
       "      <td>258.255081</td>\n",
       "      <td>550.526112</td>\n",
       "    </tr>\n",
       "  </tbody>\n",
       "</table>\n",
       "</div>"
      ],
      "text/plain": [
       "                 date  air_pressure  air_temperature  relative_humidity  \\\n",
       "0 2010-12-01 00:00:00         729.7             25.0               85.0   \n",
       "1 2010-12-01 01:00:00         729.4             27.8               77.0   \n",
       "2 2010-12-01 02:00:00         728.9             33.3               62.0   \n",
       "3 2010-12-01 03:00:00         731.6             32.2               62.0   \n",
       "4 2010-12-01 04:00:00         732.6             22.8               96.0   \n",
       "\n",
       "   wind_speed  solar_irridiation total_cloud_cover  electricity        heat  \n",
       "0         5.0                  0         no clouds   289.567557  432.940036  \n",
       "1         7.0                  0         no clouds   260.168520  473.935901  \n",
       "2         7.0                  0        2/10–3/10.   247.273585  483.278761  \n",
       "3         2.0                  0             5/10.   257.955878  545.921252  \n",
       "4         3.0                  0        2/10–3/10.   258.255081  550.526112  "
      ]
     },
     "execution_count": 11,
     "metadata": {},
     "output_type": "execute_result"
    }
   ],
   "source": [
    "df.head()"
   ]
  },
  {
   "cell_type": "code",
   "execution_count": 12,
   "metadata": {},
   "outputs": [],
   "source": [
    "df1 = df[[\"date\",'heat']]"
   ]
  },
  {
   "cell_type": "code",
   "execution_count": 13,
   "metadata": {},
   "outputs": [
    {
     "data": {
      "text/html": [
       "<div>\n",
       "<style scoped>\n",
       "    .dataframe tbody tr th:only-of-type {\n",
       "        vertical-align: middle;\n",
       "    }\n",
       "\n",
       "    .dataframe tbody tr th {\n",
       "        vertical-align: top;\n",
       "    }\n",
       "\n",
       "    .dataframe thead th {\n",
       "        text-align: right;\n",
       "    }\n",
       "</style>\n",
       "<table border=\"1\" class=\"dataframe\">\n",
       "  <thead>\n",
       "    <tr style=\"text-align: right;\">\n",
       "      <th></th>\n",
       "      <th>heat</th>\n",
       "    </tr>\n",
       "    <tr>\n",
       "      <th>date</th>\n",
       "      <th></th>\n",
       "    </tr>\n",
       "  </thead>\n",
       "  <tbody>\n",
       "    <tr>\n",
       "      <th>2010-12-01 00:00:00</th>\n",
       "      <td>432.940036</td>\n",
       "    </tr>\n",
       "    <tr>\n",
       "      <th>2010-12-01 01:00:00</th>\n",
       "      <td>473.935901</td>\n",
       "    </tr>\n",
       "    <tr>\n",
       "      <th>2010-12-01 02:00:00</th>\n",
       "      <td>483.278761</td>\n",
       "    </tr>\n",
       "    <tr>\n",
       "      <th>2010-12-01 03:00:00</th>\n",
       "      <td>545.921252</td>\n",
       "    </tr>\n",
       "    <tr>\n",
       "      <th>2010-12-01 04:00:00</th>\n",
       "      <td>550.526112</td>\n",
       "    </tr>\n",
       "  </tbody>\n",
       "</table>\n",
       "</div>"
      ],
      "text/plain": [
       "                           heat\n",
       "date                           \n",
       "2010-12-01 00:00:00  432.940036\n",
       "2010-12-01 01:00:00  473.935901\n",
       "2010-12-01 02:00:00  483.278761\n",
       "2010-12-01 03:00:00  545.921252\n",
       "2010-12-01 04:00:00  550.526112"
      ]
     },
     "execution_count": 13,
     "metadata": {},
     "output_type": "execute_result"
    }
   ],
   "source": [
    "df1 = df1.set_index(\"date\")\n",
    "df1.head()"
   ]
  },
  {
   "cell_type": "code",
   "execution_count": 14,
   "metadata": {},
   "outputs": [],
   "source": [
    "x = df1['heat'].values.reshape(-1, 1) #returns a numpy array\n",
    "min_max_scaler = StandardScaler()\n",
    "x_scaled = min_max_scaler.fit_transform(x)\n",
    "df1['heat'] = x_scaled"
   ]
  },
  {
   "cell_type": "code",
   "execution_count": 15,
   "metadata": {},
   "outputs": [
    {
     "data": {
      "text/html": [
       "<div>\n",
       "<style scoped>\n",
       "    .dataframe tbody tr th:only-of-type {\n",
       "        vertical-align: middle;\n",
       "    }\n",
       "\n",
       "    .dataframe tbody tr th {\n",
       "        vertical-align: top;\n",
       "    }\n",
       "\n",
       "    .dataframe thead th {\n",
       "        text-align: right;\n",
       "    }\n",
       "</style>\n",
       "<table border=\"1\" class=\"dataframe\">\n",
       "  <thead>\n",
       "    <tr style=\"text-align: right;\">\n",
       "      <th></th>\n",
       "      <th>heat</th>\n",
       "    </tr>\n",
       "    <tr>\n",
       "      <th>date</th>\n",
       "      <th></th>\n",
       "    </tr>\n",
       "  </thead>\n",
       "  <tbody>\n",
       "    <tr>\n",
       "      <th>2010-12-01 00:00:00</th>\n",
       "      <td>0.537153</td>\n",
       "    </tr>\n",
       "    <tr>\n",
       "      <th>2010-12-01 01:00:00</th>\n",
       "      <td>0.667290</td>\n",
       "    </tr>\n",
       "    <tr>\n",
       "      <th>2010-12-01 02:00:00</th>\n",
       "      <td>0.696948</td>\n",
       "    </tr>\n",
       "    <tr>\n",
       "      <th>2010-12-01 03:00:00</th>\n",
       "      <td>0.895801</td>\n",
       "    </tr>\n",
       "    <tr>\n",
       "      <th>2010-12-01 04:00:00</th>\n",
       "      <td>0.910419</td>\n",
       "    </tr>\n",
       "  </tbody>\n",
       "</table>\n",
       "</div>"
      ],
      "text/plain": [
       "                         heat\n",
       "date                         \n",
       "2010-12-01 00:00:00  0.537153\n",
       "2010-12-01 01:00:00  0.667290\n",
       "2010-12-01 02:00:00  0.696948\n",
       "2010-12-01 03:00:00  0.895801\n",
       "2010-12-01 04:00:00  0.910419"
      ]
     },
     "execution_count": 15,
     "metadata": {},
     "output_type": "execute_result"
    }
   ],
   "source": [
    "df1.head()"
   ]
  },
  {
   "cell_type": "code",
   "execution_count": 16,
   "metadata": {},
   "outputs": [
    {
     "data": {
      "text/html": [
       "<div>\n",
       "<style scoped>\n",
       "    .dataframe tbody tr th:only-of-type {\n",
       "        vertical-align: middle;\n",
       "    }\n",
       "\n",
       "    .dataframe tbody tr th {\n",
       "        vertical-align: top;\n",
       "    }\n",
       "\n",
       "    .dataframe thead th {\n",
       "        text-align: right;\n",
       "    }\n",
       "</style>\n",
       "<table border=\"1\" class=\"dataframe\">\n",
       "  <thead>\n",
       "    <tr style=\"text-align: right;\">\n",
       "      <th></th>\n",
       "      <th>heat</th>\n",
       "    </tr>\n",
       "    <tr>\n",
       "      <th>date</th>\n",
       "      <th></th>\n",
       "    </tr>\n",
       "  </thead>\n",
       "  <tbody>\n",
       "    <tr>\n",
       "      <th>2010-12-01</th>\n",
       "      <td>0.073040</td>\n",
       "    </tr>\n",
       "    <tr>\n",
       "      <th>2010-12-02</th>\n",
       "      <td>-0.212695</td>\n",
       "    </tr>\n",
       "    <tr>\n",
       "      <th>2010-12-03</th>\n",
       "      <td>0.291141</td>\n",
       "    </tr>\n",
       "    <tr>\n",
       "      <th>2010-12-04</th>\n",
       "      <td>1.031632</td>\n",
       "    </tr>\n",
       "    <tr>\n",
       "      <th>2010-12-05</th>\n",
       "      <td>1.426792</td>\n",
       "    </tr>\n",
       "  </tbody>\n",
       "</table>\n",
       "</div>"
      ],
      "text/plain": [
       "                heat\n",
       "date                \n",
       "2010-12-01  0.073040\n",
       "2010-12-02 -0.212695\n",
       "2010-12-03  0.291141\n",
       "2010-12-04  1.031632\n",
       "2010-12-05  1.426792"
      ]
     },
     "execution_count": 16,
     "metadata": {},
     "output_type": "execute_result"
    }
   ],
   "source": [
    "davg_df = df1.groupby(pd.Grouper(freq='D')).mean()\n",
    "davg_df.head()"
   ]
  },
  {
   "cell_type": "code",
   "execution_count": 17,
   "metadata": {},
   "outputs": [
    {
     "data": {
      "text/plain": [
       "2920"
      ]
     },
     "execution_count": 17,
     "metadata": {},
     "output_type": "execute_result"
    }
   ],
   "source": [
    "len(davg_df)"
   ]
  },
  {
   "cell_type": "code",
   "execution_count": 18,
   "metadata": {},
   "outputs": [],
   "source": [
    "dftrain, dftest = train_test_split(davg_df, test_size=0.01)"
   ]
  },
  {
   "cell_type": "code",
   "execution_count": 19,
   "metadata": {},
   "outputs": [
    {
     "data": {
      "text/plain": [
       "30"
      ]
     },
     "execution_count": 19,
     "metadata": {},
     "output_type": "execute_result"
    }
   ],
   "source": [
    "len(dftest)"
   ]
  },
  {
   "cell_type": "code",
   "execution_count": 20,
   "metadata": {},
   "outputs": [],
   "source": [
    "dftrain, dfvali = train_test_split(dftrain, test_size=0.2)"
   ]
  },
  {
   "cell_type": "code",
   "execution_count": 21,
   "metadata": {},
   "outputs": [
    {
     "data": {
      "text/plain": [
       "2312"
      ]
     },
     "execution_count": 21,
     "metadata": {},
     "output_type": "execute_result"
    }
   ],
   "source": [
    "len(dftrain)"
   ]
  },
  {
   "cell_type": "code",
   "execution_count": 22,
   "metadata": {},
   "outputs": [
    {
     "data": {
      "text/plain": [
       "578"
      ]
     },
     "execution_count": 22,
     "metadata": {},
     "output_type": "execute_result"
    }
   ],
   "source": [
    "len(dfvali)"
   ]
  },
  {
   "cell_type": "code",
   "execution_count": 23,
   "metadata": {},
   "outputs": [],
   "source": [
    "# best\n",
    "random.seed(0)"
   ]
  },
  {
   "cell_type": "code",
   "execution_count": 24,
   "metadata": {},
   "outputs": [
    {
     "name": "stdout",
     "output_type": "stream",
     "text": [
      "Performing stepwise search to minimize aic\n",
      " ARIMA(3,1,3)(0,1,0)[12]             : AIC=inf, Time=3.70 sec\n",
      " ARIMA(0,1,0)(0,1,0)[12]             : AIC=9465.635, Time=0.06 sec\n",
      " ARIMA(1,1,0)(1,1,0)[12]             : AIC=8132.582, Time=0.30 sec\n",
      " ARIMA(0,1,1)(0,1,1)[12]             : AIC=inf, Time=2.72 sec\n",
      " ARIMA(1,1,0)(0,1,0)[12]             : AIC=8760.294, Time=0.10 sec\n",
      " ARIMA(1,1,0)(2,1,0)[12]             : AIC=7860.402, Time=0.61 sec\n",
      " ARIMA(1,1,0)(3,1,0)[12]             : AIC=7715.206, Time=1.37 sec\n",
      " ARIMA(1,1,0)(4,1,0)[12]             : AIC=7643.205, Time=2.34 sec\n",
      " ARIMA(1,1,0)(5,1,0)[12]             : AIC=7585.718, Time=5.17 sec\n",
      " ARIMA(1,1,0)(5,1,1)[12]             : AIC=inf, Time=27.10 sec\n",
      " ARIMA(1,1,0)(4,1,1)[12]             : AIC=inf, Time=17.71 sec\n",
      " ARIMA(0,1,0)(5,1,0)[12]             : AIC=8219.786, Time=3.78 sec\n",
      " ARIMA(2,1,0)(5,1,0)[12]             : AIC=7341.788, Time=6.26 sec\n",
      " ARIMA(2,1,0)(4,1,0)[12]             : AIC=7404.945, Time=2.85 sec\n",
      " ARIMA(2,1,0)(5,1,1)[12]             : AIC=inf, Time=27.08 sec\n",
      " ARIMA(2,1,0)(4,1,1)[12]             : AIC=inf, Time=14.22 sec\n",
      " ARIMA(3,1,0)(5,1,0)[12]             : AIC=7143.436, Time=7.50 sec\n",
      " ARIMA(3,1,0)(4,1,0)[12]             : AIC=7209.226, Time=4.46 sec\n",
      " ARIMA(3,1,0)(5,1,1)[12]             : AIC=inf, Time=33.98 sec\n",
      " ARIMA(3,1,0)(4,1,1)[12]             : AIC=inf, Time=24.21 sec\n",
      " ARIMA(4,1,0)(5,1,0)[12]             : AIC=7073.467, Time=7.31 sec\n",
      " ARIMA(4,1,0)(4,1,0)[12]             : AIC=7145.064, Time=4.99 sec\n",
      " ARIMA(4,1,0)(5,1,1)[12]             : AIC=inf, Time=42.94 sec\n",
      " ARIMA(4,1,0)(4,1,1)[12]             : AIC=inf, Time=30.77 sec\n",
      " ARIMA(5,1,0)(5,1,0)[12]             : AIC=7006.526, Time=7.99 sec\n",
      " ARIMA(5,1,0)(4,1,0)[12]             : AIC=7079.378, Time=6.13 sec\n",
      " ARIMA(5,1,0)(5,1,1)[12]             : AIC=inf, Time=48.57 sec\n",
      " ARIMA(5,1,0)(4,1,1)[12]             : AIC=inf, Time=40.60 sec\n",
      " ARIMA(5,1,1)(5,1,0)[12]             : AIC=inf, Time=64.47 sec\n",
      " ARIMA(4,1,1)(5,1,0)[12]             : AIC=inf, Time=66.08 sec\n",
      " ARIMA(5,1,0)(5,1,0)[12] intercept   : AIC=7008.525, Time=18.61 sec\n",
      "\n",
      "Best model:  ARIMA(5,1,0)(5,1,0)[12]          \n",
      "Total fit time: 524.012 seconds\n"
     ]
    },
    {
     "data": {
      "text/plain": [
       "Pipeline(steps=[('model',\n",
       "                 AutoARIMA(D=1, d=1, error_action='warn', m=12, max_P=5,\n",
       "                           max_Q=10, n_fits=100, random_state=20, start_P=0,\n",
       "                           start_Q=0, start_p=3, start_q=3, test='adf',\n",
       "                           trace=True))])"
      ]
     },
     "execution_count": 24,
     "metadata": {},
     "output_type": "execute_result"
    }
   ],
   "source": [
    "# best\n",
    "#random.seed(0)\n",
    "pipeline = Pipeline([\n",
    "    (\"model\", pm.AutoARIMA(test='adf',\n",
    "                           start_p=3, start_q=3, max_p=5, max_q=5, start_P=0, start_Q=0, max_P=5, max_Q=10, m=12, stepwise=True, seasonal=True, information_criterion='aic', trace=True, d=1, D=1, error_action='warn', \n",
    "                           suppress_warnings=True, random_state=20,n_fits=100))\n",
    "])\n",
    "'''\n",
    "pipeline = Pipeline([\n",
    "    (\"model\",pm.AutoARIMA(test='adf',\n",
    "                           max_p=3, max_q=3, m=7,\n",
    "                           start_P=1,start_Q=1, seasonal=True,\n",
    "                           d=1, D=1, trace=True,\n",
    "                           error_action='ignore',  \n",
    "                           suppress_warnings=True, \n",
    "                           stepwise=False))\n",
    "])\n",
    "'''\n",
    "pipeline.fit(dftrain)"
   ]
  },
  {
   "cell_type": "code",
   "execution_count": 25,
   "metadata": {},
   "outputs": [],
   "source": [
    "##### univariate arima model predict electricity_demand_values  \n",
    "# best\n",
    "#Arima_model=pm.auto_arima(dftrain['electricity_demand_values'],start_p=3, start_q=3, max_p=5, max_q=5, start_P=0, start_Q=0, max_P=5, max_Q=10, m=12, stepwise=True, seasonal=True, information_criterion='aic', trace=True, d=1, D=1, error_action='warn', suppress_warnings=True, random_state=20, n_fits=100)\n",
    "\n",
    "#Arima_model=pm.auto_arima(dftrain['electricity_demand_values'],start_p=3, start_q=3, max_p=5, max_q=6, start_P=0, start_Q=4, max_P=6, max_Q=10, m=12, stepwise=True, seasonal=True, information_criterion='aic', trace=True, d=1, D=1, error_action='warn', suppress_warnings=True, random_state=20, n_fits=100)\n",
    "\n",
    "#Arima_model=pm.auto_arima(dftrain['electricity_demand_values'],start_p=3, start_q=3, max_p=5, max_q=6, start_P=0, start_Q=4, max_P=6, max_Q=10, m=12, stepwise=True, seasonal=True, information_criterion='bic', trace=True, d=1, D=1, error_action='warn', suppress_warnings=True, n_fits=100)\n",
    "\n",
    "#Arima_model=pm.auto_arima(dftrain['electricity_demand_values'],start_p=3, start_q=3, max_p=5, max_q=6, start_P=1, start_Q=4, max_P=6, max_Q=10, m=12, stepwise=True, seasonal=True, information_criterion='bic', trace=True, d=1, D=1, error_action='warn', suppress_warnings=True, n_fits=100)\n"
   ]
  },
  {
   "cell_type": "code",
   "execution_count": null,
   "metadata": {},
   "outputs": [],
   "source": [
    "Sample_predictions= pipeline.predict_in_sample(exogenous=None, return_conf_int=False)\n",
    "Actuals = pd.Series.to_numpy(dftrain['heat'])\n",
    "Residuals = Actuals-Sample_predictions"
   ]
  },
  {
   "cell_type": "code",
   "execution_count": null,
   "metadata": {},
   "outputs": [],
   "source": [
    "Residuals"
   ]
  },
  {
   "cell_type": "code",
   "execution_count": 26,
   "metadata": {},
   "outputs": [
    {
     "data": {
      "text/plain": [
       "array([ 5.08582589e-01,  7.34276003e-01, -6.57015328e-02, -3.82206796e-01,\n",
       "        2.60285872e-01, -6.31488974e-02,  1.73328444e-01, -3.91353077e-01,\n",
       "        1.40967253e-01, -7.46301156e-01, -2.79605885e-02, -5.31567497e-02,\n",
       "        3.75226008e-01,  4.05922467e-01,  4.80942442e-02, -3.05494086e-01,\n",
       "        1.48313510e-02, -1.67659390e-01,  1.95420178e-01, -3.06020149e-01,\n",
       "        1.52211299e-01, -7.88611949e-01, -4.69964116e-01,  3.68254706e-02,\n",
       "        3.99819662e-01,  3.41095351e-01,  8.96520559e-02, -3.23228997e-01,\n",
       "        1.05705088e-01, -2.12791084e-02,  3.14242972e-01, -3.44796371e-01,\n",
       "        2.44434847e-01, -7.50954961e-01, -4.74175690e-01,  1.70535164e-01,\n",
       "        3.19897135e-01,  6.49681485e-01,  3.44165931e-01, -3.45427406e-01,\n",
       "        3.63759534e-01, -2.94610414e-01,  3.51429317e-01, -4.84093190e-01,\n",
       "        2.45778266e-01, -8.61097906e-01, -3.49901645e-01,  5.29734790e-04,\n",
       "        9.57415069e-02,  1.89729819e-01,  9.05200104e-03, -3.94119512e-01,\n",
       "        1.39402791e-01, -4.32406602e-01,  4.44190684e-01, -6.47129914e-01,\n",
       "       -6.41051758e-02, -8.61363607e-01, -5.53033653e-01, -9.56709333e-02,\n",
       "        1.80842486e-02,  3.71505551e-01,  5.53113391e-02, -5.67310571e-01,\n",
       "        3.89667952e-01, -3.82298782e-01,  5.09424407e-01, -6.24672471e-01,\n",
       "        4.98758297e-02, -9.06917824e-01, -5.65990122e-01, -1.60230313e-01,\n",
       "        1.56634841e-01,  3.25915705e-01, -5.00138195e-02, -5.19756781e-01,\n",
       "        9.23657645e-02, -3.53956997e-01,  2.05420356e-01, -5.98401689e-01,\n",
       "        1.38528673e-04, -9.48274231e-01, -5.29655029e-01, -1.48112453e-01,\n",
       "        9.79288894e-02,  2.54348242e-01, -4.70220952e-02, -5.38641549e-01,\n",
       "        5.26468425e-02, -4.09659439e-01,  2.02468307e-01, -6.31035893e-01,\n",
       "       -2.72997091e-02, -9.84534752e-01, -6.18366618e-01, -1.66336653e-01,\n",
       "        5.06540690e-02,  2.15902582e-01, -7.02362729e-02, -5.78083400e-01,\n",
       "        5.39437950e-02, -4.42328156e-01,  2.07910061e-01, -6.83824450e-01,\n",
       "       -5.78131637e-02, -1.01373688e+00, -6.49601910e-01, -1.94424579e-01,\n",
       "       -3.46488298e-03,  2.13656541e-01, -8.37872973e-02, -6.21151237e-01,\n",
       "        5.77026862e-02, -5.12694989e-01,  1.89033782e-01, -7.38464451e-01,\n",
       "       -9.91728647e-02, -1.05960693e+00, -6.71110432e-01, -2.55961182e-01,\n",
       "       -5.82251828e-02,  1.28976592e-01, -1.62247659e-01, -6.63131134e-01,\n",
       "       -5.40567419e-03, -5.53148271e-01,  1.59380312e-01, -7.84187291e-01,\n",
       "       -1.65260171e-01, -1.09213310e+00, -7.27190898e-01, -2.99073040e-01,\n",
       "       -8.95604712e-02,  1.21169977e-01, -1.88296168e-01, -7.12303098e-01,\n",
       "       -1.88274401e-02, -5.73551260e-01,  1.20912585e-01, -8.07759801e-01,\n",
       "       -1.79793769e-01, -1.13045274e+00, -7.58632422e-01, -3.34494988e-01,\n",
       "       -1.03958282e-01,  8.11530966e-02, -2.30408504e-01, -7.35804268e-01,\n",
       "       -9.00529433e-02, -6.03539032e-01,  5.12250717e-02, -8.37188673e-01,\n",
       "       -2.17840898e-01, -1.16780481e+00, -7.87887461e-01, -3.63124010e-01,\n",
       "       -1.47228459e-01,  3.97874734e-02, -2.60233272e-01, -7.71160014e-01,\n",
       "       -1.22049100e-01, -6.45798857e-01,  2.44894301e-02, -8.76597771e-01,\n",
       "       -2.54435470e-01, -1.20464691e+00, -8.31704079e-01, -3.98937798e-01,\n",
       "       -1.88217794e-01,  2.69060376e-03, -2.96296966e-01, -8.09910261e-01,\n",
       "       -1.51451945e-01, -6.84366543e-01, -4.47639204e-03, -9.17468120e-01,\n",
       "       -2.92256387e-01, -1.24093349e+00, -8.67903237e-01, -4.36997597e-01,\n",
       "       -2.27799954e-01, -3.07754693e-02, -3.32457966e-01, -8.48639030e-01,\n",
       "       -1.84084506e-01, -7.25008635e-01, -3.97420747e-02, -9.56407465e-01,\n",
       "       -3.30479890e-01, -1.27905784e+00, -9.03417449e-01, -4.77668104e-01,\n",
       "       -2.65476697e-01, -7.30108753e-02, -3.74881886e-01, -8.86226992e-01,\n",
       "       -2.25654352e-01, -7.60896401e-01, -7.79802469e-02, -9.93178137e-01,\n",
       "       -3.70116369e-01, -1.31555473e+00, -9.42513572e-01, -5.14755417e-01,\n",
       "       -3.00568965e-01, -1.06284514e-01, -4.10062647e-01, -9.23948715e-01,\n",
       "       -2.61152541e-01, -7.95432049e-01, -1.16650628e-01, -1.02799651e+00,\n",
       "       -4.03907971e-01, -1.35278319e+00, -9.78617214e-01, -5.50863838e-01,\n",
       "       -3.35198882e-01, -1.44013974e-01, -4.47212033e-01, -9.59072928e-01,\n",
       "       -3.02097610e-01, -8.32136783e-01, -1.57000352e-01, -1.06450826e+00,\n",
       "       -4.41214211e-01, -1.38985118e+00, -1.01493600e+00, -5.86815349e-01,\n",
       "       -3.73723448e-01, -1.81628443e-01, -4.83269739e-01, -9.96183867e-01,\n",
       "       -3.37614929e-01, -8.70318460e-01, -1.91790073e-01, -1.10235233e+00,\n",
       "       -4.78455783e-01, -1.42688227e+00, -1.05289202e+00, -6.24064367e-01,\n",
       "       -4.11517889e-01, -2.18667983e-01, -5.20469611e-01, -1.03369095e+00,\n",
       "       -3.73511014e-01, -9.07680610e-01, -2.27696763e-01, -1.14000435e+00,\n",
       "       -5.15792149e-01, -1.46387618e+00, -1.08982075e+00, -6.61517307e-01,\n",
       "       -4.48744554e-01, -2.55333805e-01, -5.57671437e-01, -1.07101192e+00,\n",
       "       -4.10311673e-01, -9.44965970e-01, -2.64850556e-01, -1.17711935e+00,\n",
       "       -5.52977955e-01, -1.50106550e+00, -1.12671118e+00, -6.98992328e-01,\n",
       "       -4.85611059e-01, -2.92941715e-01, -5.95344282e-01, -1.10805197e+00,\n",
       "       -4.48161869e-01, -9.81673678e-01, -3.02378327e-01, -1.21395237e+00,\n",
       "       -5.90191072e-01, -1.53805622e+00, -1.16397773e+00, -7.35901909e-01,\n",
       "       -5.22339559e-01, -3.29535766e-01, -6.32058448e-01, -1.14508302e+00,\n",
       "       -4.85122752e-01, -1.01843911e+00, -3.39706776e-01, -1.25072828e+00,\n",
       "       -6.26814689e-01, -1.57513971e+00, -1.20090447e+00, -7.72769462e-01,\n",
       "       -5.59224432e-01, -3.66726957e-01, -6.69075703e-01, -1.18190947e+00,\n",
       "       -5.22537446e-01, -1.05557114e+00, -3.76988549e-01, -1.28782155e+00,\n",
       "       -6.63957752e-01, -1.61220056e+00, -1.23791150e+00, -8.09731734e-01,\n",
       "       -5.96566388e-01, -4.03858683e-01, -7.06036555e-01, -1.21903563e+00,\n",
       "       -5.59289541e-01, -1.09282517e+00, -4.13650518e-01, -1.32504033e+00,\n",
       "       -7.01083192e-01, -1.64926081e+00, -1.27509082e+00, -8.46879696e-01,\n",
       "       -6.33719121e-01, -4.40911225e-01, -7.43165612e-01, -1.25618067e+00,\n",
       "       -5.96220854e-01, -1.12990868e+00, -4.50600816e-01, -1.36216380e+00,\n",
       "       -7.38190229e-01, -1.68631887e+00, -1.31213040e+00, -8.84011979e-01,\n",
       "       -6.70757385e-01, -4.77926818e-01, -7.80267047e-01, -1.29326767e+00,\n",
       "       -6.33313518e-01, -1.16695641e+00, -4.87743752e-01, -1.39919511e+00,\n",
       "       -7.75251679e-01, -1.72339668e+00, -1.34917145e+00, -9.21104197e-01,\n",
       "       -7.07762961e-01, -5.15047021e-01, -8.17385126e-01, -1.33030886e+00,\n",
       "       -6.70499779e-01, -1.20395722e+00, -5.24896725e-01, -1.43621094e+00,\n",
       "       -8.12311627e-01, -1.76045046e+00, -1.38625447e+00, -9.58124882e-01,\n",
       "       -7.44788904e-01, -5.52055591e-01, -8.54387569e-01, -1.36735737e+00,\n",
       "       -7.07544785e-01, -1.24099827e+00, -5.61979561e-01, -1.47324920e+00,\n",
       "       -8.49323004e-01, -1.79751624e+00, -1.42330128e+00, -9.95161250e-01,\n",
       "       -7.81853944e-01, -5.89140890e-01, -8.91443362e-01, -1.40439816e+00,\n",
       "       -7.44626754e-01, -1.27808771e+00, -5.99038054e-01, -1.51033270e+00,\n",
       "       -8.86406736e-01, -1.83457913e+00, -1.46036279e+00, -1.03222305e+00,\n",
       "       -8.18961049e-01, -6.26211777e-01, -9.28501906e-01, -1.44147830e+00,\n",
       "       -7.81640947e-01, -1.31517683e+00, -6.36043288e-01, -1.54741909e+00,\n",
       "       -9.23482167e-01, -1.87164239e+00, -1.49744043e+00, -1.06930482e+00,\n",
       "       -8.56029267e-01, -6.63272075e-01, -9.65579840e-01, -1.47855307e+00,\n",
       "       -8.18696465e-01, -1.35223597e+00, -6.73104464e-01, -1.58448393e+00,\n",
       "       -9.60549418e-01, -1.90870545e+00, -1.53449933e+00, -1.10637603e+00,\n",
       "       -8.93081563e-01, -7.00329436e-01, -1.00264789e+00, -1.51561606e+00,\n",
       "       -8.55773054e-01, -1.38929150e+00, -7.10187854e-01, -1.62153771e+00,\n",
       "       -9.97608950e-01, -1.94577038e+00, -1.57155962e+00, -1.14343810e+00,\n",
       "       -9.30135459e-01, -7.37398983e-01, -1.03971377e+00, -1.55267391e+00,\n",
       "       -8.92852510e-01, -1.42634704e+00, -7.47263103e-01, -1.65859469e+00,\n",
       "       -1.03466988e+00, -1.98283247e+00, -1.60862504e+00, -1.18049370e+00,\n",
       "       -9.67197137e-01, -7.74456399e-01, -1.07676775e+00, -1.58973515e+00,\n",
       "       -9.29910336e-01, -1.46341107e+00, -7.84324238e-01, -1.69565783e+00,\n",
       "       -1.07172829e+00, -2.01989615e+00, -1.64568675e+00, -1.21755479e+00,\n",
       "       -1.00426411e+00, -8.11523166e-01, -1.11383104e+00, -1.62679739e+00,\n",
       "       -9.66972587e-01, -1.50047964e+00, -8.21383013e-01, -1.73272570e+00,\n",
       "       -1.10879580e+00, -2.05695948e+00, -1.68275050e+00, -1.25461994e+00,\n",
       "       -1.04133304e+00, -8.48587150e-01, -1.15089529e+00, -1.66386388e+00,\n",
       "       -1.00402978e+00, -1.53754551e+00, -8.58439722e-01, -1.76979154e+00,\n",
       "       -1.14586082e+00, -2.09402289e+00, -1.71981547e+00, -1.29168622e+00,\n",
       "       -1.07839541e+00, -8.85649849e-01, -1.18796100e+00, -1.70092837e+00,\n",
       "       -1.04109412e+00, -1.57460704e+00, -8.95505227e-01, -1.80685386e+00,\n",
       "       -1.18292406e+00, -2.13108625e+00, -1.75687802e+00, -1.32874992e+00,\n",
       "       -1.11545644e+00, -9.22712492e-01, -1.22502450e+00, -1.73799103e+00,\n",
       "       -1.07816020e+00, -1.61166893e+00, -9.32572097e-01, -1.84391549e+00,\n",
       "       -1.21998646e+00, -2.16814977e+00, -1.79394100e+00, -1.36581239e+00,\n",
       "       -1.15251880e+00, -9.59776609e-01, -1.26208754e+00, -1.77505347e+00,\n",
       "       -1.11522516e+00, -1.64873172e+00, -9.69636397e-01, -1.88097837e+00,\n",
       "       -1.25704948e+00, -2.20521298e+00, -1.83100464e+00, -1.40287470e+00,\n",
       "       -1.18958261e+00, -9.96839385e-01, -1.29914969e+00, -1.81211674e+00,\n",
       "       -1.15228717e+00, -1.68579572e+00, -1.00669864e+00, -1.91804222e+00,\n",
       "       -1.29411258e+00, -2.24227640e+00, -1.86806789e+00, -1.43993813e+00,\n",
       "       -1.22664677e+00, -1.03390323e+00, -1.33621332e+00, -1.84918025e+00,\n",
       "       -1.18935010e+00, -1.72285985e+00, -1.04376113e+00, -1.95510629e+00,\n",
       "       -1.33117664e+00, -2.27933978e+00, -1.90513137e+00, -1.47700198e+00,\n",
       "       -1.26371066e+00, -1.07096661e+00, -1.37327700e+00, -1.88624408e+00,\n",
       "       -1.22641291e+00, -1.75992330e+00, -1.08082401e+00, -1.99216978e+00,\n",
       "       -1.36824015e+00, -2.31640316e+00, -1.94219489e+00, -1.51406569e+00,\n",
       "       -1.30077364e+00, -1.10802987e+00, -1.41034065e+00, -1.92330748e+00,\n",
       "       -1.26347672e+00, -1.79698627e+00, -1.11788800e+00, -2.02923285e+00,\n",
       "       -1.40530340e+00, -2.35346654e+00, -1.97925813e+00, -1.55112896e+00,\n",
       "       -1.33783666e+00, -1.14509316e+00, -1.44740393e+00, -1.96037068e+00,\n",
       "       -1.30054049e+00, -1.83404946e+00, -1.15495184e+00, -2.06629599e+00,\n",
       "       -1.44236661e+00, -2.39052993e+00, -2.01632146e+00, -1.58819215e+00,\n",
       "       -1.37490000e+00, -1.18215664e+00, -1.48446719e+00, -1.99743393e+00,\n",
       "       -1.33760393e+00, -1.87111286e+00, -1.19201517e+00, -2.10335939e+00,\n",
       "       -1.47942997e+00, -2.42759328e+00, -2.05338488e+00, -1.62525542e+00,\n",
       "       -1.41196353e+00, -1.21921996e+00, -1.52153044e+00, -2.03449734e+00,\n",
       "       -1.37466704e+00, -1.90817638e+00, -1.22907830e+00, -2.14042289e+00,\n",
       "       -1.51649336e+00, -2.46465666e+00, -2.09044825e+00, -1.66231887e+00,\n",
       "       -1.44902701e+00, -1.25628339e+00])"
      ]
     },
     "execution_count": 26,
     "metadata": {},
     "output_type": "execute_result"
    }
   ],
   "source": [
    "forecast, conf = pipeline.predict(n_periods=578, return_conf_int=True)\n",
    "forecast"
   ]
  },
  {
   "cell_type": "code",
   "execution_count": 27,
   "metadata": {},
   "outputs": [
    {
     "data": {
      "text/plain": [
       "array([ 1.62401518, -0.3399964 ,  0.74293014, -0.59047699, -0.00374984,\n",
       "        1.50214104,  0.82619097, -0.8371743 , -0.80484678,  0.06553326,\n",
       "       -0.83669993, -0.10352178,  0.88804356, -0.24020031,  2.96533382,\n",
       "       -0.8371743 , -0.8371743 , -0.70039001, -0.52657012, -0.35007652,\n",
       "       -0.82751886, -0.50552461,  2.1196588 , -0.48829302,  0.54918693,\n",
       "       -0.8371743 , -0.79040357, -0.26037399, -0.8371743 , -0.8371743 ,\n",
       "       -0.79474864, -0.79474864, -0.82405577,  0.05195392,  0.61984156,\n",
       "       -0.38802266, -0.69374272,  1.23926114,  0.91836123, -0.36647787,\n",
       "        2.55134983, -0.43321224, -0.3523514 ,  1.21274646,  2.42881768,\n",
       "       -0.0206813 , -0.8371743 , -0.27188856,  1.67224696, -0.78221691,\n",
       "       -0.53709979,  0.50162629, -0.42689045, -0.83663858, -0.8371743 ,\n",
       "        0.17892618, -0.8371743 , -0.8371743 , -0.82828664, -0.14897713,\n",
       "        1.85126249, -0.8371743 , -0.55436326,  0.37308754, -0.36302634,\n",
       "       -0.8371743 , -0.83004773, -0.8371743 , -0.8371743 , -0.1635172 ,\n",
       "        1.87514624, -0.82901153, -0.8371743 ,  0.74958152, -0.8371743 ,\n",
       "       -0.39418135,  1.01230921, -0.46876067,  0.38998155, -0.69295003,\n",
       "       -0.83395964,  0.55415372,  0.36006465,  1.23818286, -0.24322081,\n",
       "       -0.75461858,  2.37545878, -0.8371743 , -0.68158233,  0.89322872,\n",
       "        1.879954  , -0.8371743 ,  0.17485885, -0.8371743 , -0.74023497,\n",
       "       -0.8371743 , -0.75928946,  2.97406359, -0.46872221, -0.82969176,\n",
       "       -0.8371743 , -0.16157219,  1.15669865, -0.25968496,  0.22762206,\n",
       "       -0.68763923, -0.79474864,  1.11478461,  0.37605275, -0.83664414,\n",
       "       -0.2856705 ,  0.16571164, -0.04786936, -0.79193089, -0.56668019,\n",
       "       -0.11945931, -0.70635453,  2.05005129, -0.8371743 , -0.03669183,\n",
       "       -0.8371743 ,  0.57035258,  0.35276738,  1.46092634,  1.45748163,\n",
       "        1.33370917, -0.12615125,  0.02324276, -0.38069343,  1.16332179,\n",
       "        0.60478896, -0.44475504, -0.41706324, -0.52955362, -0.22360567,\n",
       "       -0.78066918, -0.53553694,  1.71063239,  2.14725136, -0.4070091 ,\n",
       "        0.14884268,  0.58682178, -0.23053901,  2.04170435, -0.52593706,\n",
       "        0.9608759 , -0.22596719, -0.51440781, -0.1218683 ,  2.26164256,\n",
       "       -0.8371743 , -0.8371743 , -0.55839295,  2.23959047,  1.60004307,\n",
       "       -0.525623  , -0.8371743 ,  0.58677348, -0.77306211, -0.8371743 ,\n",
       "       -0.8371743 ,  0.75539504,  2.43499001, -0.76664117,  0.78887544,\n",
       "        1.60768213,  1.15277015, -0.8371743 , -0.83417355,  1.44935567,\n",
       "        1.48733468, -0.22726299, -0.67330036, -0.8371743 , -0.8371743 ,\n",
       "       -0.8371743 , -0.8371743 ,  1.42205574, -0.8371743 ,  0.57408081,\n",
       "       -0.61380947, -0.82708949, -0.59128818,  1.43611196, -0.4137335 ,\n",
       "       -0.8371743 , -0.8371743 , -0.61380947, -0.8371743 ,  1.24542003,\n",
       "        0.28028569, -0.18738859, -0.77503951, -0.49541004, -0.8371743 ,\n",
       "        1.08024548,  0.68541012, -0.6483976 ,  1.87469924, -0.83571566,\n",
       "       -0.8371743 , -0.52607328, -0.8371743 , -0.49984017, -0.14180535,\n",
       "        1.04000418, -0.70864386, -0.8371743 ,  0.3789634 ,  2.43770018,\n",
       "       -0.51617881, -0.8371743 ,  0.14584126, -0.8371743 , -0.50356534,\n",
       "       -0.8371743 , -0.80839978, -0.62345921, -0.23840963,  0.27637755,\n",
       "        0.5173094 , -0.83409359, -0.53642086, -0.17751059, -0.79379062,\n",
       "        1.67992363, -0.83664414, -0.8371743 , -0.8371743 ,  2.07730558,\n",
       "       -0.78780276, -0.8371743 , -0.15145325,  2.88015483, -0.8371743 ,\n",
       "        1.24455129,  0.26381765, -0.36235915, -0.8371743 , -0.15246318,\n",
       "       -0.39319508,  0.19973007, -0.8371743 , -0.8371743 , -0.51806413,\n",
       "       -0.20949348,  0.20358332, -0.03669408,  2.21868277, -0.15627488,\n",
       "       -0.53854783, -0.8371743 , -0.64349693,  0.73339453, -0.8371743 ,\n",
       "       -0.826518  , -0.78398589,  0.41861526, -0.8371743 , -0.053091  ,\n",
       "       -0.78331843, -0.29040295, -0.8371743 ,  1.25751072, -0.66015874,\n",
       "       -0.8371743 , -0.68969011, -0.79290405,  1.88920308, -0.02566391,\n",
       "        0.36399414,  0.50936739, -0.32949873, -0.67856902, -0.8371743 ,\n",
       "        0.2508468 , -0.8371743 , -0.8371743 , -0.38069343, -0.01760602,\n",
       "       -0.13237234, -0.80226807, -0.40840792,  0.01807851,  1.01154192,\n",
       "        0.23529091, -0.8371743 , -0.75928946, -0.8371743 ,  1.25167659,\n",
       "       -0.05844272,  0.16851984,  2.07036464,  0.16840134,  1.28763456,\n",
       "        0.51131598,  2.00648209,  0.3520722 ,  0.21909354,  1.47935847,\n",
       "        0.67089983,  0.58967508,  1.24360629,  0.5998395 , -0.8371743 ,\n",
       "       -0.8371743 , -0.6615659 ,  0.11790521, -0.58522654, -0.75928946,\n",
       "       -0.80693873,  0.16689217, -0.38375106,  1.3645396 ,  1.2781606 ,\n",
       "        0.11101414, -0.69359257,  0.67501048,  0.59095498,  2.96942447,\n",
       "       -0.8371743 , -0.32489354,  0.75270114, -0.8371743 , -0.5707365 ,\n",
       "       -0.80730824,  0.57151865, -0.8371743 , -0.24356383, -0.8371743 ,\n",
       "       -0.8371743 , -0.45970512, -0.8371743 , -0.60085924, -0.60790138,\n",
       "       -0.8371743 ,  0.61557706,  0.01664593,  1.52958231, -0.8371743 ,\n",
       "       -0.8371743 ,  1.6042438 , -0.8371743 ,  1.67792441, -0.76087998,\n",
       "        1.09326823, -0.21085159, -0.27342678,  1.67180022,  1.49872198,\n",
       "       -0.81758912,  0.44818237,  2.84128537,  0.47736964, -0.24956112,\n",
       "        0.87353521, -0.39118063, -0.73262929, -0.8371743 ,  0.88476658,\n",
       "       -0.60082051,  2.66826971, -0.8371743 ,  0.71730747,  0.0036089 ,\n",
       "       -0.8371743 , -0.81956751, -0.29274576,  1.7960523 , -0.02251105,\n",
       "       -0.8371743 , -0.8371743 ,  1.24696481, -0.24146611, -0.8371743 ,\n",
       "       -0.55417999,  0.10115382,  2.15781084,  0.64518703,  1.39123268,\n",
       "        0.56029664, -0.8371743 , -0.78221691,  2.1738601 , -0.39132642,\n",
       "        0.81351177, -0.82874123,  0.61567775, -0.20272923, -0.47845716,\n",
       "       -0.83663858, -0.50725659, -0.47129312,  0.54085652,  0.69792972,\n",
       "        0.67843212,  0.38080466, -0.7873862 ,  0.84246877, -0.53289944,\n",
       "        2.39466239, -0.48661417,  1.6122259 ,  1.91455398, -0.83429858,\n",
       "       -0.8371743 , -0.55741109, -0.4185117 ,  1.2195018 ,  1.18520014,\n",
       "       -0.79340073, -0.69114461,  0.59201773,  1.35400401, -0.8371743 ,\n",
       "        1.74704456, -0.57696236, -0.22849714, -0.81197263, -0.36992563,\n",
       "       -0.62008448, -0.52955362, -0.30518782,  1.37515032, -0.8371743 ,\n",
       "        0.21619099, -0.8371743 , -0.28294201, -0.31135989, -0.264637  ,\n",
       "        1.63282451,  1.24555984, -0.75549104,  0.00720072, -0.75549104,\n",
       "       -0.36203257, -0.1163162 , -0.77306211, -0.8371743 , -0.52400856,\n",
       "        1.50757885, -0.47008157,  0.70951173, -0.8371743 , -0.5237539 ,\n",
       "        0.56597304, -0.15322355,  2.05448546,  2.49084948,  1.04696466,\n",
       "       -0.8371743 , -0.09617506, -0.29398016, -0.8371743 , -0.76093759,\n",
       "        0.37193304, -0.8371743 , -0.11038336,  0.37194747, -0.82161136,\n",
       "       -0.40955438, -0.8371743 ,  0.68353459, -0.15524133, -0.826518  ,\n",
       "       -0.78256665,  1.57784237, -0.67437193, -0.8371743 , -0.8371743 ,\n",
       "        1.40321785,  2.06378587,  0.28797517, -0.01703452, -0.8371743 ,\n",
       "        0.65222168, -0.47709347,  1.68306262, -0.74215205, -0.00657432,\n",
       "        1.48363494, -0.8371743 ,  0.61120336, -0.60541162,  0.62242187,\n",
       "       -0.8371743 , -0.80484678, -0.44756727, -0.60715875, -0.33278612,\n",
       "        0.85915642, -0.24925108, -0.8371743 , -0.42037903,  2.32904059,\n",
       "       -0.06113794, -0.48792332,  0.59079998, -0.83664414, -0.8371743 ,\n",
       "       -0.57339264,  1.99143483,  1.49976921, -0.44708102, -0.81725185,\n",
       "       -0.46546301, -0.8371743 ,  2.52935114,  1.15967354, -0.49851374,\n",
       "        1.58000094, -0.3712861 ,  1.90146734, -0.54386009, -0.39413642,\n",
       "       -0.8371743 , -0.61569226, -0.73647311,  1.00882395, -0.8371743 ,\n",
       "       -0.37410507, -0.17112737, -0.8371743 ,  1.71372274, -0.54245066,\n",
       "       -0.8371743 , -0.17215428,  0.52329408, -0.74121466, -0.79005321,\n",
       "       -0.50713341,  1.65515958,  1.32497382, -0.2376114 , -0.8371743 ,\n",
       "        0.05413346, -0.47512804, -0.37954973,  0.43972935,  1.64628773,\n",
       "       -0.54462635, -0.76396906,  1.43012113,  2.0481523 ,  0.55042157,\n",
       "       -0.47878399,  0.34201152, -0.8371743 , -0.8371743 , -0.2017575 ,\n",
       "       -0.8371743 , -0.81725185,  1.15784869, -0.61217093,  0.540096  ,\n",
       "       -0.46718373, -0.8371743 , -0.5267004 , -0.83663858, -0.8371743 ,\n",
       "       -0.16443083, -0.8371743 ,  1.68041084, -0.83663858, -0.74222747,\n",
       "       -0.70027311, -0.47388431, -0.13924287, -0.75549104, -0.29902206,\n",
       "       -0.8371743 , -0.6960163 , -0.35071062, -0.8371743 , -0.55936638,\n",
       "        0.71327204, -0.56837522,  0.23498363])"
      ]
     },
     "execution_count": 27,
     "metadata": {},
     "output_type": "execute_result"
    }
   ],
   "source": [
    "Actuals = pd.Series.to_numpy(dfvali['heat'])\n",
    "Actuals"
   ]
  },
  {
   "cell_type": "code",
   "execution_count": 28,
   "metadata": {},
   "outputs": [
    {
     "data": {
      "text/plain": [
       "2.047911935446724"
      ]
     },
     "execution_count": 28,
     "metadata": {},
     "output_type": "execute_result"
    }
   ],
   "source": [
    "mseVali = mean_squared_error(Actuals, forecast)\n",
    "mseVali"
   ]
  },
  {
   "cell_type": "code",
   "execution_count": 29,
   "metadata": {},
   "outputs": [
    {
     "data": {
      "text/plain": [
       "array([ 0.50858259,  0.734276  , -0.06570153, ..., -7.28236589,\n",
       "       -6.60326782, -7.51461242])"
      ]
     },
     "execution_count": 29,
     "metadata": {},
     "output_type": "execute_result"
    }
   ],
   "source": [
    "forecasttrain, _ = pipeline.predict(n_periods=2312, return_conf_int=True)\n",
    "forecasttrain"
   ]
  },
  {
   "cell_type": "code",
   "execution_count": 30,
   "metadata": {},
   "outputs": [
    {
     "data": {
      "text/plain": [
       "array([-0.50509391, -0.47720663, -0.05997899, ..., -0.66210303,\n",
       "       -0.6442025 , -0.22621699])"
      ]
     },
     "execution_count": 30,
     "metadata": {},
     "output_type": "execute_result"
    }
   ],
   "source": [
    "Actualstrain = pd.Series.to_numpy(dftrain['heat'])\n",
    "Actualstrain"
   ]
  },
  {
   "cell_type": "code",
   "execution_count": 31,
   "metadata": {},
   "outputs": [
    {
     "data": {
      "text/plain": [
       "17.627104247507216"
      ]
     },
     "execution_count": 31,
     "metadata": {},
     "output_type": "execute_result"
    }
   ],
   "source": [
    "msetrain = mean_squared_error(Actualstrain, forecasttrain)\n",
    "msetrain"
   ]
  },
  {
   "cell_type": "code",
   "execution_count": 34,
   "metadata": {},
   "outputs": [
    {
     "data": {
      "text/plain": [
       "array([ 0.50858259,  0.734276  , -0.06570153, -0.3822068 ,  0.26028587,\n",
       "       -0.0631489 ,  0.17332844, -0.39135308,  0.14096725, -0.74630116,\n",
       "       -0.02796059, -0.05315675,  0.37522601,  0.40592247,  0.04809424,\n",
       "       -0.30549409,  0.01483135, -0.16765939,  0.19542018, -0.30602015,\n",
       "        0.1522113 , -0.78861195, -0.46996412,  0.03682547,  0.39981966,\n",
       "        0.34109535,  0.08965206, -0.323229  ,  0.10570509, -0.02127911])"
      ]
     },
     "execution_count": 34,
     "metadata": {},
     "output_type": "execute_result"
    }
   ],
   "source": [
    "forecasttest, conf = pipeline.predict(n_periods=30, return_conf_int=True)\n",
    "forecasttest"
   ]
  },
  {
   "cell_type": "code",
   "execution_count": 32,
   "metadata": {},
   "outputs": [
    {
     "data": {
      "text/plain": [
       "array([-0.72381951, -0.71892949, -0.50589547,  0.80078397,  0.53715321,\n",
       "       -0.81506147, -0.43359816,  2.22110776,  0.15020233, -0.24618141,\n",
       "        0.66961704,  0.81082455, -0.75549104, -0.8371743 ,  2.10288264,\n",
       "        2.38166301,  0.5952254 , -0.8371743 , -0.37893297,  0.02716322,\n",
       "       -0.39414123, -0.60311315, -0.83279186, -0.8371743 , -0.43049864,\n",
       "        1.7099714 , -0.51617881, -0.8371743 , -0.7580584 , -0.80420663])"
      ]
     },
     "execution_count": 32,
     "metadata": {},
     "output_type": "execute_result"
    }
   ],
   "source": [
    "Actualstest = pd.Series.to_numpy(dftest['heat'])\n",
    "Actualstest"
   ]
  },
  {
   "cell_type": "code",
   "execution_count": 35,
   "metadata": {},
   "outputs": [
    {
     "data": {
      "text/plain": [
       "1.193905848655821"
      ]
     },
     "execution_count": 35,
     "metadata": {},
     "output_type": "execute_result"
    }
   ],
   "source": [
    "msetest = mean_squared_error(Actualstest, forecasttest)\n",
    "msetest"
   ]
  },
  {
   "cell_type": "code",
   "execution_count": 36,
   "metadata": {},
   "outputs": [
    {
     "name": "stdout",
     "output_type": "stream",
     "text": [
      "RMSE: 1.092660\n"
     ]
    }
   ],
   "source": [
    "rmse = math.sqrt(msetest)\n",
    "print('RMSE: %f' % rmse)"
   ]
  }
 ],
 "metadata": {
  "interpreter": {
   "hash": "91ec43aa1f0db36d96140b828b08e86586f62f08ccada0f9bf3c6347196c39a6"
  },
  "kernelspec": {
   "display_name": "Python 3 (ipykernel)",
   "language": "python",
   "name": "python3"
  },
  "language_info": {
   "codemirror_mode": {
    "name": "ipython",
    "version": 3
   },
   "file_extension": ".py",
   "mimetype": "text/x-python",
   "name": "python",
   "nbconvert_exporter": "python",
   "pygments_lexer": "ipython3",
   "version": "3.9.7"
  }
 },
 "nbformat": 4,
 "nbformat_minor": 2
}
